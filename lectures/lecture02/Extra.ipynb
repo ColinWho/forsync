{
 "cells": [
  {
   "cell_type": "markdown",
   "id": "2f5afbae",
   "metadata": {},
   "source": [
    "#  <center> Pandas -- Extra"
   ]
  },
  {
   "cell_type": "code",
   "execution_count": null,
   "id": "2e3371fd",
   "metadata": {},
   "outputs": [],
   "source": [
    "#Importing library\n",
    "import pandas as pd\n",
    "%matplotlib inline\n",
    "import numpy as np\n",
    "from numpy.random import randn\n",
    "np.random.seed(101)"
   ]
  },
  {
   "cell_type": "markdown",
   "id": "e80cd326",
   "metadata": {},
   "source": [
    "# Reading HTML and SQL \n",
    "** **HTML** Pandas read_html function will read tables off of a webpage and return a list of DataFrame objects:\n",
    "** You may need to install htmllib5,lxml, and BeautifulSoup4. In your terminal/command prompt run:\n",
    "\n",
    "    conda install lxml\n",
    "    conda install html5lib\n",
    "    conda install BeautifulSoup4\n",
    "\n",
    "Then restart Jupyter Notebook.\n",
    "(or use pip install if you aren't using the Anaconda Distribution)\n",
    "\n",
    "Pandas can read table tabs off of html. For example:"
   ]
  },
  {
   "cell_type": "code",
   "execution_count": null,
   "id": "585dccae",
   "metadata": {},
   "outputs": [],
   "source": [
    "#df = pd.read_html('http://www.fdic.gov/bank/individual/failed/banklist.html')"
   ]
  },
  {
   "cell_type": "markdown",
   "id": "c251f227",
   "metadata": {},
   "source": [
    "** **SQL** The pandas.io.sql module provides a collection of query wrappers to both facilitate data retrieval and to reduce dependency on DB-specific API. Database abstraction is provided by SQLAlchemy if installed. In addition you will need a driver library for your database. Examples of such drivers are psycopg2 for PostgreSQL or pymysql for MySQL. For SQLite this is included in Python’s standard library by default. You can find an overview of supported drivers for each SQL dialect in the SQLAlchemy docs.\n",
    "\n",
    "\n",
    "If SQLAlchemy is not installed, a fallback is only provided for sqlite (and for mysql for backwards compatibility, but this is deprecated and will be removed in a future version). This mode requires a Python database adapter which respect the Python DB-API.\n",
    "\n",
    "See also some cookbook examples for some advanced strategies.\n",
    "\n",
    "The key functions are:\n",
    "\n",
    "* read_sql_table(table_name, con[, schema, ...])\t\n",
    "    * Read SQL database table into a DataFrame.\n",
    "* read_sql_query(sql, con[, index_col, ...])\t\n",
    "    * Read SQL query into a DataFrame.\n",
    "* read_sql(sql, con[, index_col, ...])\t\n",
    "    * Read SQL query or database table into a DataFrame.\n",
    "* DataFrame.to_sql(name, con[, flavor, ...])\t\n",
    "    * Write records stored in a DataFrame to a SQL database."
   ]
  },
  {
   "cell_type": "code",
   "execution_count": null,
   "id": "6d53401a",
   "metadata": {},
   "outputs": [],
   "source": [
    "#from sqlalchemy import create_engine\n",
    "#engine = create_engine('sqlite:///:memory:')\n",
    "#df.to_sql('data', engine)\n",
    "#sql_df = pd.read_sql('data',con=engine)"
   ]
  },
  {
   "cell_type": "markdown",
   "id": "88f116a4",
   "metadata": {},
   "source": [
    "# Multi-Index and Index Hierarchy\n",
    "\n",
    "Let us go over how to work with Multi-Index, first we'll create a quick example of what a Multi-Indexed DataFrame would look like:"
   ]
  },
  {
   "cell_type": "code",
   "execution_count": null,
   "id": "d078f601",
   "metadata": {},
   "outputs": [],
   "source": [
    "# Index Levels\n",
    "outside = ['G1','G1','G1','G2','G2','G2']\n",
    "inside = [1,2,3,1,2,3]\n",
    "hier_index = list(zip(outside,inside))\n",
    "hier_index = pd.MultiIndex.from_tuples(hier_index)"
   ]
  },
  {
   "cell_type": "code",
   "execution_count": null,
   "id": "acec0bf0",
   "metadata": {},
   "outputs": [],
   "source": [
    "hier_index"
   ]
  },
  {
   "cell_type": "code",
   "execution_count": null,
   "id": "51d9364b",
   "metadata": {},
   "outputs": [],
   "source": [
    "df = pd.DataFrame(np.random.randn(6,2),index=hier_index,columns=['A','B'])\n",
    "df"
   ]
  },
  {
   "cell_type": "markdown",
   "id": "54b55fa5",
   "metadata": {},
   "source": [
    "Now let's show how to index this! For index hierarchy we use df.loc[], if this was on the columns axis, you would just use normal bracket notation df[]. Calling one level of the index returns the sub-dataframe:"
   ]
  },
  {
   "cell_type": "code",
   "execution_count": null,
   "id": "18d25bd2",
   "metadata": {},
   "outputs": [],
   "source": [
    "df.loc['G1']"
   ]
  },
  {
   "cell_type": "code",
   "execution_count": null,
   "id": "22df9c11",
   "metadata": {},
   "outputs": [],
   "source": [
    "df.loc['G1'].loc[1]"
   ]
  },
  {
   "cell_type": "code",
   "execution_count": null,
   "id": "4c84175a",
   "metadata": {},
   "outputs": [],
   "source": [
    "df.index.names"
   ]
  },
  {
   "cell_type": "code",
   "execution_count": null,
   "id": "634326cc",
   "metadata": {},
   "outputs": [],
   "source": [
    "df.index.names = ['Group','Num']"
   ]
  },
  {
   "cell_type": "code",
   "execution_count": null,
   "id": "c4a65e72",
   "metadata": {},
   "outputs": [],
   "source": [
    "df"
   ]
  },
  {
   "cell_type": "code",
   "execution_count": null,
   "id": "913cd432",
   "metadata": {},
   "outputs": [],
   "source": [
    "df.xs('G1')"
   ]
  },
  {
   "cell_type": "markdown",
   "id": "bb04524d",
   "metadata": {},
   "source": [
    "## Pandas Built-in Data Visualization\n",
    "\n",
    "Pandas built-in capabilities for data visualization! It's built off of matplotlib, but it's baked into pandas for easier usage!\n",
    "\n",
    "For more information on the following topics visit https://pandas.pydata.org/pandas-docs/stable/generated/pandas.DataFrame.plot.html<br>\n",
    "For a nice graphic showing the anatomy of a figure with terminology, visit https://matplotlib.org/faq/usage_faq.html"
   ]
  },
  {
   "cell_type": "markdown",
   "id": "3428fada",
   "metadata": {},
   "source": [
    "<div class=\"alert alert-info\"><strong>NOTE:</strong><tt><font color=black>&emsp;%matplotlib inline</font></tt> is specific to jupyter notebooks. It allows plots to appear inside the notebook.<br>Note that we are <em>not</em> importing matplotlib here, all of our plots are coming out of pandas.</div>"
   ]
  },
  {
   "cell_type": "markdown",
   "id": "eff6f1b4",
   "metadata": {},
   "source": [
    "# Plot Types\n",
    "\n",
    "There are several plot types built into pandas; most of them are statistical by nature:\n",
    "\n",
    "<pre>\n",
    "df.plot.hist()     histogram\n",
    "df.plot.bar()      bar chart\n",
    "df.plot.barh()     horizontal bar chart\n",
    "df.plot.line()     line chart\n",
    "df.plot.area()     area chart\n",
    "df.plot.scatter()  scatter plot\n",
    "df.plot.box()      box plot\n",
    "df.plot.kde()      kde plot\n",
    "df.plot.hexbin()   hexagonal bin plot\n",
    "df.plot.pie()      pie chart</pre>\n",
    "\n",
    "You can also call specific plots by passing their name as an argument, as with `df.plot(kind='area')`."
   ]
  },
  {
   "cell_type": "code",
   "execution_count": null,
   "id": "5e504256",
   "metadata": {},
   "outputs": [],
   "source": [
    "df1 = pd.read_csv('inputs/df1.csv', index_col=0)\n",
    "df2 = pd.read_csv('inputs/df2.csv')"
   ]
  },
  {
   "cell_type": "markdown",
   "id": "2651d67e",
   "metadata": {},
   "source": [
    "## Histograms\n",
    "This is one of the most commonly used plots. Histograms describe the distribution of continuous data by dividing the data into \"bins\" of equal width, and plotting the number of values that fall into each bin. <a href='https://pandas.pydata.org/pandas-docs/stable/generated/pandas.DataFrame.plot.hist.html'>[reference]</a>"
   ]
  },
  {
   "cell_type": "code",
   "execution_count": null,
   "id": "bc5e51c4",
   "metadata": {},
   "outputs": [],
   "source": [
    "df1['A'].plot.hist();"
   ]
  },
  {
   "cell_type": "markdown",
   "id": "5e6eb6a2",
   "metadata": {},
   "source": [
    "We can add settings to do things like bring the x- and y-axis values to the edge of the graph, and insert lines between vertical bins:"
   ]
  },
  {
   "cell_type": "code",
   "execution_count": null,
   "id": "2f568726",
   "metadata": {},
   "outputs": [],
   "source": [
    "df1['A'].plot.hist(edgecolor='k').autoscale(enable=True, axis='both', tight=True)"
   ]
  },
  {
   "cell_type": "markdown",
   "id": "35594dff",
   "metadata": {},
   "source": [
    "You can use any [matplotlib color spec](https://matplotlib.org/api/colors_api.html) for **edgecolor**, such as `'b', 'g', 'r', 'c', 'm', 'y', 'k', 'w'`, or the string representation of a float value for shades of grey, such as `'0.5'`\n",
    "\n",
    "For **autoscale** the axis can be set to `'x'`, `'y'` or `'both'`\n",
    "\n",
    "We can also change the number of bins (the range of values over which frequencies are calculated) from the default value of 10:"
   ]
  },
  {
   "cell_type": "code",
   "execution_count": null,
   "id": "dbe7ad0e",
   "metadata": {},
   "outputs": [],
   "source": [
    "df1['A'].plot.hist(bins=40, edgecolor='k').autoscale(enable=True, axis='both', tight=True)"
   ]
  },
  {
   "cell_type": "markdown",
   "id": "ea876e2a",
   "metadata": {},
   "source": [
    "## Barplots\n",
    "Barplots are similar to histograms, except that they deal with discrete data, and often reflect multiple variables. <a href='https://pandas.pydata.org/pandas-docs/stable/generated/pandas.DataFrame.plot.bar.html'>[reference]</a>"
   ]
  },
  {
   "cell_type": "code",
   "execution_count": null,
   "id": "13829524",
   "metadata": {},
   "outputs": [],
   "source": [
    "df2.plot.bar(stacked=True);"
   ]
  },
  {
   "cell_type": "code",
   "execution_count": null,
   "id": "5b8b6360",
   "metadata": {},
   "outputs": [],
   "source": [
    "# USE .barh() TO DISPLAY A HORIZONTAL BAR PLOT\n",
    "df2.plot.barh();"
   ]
  },
  {
   "cell_type": "markdown",
   "id": "f1835f8a",
   "metadata": {},
   "source": [
    "## Line Plots\n",
    "Line plots are used to compare two or more variables. By default the x-axis values are taken from the index. <a href='https://pandas.pydata.org/pandas-docs/stable/generated/pandas.DataFrame.plot.line.html'>[reference]</a>\n",
    "\n",
    "Line plots happen to be the default pandas plot. They are accessible through <tt>df.plot()</tt> as well as <tt>df.plot.line()</tt>"
   ]
  },
  {
   "cell_type": "markdown",
   "id": "4f0a7175",
   "metadata": {},
   "source": [
    "<table style=\"display: inline-block\">\n",
    "    <tr><th>PROPERTY</th><th>CODE</th><th>VALUE</th><th>EFFECT</th></tr>\n",
    "    <tr><td>linestyle</td><td><tt>ls</tt></td><td><tt>'-'</tt></td><td>solid line (default)</td></tr>\n",
    "    <tr><td>linestyle</td><td><tt>ls</tt></td><td><tt>'--'</tt></td><td>dashed line</td></tr>\n",
    "    <tr><td>linestyle</td><td><tt>ls</tt></td><td><tt>'-.'</tt></td><td>dashed/dotted line</td></tr>\n",
    "    <tr><td>linestyle</td><td><tt>ls</tt></td><td><tt>':'</tt></td><td>dotted line</td></tr>\n",
    "    <tr><td>color</td><td><tt>c</tt></td><td>string</td><td></td></tr>\n",
    "    <tr><td>linewidth</td><td><tt>lw</tt></td><td>float</td><td></td></tr>\n",
    "</table>"
   ]
  },
  {
   "cell_type": "code",
   "execution_count": null,
   "id": "e93363b8",
   "metadata": {},
   "outputs": [],
   "source": [
    "df2.plot.line(y=['a','b','c'],figsize=(12,3),ls='-.', c='r', lw='4');"
   ]
  },
  {
   "cell_type": "markdown",
   "id": "553ccd88",
   "metadata": {},
   "source": [
    "### Object-oriented plotting\n",
    "\n",
    "When we call <tt>df.plot()</tt>, pandas returns a <tt>matplotlib.axes.AxesSubplot</tt> object. We can set labels\n",
    "on that object so long as we do it in the same jupyter cell. Setting an autoscale is done the same way."
   ]
  },
  {
   "cell_type": "code",
   "execution_count": null,
   "id": "08d2ea86",
   "metadata": {},
   "outputs": [],
   "source": [
    "title='Custom Pandas Plot'\n",
    "ylabel='Y-axis data'\n",
    "xlabel='X-axis data'\n",
    "\n",
    "ax = df2.plot(figsize=(8,3),title=title)\n",
    "ax.set(xlabel=xlabel, ylabel=ylabel)\n",
    "ax.autoscale(axis='x',tight=True);"
   ]
  },
  {
   "cell_type": "markdown",
   "id": "40d79b1e",
   "metadata": {},
   "source": [
    "## Plot Legend Placement\n",
    "Pandas tries to optimize placement of the legend to reduce overlap on the plot itself. However, we can control the placement ourselves, and even place the legend outside of the plot. We do this through the <tt>.legend()</tt> method. <a href='https://matplotlib.org/api/_as_gen/matplotlib.pyplot.legend.html'>[reference]</a>"
   ]
  },
  {
   "cell_type": "markdown",
   "id": "9f058ade",
   "metadata": {},
   "source": [
    "For starters we can pass a location code. <tt>.legend(loc=1)</tt> places the legend in the upper-right corner of the plot.<br>Alternatively we can pass a location string: <tt>.legend(loc='upper right')</tt> does the same thing.\n",
    "\n",
    "<table style=\"display: inline-block\">\n",
    "<tr><th>LOCATION CODE</th><th>LOCATION STRING</th></tr>\n",
    "<tr><td>0</td><td>'best'</td></tr>\n",
    "<tr><td>1</td><td>'upper right'</td></tr>\n",
    "<tr><td>2</td><td>'upper left'</td></tr>\n",
    "<tr><td>3</td><td>'lower left'</td></tr>\n",
    "<tr><td>4</td><td>'lower right'</td></tr>\n",
    "<tr><td>5</td><td>'right'</td></tr>\n",
    "<tr><td>6</td><td>'center left'</td></tr>\n",
    "<tr><td>7</td><td>'center right'</td></tr>\n",
    "<tr><td>8</td><td>'lower center'</td></tr>\n",
    "<tr><td>9</td><td>'upper center'</td></tr>\n",
    "<tr><td>10</td><td>'center'</td></tr>\n",
    "</table>"
   ]
  },
  {
   "cell_type": "code",
   "execution_count": null,
   "id": "f9ddfc87",
   "metadata": {},
   "outputs": [],
   "source": [
    "ax = df2.plot(figsize=(8,3))\n",
    "ax.autoscale(axis='x',tight=True)\n",
    "ax.legend(loc=1);"
   ]
  },
  {
   "cell_type": "markdown",
   "id": "e9cb5e48",
   "metadata": {},
   "source": [
    "We can pass a second argument, <tt>bbox_to_anchor</tt> that treats the value passed in through <tt>loc</tt> as an anchor point, and positions the legend along the x and y axes based on a two-value tuple."
   ]
  },
  {
   "cell_type": "code",
   "execution_count": null,
   "id": "bc9db1b6",
   "metadata": {},
   "outputs": [],
   "source": [
    "ax = df2.plot(figsize=(8,3))\n",
    "ax.autoscale(axis='x',tight=True)\n",
    "ax.legend(loc=3, bbox_to_anchor=(0.1,0.1));"
   ]
  },
  {
   "cell_type": "markdown",
   "id": "31747df5",
   "metadata": {},
   "source": [
    "### Placing the Legend Outside the Plot\n",
    "In the above plot we passed <tt>(0.1,0.1)</tt> as our two-item tuple. This places the legend slightly to the right and slightly upward.<br>To place the legend outside the plot on the right-hand side, pass a value greater than or equal to 1 as the first item in the tuple."
   ]
  },
  {
   "cell_type": "code",
   "execution_count": null,
   "id": "b20697de",
   "metadata": {},
   "outputs": [],
   "source": [
    "ax = df2.plot(figsize=(8,3))\n",
    "ax.autoscale(axis='x',tight=True)\n",
    "ax.legend(loc=3, bbox_to_anchor=(1.0,0.1));"
   ]
  },
  {
   "cell_type": "markdown",
   "id": "a4baa7c0",
   "metadata": {},
   "source": [
    "## Area Plots\n",
    "Area plots represent cumulatively stacked line plots where the space between lines is emphasized with colors. <a href='https://pandas.pydata.org/pandas-docs/stable/generated/pandas.DataFrame.plot.area.html'>[reference]</a>\n",
    "\n",
    "- To produce a blended area plot, pass a <strong>stacked=False</strong> argument\n",
    "- It often helps to mute the colors by passing an <strong>alpha</strong> transparency value between 0 and 1."
   ]
  },
  {
   "cell_type": "code",
   "execution_count": null,
   "id": "1de6dcf6",
   "metadata": {},
   "outputs": [],
   "source": [
    "df2.plot.area(stacked=False, alpha=0.4);"
   ]
  },
  {
   "cell_type": "markdown",
   "id": "eafef842",
   "metadata": {},
   "source": [
    "## Scatter Plots\n",
    "Scatter plots are a useful tool to quickly compare two variables, and to look for possible trends. <a href='https://pandas.pydata.org/pandas-docs/stable/generated/pandas.DataFrame.plot.scatter.html'>[reference]</a>"
   ]
  },
  {
   "cell_type": "code",
   "execution_count": null,
   "id": "44bb7236",
   "metadata": {},
   "outputs": [],
   "source": [
    "df1.plot.scatter(x='A',y='B');"
   ]
  },
  {
   "cell_type": "markdown",
   "id": "d58d29f6",
   "metadata": {},
   "source": [
    "### Scatter plots with colormaps\n",
    "You can use <strong>c</strong> to color each marker based off another column value. Use `cmap` to indicate which colormap to use.<br>\n",
    "For all the available colormaps, check out: http://matplotlib.org/users/colormaps.html"
   ]
  },
  {
   "cell_type": "code",
   "execution_count": null,
   "id": "c50acb32",
   "metadata": {},
   "outputs": [],
   "source": [
    "df1.plot.scatter(x='A',y='B',c='C',cmap='coolwarm');"
   ]
  },
  {
   "cell_type": "markdown",
   "id": "08c921f0",
   "metadata": {},
   "source": [
    "### Scatter plots with sized markers\n",
    "Alternatively you can use <strong>s</strong> to indicate marker size based off another column. The <strong>s</strong> parameter needs to be an array, not just the name of a column:"
   ]
  },
  {
   "cell_type": "code",
   "execution_count": null,
   "id": "c6581715",
   "metadata": {},
   "outputs": [],
   "source": [
    "df1.plot.scatter(x='A',y='B',s=df1['C']*50);"
   ]
  },
  {
   "cell_type": "markdown",
   "id": "52e15970",
   "metadata": {},
   "source": [
    "The warning above appeared because some `df1['C']` values are negative. We can fix this finding the minimum value, writing a function that adds to each value, and applying our function to the data with <strong>.apply(func)</strong>.\n",
    "\n",
    "Also, these data points have a lot of overlap. We can address this issue by passing in an <strong>alpha</strong> blending value between 0 and 1 to make markers more transparent."
   ]
  },
  {
   "cell_type": "code",
   "execution_count": null,
   "id": "279b9157",
   "metadata": {},
   "outputs": [],
   "source": [
    "def add_three(val):\n",
    "    return val+3\n",
    "\n",
    "df1.plot.scatter(x='A',y='B',s=df1['C'].apply(add_three)*45, alpha=0.2);"
   ]
  },
  {
   "cell_type": "markdown",
   "id": "25507831",
   "metadata": {},
   "source": [
    "## BoxPlots\n",
    "Box plots, aka \"box and whisker diagrams\", describe the distribution of data by dividing data into <em>quartiles</em> about the mean.<br>\n",
    "Look <a href='https://en.wikipedia.org/wiki/Box_plot'>here</a> for a description of boxplots. <a href='https://pandas.pydata.org/pandas-docs/stable/visualization.html#box-plots'>[reference]</a>"
   ]
  },
  {
   "cell_type": "code",
   "execution_count": null,
   "id": "b1c88668",
   "metadata": {},
   "outputs": [],
   "source": [
    "df2.boxplot();"
   ]
  },
  {
   "cell_type": "markdown",
   "id": "da84528a",
   "metadata": {},
   "source": [
    "### Boxplots with Groupby\n",
    "To draw boxplots based on groups, first pass in a list of columns you want plotted (including the groupby column), then pass <strong>by='columname'</strong> into <tt>.boxplot()</tt>. Here we'll group records by the <strong>'e'</strong> column, and draw boxplots for the <strong>'b'</strong> column."
   ]
  },
  {
   "cell_type": "code",
   "execution_count": null,
   "id": "354ff49c",
   "metadata": {},
   "outputs": [],
   "source": [
    "df2[['b','e']].boxplot(by='e', grid=False);"
   ]
  },
  {
   "cell_type": "markdown",
   "id": "e5e37167",
   "metadata": {},
   "source": [
    "## Kernel Density Estimation (KDE) Plot\n",
    "These plots are accessible either through <tt>df.plot.kde()</tt> or <tt>df.plot.density()</tt> <a href='https://pandas.pydata.org/pandas-docs/stable/generated/pandas.DataFrame.plot.kde.html'>[reference]</a>"
   ]
  },
  {
   "cell_type": "code",
   "execution_count": null,
   "id": "26157bc1",
   "metadata": {},
   "outputs": [],
   "source": [
    "df2['a'].plot.kde();"
   ]
  },
  {
   "cell_type": "code",
   "execution_count": null,
   "id": "c38e0f0a",
   "metadata": {},
   "outputs": [],
   "source": [
    "df2.plot.density();"
   ]
  },
  {
   "cell_type": "markdown",
   "id": "48b77f21",
   "metadata": {},
   "source": [
    "## Hexagonal Bin Plot\n",
    "\n",
    "Useful for Bivariate Data, alternative to scatterplot. <a href='https://pandas.pydata.org/pandas-docs/stable/generated/pandas.DataFrame.plot.hexbin.html'>[reference]</a>"
   ]
  },
  {
   "cell_type": "code",
   "execution_count": null,
   "id": "6389d6b8",
   "metadata": {},
   "outputs": [],
   "source": [
    "# FIRST CREATE A DATAFRAME OF RANDOM VALUES\n",
    "df = pd.DataFrame(np.random.randn(1000, 2), columns=['a', 'b'])\n",
    "\n",
    "# MAKE A HEXAGONAL BIN PLOT\n",
    "df.plot.hexbin(x='a',y='b',gridsize=25,cmap='Oranges');"
   ]
  },
  {
   "cell_type": "markdown",
   "id": "a35dc995",
   "metadata": {},
   "source": [
    "## Timeseries with Pandas\n",
    "### Pandas Datetime Index\n",
    "For more on the pandas DatetimeIndex visit https://pandas.pydata.org/pandas-docs/stable/timeseries.html"
   ]
  },
  {
   "cell_type": "code",
   "execution_count": null,
   "id": "63580c37",
   "metadata": {},
   "outputs": [],
   "source": [
    "# THE WEEK OF JULY 8TH, 2018\n",
    "idx = pd.date_range('7/8/2018', periods=7, freq='H')\n",
    "idx"
   ]
  },
  {
   "cell_type": "markdown",
   "id": "ba35fff1",
   "metadata": {},
   "source": [
    "Another way is to convert incoming text with the <tt><strong>pd.to_datetime()</strong></tt> method:"
   ]
  },
  {
   "cell_type": "code",
   "execution_count": null,
   "id": "3a503d9f",
   "metadata": {},
   "outputs": [],
   "source": [
    "idx = pd.to_datetime(['Jan 01, 2018','1/2/18','03-Jan-2018',None])\n",
    "idx"
   ]
  },
  {
   "cell_type": "markdown",
   "id": "1fca4426",
   "metadata": {},
   "source": [
    "Using a unix epoch time"
   ]
  },
  {
   "cell_type": "code",
   "execution_count": null,
   "id": "73382aa0",
   "metadata": {},
   "outputs": [],
   "source": [
    "pd.to_datetime(1490195805, unit='s')"
   ]
  },
  {
   "cell_type": "markdown",
   "id": "2a8d0633",
   "metadata": {},
   "source": [
    "Using a non-unix epoch origin"
   ]
  },
  {
   "cell_type": "code",
   "execution_count": null,
   "id": "0d1cc40d",
   "metadata": {},
   "outputs": [],
   "source": [
    "pd.to_datetime([1, 2, 3], unit='D',\n",
    "               origin=pd.Timestamp('2022-08-01'))"
   ]
  },
  {
   "cell_type": "markdown",
   "id": "1eac55f3",
   "metadata": {},
   "source": [
    "A third way is to pass a list or an array of datetime objects into the <tt><strong>pd.DatetimeIndex()</strong></tt> method:"
   ]
  },
  {
   "cell_type": "code",
   "execution_count": null,
   "id": "a91e4ed9",
   "metadata": {},
   "outputs": [],
   "source": [
    "# Create a NumPy datetime array\n",
    "some_dates = np.array(['2016-03-15', '2017-05-24', '2018-08-09'], dtype='datetime64[D]')\n",
    "# Convert to an index\n",
    "idx = pd.DatetimeIndex(some_dates)\n",
    "idx"
   ]
  },
  {
   "cell_type": "code",
   "execution_count": null,
   "id": "36bb7ff1",
   "metadata": {},
   "outputs": [],
   "source": [
    "data = np.random.randn(3,2)\n",
    "cols = ['A','B']\n",
    "df = pd.DataFrame(data,idx,cols)\n",
    "df"
   ]
  },
  {
   "cell_type": "code",
   "execution_count": null,
   "id": "f6da9ec2",
   "metadata": {},
   "outputs": [],
   "source": [
    "df.index.max()"
   ]
  },
  {
   "cell_type": "code",
   "execution_count": null,
   "id": "984b132e",
   "metadata": {},
   "outputs": [],
   "source": [
    "df.index.min()"
   ]
  },
  {
   "cell_type": "markdown",
   "id": "33e9b5e5",
   "metadata": {},
   "source": [
    "### `pd.DateOffset()` and `pd.Timedelta()` function"
   ]
  },
  {
   "cell_type": "markdown",
   "id": "2a91eff1",
   "metadata": {},
   "source": [
    "Let’s see how we can use the Pandas `pd.Timedelta()` function to add a constant number of days to a column:"
   ]
  },
  {
   "cell_type": "code",
   "execution_count": null,
   "id": "1b9d90dd",
   "metadata": {},
   "outputs": [],
   "source": [
    "df['14 hours later'] =df.index+ pd.Timedelta(days=14) \n",
    "df"
   ]
  },
  {
   "cell_type": "code",
   "execution_count": null,
   "id": "4aa3af45",
   "metadata": {},
   "outputs": [],
   "source": [
    "df['14 days earlier'] = df.index - pd.DateOffset(days=14)\n",
    "df"
   ]
  },
  {
   "cell_type": "markdown",
   "id": "e6699aae",
   "metadata": {},
   "source": [
    "**Exercise:** for person `A-C` create a data frame with a hypotetical arrival date and lenght of stay then calculate their departure date and do it vice versa"
   ]
  },
  {
   "cell_type": "code",
   "execution_count": null,
   "id": "f608b23f",
   "metadata": {},
   "outputs": [],
   "source": [
    "arrival_date = np.array(['2016-03-15', '2016-05-24', '2016-08-09'], dtype='datetime64[D]')\n",
    "# Convert to an index\n",
    "idx = pd.DatetimeIndex(arrival_date)"
   ]
  },
  {
   "cell_type": "code",
   "execution_count": null,
   "id": "bd83b8fe",
   "metadata": {},
   "outputs": [],
   "source": [
    "data = pd.DataFrame({'Name':['A','B','C'],\n",
    "       'Lenght of stay':[3,7,5],},\n",
    "       index=idx)\n",
    "data"
   ]
  },
  {
   "cell_type": "code",
   "execution_count": null,
   "id": "fe48a83f",
   "metadata": {},
   "outputs": [],
   "source": [
    "data['Departure date'] = data.index + pd.to_timedelta(data['Lenght of stay'], unit='D') \n",
    "data"
   ]
  },
  {
   "cell_type": "markdown",
   "id": "2c29eff9",
   "metadata": {},
   "source": [
    "## Time Resampling\n",
    "When calling `.resample()` you first need to pass in a **rule** parameter, then you need to call some sort of aggregation function.\n",
    "\n",
    "The **rule** parameter describes the frequency with which to apply the aggregation function (daily, monthly, yearly, etc.)<br>\n",
    "It is passed in using an \"offset alias\" - refer to the table below. [[reference](http://pandas.pydata.org/pandas-docs/stable/user_guide/timeseries.html#offset-aliases)]\n",
    "\n",
    "The aggregation function is needed because, due to resampling, we need some sort of mathematical rule to join the rows (mean, sum, count, etc.)"
   ]
  },
  {
   "cell_type": "markdown",
   "id": "8d7eb4ea",
   "metadata": {},
   "source": [
    "Let's read a Tide Gauge data (Source: [NOAA](https://tidesandcurrents.noaa.gov/map/))"
   ]
  },
  {
   "cell_type": "code",
   "execution_count": null,
   "id": "3c059a2e",
   "metadata": {},
   "outputs": [],
   "source": [
    "df = pd.read_csv('inputs/Tide.csv', index_col='Date', parse_dates=True) "
   ]
  },
  {
   "cell_type": "markdown",
   "id": "0da836ee",
   "metadata": {},
   "source": [
    "**parse_dates=True making sure it understands inde is datetime**"
   ]
  },
  {
   "cell_type": "code",
   "execution_count": null,
   "id": "53ea3428",
   "metadata": {},
   "outputs": [],
   "source": [
    "df.info()"
   ]
  },
  {
   "cell_type": "code",
   "execution_count": null,
   "id": "7ce15894",
   "metadata": {},
   "outputs": [],
   "source": [
    "df.index"
   ]
  },
  {
   "cell_type": "markdown",
   "id": "184ae5f6",
   "metadata": {},
   "source": [
    "<table style=\"display: inline-block\">\n",
    "    <caption style=\"text-align: center\"><strong>TIME SERIES OFFSET ALIASES</strong></caption>\n",
    "<tr><th>ALIAS</th><th>DESCRIPTION</th></tr>\n",
    "<tr><td>B</td><td>business day frequency</td></tr>\n",
    "<tr><td>C</td><td>custom business day frequency (experimental)</td></tr>\n",
    "<tr><td>D</td><td>calendar day frequency</td></tr>\n",
    "<tr><td>W</td><td>weekly frequency</td></tr>\n",
    "<tr><td>M</td><td>month end frequency</td></tr>\n",
    "<tr><td>SM</td><td>semi-month end frequency (15th and end of month)</td></tr>\n",
    "<tr><td>BM</td><td>business month end frequency</td></tr>\n",
    "<tr><td>CBM</td><td>custom business month end frequency</td></tr>\n",
    "<tr><td>MS</td><td>month start frequency</td></tr>\n",
    "<tr><td>SMS</td><td>semi-month start frequency (1st and 15th)</td></tr>\n",
    "<tr><td>BMS</td><td>business month start frequency</td></tr>\n",
    "<tr><td>CBMS</td><td>custom business month start frequency</td></tr>\n",
    "<tr><td>Q</td><td>quarter end frequency</td></tr>\n",
    "<tr><td></td><td><font color=white>intentionally left blank</font></td></tr></table>\n",
    "\n",
    "<table style=\"display: inline-block; margin-left: 40px\">\n",
    "<caption style=\"text-align: center\"></caption>\n",
    "<tr><th>ALIAS</th><th>DESCRIPTION</th></tr>\n",
    "<tr><td>BQ</td><td>business quarter endfrequency</td></tr>\n",
    "<tr><td>QS</td><td>quarter start frequency</td></tr>\n",
    "<tr><td>BQS</td><td>business quarter start frequency</td></tr>\n",
    "<tr><td>A</td><td>year end frequency</td></tr>\n",
    "<tr><td>BA</td><td>business year end frequency</td></tr>\n",
    "<tr><td>AS</td><td>year start frequency</td></tr>\n",
    "<tr><td>BAS</td><td>business year start frequency</td></tr>\n",
    "<tr><td>BH</td><td>business hour frequency</td></tr>\n",
    "<tr><td>H</td><td>hourly frequency</td></tr>\n",
    "<tr><td>T, min</td><td>minutely frequency</td></tr>\n",
    "<tr><td>S</td><td>secondly frequency</td></tr>\n",
    "<tr><td>L, ms</td><td>milliseconds</td></tr>\n",
    "<tr><td>U, us</td><td>microseconds</td></tr>\n",
    "<tr><td>N</td><td>nanoseconds</td></tr></table>"
   ]
  },
  {
   "cell_type": "code",
   "execution_count": null,
   "id": "3bfa4618",
   "metadata": {},
   "outputs": [],
   "source": [
    "# daily >> yearly (we can use mean, max, ... or use our own function)\n",
    "def first_day(entry):\n",
    "    if len(entry):\n",
    "        return entry[0]\n",
    "df.resample(rule='A').apply(first_day) #.mean"
   ]
  },
  {
   "cell_type": "code",
   "execution_count": null,
   "id": "a1b94c54",
   "metadata": {},
   "outputs": [],
   "source": [
    "df['Hs'].resample(rule='A').mean().plot.bar()"
   ]
  },
  {
   "cell_type": "code",
   "execution_count": null,
   "id": "0cd08c37",
   "metadata": {},
   "outputs": [],
   "source": [
    "title = 'Monthly Max HS'\n",
    "df['Hs'].resample('M').max().plot.bar(figsize=(16,6), title=title,color='#1f77b4');"
   ]
  },
  {
   "cell_type": "markdown",
   "id": "2000217d",
   "metadata": {},
   "source": [
    "## Time Shifting\n",
    "Sometimes you may need to shift all your data up or down along the time series index. In fact, a lot of pandas built-in methods do this under the hood. This isn't something we'll do often in the course, but it's definitely good to know about this anyways!"
   ]
  },
  {
   "cell_type": "code",
   "execution_count": null,
   "id": "cda945ad",
   "metadata": {},
   "outputs": [],
   "source": [
    "df.shift(1).head() # we can use fill_value to assign a number instead of NaN"
   ]
  },
  {
   "cell_type": "code",
   "execution_count": null,
   "id": "4ec58bd3",
   "metadata": {},
   "outputs": [],
   "source": [
    "# NOTE: You will lose that last piece of data that no longer has an index!\n",
    "df.shift(1).tail()"
   ]
  },
  {
   "cell_type": "markdown",
   "id": "1a3515ee",
   "metadata": {},
   "source": [
    "## Shifting based on Time Series Frequency Code\n",
    "\n",
    "We can choose to shift <em>index values</em> up or down without realigning the data by passing in a <strong>freq</strong> argument.<br>"
   ]
  },
  {
   "cell_type": "code",
   "execution_count": null,
   "id": "8d646991",
   "metadata": {},
   "outputs": [],
   "source": [
    "# Shift everything forward one month\n",
    "df.shift(periods=1, freq='M').head()"
   ]
  },
  {
   "cell_type": "markdown",
   "id": "329223df",
   "metadata": {},
   "source": [
    "## Rolling\n",
    "\n",
    "A common process with time series is to create data based off of a rolling mean. The idea is to divide the data into \"windows\" of time, and then calculate an aggregate function for each window. In this way we obtain a <em>simple moving average</em>. Let's show how to do this easily with pandas!"
   ]
  },
  {
   "cell_type": "code",
   "execution_count": null,
   "id": "c9e97985",
   "metadata": {},
   "outputs": [],
   "source": [
    "# 7 day rolling mean\n",
    "df.rolling(window=7).mean().head(15)"
   ]
  },
  {
   "cell_type": "code",
   "execution_count": null,
   "id": "f57dbf31",
   "metadata": {},
   "outputs": [],
   "source": [
    "df['Hs: 365 Day Mean'] = df['Hs'].rolling(window=365).mean()\n",
    "df[['Hs','Hs: 365 Day Mean']].plot(figsize=(12,5)).autoscale(axis='x',tight=True);"
   ]
  },
  {
   "cell_type": "markdown",
   "id": "cbd288ad",
   "metadata": {},
   "source": [
    "## Expanding\n",
    "\n",
    "Instead of calculating values for a rolling window of dates, what if you wanted to take into account everything from the start of the time series up to each point in time? For example, instead of considering the average over the last 7 days, we would consider all prior data in our expanding set of averages."
   ]
  },
  {
   "cell_type": "code",
   "execution_count": null,
   "id": "474213e7",
   "metadata": {},
   "outputs": [],
   "source": [
    "# Optional: specify a minimum number of periods to start from\n",
    "df['Hs'].expanding(min_periods=30).mean().plot(figsize=(12,5));"
   ]
  }
 ],
 "metadata": {
  "kernelspec": {
   "display_name": "Python 3 (ipykernel)",
   "language": "python",
   "name": "python3"
  }
 },
 "nbformat": 4,
 "nbformat_minor": 5
}
