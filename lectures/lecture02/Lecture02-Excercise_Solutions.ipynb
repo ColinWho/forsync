{
 "cells": [
  {
   "cell_type": "markdown",
   "id": "778ee62b",
   "metadata": {
    "slideshow": {
     "slide_type": "slide"
    }
   },
   "source": [
    "#  <center> Numpy & Pandas"
   ]
  },
  {
   "cell_type": "code",
   "execution_count": 1,
   "id": "006f29dd",
   "metadata": {},
   "outputs": [],
   "source": [
    "#Importing library\n",
    "import pandas as pd\n",
    "\n",
    "import numpy as np\n",
    "from numpy.random import randn\n",
    "np.random.seed(101)"
   ]
  },
  {
   "cell_type": "markdown",
   "id": "445526a8",
   "metadata": {},
   "source": [
    "### Exercise set 1\n"
   ]
  },
  {
   "cell_type": "markdown",
   "id": "63f61de0",
   "metadata": {},
   "source": [
    "#### Ex. 1.1\n",
    "Work out the shape of the resulting arrays before executing the following cells. <br>\n",
    "(HINT: Length of he innermost list gives the size of the rightmost shape index.) <br>\n",
    "* set the variable \"a_rows\" to the correct number of row, and\n",
    "* set the variable \"a_columns\" to the correct number of columns."
   ]
  },
  {
   "cell_type": "code",
   "execution_count": 2,
   "id": "9489e710",
   "metadata": {},
   "outputs": [
    {
     "name": "stdout",
     "output_type": "stream",
     "text": [
      "[[11 12 13]\n",
      " [21 22 23]\n",
      " [31 32 33]\n",
      " [41 42 43]]\n"
     ]
    }
   ],
   "source": [
    "## don't change the following line of code in any way\n",
    "a = np.array( [[11,12,13], [21,22,23], [31,32,33], [41,42,43]] ) \n",
    "print(a)"
   ]
  },
  {
   "cell_type": "markdown",
   "id": "dcfbfe30",
   "metadata": {},
   "source": [
    "Now create 2 variales called `a_rows` and `a_columns` and set their values to how many rows and columns array `a` has."
   ]
  },
  {
   "cell_type": "code",
   "execution_count": 3,
   "id": "ca539c14",
   "metadata": {},
   "outputs": [
    {
     "name": "stdout",
     "output_type": "stream",
     "text": [
      "a (4, 3)\n",
      "2\n",
      "12\n"
     ]
    }
   ],
   "source": [
    "## Solution...\n",
    "a_rows = 4\n",
    "a_columns = 3\n",
    "print(\"a\", a.shape)\n",
    "print(a.ndim)\n",
    "print(a.size)"
   ]
  },
  {
   "cell_type": "markdown",
   "id": "5fe0db7b",
   "metadata": {},
   "source": [
    "#### Ex. 1.2\n",
    "Create an np.array called `b` and manually set the values what you expect the output of `a[2:-3:2]` would be."
   ]
  },
  {
   "cell_type": "code",
   "execution_count": 4,
   "id": "b2aeb7df",
   "metadata": {},
   "outputs": [],
   "source": [
    "a = np.arange(8)     "
   ]
  },
  {
   "cell_type": "code",
   "execution_count": 5,
   "id": "f0487a7f",
   "metadata": {},
   "outputs": [
    {
     "data": {
      "text/plain": [
       "array([0, 1, 2, 3, 4, 5, 6, 7])"
      ]
     },
     "execution_count": 5,
     "metadata": {},
     "output_type": "execute_result"
    }
   ],
   "source": [
    "a"
   ]
  },
  {
   "cell_type": "code",
   "execution_count": 6,
   "id": "32129f94",
   "metadata": {},
   "outputs": [],
   "source": [
    "## Solution...\n",
    "b = np.array([2, 4])"
   ]
  },
  {
   "cell_type": "markdown",
   "id": "2bbc042a",
   "metadata": {},
   "source": [
    "#### Ex. 1.3\n",
    "Create a two-dimensional array called `m` to represent the following matrix,\n",
    "$$\n",
    "\\mathbf{m} = \\left\\lbrack\\begin{array}{ccc}\n",
    "1 & 1 & 2\\cr\n",
    "3 & 5 & 8\\cr\n",
    "13 & 21 & 34\\cr\n",
    "55 & 89 & 144\n",
    "\\end{array}\\right\\rbrack\n",
    "$$\n",
    "\n",
    "Then change all the elements with values 21, 34, 89, and 144 in matrix `m` (i.e. bottom right corner elements) to 1001 by using a slice."
   ]
  },
  {
   "cell_type": "code",
   "execution_count": 7,
   "id": "46e0ca7f",
   "metadata": {},
   "outputs": [
    {
     "name": "stdout",
     "output_type": "stream",
     "text": [
      "[[  1   1   2]\n",
      " [  3   5   8]\n",
      " [ 13  21  34]\n",
      " [ 55  89 144]]\n"
     ]
    }
   ],
   "source": [
    "## Solution...\n",
    "m = np.array([[1,1,2],[3,5,8],[13,21,34],[55,89,144]])\n",
    "print(m)"
   ]
  },
  {
   "cell_type": "code",
   "execution_count": 8,
   "id": "be45d70e",
   "metadata": {},
   "outputs": [
    {
     "name": "stdout",
     "output_type": "stream",
     "text": [
      "[[   1    1    2]\n",
      " [   3    5    8]\n",
      " [  13 1001 1001]\n",
      " [  55 1001 1001]]\n"
     ]
    }
   ],
   "source": [
    "s = m[2:4,1:3]\n",
    "s[:,:] = 1001\n",
    "\n",
    "print(m)"
   ]
  },
  {
   "cell_type": "markdown",
   "id": "7090e2a0",
   "metadata": {},
   "source": [
    "#### Ex. 1.4\n",
    "\n",
    "Let $A$ be the two-dimensional array\n",
    "$$\n",
    "\\mathbf{A} = \\left\\lbrack\\begin{array}{ccc}\n",
    "2 & 1 & 0\\cr\n",
    "-1 & 2 & 1\\cr\n",
    "0 & -1 & 2\n",
    "\\end{array}\\right\\rbrack\n",
    "$$\n",
    "\n",
    "In the following line, initilise the two dimensional array `A` propperly to match matrix A."
   ]
  },
  {
   "cell_type": "code",
   "execution_count": 9,
   "id": "c8e4912e",
   "metadata": {},
   "outputs": [
    {
     "name": "stdout",
     "output_type": "stream",
     "text": [
      "[[ 2  1  0]\n",
      " [-1  2  1]\n",
      " [ 0 -1  2]]\n"
     ]
    }
   ],
   "source": [
    "## Solution...\n",
    "A = np.array([[2,1,0], [-1,2,1], [0,-1,2]])\n",
    "\n",
    "print(A)"
   ]
  },
  {
   "cell_type": "markdown",
   "id": "8a695387",
   "metadata": {},
   "source": [
    "Implement and apply the function\n",
    "$$\n",
    "f(x) = x^3 + xe^x + 1\n",
    "$$\n",
    "to $A$. <br>\n"
   ]
  },
  {
   "cell_type": "code",
   "execution_count": 10,
   "id": "f6887165",
   "metadata": {},
   "outputs": [
    {
     "name": "stdout",
     "output_type": "stream",
     "text": [
      "[[24.7781122   5.71828183  2.        ]\n",
      " [ 0.63212056 24.7781122   5.71828183]\n",
      " [ 2.          0.63212056 24.7781122 ]]\n"
     ]
    }
   ],
   "source": [
    "# Solution...\n",
    "\n",
    "e = np.e\n",
    "def f(x):\n",
    "    x = x**3 + x*e**x + 2\n",
    "    return x\n",
    "print(f(A))"
   ]
  },
  {
   "cell_type": "markdown",
   "id": "14b4580b",
   "metadata": {},
   "source": [
    "#### Ex. 1.5\n",
    "Use `base` to check if array `q` is a copy of array `p`. <br>\n",
    "Now, do the same for a simple indexed slice of `p` (e.g. `p[1:2,3:4]`)."
   ]
  },
  {
   "cell_type": "code",
   "execution_count": 11,
   "id": "2f1975aa",
   "metadata": {},
   "outputs": [],
   "source": [
    "p = np.array([[0, 1, 2],[3, 4, 5],[6, 7,8],[9, 10, 11]]) \n",
    "rows = [0,0,3,3]   # indices for rows\n",
    "cols = [0,2,0,2]   # indices for columns\n",
    "q=p[rows,cols]\n"
   ]
  },
  {
   "cell_type": "code",
   "execution_count": 12,
   "id": "b584b597",
   "metadata": {},
   "outputs": [
    {
     "name": "stdout",
     "output_type": "stream",
     "text": [
      "False\n",
      "True\n"
     ]
    }
   ],
   "source": [
    "# Solution...\n",
    "print(q.base is p)\n",
    "s = p[1:2,3:4]\n",
    "print(s.base is p)\n"
   ]
  },
  {
   "cell_type": "markdown",
   "id": "b8f60e95",
   "metadata": {},
   "source": [
    "#### Ex. 1.6\n",
    "Explore other ways of generating random numbers. <br>\n",
    "Below you will find an example for generating samples from a binomial distribution. <br>\n",
    "What other distributions can you sample? <br>\n",
    "Further documentation: https://numpy.org/doc/stable/reference/random/generator.html"
   ]
  },
  {
   "cell_type": "code",
   "execution_count": 13,
   "id": "1ec0b5da",
   "metadata": {},
   "outputs": [],
   "source": [
    "s = np.random.binomial(5, 0.5, size=25)\n"
   ]
  },
  {
   "cell_type": "markdown",
   "id": "423f179b",
   "metadata": {},
   "source": [
    "#### Ex. 1.7\n",
    "Here are some `timeit` experiments for you to try. Check which methods are faster?"
   ]
  },
  {
   "cell_type": "code",
   "execution_count": 14,
   "id": "c4759663",
   "metadata": {
    "scrolled": true
   },
   "outputs": [
    {
     "name": "stdout",
     "output_type": "stream",
     "text": [
      "234 ns ± 4.69 ns per loop (mean ± std. dev. of 3 runs, 10,000,000 loops each)\n",
      "140 ns ± 12.8 ns per loop (mean ± std. dev. of 3 runs, 10,000,000 loops each)\n"
     ]
    }
   ],
   "source": [
    "# Accessing a 2d array\n",
    "nd = np.arange(100).reshape((10,10))\n",
    "\n",
    "# accessing element of 2d array\n",
    "%timeit -n 10000000 -r 3 nd[5][5]\n",
    "%timeit -n 10000000 -r 3 nd[5,5]"
   ]
  },
  {
   "cell_type": "code",
   "execution_count": 15,
   "id": "5284df26",
   "metadata": {},
   "outputs": [
    {
     "name": "stdout",
     "output_type": "stream",
     "text": [
      "The slowest run took 4.16 times longer than the fastest. This could mean that an intermediate result is being cached.\n",
      "1.27 s ± 624 ms per loop (mean ± std. dev. of 10 runs, 1 loop each)\n",
      "990 ms ± 263 ms per loop (mean ± std. dev. of 10 runs, 1 loop each)\n"
     ]
    }
   ],
   "source": [
    "# Multiplying two vectors\n",
    "x = np.arange(10E7)\n",
    "%timeit -n 1 -r 10 x*x\n",
    "%timeit -n 1 -r 10 x**2"
   ]
  },
  {
   "cell_type": "code",
   "execution_count": 16,
   "id": "c4b3f036",
   "metadata": {},
   "outputs": [
    {
     "name": "stdout",
     "output_type": "stream",
     "text": [
      "368 ms ± 25.4 ms per loop (mean ± std. dev. of 7 runs, 1 loop each)\n",
      "119 ms ± 3.32 ms per loop (mean ± std. dev. of 7 runs, 10 loops each)\n",
      "3.4 ms ± 232 µs per loop (mean ± std. dev. of 7 runs, 100 loops each)\n"
     ]
    }
   ],
   "source": [
    "# Comparing range functions and iterating in loops\n",
    "# Note: some distributions may see overflow in range() example\n",
    "\n",
    "size = int(1E6)\n",
    "\n",
    "%timeit for x in range(size): x**2\n",
    "\n",
    "%timeit for x in np.arange(size): x**2\n",
    "\n",
    "%timeit np.arange(size)**2"
   ]
  },
  {
   "cell_type": "markdown",
   "id": "b7e5bcdb",
   "metadata": {},
   "source": [
    "#### Ex. 1.8\n",
    "The Taylor series expansion for the trigonometric function $\\arctan(y)$ is :\n",
    "$$\\arctan ( y) \\, = \\,y - \\frac{y^3}{3} + \\frac{y^5}{5}  - \\frac{y^7}{7}  + \\dots $$\n",
    "Now, $\\arctan(1) = \\pi/4 $, so\n",
    "$$ \\pi = 4 \\, \\Big( 1- \\frac{1}{3} + \\frac{1}{5} - \\frac{1}{7} + ... \\Big) $$\n",
    "<br>\n",
    "We can represent the first few terms of the series expansion of $\\arctan(y)$ using a numpy `Polynomial`, with coefficients:\n",
    "$$0, +1, 0, -1/3, 0, +1/5, 0, -1/7,\\ldots\\,$$ \n",
    "and then use it to approximate $\\pi$.\n",
    "\n",
    "Write a function called `arctan` using the expansion above and use it to calculate an approximation of $\\pi$ using numpy polynomials."
   ]
  },
  {
   "cell_type": "code",
   "execution_count": 17,
   "id": "a328dbad",
   "metadata": {},
   "outputs": [],
   "source": [
    "## You should use numpy.polynmial in your function so lets import it\n",
    "from numpy.polynomial import Polynomial"
   ]
  },
  {
   "cell_type": "code",
   "execution_count": 18,
   "id": "0526ab33",
   "metadata": {},
   "outputs": [
    {
     "name": "stdout",
     "output_type": "stream",
     "text": [
      "3.231372549019608\n"
     ]
    }
   ],
   "source": [
    "## Solution...\n",
    "def arctan(x):\n",
    "    p = Polynomial([0, 1, 0, -1/3, 0, 1/5, 0, -1/17])\n",
    "    return p(x)\n",
    "print(4.0*arctan(1))"
   ]
  },
  {
   "cell_type": "markdown",
   "id": "1f298729",
   "metadata": {},
   "source": [
    "### Exercise set 2\n",
    "\n",
    "The first step in most data analytics projects is reading the data file. In this exercise, you'll create `Series` and `DataFrame` objects, both by hand and by reading data files."
   ]
  },
  {
   "cell_type": "markdown",
   "id": "a328d1d9",
   "metadata": {},
   "source": [
    "#### Ex. 2.1\n",
    "\n",
    "In the _Solution_ cell below, create a `DataFrame` fruits that looks like this:\n",
    "\n",
    "![](https://i.imgur.com/Ax3pp2A.png)"
   ]
  },
  {
   "cell_type": "code",
   "execution_count": 20,
   "id": "e62e9bb5",
   "metadata": {},
   "outputs": [
    {
     "data": {
      "text/html": [
       "<div>\n",
       "<style scoped>\n",
       "    .dataframe tbody tr th:only-of-type {\n",
       "        vertical-align: middle;\n",
       "    }\n",
       "\n",
       "    .dataframe tbody tr th {\n",
       "        vertical-align: top;\n",
       "    }\n",
       "\n",
       "    .dataframe thead th {\n",
       "        text-align: right;\n",
       "    }\n",
       "</style>\n",
       "<table border=\"1\" class=\"dataframe\">\n",
       "  <thead>\n",
       "    <tr style=\"text-align: right;\">\n",
       "      <th></th>\n",
       "      <th>Apples</th>\n",
       "      <th>Bananas</th>\n",
       "    </tr>\n",
       "  </thead>\n",
       "  <tbody>\n",
       "    <tr>\n",
       "      <th>0</th>\n",
       "      <td>30</td>\n",
       "      <td>21</td>\n",
       "    </tr>\n",
       "  </tbody>\n",
       "</table>\n",
       "</div>"
      ],
      "text/plain": [
       "  Apples Bananas\n",
       "0     30      21"
      ]
     },
     "execution_count": 20,
     "metadata": {},
     "output_type": "execute_result"
    }
   ],
   "source": [
    "# Solution\n",
    "\n",
    "fruits = pd.DataFrame({'Apples': ['30'], \n",
    "              'Bananas': ['21']})\n",
    "fruits\n",
    "#print(fruits.get(\"Apples\"))\n",
    "#print(fruits.keys())\n",
    "#print(fruits[\"Apples\"])"
   ]
  },
  {
   "cell_type": "code",
   "execution_count": 23,
   "id": "ddd021da",
   "metadata": {},
   "outputs": [
    {
     "data": {
      "text/html": [
       "<div>\n",
       "<style scoped>\n",
       "    .dataframe tbody tr th:only-of-type {\n",
       "        vertical-align: middle;\n",
       "    }\n",
       "\n",
       "    .dataframe tbody tr th {\n",
       "        vertical-align: top;\n",
       "    }\n",
       "\n",
       "    .dataframe thead th {\n",
       "        text-align: right;\n",
       "    }\n",
       "</style>\n",
       "<table border=\"1\" class=\"dataframe\">\n",
       "  <thead>\n",
       "    <tr style=\"text-align: right;\">\n",
       "      <th></th>\n",
       "      <th>Apples</th>\n",
       "      <th>Bananas</th>\n",
       "    </tr>\n",
       "  </thead>\n",
       "  <tbody>\n",
       "    <tr>\n",
       "      <th>0</th>\n",
       "      <td>30</td>\n",
       "      <td>21</td>\n",
       "    </tr>\n",
       "  </tbody>\n",
       "</table>\n",
       "</div>"
      ],
      "text/plain": [
       "   Apples  Bananas\n",
       "0      30       21"
      ]
     },
     "execution_count": 23,
     "metadata": {},
     "output_type": "execute_result"
    }
   ],
   "source": [
    "# other solutions \n",
    "fruits = pd.DataFrame(np.array([30,21]).reshape(1,2), columns = ['Apples','Bananas'])\n",
    "fruits"
   ]
  },
  {
   "cell_type": "code",
   "execution_count": 25,
   "id": "6cc6ba4d",
   "metadata": {},
   "outputs": [
    {
     "data": {
      "text/html": [
       "<div>\n",
       "<style scoped>\n",
       "    .dataframe tbody tr th:only-of-type {\n",
       "        vertical-align: middle;\n",
       "    }\n",
       "\n",
       "    .dataframe tbody tr th {\n",
       "        vertical-align: top;\n",
       "    }\n",
       "\n",
       "    .dataframe thead th {\n",
       "        text-align: right;\n",
       "    }\n",
       "</style>\n",
       "<table border=\"1\" class=\"dataframe\">\n",
       "  <thead>\n",
       "    <tr style=\"text-align: right;\">\n",
       "      <th></th>\n",
       "      <th>Apples</th>\n",
       "      <th>Bananas</th>\n",
       "    </tr>\n",
       "  </thead>\n",
       "  <tbody>\n",
       "    <tr>\n",
       "      <th>0</th>\n",
       "      <td>30</td>\n",
       "      <td>21</td>\n",
       "    </tr>\n",
       "  </tbody>\n",
       "</table>\n",
       "</div>"
      ],
      "text/plain": [
       "   Apples  Bananas\n",
       "0      30       21"
      ]
     },
     "execution_count": 25,
     "metadata": {},
     "output_type": "execute_result"
    }
   ],
   "source": [
    "# or even :)\n",
    "fruits = pd.DataFrame(data= [30,21], index=['Apples','Bananas'])\n",
    "fruits.T"
   ]
  },
  {
   "cell_type": "markdown",
   "id": "14872342",
   "metadata": {},
   "source": [
    "#### Ex 2.2\n",
    "\n",
    "Create a variable `ingredients` with a Series that looks like:\n",
    "\n",
    "```\n",
    "Flour     4 cups\n",
    "Milk       1 cup\n",
    "Eggs     2 large\n",
    "Spam       1 can\n",
    "Name: Dinner, dtype: object\n",
    "```"
   ]
  },
  {
   "cell_type": "code",
   "execution_count": 26,
   "id": "95dfbac5",
   "metadata": {},
   "outputs": [
    {
     "data": {
      "text/plain": [
       "Flour     4 cups\n",
       "Milk       1 cup\n",
       "Eggs     2 large\n",
       "Spam       1 can\n",
       "Name: Dinner, dtype: object"
      ]
     },
     "execution_count": 26,
     "metadata": {},
     "output_type": "execute_result"
    }
   ],
   "source": [
    "# Solution:\n",
    "ingredients = pd.Series(['4 cups', '1 cup', '2 large', '1 can'],\n",
    "                        index=['Flour', 'Milk', 'Eggs', 'Spam'],\n",
    "                        name='Dinner')\n",
    "ingredients\n"
   ]
  },
  {
   "cell_type": "markdown",
   "id": "c0470d3f",
   "metadata": {},
   "source": [
    "#### Ex 2.3\n",
    "In the cell below, write code to save this `DataFrame` to disk as a csv file with the name `cows_and_goats.csv`."
   ]
  },
  {
   "cell_type": "code",
   "execution_count": 27,
   "id": "3c179693",
   "metadata": {},
   "outputs": [
    {
     "data": {
      "text/html": [
       "<div>\n",
       "<style scoped>\n",
       "    .dataframe tbody tr th:only-of-type {\n",
       "        vertical-align: middle;\n",
       "    }\n",
       "\n",
       "    .dataframe tbody tr th {\n",
       "        vertical-align: top;\n",
       "    }\n",
       "\n",
       "    .dataframe thead th {\n",
       "        text-align: right;\n",
       "    }\n",
       "</style>\n",
       "<table border=\"1\" class=\"dataframe\">\n",
       "  <thead>\n",
       "    <tr style=\"text-align: right;\">\n",
       "      <th></th>\n",
       "      <th>Cows</th>\n",
       "      <th>Goats</th>\n",
       "    </tr>\n",
       "  </thead>\n",
       "  <tbody>\n",
       "    <tr>\n",
       "      <th>Year 1</th>\n",
       "      <td>12</td>\n",
       "      <td>22</td>\n",
       "    </tr>\n",
       "    <tr>\n",
       "      <th>Year 2</th>\n",
       "      <td>20</td>\n",
       "      <td>19</td>\n",
       "    </tr>\n",
       "  </tbody>\n",
       "</table>\n",
       "</div>"
      ],
      "text/plain": [
       "        Cows  Goats\n",
       "Year 1    12     22\n",
       "Year 2    20     19"
      ]
     },
     "execution_count": 27,
     "metadata": {},
     "output_type": "execute_result"
    }
   ],
   "source": [
    "animals = pd.DataFrame({'Cows': [12, 20], 'Goats': [22, 19]}, index=['Year 1', 'Year 2'])\n",
    "animals"
   ]
  },
  {
   "cell_type": "code",
   "execution_count": 28,
   "id": "400eed97",
   "metadata": {},
   "outputs": [],
   "source": [
    "### Solution\n",
    "# saving the dataframe\n",
    "#animals.to_csv('cows_and_goats.csv')\n"
   ]
  },
  {
   "cell_type": "markdown",
   "id": "bc494ed2",
   "metadata": {},
   "source": [
    "### Exercise set 3"
   ]
  },
  {
   "cell_type": "markdown",
   "id": "48db0c31",
   "metadata": {},
   "source": [
    "#### Ex 3.1\n",
    " Read inputs/core_data.csv as a dataframe call it `cr` \n",
    " \n",
    " ** show the head of it"
   ]
  },
  {
   "cell_type": "code",
   "execution_count": 29,
   "id": "e894de29",
   "metadata": {},
   "outputs": [],
   "source": [
    "cr = pd.read_csv('inputs/core_data.csv')"
   ]
  },
  {
   "cell_type": "code",
   "execution_count": 30,
   "id": "5dcf8a7a",
   "metadata": {},
   "outputs": [
    {
     "data": {
      "text/html": [
       "<div>\n",
       "<style scoped>\n",
       "    .dataframe tbody tr th:only-of-type {\n",
       "        vertical-align: middle;\n",
       "    }\n",
       "\n",
       "    .dataframe tbody tr th {\n",
       "        vertical-align: top;\n",
       "    }\n",
       "\n",
       "    .dataframe thead th {\n",
       "        text-align: right;\n",
       "    }\n",
       "</style>\n",
       "<table border=\"1\" class=\"dataframe\">\n",
       "  <thead>\n",
       "    <tr style=\"text-align: right;\">\n",
       "      <th></th>\n",
       "      <th>Exp</th>\n",
       "      <th>Site</th>\n",
       "      <th>Hole</th>\n",
       "      <th>Core</th>\n",
       "      <th>Type</th>\n",
       "      <th>Sect</th>\n",
       "      <th>Top(cm)</th>\n",
       "      <th>Depth CSF-A (m)</th>\n",
       "      <th>NGR total counts (cps)</th>\n",
       "      <th>Reflectance L*</th>\n",
       "      <th>Reflectance a*</th>\n",
       "      <th>Reflectance b*</th>\n",
       "      <th>Lithology</th>\n",
       "    </tr>\n",
       "  </thead>\n",
       "  <tbody>\n",
       "    <tr>\n",
       "      <th>0</th>\n",
       "      <td>194</td>\n",
       "      <td>1192</td>\n",
       "      <td>A</td>\n",
       "      <td>1</td>\n",
       "      <td>H</td>\n",
       "      <td>1</td>\n",
       "      <td>20</td>\n",
       "      <td>0.2</td>\n",
       "      <td>16.2</td>\n",
       "      <td>39.55</td>\n",
       "      <td>4.22</td>\n",
       "      <td>10.59</td>\n",
       "      <td>Marls</td>\n",
       "    </tr>\n",
       "    <tr>\n",
       "      <th>1</th>\n",
       "      <td>194</td>\n",
       "      <td>1192</td>\n",
       "      <td>A</td>\n",
       "      <td>1</td>\n",
       "      <td>H</td>\n",
       "      <td>1</td>\n",
       "      <td>40</td>\n",
       "      <td>0.4</td>\n",
       "      <td>20.0</td>\n",
       "      <td>66.57</td>\n",
       "      <td>4.70</td>\n",
       "      <td>19.52</td>\n",
       "      <td>Marls</td>\n",
       "    </tr>\n",
       "    <tr>\n",
       "      <th>2</th>\n",
       "      <td>194</td>\n",
       "      <td>1192</td>\n",
       "      <td>A</td>\n",
       "      <td>1</td>\n",
       "      <td>H</td>\n",
       "      <td>1</td>\n",
       "      <td>60</td>\n",
       "      <td>0.6</td>\n",
       "      <td>18.8</td>\n",
       "      <td>68.21</td>\n",
       "      <td>4.79</td>\n",
       "      <td>24.13</td>\n",
       "      <td>Clayey Marls</td>\n",
       "    </tr>\n",
       "    <tr>\n",
       "      <th>3</th>\n",
       "      <td>194</td>\n",
       "      <td>1192</td>\n",
       "      <td>A</td>\n",
       "      <td>1</td>\n",
       "      <td>H</td>\n",
       "      <td>1</td>\n",
       "      <td>80</td>\n",
       "      <td>0.8</td>\n",
       "      <td>21.6</td>\n",
       "      <td>64.90</td>\n",
       "      <td>6.77</td>\n",
       "      <td>29.16</td>\n",
       "      <td>Sandy carbonate</td>\n",
       "    </tr>\n",
       "    <tr>\n",
       "      <th>4</th>\n",
       "      <td>194</td>\n",
       "      <td>1192</td>\n",
       "      <td>A</td>\n",
       "      <td>1</td>\n",
       "      <td>H</td>\n",
       "      <td>1</td>\n",
       "      <td>100</td>\n",
       "      <td>1.0</td>\n",
       "      <td>25.2</td>\n",
       "      <td>67.85</td>\n",
       "      <td>2.34</td>\n",
       "      <td>14.76</td>\n",
       "      <td>Marls</td>\n",
       "    </tr>\n",
       "  </tbody>\n",
       "</table>\n",
       "</div>"
      ],
      "text/plain": [
       "   Exp  Site Hole  Core Type  Sect  Top(cm)  Depth CSF-A (m)  \\\n",
       "0  194  1192    A     1    H     1       20              0.2   \n",
       "1  194  1192    A     1    H     1       40              0.4   \n",
       "2  194  1192    A     1    H     1       60              0.6   \n",
       "3  194  1192    A     1    H     1       80              0.8   \n",
       "4  194  1192    A     1    H     1      100              1.0   \n",
       "\n",
       "   NGR total counts (cps)  Reflectance L*  Reflectance a*  Reflectance b*  \\\n",
       "0                    16.2           39.55            4.22           10.59   \n",
       "1                    20.0           66.57            4.70           19.52   \n",
       "2                    18.8           68.21            4.79           24.13   \n",
       "3                    21.6           64.90            6.77           29.16   \n",
       "4                    25.2           67.85            2.34           14.76   \n",
       "\n",
       "         Lithology  \n",
       "0            Marls  \n",
       "1            Marls  \n",
       "2     Clayey Marls  \n",
       "3  Sandy carbonate  \n",
       "4            Marls  "
      ]
     },
     "execution_count": 30,
     "metadata": {},
     "output_type": "execute_result"
    }
   ],
   "source": [
    "cr.head()"
   ]
  },
  {
   "cell_type": "markdown",
   "id": "cfd80c4e",
   "metadata": {},
   "source": [
    "#### Ex 3.2\n",
    " Use the .info() method to find out how many entries there are."
   ]
  },
  {
   "cell_type": "code",
   "execution_count": 31,
   "id": "2cbecbbc",
   "metadata": {},
   "outputs": [
    {
     "name": "stdout",
     "output_type": "stream",
     "text": [
      "<class 'pandas.core.frame.DataFrame'>\n",
      "RangeIndex: 25217 entries, 0 to 25216\n",
      "Data columns (total 13 columns):\n",
      " #   Column                  Non-Null Count  Dtype  \n",
      "---  ------                  --------------  -----  \n",
      " 0   Exp                     25217 non-null  int64  \n",
      " 1   Site                    25217 non-null  int64  \n",
      " 2   Hole                    25217 non-null  object \n",
      " 3   Core                    25217 non-null  int64  \n",
      " 4   Type                    25204 non-null  object \n",
      " 5   Sect                    25217 non-null  int64  \n",
      " 6   Top(cm)                 25217 non-null  int64  \n",
      " 7   Depth CSF-A (m)         25215 non-null  float64\n",
      " 8   NGR total counts (cps)  25200 non-null  float64\n",
      " 9   Reflectance L*          25195 non-null  float64\n",
      " 10  Reflectance a*          25212 non-null  float64\n",
      " 11  Reflectance b*          25206 non-null  float64\n",
      " 12  Lithology               713 non-null    object \n",
      "dtypes: float64(5), int64(5), object(3)\n",
      "memory usage: 2.5+ MB\n"
     ]
    }
   ],
   "source": [
    "cr.info()"
   ]
  },
  {
   "cell_type": "markdown",
   "id": "27d6ce7d",
   "metadata": {},
   "source": [
    "#### Ex 3.3\n",
    "What is the average `Depth CSF-A (m)` ?"
   ]
  },
  {
   "cell_type": "code",
   "execution_count": 32,
   "id": "70b1dab0",
   "metadata": {},
   "outputs": [
    {
     "data": {
      "text/plain": [
       "234.60238032916914"
      ]
     },
     "execution_count": 32,
     "metadata": {},
     "output_type": "execute_result"
    }
   ],
   "source": [
    "cr['Depth CSF-A (m)'].mean()"
   ]
  },
  {
   "cell_type": "markdown",
   "id": "22dc0234",
   "metadata": {},
   "source": [
    "#### Ex 3.4\n",
    " What is the highest amount of `Reflectance a*` in the dataset?"
   ]
  },
  {
   "cell_type": "code",
   "execution_count": 33,
   "id": "f3f918b8",
   "metadata": {},
   "outputs": [
    {
     "data": {
      "text/plain": [
       "17.85"
      ]
     },
     "execution_count": 33,
     "metadata": {},
     "output_type": "execute_result"
    }
   ],
   "source": [
    "cr['Reflectance a*'].max()"
   ]
  },
  {
   "cell_type": "markdown",
   "id": "da344255",
   "metadata": {},
   "source": [
    "#### Ex 3.5\n",
    "What is the amount of `Reflectance L*` for the highest amount of `Reflectance a*`"
   ]
  },
  {
   "cell_type": "code",
   "execution_count": 34,
   "id": "a0f0a5a2",
   "metadata": {},
   "outputs": [],
   "source": [
    "mx = cr['Reflectance a*'].max()"
   ]
  },
  {
   "cell_type": "code",
   "execution_count": 35,
   "id": "a0db57c9",
   "metadata": {},
   "outputs": [
    {
     "data": {
      "text/plain": [
       "21880    48.01\n",
       "Name: Reflectance L*, dtype: float64"
      ]
     },
     "execution_count": 35,
     "metadata": {},
     "output_type": "execute_result"
    }
   ],
   "source": [
    "cr[cr['Reflectance a*']==mx]['Reflectance L*']"
   ]
  },
  {
   "cell_type": "markdown",
   "id": "1b8f8b1a",
   "metadata": {},
   "source": [
    "#### Ex 3.6\n",
    "what is the minimum `NGR total counts (cps)`'s Lithology type?"
   ]
  },
  {
   "cell_type": "code",
   "execution_count": 36,
   "id": "df73eab8",
   "metadata": {},
   "outputs": [],
   "source": [
    "mn = cr['NGR total counts (cps)'].min()"
   ]
  },
  {
   "cell_type": "code",
   "execution_count": 37,
   "id": "727669fc",
   "metadata": {},
   "outputs": [
    {
     "data": {
      "text/plain": [
       "15297    Marls\n",
       "15365      NaN\n",
       "Name: Lithology, dtype: object"
      ]
     },
     "execution_count": 37,
     "metadata": {},
     "output_type": "execute_result"
    }
   ],
   "source": [
    "cr[cr['NGR total counts (cps)']==mn]['Lithology']"
   ]
  },
  {
   "cell_type": "markdown",
   "id": "7fe220e8",
   "metadata": {},
   "source": [
    "#### Ex 3.7\n",
    "How many of your data have the `Lithology` type of `Marls`?"
   ]
  },
  {
   "cell_type": "code",
   "execution_count": 40,
   "id": "ca65861f",
   "metadata": {},
   "outputs": [
    {
     "data": {
      "text/plain": [
       "Exp                       14\n",
       "Site                      14\n",
       "Hole                      14\n",
       "Core                      14\n",
       "Type                      14\n",
       "Sect                      14\n",
       "Top(cm)                   14\n",
       "Depth CSF-A (m)           14\n",
       "NGR total counts (cps)    13\n",
       "Reflectance L*            14\n",
       "Reflectance a*            14\n",
       "Reflectance b*            14\n",
       "Lithology                 14\n",
       "dtype: int64"
      ]
     },
     "execution_count": 40,
     "metadata": {},
     "output_type": "execute_result"
    }
   ],
   "source": [
    "cr[cr['Lithology']=='Marls'].count()"
   ]
  },
  {
   "cell_type": "markdown",
   "id": "73aec1f7",
   "metadata": {},
   "source": [
    "#### Ex 3.8\n",
    "What is the data type of the `Hole` column in the dataset?"
   ]
  },
  {
   "cell_type": "code",
   "execution_count": 41,
   "id": "257d3d73",
   "metadata": {},
   "outputs": [
    {
     "data": {
      "text/plain": [
       "dtype('O')"
      ]
     },
     "execution_count": 41,
     "metadata": {},
     "output_type": "execute_result"
    }
   ],
   "source": [
    "cr['Hole'].dtype"
   ]
  },
  {
   "cell_type": "markdown",
   "id": "3cc45408",
   "metadata": {},
   "source": [
    "#### Ex 3.9\n",
    "\n",
    "Create a variable `df` containing the `Depth CSF-A (m)` and `Lithology` columns of the first 100 records\n",
    "\n",
    "Hint: you may use `loc` or `iloc`. When working on the answer this question and the several of the ones that follow, keep the following \"gotcha\" described in the lecture:\n",
    "\n"
   ]
  },
  {
   "cell_type": "code",
   "execution_count": 42,
   "id": "703565ff",
   "metadata": {},
   "outputs": [],
   "source": [
    "df = cr[['Depth CSF-A (m)','Lithology']]"
   ]
  },
  {
   "cell_type": "code",
   "execution_count": 43,
   "id": "d01b1afa",
   "metadata": {},
   "outputs": [],
   "source": [
    "df = df.loc[0:101]"
   ]
  },
  {
   "cell_type": "markdown",
   "id": "7b8ddbca",
   "metadata": {},
   "source": [
    "#### Ex 3.10\n",
    "What is the number of data in `df` in which `Depth CSF-A (m)` is more than **10** and less than **25**  "
   ]
  },
  {
   "cell_type": "code",
   "execution_count": 44,
   "id": "cc68f655",
   "metadata": {},
   "outputs": [
    {
     "data": {
      "text/plain": [
       "Depth CSF-A (m)    47\n",
       "Lithology           4\n",
       "dtype: int64"
      ]
     },
     "execution_count": 44,
     "metadata": {},
     "output_type": "execute_result"
    }
   ],
   "source": [
    "df[(df['Depth CSF-A (m)']>10) & (df['Depth CSF-A (m)']<25)].count()"
   ]
  },
  {
   "cell_type": "markdown",
   "id": "3cb18c20",
   "metadata": {},
   "source": [
    "#### Ex 3.11\n",
    "Calculate the number of missing, and duplicated values? What is the number of unique values for `df`"
   ]
  },
  {
   "cell_type": "code",
   "execution_count": 45,
   "id": "9471f97b",
   "metadata": {},
   "outputs": [
    {
     "data": {
      "text/plain": [
       "2"
      ]
     },
     "execution_count": 45,
     "metadata": {},
     "output_type": "execute_result"
    }
   ],
   "source": [
    "sum(df.duplicated())"
   ]
  },
  {
   "cell_type": "code",
   "execution_count": 46,
   "id": "7a2bb8a1",
   "metadata": {},
   "outputs": [
    {
     "data": {
      "text/plain": [
       "97"
      ]
     },
     "execution_count": 46,
     "metadata": {},
     "output_type": "execute_result"
    }
   ],
   "source": [
    "df['Depth CSF-A (m)'].nunique()"
   ]
  },
  {
   "cell_type": "code",
   "execution_count": 47,
   "id": "3fac20e7",
   "metadata": {},
   "outputs": [
    {
     "data": {
      "text/plain": [
       "Depth CSF-A (m)     0\n",
       "Lithology          86\n",
       "dtype: int64"
      ]
     },
     "execution_count": 47,
     "metadata": {},
     "output_type": "execute_result"
    }
   ],
   "source": [
    "df.isnull().sum()"
   ]
  },
  {
   "cell_type": "markdown",
   "id": "f758e3fe",
   "metadata": {},
   "source": [
    "### Exercise set 4\n",
    "We are going to load a new data. Run the below cell\n",
    "\n",
    "** If you have time, apply your solutions for the questions above on the new dataset"
   ]
  },
  {
   "cell_type": "code",
   "execution_count": 48,
   "id": "427b8e6d",
   "metadata": {},
   "outputs": [],
   "source": [
    "import pandas as pd"
   ]
  },
  {
   "cell_type": "code",
   "execution_count": 49,
   "id": "061d5100",
   "metadata": {},
   "outputs": [],
   "source": [
    "wi = pd.read_csv('inputs/winemag-data-130k-v2.csv')"
   ]
  },
  {
   "cell_type": "code",
   "execution_count": 50,
   "id": "90d67317",
   "metadata": {},
   "outputs": [
    {
     "data": {
      "text/html": [
       "<div>\n",
       "<style scoped>\n",
       "    .dataframe tbody tr th:only-of-type {\n",
       "        vertical-align: middle;\n",
       "    }\n",
       "\n",
       "    .dataframe tbody tr th {\n",
       "        vertical-align: top;\n",
       "    }\n",
       "\n",
       "    .dataframe thead th {\n",
       "        text-align: right;\n",
       "    }\n",
       "</style>\n",
       "<table border=\"1\" class=\"dataframe\">\n",
       "  <thead>\n",
       "    <tr style=\"text-align: right;\">\n",
       "      <th></th>\n",
       "      <th>Unnamed: 0</th>\n",
       "      <th>country</th>\n",
       "      <th>description</th>\n",
       "      <th>designation</th>\n",
       "      <th>points</th>\n",
       "      <th>price</th>\n",
       "      <th>province</th>\n",
       "      <th>region_1</th>\n",
       "      <th>region_2</th>\n",
       "      <th>taster_name</th>\n",
       "      <th>taster_twitter_handle</th>\n",
       "      <th>title</th>\n",
       "      <th>variety</th>\n",
       "      <th>winery</th>\n",
       "    </tr>\n",
       "  </thead>\n",
       "  <tbody>\n",
       "    <tr>\n",
       "      <th>0</th>\n",
       "      <td>0</td>\n",
       "      <td>Italy</td>\n",
       "      <td>Aromas include tropical fruit, broom, brimston...</td>\n",
       "      <td>Vulkà Bianco</td>\n",
       "      <td>87</td>\n",
       "      <td>NaN</td>\n",
       "      <td>Sicily &amp; Sardinia</td>\n",
       "      <td>Etna</td>\n",
       "      <td>NaN</td>\n",
       "      <td>Kerin O’Keefe</td>\n",
       "      <td>@kerinokeefe</td>\n",
       "      <td>Nicosia 2013 Vulkà Bianco  (Etna)</td>\n",
       "      <td>White Blend</td>\n",
       "      <td>Nicosia</td>\n",
       "    </tr>\n",
       "    <tr>\n",
       "      <th>1</th>\n",
       "      <td>1</td>\n",
       "      <td>Portugal</td>\n",
       "      <td>This is ripe and fruity, a wine that is smooth...</td>\n",
       "      <td>Avidagos</td>\n",
       "      <td>87</td>\n",
       "      <td>15.0</td>\n",
       "      <td>Douro</td>\n",
       "      <td>NaN</td>\n",
       "      <td>NaN</td>\n",
       "      <td>Roger Voss</td>\n",
       "      <td>@vossroger</td>\n",
       "      <td>Quinta dos Avidagos 2011 Avidagos Red (Douro)</td>\n",
       "      <td>Portuguese Red</td>\n",
       "      <td>Quinta dos Avidagos</td>\n",
       "    </tr>\n",
       "  </tbody>\n",
       "</table>\n",
       "</div>"
      ],
      "text/plain": [
       "   Unnamed: 0   country                                        description  \\\n",
       "0           0     Italy  Aromas include tropical fruit, broom, brimston...   \n",
       "1           1  Portugal  This is ripe and fruity, a wine that is smooth...   \n",
       "\n",
       "    designation  points  price           province region_1 region_2  \\\n",
       "0  Vulkà Bianco      87    NaN  Sicily & Sardinia     Etna      NaN   \n",
       "1      Avidagos      87   15.0              Douro      NaN      NaN   \n",
       "\n",
       "     taster_name taster_twitter_handle  \\\n",
       "0  Kerin O’Keefe          @kerinokeefe   \n",
       "1     Roger Voss            @vossroger   \n",
       "\n",
       "                                           title         variety  \\\n",
       "0              Nicosia 2013 Vulkà Bianco  (Etna)     White Blend   \n",
       "1  Quinta dos Avidagos 2011 Avidagos Red (Douro)  Portuguese Red   \n",
       "\n",
       "                winery  \n",
       "0              Nicosia  \n",
       "1  Quinta dos Avidagos  "
      ]
     },
     "execution_count": 50,
     "metadata": {},
     "output_type": "execute_result"
    }
   ],
   "source": [
    "wi.head(2)"
   ]
  },
  {
   "cell_type": "markdown",
   "id": "d36f8d4b",
   "metadata": {},
   "source": [
    "#### Ex 4.1\n",
    "There are only so many words you can use when describing a bottle of wine. Is a wine more likely to be \"tropical\" or \"fruity\"? Create a Series descriptor_counts counting how many times each of these two words appears in the description column in the dataset."
   ]
  },
  {
   "cell_type": "code",
   "execution_count": 51,
   "id": "6b070657",
   "metadata": {},
   "outputs": [
    {
     "name": "stdout",
     "output_type": "stream",
     "text": [
      "-1    126364\n",
      " 1      3607\n",
      "dtype: int64\n",
      "-1    120881\n",
      " 1      9090\n",
      "dtype: int64\n"
     ]
    }
   ],
   "source": [
    "### Solution\n",
    "\n",
    "def count_tropical(row):\n",
    "    x = 0\n",
    "    x = row.description.find('tropical')\n",
    "    if x != -1: x = 1\n",
    "    return x\n",
    "\n",
    "def count_fruity(row):\n",
    "    x = 0\n",
    "    x = row.description.find('fruity')\n",
    "    if x != -1: x = 1\n",
    "    return x\n",
    "\n",
    "\n",
    "descriptor_counts_tropical = wi.apply(count_tropical, axis='columns')\n",
    "descriptor_counts_fruity = wi.apply(count_fruity, axis='columns')\n",
    "\n",
    "\n",
    "print(descriptor_counts_tropical.value_counts(sort=True))\n",
    "print(descriptor_counts_fruity.value_counts(sort=True))\n",
    "\n",
    "descriptor_counts_tropical = 3607               \n",
    "descriptor_counts_fruity = 9090   "
   ]
  },
  {
   "cell_type": "markdown",
   "id": "0f2f3b63",
   "metadata": {},
   "source": [
    "#### Ex 4.2\n",
    "Who are the most common wine reviewers in the dataset? Create a `Series` whose index is the `taster_twitter_handle` category from the dataset, and whose values count how many reviews each person wrote."
   ]
  },
  {
   "cell_type": "code",
   "execution_count": 52,
   "id": "f6fa1c0e",
   "metadata": {},
   "outputs": [
    {
     "data": {
      "text/html": [
       "<div>\n",
       "<style scoped>\n",
       "    .dataframe tbody tr th:only-of-type {\n",
       "        vertical-align: middle;\n",
       "    }\n",
       "\n",
       "    .dataframe tbody tr th {\n",
       "        vertical-align: top;\n",
       "    }\n",
       "\n",
       "    .dataframe thead th {\n",
       "        text-align: right;\n",
       "    }\n",
       "</style>\n",
       "<table border=\"1\" class=\"dataframe\">\n",
       "  <thead>\n",
       "    <tr style=\"text-align: right;\">\n",
       "      <th></th>\n",
       "      <th>len</th>\n",
       "    </tr>\n",
       "    <tr>\n",
       "      <th>taster_twitter_handle</th>\n",
       "      <th></th>\n",
       "    </tr>\n",
       "  </thead>\n",
       "  <tbody>\n",
       "    <tr>\n",
       "      <th>@AnneInVino</th>\n",
       "      <td>3685</td>\n",
       "    </tr>\n",
       "    <tr>\n",
       "      <th>@JoeCz</th>\n",
       "      <td>5147</td>\n",
       "    </tr>\n",
       "    <tr>\n",
       "      <th>@bkfiona</th>\n",
       "      <td>27</td>\n",
       "    </tr>\n",
       "    <tr>\n",
       "      <th>@gordone_cellars</th>\n",
       "      <td>4177</td>\n",
       "    </tr>\n",
       "    <tr>\n",
       "      <th>@kerinokeefe</th>\n",
       "      <td>10776</td>\n",
       "    </tr>\n",
       "    <tr>\n",
       "      <th>@laurbuzz</th>\n",
       "      <td>1835</td>\n",
       "    </tr>\n",
       "    <tr>\n",
       "      <th>@mattkettmann</th>\n",
       "      <td>6332</td>\n",
       "    </tr>\n",
       "    <tr>\n",
       "      <th>@paulgwine</th>\n",
       "      <td>9532</td>\n",
       "    </tr>\n",
       "    <tr>\n",
       "      <th>@suskostrzewa</th>\n",
       "      <td>1085</td>\n",
       "    </tr>\n",
       "    <tr>\n",
       "      <th>@vboone</th>\n",
       "      <td>9537</td>\n",
       "    </tr>\n",
       "    <tr>\n",
       "      <th>@vossroger</th>\n",
       "      <td>25514</td>\n",
       "    </tr>\n",
       "    <tr>\n",
       "      <th>@wawinereport</th>\n",
       "      <td>4966</td>\n",
       "    </tr>\n",
       "    <tr>\n",
       "      <th>@wineschach</th>\n",
       "      <td>15134</td>\n",
       "    </tr>\n",
       "    <tr>\n",
       "      <th>@winewchristina</th>\n",
       "      <td>6</td>\n",
       "    </tr>\n",
       "    <tr>\n",
       "      <th>@worldwineguys</th>\n",
       "      <td>1005</td>\n",
       "    </tr>\n",
       "  </tbody>\n",
       "</table>\n",
       "</div>"
      ],
      "text/plain": [
       "                         len\n",
       "taster_twitter_handle       \n",
       "@AnneInVino             3685\n",
       "@JoeCz                  5147\n",
       "@bkfiona                  27\n",
       "@gordone_cellars        4177\n",
       "@kerinokeefe           10776\n",
       "@laurbuzz               1835\n",
       "@mattkettmann           6332\n",
       "@paulgwine              9532\n",
       "@suskostrzewa           1085\n",
       "@vboone                 9537\n",
       "@vossroger             25514\n",
       "@wawinereport           4966\n",
       "@wineschach            15134\n",
       "@winewchristina            6\n",
       "@worldwineguys          1005"
      ]
     },
     "execution_count": 52,
     "metadata": {},
     "output_type": "execute_result"
    }
   ],
   "source": [
    "taster_twitter_handle = wi.groupby(['taster_twitter_handle']).description.agg([len])\n",
    "taster_twitter_handle\n"
   ]
  },
  {
   "cell_type": "code",
   "execution_count": 53,
   "id": "2b145dbc",
   "metadata": {},
   "outputs": [
    {
     "data": {
      "text/html": [
       "<div>\n",
       "<style scoped>\n",
       "    .dataframe tbody tr th:only-of-type {\n",
       "        vertical-align: middle;\n",
       "    }\n",
       "\n",
       "    .dataframe tbody tr th {\n",
       "        vertical-align: top;\n",
       "    }\n",
       "\n",
       "    .dataframe thead th {\n",
       "        text-align: right;\n",
       "    }\n",
       "</style>\n",
       "<table border=\"1\" class=\"dataframe\">\n",
       "  <thead>\n",
       "    <tr style=\"text-align: right;\">\n",
       "      <th></th>\n",
       "      <th>taster_twitter_handle</th>\n",
       "      <th>len</th>\n",
       "    </tr>\n",
       "  </thead>\n",
       "  <tbody>\n",
       "    <tr>\n",
       "      <th>13</th>\n",
       "      <td>@winewchristina</td>\n",
       "      <td>6</td>\n",
       "    </tr>\n",
       "    <tr>\n",
       "      <th>2</th>\n",
       "      <td>@bkfiona</td>\n",
       "      <td>27</td>\n",
       "    </tr>\n",
       "    <tr>\n",
       "      <th>14</th>\n",
       "      <td>@worldwineguys</td>\n",
       "      <td>1005</td>\n",
       "    </tr>\n",
       "    <tr>\n",
       "      <th>8</th>\n",
       "      <td>@suskostrzewa</td>\n",
       "      <td>1085</td>\n",
       "    </tr>\n",
       "    <tr>\n",
       "      <th>5</th>\n",
       "      <td>@laurbuzz</td>\n",
       "      <td>1835</td>\n",
       "    </tr>\n",
       "    <tr>\n",
       "      <th>0</th>\n",
       "      <td>@AnneInVino</td>\n",
       "      <td>3685</td>\n",
       "    </tr>\n",
       "    <tr>\n",
       "      <th>3</th>\n",
       "      <td>@gordone_cellars</td>\n",
       "      <td>4177</td>\n",
       "    </tr>\n",
       "    <tr>\n",
       "      <th>11</th>\n",
       "      <td>@wawinereport</td>\n",
       "      <td>4966</td>\n",
       "    </tr>\n",
       "    <tr>\n",
       "      <th>1</th>\n",
       "      <td>@JoeCz</td>\n",
       "      <td>5147</td>\n",
       "    </tr>\n",
       "    <tr>\n",
       "      <th>6</th>\n",
       "      <td>@mattkettmann</td>\n",
       "      <td>6332</td>\n",
       "    </tr>\n",
       "    <tr>\n",
       "      <th>7</th>\n",
       "      <td>@paulgwine</td>\n",
       "      <td>9532</td>\n",
       "    </tr>\n",
       "    <tr>\n",
       "      <th>9</th>\n",
       "      <td>@vboone</td>\n",
       "      <td>9537</td>\n",
       "    </tr>\n",
       "    <tr>\n",
       "      <th>4</th>\n",
       "      <td>@kerinokeefe</td>\n",
       "      <td>10776</td>\n",
       "    </tr>\n",
       "    <tr>\n",
       "      <th>12</th>\n",
       "      <td>@wineschach</td>\n",
       "      <td>15134</td>\n",
       "    </tr>\n",
       "    <tr>\n",
       "      <th>10</th>\n",
       "      <td>@vossroger</td>\n",
       "      <td>25514</td>\n",
       "    </tr>\n",
       "  </tbody>\n",
       "</table>\n",
       "</div>"
      ],
      "text/plain": [
       "   taster_twitter_handle    len\n",
       "13       @winewchristina      6\n",
       "2               @bkfiona     27\n",
       "14        @worldwineguys   1005\n",
       "8          @suskostrzewa   1085\n",
       "5              @laurbuzz   1835\n",
       "0            @AnneInVino   3685\n",
       "3       @gordone_cellars   4177\n",
       "11         @wawinereport   4966\n",
       "1                 @JoeCz   5147\n",
       "6          @mattkettmann   6332\n",
       "7            @paulgwine    9532\n",
       "9                @vboone   9537\n",
       "4           @kerinokeefe  10776\n",
       "12           @wineschach  15134\n",
       "10            @vossroger  25514"
      ]
     },
     "execution_count": 53,
     "metadata": {},
     "output_type": "execute_result"
    }
   ],
   "source": [
    "\n",
    "taster_twitter_handle = taster_twitter_handle.reset_index()\n",
    "taster_twitter_handle.sort_values(by='len')\n"
   ]
  },
  {
   "cell_type": "markdown",
   "id": "ebbdca21",
   "metadata": {},
   "source": [
    "#### Ex 4.3\n",
    "Create a dataframe top_oceania_wines containing all reviews with at least 95 points (out of 100) for wines from Australia or New Zealand."
   ]
  },
  {
   "cell_type": "code",
   "execution_count": 54,
   "id": "bd59c819",
   "metadata": {},
   "outputs": [
    {
     "data": {
      "text/html": [
       "<div>\n",
       "<style scoped>\n",
       "    .dataframe tbody tr th:only-of-type {\n",
       "        vertical-align: middle;\n",
       "    }\n",
       "\n",
       "    .dataframe tbody tr th {\n",
       "        vertical-align: top;\n",
       "    }\n",
       "\n",
       "    .dataframe thead th {\n",
       "        text-align: right;\n",
       "    }\n",
       "</style>\n",
       "<table border=\"1\" class=\"dataframe\">\n",
       "  <thead>\n",
       "    <tr style=\"text-align: right;\">\n",
       "      <th></th>\n",
       "      <th>Unnamed: 0</th>\n",
       "      <th>country</th>\n",
       "      <th>description</th>\n",
       "      <th>designation</th>\n",
       "      <th>points</th>\n",
       "      <th>price</th>\n",
       "      <th>province</th>\n",
       "      <th>region_1</th>\n",
       "      <th>region_2</th>\n",
       "      <th>taster_name</th>\n",
       "      <th>taster_twitter_handle</th>\n",
       "      <th>title</th>\n",
       "      <th>variety</th>\n",
       "      <th>winery</th>\n",
       "    </tr>\n",
       "  </thead>\n",
       "  <tbody>\n",
       "    <tr>\n",
       "      <th>345</th>\n",
       "      <td>345</td>\n",
       "      <td>Australia</td>\n",
       "      <td>This wine contains some material over 100 year...</td>\n",
       "      <td>Rare</td>\n",
       "      <td>100</td>\n",
       "      <td>350.0</td>\n",
       "      <td>Victoria</td>\n",
       "      <td>Rutherglen</td>\n",
       "      <td>NaN</td>\n",
       "      <td>Joe Czerwinski</td>\n",
       "      <td>@JoeCz</td>\n",
       "      <td>Chambers Rosewood Vineyards NV Rare Muscat (Ru...</td>\n",
       "      <td>Muscat</td>\n",
       "      <td>Chambers Rosewood Vineyards</td>\n",
       "    </tr>\n",
       "    <tr>\n",
       "      <th>346</th>\n",
       "      <td>346</td>\n",
       "      <td>Australia</td>\n",
       "      <td>This deep brown wine smells like a damp, mossy...</td>\n",
       "      <td>Rare</td>\n",
       "      <td>98</td>\n",
       "      <td>350.0</td>\n",
       "      <td>Victoria</td>\n",
       "      <td>Rutherglen</td>\n",
       "      <td>NaN</td>\n",
       "      <td>Joe Czerwinski</td>\n",
       "      <td>@JoeCz</td>\n",
       "      <td>Chambers Rosewood Vineyards NV Rare Muscadelle...</td>\n",
       "      <td>Muscadelle</td>\n",
       "      <td>Chambers Rosewood Vineyards</td>\n",
       "    </tr>\n",
       "    <tr>\n",
       "      <th>348</th>\n",
       "      <td>348</td>\n",
       "      <td>Australia</td>\n",
       "      <td>Deep mahogany. Dried fig and black tea on the ...</td>\n",
       "      <td>Grand</td>\n",
       "      <td>97</td>\n",
       "      <td>100.0</td>\n",
       "      <td>Victoria</td>\n",
       "      <td>Rutherglen</td>\n",
       "      <td>NaN</td>\n",
       "      <td>Joe Czerwinski</td>\n",
       "      <td>@JoeCz</td>\n",
       "      <td>Chambers Rosewood Vineyards NV Grand Muscat (R...</td>\n",
       "      <td>Muscat</td>\n",
       "      <td>Chambers Rosewood Vineyards</td>\n",
       "    </tr>\n",
       "    <tr>\n",
       "      <th>349</th>\n",
       "      <td>349</td>\n",
       "      <td>Australia</td>\n",
       "      <td>RunRig is always complex, and the 2012 doesn't...</td>\n",
       "      <td>RunRig</td>\n",
       "      <td>97</td>\n",
       "      <td>225.0</td>\n",
       "      <td>South Australia</td>\n",
       "      <td>Barossa</td>\n",
       "      <td>NaN</td>\n",
       "      <td>Joe Czerwinski</td>\n",
       "      <td>@JoeCz</td>\n",
       "      <td>Torbreck 2012 RunRig Shiraz-Viognier (Barossa)</td>\n",
       "      <td>Shiraz-Viognier</td>\n",
       "      <td>Torbreck</td>\n",
       "    </tr>\n",
       "    <tr>\n",
       "      <th>350</th>\n",
       "      <td>350</td>\n",
       "      <td>Italy</td>\n",
       "      <td>After a few minutes in the glass, this stunnin...</td>\n",
       "      <td>Vignolo Riserva</td>\n",
       "      <td>97</td>\n",
       "      <td>150.0</td>\n",
       "      <td>Piedmont</td>\n",
       "      <td>Barolo</td>\n",
       "      <td>NaN</td>\n",
       "      <td>Kerin O’Keefe</td>\n",
       "      <td>@kerinokeefe</td>\n",
       "      <td>Cavallotto 2010 Vignolo Riserva  (Barolo)</td>\n",
       "      <td>Nebbiolo</td>\n",
       "      <td>Cavallotto</td>\n",
       "    </tr>\n",
       "    <tr>\n",
       "      <th>...</th>\n",
       "      <td>...</td>\n",
       "      <td>...</td>\n",
       "      <td>...</td>\n",
       "      <td>...</td>\n",
       "      <td>...</td>\n",
       "      <td>...</td>\n",
       "      <td>...</td>\n",
       "      <td>...</td>\n",
       "      <td>...</td>\n",
       "      <td>...</td>\n",
       "      <td>...</td>\n",
       "      <td>...</td>\n",
       "      <td>...</td>\n",
       "      <td>...</td>\n",
       "    </tr>\n",
       "    <tr>\n",
       "      <th>125836</th>\n",
       "      <td>125836</td>\n",
       "      <td>Italy</td>\n",
       "      <td>You really can't beat the beauty of this Barol...</td>\n",
       "      <td>Cannubi Boschis</td>\n",
       "      <td>96</td>\n",
       "      <td>165.0</td>\n",
       "      <td>Piedmont</td>\n",
       "      <td>Barolo</td>\n",
       "      <td>NaN</td>\n",
       "      <td>NaN</td>\n",
       "      <td>NaN</td>\n",
       "      <td>Luciano Sandrone 2007 Cannubi Boschis  (Barolo)</td>\n",
       "      <td>Nebbiolo</td>\n",
       "      <td>Luciano Sandrone</td>\n",
       "    </tr>\n",
       "    <tr>\n",
       "      <th>125845</th>\n",
       "      <td>125845</td>\n",
       "      <td>Italy</td>\n",
       "      <td>An exciting flagship wine from one of the best...</td>\n",
       "      <td>Cerequio Riserva</td>\n",
       "      <td>95</td>\n",
       "      <td>103.0</td>\n",
       "      <td>Piedmont</td>\n",
       "      <td>Barolo</td>\n",
       "      <td>NaN</td>\n",
       "      <td>NaN</td>\n",
       "      <td>NaN</td>\n",
       "      <td>Michele Chiarlo 2006 Cerequio Riserva  (Barolo)</td>\n",
       "      <td>Nebbiolo</td>\n",
       "      <td>Michele Chiarlo</td>\n",
       "    </tr>\n",
       "    <tr>\n",
       "      <th>125846</th>\n",
       "      <td>125846</td>\n",
       "      <td>Italy</td>\n",
       "      <td>A tiny percentage of Barbera grapes accounts f...</td>\n",
       "      <td>Conteisa</td>\n",
       "      <td>95</td>\n",
       "      <td>240.0</td>\n",
       "      <td>Piedmont</td>\n",
       "      <td>Langhe</td>\n",
       "      <td>NaN</td>\n",
       "      <td>NaN</td>\n",
       "      <td>NaN</td>\n",
       "      <td>Gaja 2008 Conteisa Nebbiolo (Langhe)</td>\n",
       "      <td>Nebbiolo</td>\n",
       "      <td>Gaja</td>\n",
       "    </tr>\n",
       "    <tr>\n",
       "      <th>125847</th>\n",
       "      <td>125847</td>\n",
       "      <td>Italy</td>\n",
       "      <td>Costa Russi presents a dark wall of ripe fruit...</td>\n",
       "      <td>Costa Russi</td>\n",
       "      <td>95</td>\n",
       "      <td>495.0</td>\n",
       "      <td>Piedmont</td>\n",
       "      <td>Langhe</td>\n",
       "      <td>NaN</td>\n",
       "      <td>NaN</td>\n",
       "      <td>NaN</td>\n",
       "      <td>Gaja 2009 Costa Russi Nebbiolo (Langhe)</td>\n",
       "      <td>Nebbiolo</td>\n",
       "      <td>Gaja</td>\n",
       "    </tr>\n",
       "    <tr>\n",
       "      <th>126240</th>\n",
       "      <td>126240</td>\n",
       "      <td>Italy</td>\n",
       "      <td>Ben Ryé is always a fabulous dessert wine from...</td>\n",
       "      <td>Ben Ryé</td>\n",
       "      <td>95</td>\n",
       "      <td>40.0</td>\n",
       "      <td>Sicily &amp; Sardinia</td>\n",
       "      <td>Passito di Pantelleria</td>\n",
       "      <td>NaN</td>\n",
       "      <td>NaN</td>\n",
       "      <td>NaN</td>\n",
       "      <td>Donnafugata 2008 Ben Ryé  (Passito di Pantelle...</td>\n",
       "      <td>Zibibbo</td>\n",
       "      <td>Donnafugata</td>\n",
       "    </tr>\n",
       "  </tbody>\n",
       "</table>\n",
       "<p>393 rows × 14 columns</p>\n",
       "</div>"
      ],
      "text/plain": [
       "        Unnamed: 0    country  \\\n",
       "345            345  Australia   \n",
       "346            346  Australia   \n",
       "348            348  Australia   \n",
       "349            349  Australia   \n",
       "350            350      Italy   \n",
       "...            ...        ...   \n",
       "125836      125836      Italy   \n",
       "125845      125845      Italy   \n",
       "125846      125846      Italy   \n",
       "125847      125847      Italy   \n",
       "126240      126240      Italy   \n",
       "\n",
       "                                              description       designation  \\\n",
       "345     This wine contains some material over 100 year...              Rare   \n",
       "346     This deep brown wine smells like a damp, mossy...              Rare   \n",
       "348     Deep mahogany. Dried fig and black tea on the ...             Grand   \n",
       "349     RunRig is always complex, and the 2012 doesn't...            RunRig   \n",
       "350     After a few minutes in the glass, this stunnin...   Vignolo Riserva   \n",
       "...                                                   ...               ...   \n",
       "125836  You really can't beat the beauty of this Barol...   Cannubi Boschis   \n",
       "125845  An exciting flagship wine from one of the best...  Cerequio Riserva   \n",
       "125846  A tiny percentage of Barbera grapes accounts f...          Conteisa   \n",
       "125847  Costa Russi presents a dark wall of ripe fruit...       Costa Russi   \n",
       "126240  Ben Ryé is always a fabulous dessert wine from...           Ben Ryé   \n",
       "\n",
       "        points  price           province                region_1 region_2  \\\n",
       "345        100  350.0           Victoria              Rutherglen      NaN   \n",
       "346         98  350.0           Victoria              Rutherglen      NaN   \n",
       "348         97  100.0           Victoria              Rutherglen      NaN   \n",
       "349         97  225.0    South Australia                 Barossa      NaN   \n",
       "350         97  150.0           Piedmont                  Barolo      NaN   \n",
       "...        ...    ...                ...                     ...      ...   \n",
       "125836      96  165.0           Piedmont                  Barolo      NaN   \n",
       "125845      95  103.0           Piedmont                  Barolo      NaN   \n",
       "125846      95  240.0           Piedmont                  Langhe      NaN   \n",
       "125847      95  495.0           Piedmont                  Langhe      NaN   \n",
       "126240      95   40.0  Sicily & Sardinia  Passito di Pantelleria      NaN   \n",
       "\n",
       "           taster_name taster_twitter_handle  \\\n",
       "345     Joe Czerwinski                @JoeCz   \n",
       "346     Joe Czerwinski                @JoeCz   \n",
       "348     Joe Czerwinski                @JoeCz   \n",
       "349     Joe Czerwinski                @JoeCz   \n",
       "350      Kerin O’Keefe          @kerinokeefe   \n",
       "...                ...                   ...   \n",
       "125836             NaN                   NaN   \n",
       "125845             NaN                   NaN   \n",
       "125846             NaN                   NaN   \n",
       "125847             NaN                   NaN   \n",
       "126240             NaN                   NaN   \n",
       "\n",
       "                                                    title          variety  \\\n",
       "345     Chambers Rosewood Vineyards NV Rare Muscat (Ru...           Muscat   \n",
       "346     Chambers Rosewood Vineyards NV Rare Muscadelle...       Muscadelle   \n",
       "348     Chambers Rosewood Vineyards NV Grand Muscat (R...           Muscat   \n",
       "349        Torbreck 2012 RunRig Shiraz-Viognier (Barossa)  Shiraz-Viognier   \n",
       "350             Cavallotto 2010 Vignolo Riserva  (Barolo)         Nebbiolo   \n",
       "...                                                   ...              ...   \n",
       "125836    Luciano Sandrone 2007 Cannubi Boschis  (Barolo)         Nebbiolo   \n",
       "125845    Michele Chiarlo 2006 Cerequio Riserva  (Barolo)         Nebbiolo   \n",
       "125846               Gaja 2008 Conteisa Nebbiolo (Langhe)         Nebbiolo   \n",
       "125847            Gaja 2009 Costa Russi Nebbiolo (Langhe)         Nebbiolo   \n",
       "126240  Donnafugata 2008 Ben Ryé  (Passito di Pantelle...          Zibibbo   \n",
       "\n",
       "                             winery  \n",
       "345     Chambers Rosewood Vineyards  \n",
       "346     Chambers Rosewood Vineyards  \n",
       "348     Chambers Rosewood Vineyards  \n",
       "349                        Torbreck  \n",
       "350                      Cavallotto  \n",
       "...                             ...  \n",
       "125836             Luciano Sandrone  \n",
       "125845              Michele Chiarlo  \n",
       "125846                         Gaja  \n",
       "125847                         Gaja  \n",
       "126240                  Donnafugata  \n",
       "\n",
       "[393 rows x 14 columns]"
      ]
     },
     "execution_count": 54,
     "metadata": {},
     "output_type": "execute_result"
    }
   ],
   "source": [
    "### Solution\n",
    "\n",
    "top_oceania_wines = wi.loc[((wi.country == 'Italy') | (wi.country == 'Australia'))\n",
    "                                & (wi.points >= 95)]\n",
    "top_oceania_wines\n"
   ]
  },
  {
   "cell_type": "markdown",
   "id": "d1e3a07f",
   "metadata": {},
   "source": [
    "#### Ex 4.4\n",
    "What are the minimum and maximum prices for each `variety` of wine? Create a `DataFrame` whose index is the `variety` category from the dataset and whose values are the `min` and `max` values thereof."
   ]
  },
  {
   "cell_type": "code",
   "execution_count": 55,
   "id": "ccd3c10b",
   "metadata": {},
   "outputs": [],
   "source": [
    "wi_variety = wi.groupby(['variety'])\n"
   ]
  },
  {
   "cell_type": "code",
   "execution_count": 56,
   "id": "75ceaf78",
   "metadata": {},
   "outputs": [
    {
     "data": {
      "text/plain": [
       "variety\n",
       "Abouriou       15.0\n",
       "Agiorgitiko    10.0\n",
       "Aglianico       6.0\n",
       "Aidani         27.0\n",
       "Airen           8.0\n",
       "               ... \n",
       "Zinfandel       5.0\n",
       "Zlahtina       13.0\n",
       "Zweigelt        9.0\n",
       "Çalkarası      19.0\n",
       "Žilavka        15.0\n",
       "Name: price, Length: 707, dtype: float64"
      ]
     },
     "execution_count": 56,
     "metadata": {},
     "output_type": "execute_result"
    }
   ],
   "source": [
    "wi_variety['price'].min() #.max()"
   ]
  },
  {
   "cell_type": "markdown",
   "id": "476e043b",
   "metadata": {},
   "source": [
    "#### Ex 4.5\n",
    "I'm an economical wine buyer. Which wine is the \"best bargain\"? Create a variable bargain_wine with the title of the wine with the highest points-to-price ratio in the dataset.\n",
    "\n"
   ]
  },
  {
   "cell_type": "code",
   "execution_count": 57,
   "id": "22771174",
   "metadata": {},
   "outputs": [
    {
     "data": {
      "text/plain": [
       "80290      0.026667\n",
       "98380      0.038400\n",
       "15840      0.038400\n",
       "120391     0.045206\n",
       "113564     0.048000\n",
       "            ...    \n",
       "112919    21.000000\n",
       "20484     21.250000\n",
       "1987      21.250000\n",
       "126096    21.500000\n",
       "64590     21.500000\n",
       "Length: 120975, dtype: float64"
      ]
     },
     "execution_count": 57,
     "metadata": {},
     "output_type": "execute_result"
    }
   ],
   "source": [
    "### Solution\n",
    "\n",
    "def points_to_price(row):\n",
    "    ratio = row.points/row.price\n",
    "    return ratio\n",
    "\n",
    "wi_price_notnull = wi.loc[wi.price.notnull()]\n",
    "\n",
    "bargain_wine = wi_price_notnull.apply(points_to_price, axis='columns')\n",
    "bargain_wine.sort_values(ascending=True)\n",
    "#s.sort_values(ascending=True)\n",
    "#countries_reviewed.sort_values(by='len')\n"
   ]
  }
 ],
 "metadata": {
  "kernelspec": {
   "display_name": "Python 3 (ipykernel)",
   "language": "python",
   "name": "python3"
  },
  "language_info": {
   "codemirror_mode": {
    "name": "ipython",
    "version": 3
   },
   "file_extension": ".py",
   "mimetype": "text/x-python",
   "name": "python",
   "nbconvert_exporter": "python",
   "pygments_lexer": "ipython3",
   "version": "3.10.5"
  }
 },
 "nbformat": 4,
 "nbformat_minor": 5
}
