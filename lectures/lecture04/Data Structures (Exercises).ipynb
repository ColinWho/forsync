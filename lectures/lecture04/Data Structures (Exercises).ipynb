{
 "cells": [
  {
   "cell_type": "markdown",
   "metadata": {},
   "source": [
    "# Data stuctures - Exercises\n",
    "\n",
    "## Part I - Basic & Extension types\n",
    "\n",
    "## Comprehensions & Generators\n",
    "\n",
    "Run the following code block"
   ]
  },
  {
   "cell_type": "code",
   "execution_count": 1,
   "metadata": {
    "ExecuteTime": {
     "end_time": "2022-10-13T20:21:15.546577Z",
     "start_time": "2022-10-13T20:21:15.541997Z"
    }
   },
   "outputs": [],
   "source": [
    "my_list = [ _**2 for _ in range(5)]\n",
    "my_dict = {_**2:_ for _ in range(5)}\n",
    "my_generator = ( _**2 for _ in range(5))\n",
    "# generator one time only, little memory used "
   ]
  },
  {
   "cell_type": "markdown",
   "metadata": {},
   "source": [
    "Now run each of these blocks several times"
   ]
  },
  {
   "cell_type": "code",
   "execution_count": 2,
   "metadata": {
    "ExecuteTime": {
     "end_time": "2022-10-13T20:21:50.157169Z",
     "start_time": "2022-10-13T20:21:50.153530Z"
    }
   },
   "outputs": [
    {
     "name": "stdout",
     "output_type": "stream",
     "text": [
      "0\n",
      "1\n",
      "4\n",
      "9\n",
      "16\n"
     ]
    }
   ],
   "source": [
    "for i in my_list:\n",
    "    print(i)"
   ]
  },
  {
   "cell_type": "code",
   "execution_count": 3,
   "metadata": {
    "ExecuteTime": {
     "end_time": "2022-10-13T20:21:54.176793Z",
     "start_time": "2022-10-13T20:21:54.173578Z"
    }
   },
   "outputs": [
    {
     "name": "stdout",
     "output_type": "stream",
     "text": [
      "0 {0: 0, 1: 1, 4: 2, 9: 3, 16: 4}\n",
      "1 {0: 0, 1: 1, 4: 2, 9: 3, 16: 4}\n",
      "2 {0: 0, 1: 1, 4: 2, 9: 3, 16: 4}\n",
      "3 {0: 0, 1: 1, 4: 2, 9: 3, 16: 4}\n",
      "4 {0: 0, 1: 1, 4: 2, 9: 3, 16: 4}\n"
     ]
    }
   ],
   "source": [
    "for i in my_dict:\n",
    "    print(my_dict[i], my_dict)"
   ]
  },
  {
   "cell_type": "code",
   "execution_count": 5,
   "metadata": {
    "ExecuteTime": {
     "end_time": "2022-10-13T20:23:53.001906Z",
     "start_time": "2022-10-13T20:23:52.998253Z"
    }
   },
   "outputs": [],
   "source": [
    "for i in my_generator:\n",
    "    print(i)"
   ]
  },
  {
   "cell_type": "markdown",
   "metadata": {},
   "source": [
    "Can you explain why the last one behaves differently after the second time you run it?\n",
    "\n",
    "Try using the `type` command to see the class of each of `my_list` and `my_generator`. Is this what you expected?\n",
    "\n",
    "Generators are useful to create long sequences without using up the memory to store all the values. In a short syntax they let you create iterators to use elsewhere\n",
    "\n",
    "One good use:"
   ]
  },
  {
   "cell_type": "code",
   "execution_count": null,
   "metadata": {},
   "outputs": [],
   "source": [
    "import numpy as np\n",
    "\n",
    "val1 = np.array([_ for _ in range(1000)]) # creates a temporary list\n",
    "val2 = np.fromiter((_ for _ in range(1000))) # just the array"
   ]
  },
  {
   "cell_type": "markdown",
   "metadata": {},
   "source": [
    "### Fun with lists\n",
    "\n",
    "We can time a function fairly accurately using a version of the `%timeit` Jupyter magic command\n",
    "\n",
    "```python\n",
    "t = %timeit -r 4 -n 100 -q -o my_func\n",
    "print(t.average)\n",
    "```\n",
    "\n",
    "Here `-r` is the number of runs to do, `-n` is the number of copies, `-q` means the command doesn't print anything and `-o` generates the output.\n",
    "\n",
    "Using the method above (or your own preferred alternative) try time the following operations:\n",
    "\n",
    "- Append one value to a list of 5 elements\n",
    "- Insert a new value to the 3rd place( i.e. index 2) in a list of 5 elements\n",
    "- Remove the 3rd value in a list of 6 elements\n",
    "- Using the function `fill_list` below, time how long it takes to append an element to a list for various sizes. Do you think you can spot the times when the list has to expand itself? Try plotting the run times. It's likely things won't be too obvious.\n",
    "- Remove the 3rd value in a list of 600 elements."
   ]
  },
  {
   "cell_type": "code",
   "execution_count": null,
   "metadata": {},
   "outputs": [],
   "source": [
    "\n",
    "def fill_list(n):\n",
    "    \"Fill a list with n values\"\n",
    "    return list(range(n))\n"
   ]
  },
  {
   "cell_type": "markdown",
   "metadata": {},
   "source": [
    "## Hashes and dicts:\n",
    "\n",
    "Python exposes its basic hash operator as `hash()`. Try applying it to the foloowing\n",
    "- An integer (e.g. 3)\n",
    "- A float (e.g. 3.0)\n",
    "- A string (e.g. 'Hello World')\n",
    "\n",
    "Can you observe any difference if you put elements with the same hash"
   ]
  },
  {
   "cell_type": "code",
   "execution_count": null,
   "metadata": {},
   "outputs": [],
   "source": [
    "# write your code here\n",
    "\n",
    "mydict = {}\n",
    "\n",
    "hash(3.0)"
   ]
  },
  {
   "cell_type": "markdown",
   "metadata": {},
   "source": [
    "### The `collections` module\n",
    "\n",
    "The `collections` module contains a number of helpful data structures, including the `namedtuple` and `deque`.\n",
    "\n",
    "#### `namedtuple`s\n",
    "\n",
    "A `namedtuple` lets you quickly create a"
   ]
  },
  {
   "cell_type": "code",
   "execution_count": null,
   "metadata": {},
   "outputs": [],
   "source": [
    "from collections import namedtuple\n",
    "\n",
    "Point = namedtuple('Point', 'x', 'y', 'z')\n",
    "\n",
    "point1  = Point(1,2,3)\n",
    "print(point1.z)\n",
    "point2  = Point(z=1,x=2,y=3)\n",
    "print(point2.z)\n"
   ]
  },
  {
   "cell_type": "markdown",
   "metadata": {},
   "source": [
    "Try to create a `namedtuple`  for a class called `Person`, with attributes `name` and `age`."
   ]
  },
  {
   "cell_type": "code",
   "execution_count": null,
   "metadata": {},
   "outputs": [],
   "source": [
    "## Write your code here"
   ]
  },
  {
   "cell_type": "markdown",
   "metadata": {},
   "source": [
    "#### `deque`s\n",
    "\n",
    "`deque`s are short for \"double ended queues\" and act like a list to which values can be added on either end."
   ]
  },
  {
   "cell_type": "code",
   "execution_count": null,
   "metadata": {},
   "outputs": [],
   "source": [
    "from collections import deque\n",
    "\n",
    "a = deque((1,2,3))\n",
    "\n",
    "a.append(4)\n",
    "a.appendleft(0)\n",
    "print(a)\n",
    "\n",
    "a.pop()\n",
    "a.popleft()"
   ]
  },
  {
   "cell_type": "markdown",
   "metadata": {},
   "source": [
    "Time how long it takes to add or pop a value on the right (`append()` or `pop()`) and on the left (`appendleft()` or `popleft()`). How does this compare to using a regular Python list."
   ]
  },
  {
   "cell_type": "markdown",
   "metadata": {},
   "source": [
    "## Part II - Classes\n",
    "\n",
    "\n",
    "### Operator Overloading\n",
    "\n",
    "Try to write your own class to implement a [complex number](https://wikipedia.com/Complex_numbers) (note that Python alreay implements complex numbers as `complex(1,2)` or 1+2j, so this isn't something you would need to do  in live code).\n",
    "\n",
    "You will need to store two `float` values, one to store the real part of the number, and one to store the imaginary part, and write the `__init__` routine to store them. If you call them `real` and `imag` then your new class will be more interoperable with the builtin one.\n",
    "\n",
    "The rules for arithmatic for two complex numbers, $z_1 = x_1 + i y_1$ and $z_2 = x_2+iy_2$ are:\n",
    "$$z_1+z_2 = x_1+x_2 +i \\left(y_1+y_2\\right)$$\n",
    "$$z_1-z_2 = x_1-x_2 +i \\left(y_1-y_2\\right)$$\n",
    "$$z_1\\times z_2 = x_1\\times x_2-y_1\\times y_2 +i \\left(x_1\\times y_2+x_2\\times y_1\\right)$$\n",
    "$$\\frac{z_1}{z_2} = \\frac{x_1\\times x_2+y_1\\times y_2 +i \\left(x_2\\times y_1-x_1\\times y_2\\right)}{x_2^2+y_2^2}$$\n",
    "\n",
    "can you implement these via overloading? What happens if you try to add a normal (i.e. real) float as $z_1+x_2$ or $x_2 + z_1$? If you have time, can you fix this?"
   ]
  }
 ],
 "metadata": {
  "hide_input": false,
  "kernelspec": {
   "display_name": "Python 3 (ipykernel)",
   "language": "python",
   "name": "python3"
  },
  "language_info": {
   "codemirror_mode": {
    "name": "ipython",
    "version": 3
   },
   "file_extension": ".py",
   "mimetype": "text/x-python",
   "name": "python",
   "nbconvert_exporter": "python",
   "pygments_lexer": "ipython3",
   "version": "3.9.13"
  },
  "toc": {
   "base_numbering": 1,
   "nav_menu": {},
   "number_sections": true,
   "sideBar": true,
   "skip_h1_title": false,
   "title_cell": "Table of Contents",
   "title_sidebar": "Contents",
   "toc_cell": false,
   "toc_position": {},
   "toc_section_display": true,
   "toc_window_display": false
  },
  "varInspector": {
   "cols": {
    "lenName": 16,
    "lenType": 16,
    "lenVar": 40
   },
   "kernels_config": {
    "python": {
     "delete_cmd_postfix": "",
     "delete_cmd_prefix": "del ",
     "library": "var_list.py",
     "varRefreshCmd": "print(var_dic_list())"
    },
    "r": {
     "delete_cmd_postfix": ") ",
     "delete_cmd_prefix": "rm(",
     "library": "var_list.r",
     "varRefreshCmd": "cat(var_dic_list()) "
    }
   },
   "types_to_exclude": [
    "module",
    "function",
    "builtin_function_or_method",
    "instance",
    "_Feature"
   ],
   "window_display": false
  }
 },
 "nbformat": 4,
 "nbformat_minor": 2
}
