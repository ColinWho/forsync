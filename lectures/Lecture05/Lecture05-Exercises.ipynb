{
 "cells": [
  {
   "cell_type": "markdown",
   "metadata": {},
   "source": [
    "# Python Packaging (Python Development)\n",
    "\n",
    "## Practice exercises\n",
    "\n",
    "You can work through these exercises during the lecture, in the afternoon GTA supported session, or in your own time. Example answers will be available later. Note that the answers given have mostly been written for clarity, rather than necessarily being the most efficient, compact or perfect code.\n",
    "\n",
    "If your time is short, then concentrate on exercises 1, 2, 5 and 7.\n",
    "\n",
    "### Exercise One: Running Python Code\n",
    "\n",
    "Run the following commands \n",
    "\n",
    "```python \n",
    "def square_and_cube(n):\n",
    "    return sorted([i**2 for i in range(n)] + [i**3 for i in range(n)])\n",
    "print(square_and_cube(3))\n",
    "print(square_and_cube(10))\n",
    "```\n",
    "\n",
    "and \n",
    "\n",
    "```python\n",
    "import numpy as np\n",
    "import matplotlib.pyplot as plt\n",
    "x = np.linspace(0, 6*np.pi)\n",
    "plt.plot(x, np.sin(x))\n",
    "```\n",
    "    \n",
    "in a Jupyter notebook, in a vanilla Python interpreter, and in IPython.\n",
    "\n",
    "- In each case, try modifying the `square_and_cube` function to also include the 4th power of `n`.\n",
    "- The `sorted` function returns a new sorted list from an iterable. Try accessing the Python help in the ordinary interpreter to discover how to invert the order of the sorted list. Note you'll need to use the `help` function, since the `sorted?` syntax is available in IPython/Jupyter only.\n",
    "\n",
    "\n",
    "\n",
    "### Exercise Two: Find the mean\n",
    "\n",
    "Write a script file (i.e. a `.py` file) to calculate the mean of a sequence of numbers. As an extension, make it take extra options (using the `argparse` module) `-b`, `-o` and `-x` to work with with binary (i.e. base 2, with `101 == 5` in decimal), octal (i.e. base 8, with `31 == 25` decimal) and hexadecimal (i.e. base 16 `2A == 42` decimal) numbers.\n",
    "\n",
    "Test your basic script on the following sequences: `1` (mean 1) `1 5 7 13 8` (mean 6.8), `2.5, 4 ,-3.2, 9.3` (mean 3.15).\n",
    "\n",
    "Also try feeding it no input.\n",
    "\n",
    "_Tips_:\n",
    "\n",
    "For the longer version you can use the 2 argument version of the `int` function to change the base of numbers. For example `int('11',2) == 3` and `int('3A', 16) == 58`.\n",
    "\n",
    "\n",
    "### Exercise Three: Plots in scripts\n",
    "\n",
    "Write a script to plot the functions $y=\\sin(x)$, $y=\\cos(x)$ and $y=\\tan(x)$ to screen over the range [0,$2\\pi$] and then run it in a terminal/prompt.\n",
    "\n",
    "Make sure to include labels on your axes.\n",
    "\n",
    "Change the script to output a `.png` file to disk.\n",
    "\n",
    "Next do the same to write a `.pdf`.\n",
    "\n",
    "\n",
    "\n",
    "### Exercise Four: Fix the script\n",
    "\n",
    "Copy the following script into your editor/IDE and run the static analysis tool `pylint` on it. Fix the errors and warnings that it gives you.\n",
    "\n",
    "\n",
    "```python\n",
    "value={1:'Ace',11:'Jack',12:'Queen',13:'King'}; \n",
    "for _ in range(2,11):\n",
    "    value[_]=_\n",
    "suit={0:'Spades',1:'Hearts',2:'Diamonds',3:'Clubs'}\n",
    "def  the_name_of_your_card(v,s = 0,*args, **kwargs):\n",
    "    \n",
    "    \n",
    "   \"\"\"Name of card as a string.\n",
    "   \"\"\" \n",
    "   if (v < 1  or v > 13 or s not in (0,1,2,3)):\n",
    "      raise ValueError\n",
    "      \n",
    "   \n",
    "   return \"\"\"I have read your mind and predict your card is the %s of %s.\"\"\"%(value[v], suit[ s])\n",
    "print( the_name_of_your_card(2,  s= 3))\n",
    "      \n",
    "```\n",
    "\n",
    "### Exercise Five: Complex square root\n",
    "\n",
    "Write a function which accepts a real number and returns the complex square roots of that number.\n",
    "\n",
    "Your function should include a docstring conforming to the `numpydoc` standard.</p>\n",
    "\n",
    "_Tips_: \n",
    "<ul><li> You can use the `sqrt` function in the `math` module to obtain the square root of a positive real number.</li>\n",
    "<li> Python uses the notation `1j` for a unit length imaginary number (which a mathematician would typically denote $i$), where (loosely) $\\sqrt{-1}=\\pm 1j$.</li></ul>\n",
    "\n",
    "Questions: how many complex square roots does each real number have? Is it the same for **every** real number?\n",
    "\n",
    "\n",
    "\n",
    "### Exercise Six: A primes module\n",
    "\n",
    "\n",
    "Make a copy of your script to calculate prime numbers and:\n",
    "- add the ability to read the number of primes to output from the command line,\n",
    "- turn it into a version which can also be used as a module,\n",
    "- test this by running a copy of the interpreter and `import`ing it, then calling your routine.\n",
    "- Try running it from the terminal/Anaconda command prompt using the following syntax:\n",
    "    \n",
    "```bash\n",
    "python -m rot13m \"this runs a python module\"\n",
    "```\n",
    "\n",
    "See what happens if you change directories. Can you explain what's going wrong? Can you fix it?\n",
    "\n",
    "\n",
    "\n",
    "### Exercise Seven: A primes package\n",
    "\n",
    "\n",
    "Turn your \"find the primes\" module file into a package called `primes` by creating a suitable directory structure and an `__init__.py` so that you can access a function to give you the first $n$ primes as well as all primes smaller than $n$.\n",
    "\n",
    "Try `import`ing your new package from the IPython console. Check that you can call your function.\n",
    "\n",
    "If you have time, add a function to the package to give you a list of the prime factors of an integer (i.e the prime numbers which divide it with no remainder).\n",
    "\n",
    "\n",
    "### Exercise Eight: `setup.py`\n",
    "\n",
    "\n",
    "Make a `setup.py` script for your module and try `install`ing and `uninstall`ing it using `pip`. In the directory containg the `setup.py` file run\n",
    "    \n",
    "```\n",
    "pip install .`\n",
    "```\n",
    "\n",
    "and\n",
    "\n",
    "```\n",
    "pip uninstall <the name of your module>\n",
    "```\n",
    "    \n",
    "From an interpreter console started in another directory, see when you can and can't import your new module. Can you explain the pattern?\n",
    "    \n",
    "## More short programming exercises\n",
    "\n",
    "The website [Project Euler](https://projecteuler.net/archives) contains a large number of computational mathematics problems which can be used as exercises in any programming language (not just Python) to practise thinking algorithmically or to exercise the numerical parts of the language. Warning, some of them use complicated mathematics). We will list a few suitable exercises here:\n",
    "\n",
    "### Exercise: Project Euler <a href=\"https://projecteuler.net/problem=1\">Problem 1</a>\n",
    "\n",
    "If we list all the natural numbers below 10 that are multiples of 3 or 5, we get 3, 5, 6 and 9. The sum of these multiples is 23.\n",
    "\n",
    "Write some Python code to find the sum of all the multiples of 3 or 5 below 1000.\n",
    "\n",
    "### Exercise: Project Euler <a href=\"https://projecteuler.net/problem=5\">Problem 5</a>\n",
    "\n",
    "2520 is the smallest number that can be divided by each of the numbers from 1 to 10 without any remainder.\n",
    "\n",
    "What is the smallest positive number that is evenly divisible by all of the numbers from 1 to 20?\n",
    "\n",
    "### Exercise : Project Euler <a href=\"https://projecteuler.net/problem=8\">Problem 8</a>\n",
    "\n",
    "Consider the 1000 digit number\n",
    "\n",
    "<code>73167176531330624919225119674426574742355349194934\n",
    "96983520312774506326239578318016984801869478851843\n",
    "85861560789112949495459501737958331952853208805511\n",
    "12540698747158523863050715693290963295227443043557\n",
    "66896648950445244523161731856403098711121722383113\n",
    "62229893423380308135336276614282806444486645238749\n",
    "30358907296290491560440772390713810515859307960866\n",
    "70172427121883998797908792274921901699720888093776\n",
    "65727333001053367881220235421809751254540594752243\n",
    "52584907711670556013604839586446706324415722155397\n",
    "53697817977846174064955149290862569321978468622482\n",
    "83972241375657056057490261407972968652414535100474\n",
    "821663704844031<span style=color:blue>9989</span>0008895243450658541227588666881\n",
    "16427171479924442928230863465674813919123162824586\n",
    "17866458359124566529476545682848912883142607690042\n",
    "24219022671055626321111109370544217506941658960408\n",
    "07198403850962455444362981230987879927244284909188\n",
    "84580156166097919133875499200524063689912560717606\n",
    "05886116467109405077541002256983155200055935729725\n",
    "71636269561882670428252483600823257530420752963450\n",
    "</code>\n",
    "\n",
    "The four adjacent digits in this number that have the greatest product are 9 × 9 × 8 × 9 = 5832. Find the thirteen adjacent digits in the 1000-digit number that have the greatest product. What is the value of this product?"
   ]
  },
  {
   "cell_type": "markdown",
   "metadata": {},
   "source": [
    "# 1.1.7\n",
    "Cell In [1], line 1\n",
    "----> 1 import primes\n",
    "\n",
    "ModuleNotFoundError: No module named 'primes'\n",
    "\n",
    "In [2]: cd Lecture05/\n",
    "/Users/sm1122/Documents/IC/sync/syncNPiP/lectures/Lecture05\n",
    "\n",
    "In [3]: primes.prime.prime_list(10)\n",
    "\\\n",
    "NameError                                 Traceback (most recent call last)\n",
    "Cell In [3], line 1\n",
    "----> 1 primes.prime.prime_list(10)\n",
    "\n",
    "NameError: name 'primes' is not defined\n",
    "\n",
    "In [4]: import primes\n",
    "\n",
    "In [5]: primes.prime.prime_list(10)\n",
    "Out[5]: [2, 3, 5, 7]"
   ]
  },
  {
   "cell_type": "markdown",
   "metadata": {},
   "source": [
    "# 1.1.7 或者也可以这样，但是不知道这样搞，package和module有什么区别\n",
    "In [8]: from primes.prime import prime_list\n",
    "\n",
    "In [9]: prime_list(10)\n",
    "Out[9]: [2, 3, 5, 7]"
   ]
  },
  {
   "cell_type": "code",
   "execution_count": null,
   "metadata": {},
   "outputs": [],
   "source": [
    "# 这个 package 还是不太会， 注意看答案怎么写的"
   ]
  },
  {
   "cell_type": "code",
   "execution_count": null,
   "metadata": {},
   "outputs": [],
   "source": []
  },
  {
   "cell_type": "markdown",
   "metadata": {},
   "source": [
    "# 1.1.8\n",
    "## Install\n",
    "~/Documents/IC/sync/syncNPiP/lectures/Lecture05/apackage (main*) » pip install . \\\n",
    "\n",
    "Processing /Users/sm1122/Documents/IC/sync/syncNPiP/lectures/Lecture05/apackage\\\n",
    "  Preparing metadata (setup.py) ... done\\\n",
    "Building wheels for collected packages: prime\\\n",
    "  Building wheel for prime (setup.py) ... done\\\n",
    "  Created wheel for prime: filename=prime-1.0.0-py3-none-any.whl size=1736 sha256=51e9890a748d1841e05c2aba11ff8b816391af64a1f139811910c85e3bbf814b\\\n",
    "  Stored in directory: /private/var/folders/wb/x375xcqd3p31cgn8w1m_xggm0000gp/T/pip-ephem-wheel-cache-z2n0njji/wheels/c4/bc/7a/87286078938d2aecab7dd9893e17f792fb4266d13d06946f6e\\\n",
    "Successfully built prime \\\n",
    "Installing collected packages: prime\\\n",
    "Successfully installed prime-1.0.0\\\n",
    "(npp) --------------------------------------------------------------------------\n",
    "~/Documents/IC/sync/syncNPiP/lectures/Lecture05/apackage (main*) » "
   ]
  },
  {
   "cell_type": "markdown",
   "metadata": {},
   "source": [
    "## Uninstall\n",
    "(npp) --------------------------------------------------------------------------\\\n",
    "~/Documents/IC/sync/syncNPiP/lectures/Lecture05/apackage (main*) » pip uninstall prime\\\n",
    "Found existing installation: prime 1.0.0\\\n",
    "Uninstalling prime-1.0.0:\\\n",
    "  Would remove:\\\n",
    "    /opt/homebrew/Caskroom/miniconda/base/envs/npp/lib/python3.9/site-packages/prime-1.0.0.dist-info/*\\\n",
    "    /opt/homebrew/Caskroom/miniconda/base/envs/npp/lib/python3.9/site-packages/primes/*\\\n",
    "Proceed (Y/n)? y\\\n",
    "  Successfully uninstalled prime-1.0.0\\"
   ]
  },
  {
   "cell_type": "code",
   "execution_count": null,
   "metadata": {},
   "outputs": [],
   "source": []
  },
  {
   "cell_type": "code",
   "execution_count": null,
   "metadata": {},
   "outputs": [],
   "source": [
    "# 1.2.1 simple;\n",
    "#1.2.2 list all the prime num from 11 to 20, time 2520\n",
    "#1.2.3 Interesting  前面两题就不编了。 做个这个"
   ]
  },
  {
   "cell_type": "code",
   "execution_count": null,
   "metadata": {},
   "outputs": [],
   "source": []
  },
  {
   "cell_type": "code",
   "execution_count": null,
   "metadata": {},
   "outputs": [],
   "source": []
  },
  {
   "cell_type": "code",
   "execution_count": null,
   "metadata": {},
   "outputs": [],
   "source": []
  },
  {
   "cell_type": "code",
   "execution_count": null,
   "metadata": {},
   "outputs": [],
   "source": []
  },
  {
   "cell_type": "code",
   "execution_count": null,
   "metadata": {},
   "outputs": [],
   "source": []
  },
  {
   "cell_type": "code",
   "execution_count": null,
   "metadata": {},
   "outputs": [],
   "source": []
  },
  {
   "cell_type": "code",
   "execution_count": null,
   "metadata": {},
   "outputs": [],
   "source": []
  },
  {
   "cell_type": "code",
   "execution_count": 6,
   "metadata": {
    "ExecuteTime": {
     "end_time": "2022-10-17T09:03:04.750787Z",
     "start_time": "2022-10-17T09:03:04.745784Z"
    }
   },
   "outputs": [
    {
     "name": "stdout",
     "output_type": "stream",
     "text": [
      "[0, 0, 0, 1, 1, 1, 4, 8, 16]\n",
      "[0, 0, 0, 1, 1, 1, 4, 8, 9, 16, 16, 25, 27, 36, 49, 64, 64, 81, 81, 125, 216, 256, 343, 512, 625, 729, 1296, 2401, 4096, 6561]\n"
     ]
    }
   ],
   "source": [
    "def square_and_cube(n):\n",
    "    return sorted([i**2 for i in range(n)] + [i**3 for i in range(n)] + [i**4 for i in range(n)])\n",
    "print(square_and_cube(3))\n",
    "print(square_and_cube(10))"
   ]
  },
  {
   "cell_type": "code",
   "execution_count": 5,
   "metadata": {
    "ExecuteTime": {
     "end_time": "2022-10-17T08:41:46.929060Z",
     "start_time": "2022-10-17T08:41:46.823884Z"
    }
   },
   "outputs": [
    {
     "data": {
      "text/plain": [
       "[<matplotlib.lines.Line2D at 0x10f31f880>]"
      ]
     },
     "execution_count": 5,
     "metadata": {},
     "output_type": "execute_result"
    },
    {
     "data": {
      "image/png": "[encoded data removed]",
      "text/plain": [
       "<Figure size 640x480 with 1 Axes>"
      ]
     },
     "metadata": {},
     "output_type": "display_data"
    }
   ],
   "source": [
    "import numpy as np\n",
    "import matplotlib.pyplot as plt\n",
    "x = np.linspace(0, 6*np.pi)\n",
    "plt.plot(x, np.sin(x))"
   ]
  },
  {
   "cell_type": "code",
   "execution_count": null,
   "metadata": {},
   "outputs": [],
   "source": []
  },
  {
   "cell_type": "code",
   "execution_count": null,
   "metadata": {},
   "outputs": [],
   "source": []
  }
 ],
 "metadata": {
  "hide_input": false,
  "interpreter": {
   "hash": "bdad7588bd4ac3ea9e7582865ff4bd8e833b6b3862959a8fbc3a5685fe0823d5"
  },
  "kernelspec": {
   "display_name": "Python 3 (ipykernel)",
   "language": "python",
   "name": "python3"
  },
  "language_info": {
   "codemirror_mode": {
    "name": "ipython",
    "version": 3
   },
   "file_extension": ".py",
   "mimetype": "text/x-python",
   "name": "python",
   "nbconvert_exporter": "python",
   "pygments_lexer": "ipython3",
   "version": "3.9.13"
  },
  "toc": {
   "base_numbering": 1,
   "nav_menu": {},
   "number_sections": true,
   "sideBar": true,
   "skip_h1_title": false,
   "title_cell": "Table of Contents",
   "title_sidebar": "Contents",
   "toc_cell": false,
   "toc_position": {},
   "toc_section_display": true,
   "toc_window_display": false
  },
  "varInspector": {
   "cols": {
    "lenName": 16,
    "lenType": 16,
    "lenVar": 40
   },
   "kernels_config": {
    "python": {
     "delete_cmd_postfix": "",
     "delete_cmd_prefix": "del ",
     "library": "var_list.py",
     "varRefreshCmd": "print(var_dic_list())"
    },
    "r": {
     "delete_cmd_postfix": ") ",
     "delete_cmd_prefix": "rm(",
     "library": "var_list.r",
     "varRefreshCmd": "cat(var_dic_list()) "
    }
   },
   "types_to_exclude": [
    "module",
    "function",
    "builtin_function_or_method",
    "instance",
    "_Feature"
   ],
   "window_display": false
  }
 },
 "nbformat": 4,
 "nbformat_minor": 4
}
