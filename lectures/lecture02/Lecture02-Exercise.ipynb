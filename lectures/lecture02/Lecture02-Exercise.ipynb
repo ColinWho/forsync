{
 "cells": [
  {
   "cell_type": "markdown",
   "id": "abe2079c",
   "metadata": {
    "slideshow": {
     "slide_type": "slide"
    }
   },
   "source": [
    "#  <center> Numpy & Pandas"
   ]
  },
  {
   "cell_type": "code",
   "execution_count": 3,
   "id": "731decb1",
   "metadata": {},
   "outputs": [],
   "source": [
    "#Importing library\n",
    "import pandas as pd\n",
    "\n",
    "import numpy as np\n",
    "from numpy.random import randn\n",
    "np.random.seed(101)"
   ]
  },
  {
   "cell_type": "code",
   "execution_count": null,
   "id": "ed286cd8",
   "metadata": {},
   "outputs": [],
   "source": [
    "print('Hello World')"
   ]
  },
  {
   "cell_type": "markdown",
   "id": "6cdd0d05",
   "metadata": {},
   "source": [
    "### Exercise set 1"
   ]
  },
  {
   "cell_type": "markdown",
   "id": "446d9641",
   "metadata": {},
   "source": [
    "#### Ex. 1.1\n",
    "Work out the shape of the resulting arrays before executing the following cells. <br>\n",
    "(HINT: Length of he innermost list gives the size of the rightmost shape index.) <br>\n",
    "* set the variable \"a_rows\" to the correct number of row, and\n",
    "* set the variable \"a_columns\" to the correct number of columns."
   ]
  },
  {
   "cell_type": "code",
   "execution_count": 4,
   "id": "25ad1e9b",
   "metadata": {},
   "outputs": [
    {
     "name": "stdout",
     "output_type": "stream",
     "text": [
      "[[11 12 13]\n",
      " [21 22 23]\n",
      " [31 32 33]\n",
      " [41 42 43]]\n"
     ]
    }
   ],
   "source": [
    "## don't change the following line of code in any way\n",
    "a = np.array( [[11,12,13], [21,22,23], [31,32,33], [41,42,43]] ) \n",
    "print(a)"
   ]
  },
  {
   "cell_type": "markdown",
   "id": "bff78a15",
   "metadata": {},
   "source": [
    "Now create 2 variales called `a_rows` and `a_columns` and set their values to how many rows and columns array `a` has."
   ]
  },
  {
   "cell_type": "code",
   "execution_count": 5,
   "id": "1b337919",
   "metadata": {},
   "outputs": [],
   "source": [
    "a_rows = 4\n",
    "a_columns = 3 "
   ]
  },
  {
   "cell_type": "markdown",
   "id": "0b9d8044",
   "metadata": {},
   "source": [
    "#### Ex. 1.2\n",
    "Create an np.array called `b` and manually set the values what you expect the output of `a[2:-3:2]` would be."
   ]
  },
  {
   "cell_type": "code",
   "execution_count": 9,
   "id": "a7791cbc",
   "metadata": {},
   "outputs": [
    {
     "data": {
      "text/plain": [
       "array([2, 3, 4])"
      ]
     },
     "execution_count": 9,
     "metadata": {},
     "output_type": "execute_result"
    }
   ],
   "source": [
    "a = np.arange(8)  \n",
    "a[2:-3:2]"
   ]
  },
  {
   "cell_type": "code",
   "execution_count": null,
   "id": "6550d48c",
   "metadata": {},
   "outputs": [],
   "source": [
    "b = np.array([2,4])\n"
   ]
  },
  {
   "cell_type": "markdown",
   "id": "e814ec36",
   "metadata": {},
   "source": [
    "#### Ex. 1.3\n",
    "Create a two-dimensional array called `m` to represent the following matrix,\n",
    "$$\n",
    "\\mathbf{m} = \\left\\lbrack\\begin{array}{ccc}\n",
    "1 & 1 & 2\\cr\n",
    "3 & 5 & 8\\cr\n",
    "13 & 21 & 34\\cr\n",
    "55 & 89 & 144\n",
    "\\end{array}\\right\\rbrack\n",
    "$$\n",
    "\n",
    "Then change all the elements with values 21, 34, 89, and 144 in matrix `m` (i.e. bottom right corner elements) to 1001 by using a slice."
   ]
  },
  {
   "cell_type": "code",
   "execution_count": 10,
   "id": "07ef42fe",
   "metadata": {},
   "outputs": [],
   "source": [
    "m = [[1,1,2],[3,5,8],[13,21,34],[55,89,144]]"
   ]
  },
  {
   "cell_type": "code",
   "execution_count": 11,
   "id": "8ad387d0",
   "metadata": {},
   "outputs": [],
   "source": [
    "m[2][1], m[2][2],m[3][1],m[3][2] = 1001,1001,1001,1001"
   ]
  },
  {
   "cell_type": "markdown",
   "id": "1604ca80",
   "metadata": {},
   "source": [
    "#### Ex. 1.4\n",
    "\n",
    "Let $A$ be the two-dimensional array\n",
    "$$\n",
    "\\mathbf{A} = \\left\\lbrack\\begin{array}{ccc}\n",
    "2 & 1 & 0\\cr\n",
    "-1 & 2 & 1\\cr\n",
    "0 & -1 & 2\n",
    "\\end{array}\\right\\rbrack\n",
    "$$\n",
    "\n",
    "In the following line, initilise the two dimensional array `A` propperly to match matrix A."
   ]
  },
  {
   "cell_type": "code",
   "execution_count": 14,
   "id": "26a733d2",
   "metadata": {},
   "outputs": [],
   "source": [
    "A = np.array([[2,1,0],[-1,2,1],[0,-1,2]])"
   ]
  },
  {
   "cell_type": "markdown",
   "id": "094e5683",
   "metadata": {},
   "source": [
    "Implement and apply the function\n",
    "$$\n",
    "f(x) = x^3 + xe^x + 1\n",
    "$$\n",
    "to $A$. <br>"
   ]
  },
  {
   "cell_type": "code",
   "execution_count": 17,
   "id": "eb1460e6",
   "metadata": {},
   "outputs": [
    {
     "name": "stdout",
     "output_type": "stream",
     "text": [
      "[[23.7781122   4.71828183  1.        ]\n",
      " [-0.36787944 23.7781122   4.71828183]\n",
      " [ 1.         -0.36787944 23.7781122 ]]\n"
     ]
    }
   ],
   "source": [
    "f = lambda x : x**3 +x*np.exp(x) +1\n",
    "print (f(A))"
   ]
  },
  {
   "cell_type": "markdown",
   "id": "6456abf9",
   "metadata": {},
   "source": [
    "#### Ex. 1.5\n",
    "Use `base` to check if array `q` is a copy of array `p`. <br>\n",
    "Now, do the same for a simple indexed slice of `p` (e.g. `p[1:2,3:4]`)."
   ]
  },
  {
   "cell_type": "code",
   "execution_count": 18,
   "id": "bbce2347",
   "metadata": {},
   "outputs": [],
   "source": [
    "p = np.array([[0, 1, 2],[3, 4, 5],[6, 7,8],[9, 10, 11]]) \n",
    "rows = [0,0,3,3]   # indices for rows\n",
    "cols = [0,2,0,2]   # indices for columns\n",
    "q=p[rows,cols]"
   ]
  },
  {
   "cell_type": "code",
   "execution_count": 25,
   "id": "1ff1c293",
   "metadata": {},
   "outputs": [
    {
     "data": {
      "text/plain": [
       "array([[ 0,  1,  2],\n",
       "       [ 3,  4,  5],\n",
       "       [ 6,  7,  8],\n",
       "       [ 9, 10, 11]])"
      ]
     },
     "execution_count": 25,
     "metadata": {},
     "output_type": "execute_result"
    }
   ],
   "source": [
    "p"
   ]
  },
  {
   "cell_type": "code",
   "execution_count": 20,
   "id": "2f7ac58d",
   "metadata": {},
   "outputs": [
    {
     "data": {
      "text/plain": [
       "array([ 0,  2,  9, 11])"
      ]
     },
     "execution_count": 20,
     "metadata": {},
     "output_type": "execute_result"
    }
   ],
   "source": [
    "q"
   ]
  },
  {
   "cell_type": "code",
   "execution_count": 23,
   "id": "97fafceb",
   "metadata": {},
   "outputs": [
    {
     "data": {
      "text/plain": [
       "True"
      ]
     },
     "execution_count": 23,
     "metadata": {},
     "output_type": "execute_result"
    }
   ],
   "source": [
    "p[0][0].base is q[0].base"
   ]
  },
  {
   "cell_type": "code",
   "execution_count": 28,
   "id": "492c668b",
   "metadata": {},
   "outputs": [
    {
     "data": {
      "text/plain": [
       "array([[3, 4]])"
      ]
     },
     "execution_count": 28,
     "metadata": {},
     "output_type": "execute_result"
    }
   ],
   "source": [
    "p[1:2,0:2]"
   ]
  },
  {
   "cell_type": "markdown",
   "id": "909804c4",
   "metadata": {},
   "source": [
    "#### Ex. 1.6\n",
    "Explore other ways of generating random numbers. <br>\n",
    "Below you will find an example for generating samples from a binomial distribution. <br>\n",
    "What other distributions can you sample? <br>\n",
    "Further documentation: https://numpy.org/doc/stable/reference/random/generator.html"
   ]
  },
  {
   "cell_type": "code",
   "execution_count": 29,
   "id": "cda80ca8",
   "metadata": {},
   "outputs": [],
   "source": [
    "s = np.random.binomial(5, 0.5, size=25)"
   ]
  },
  {
   "cell_type": "markdown",
   "id": "b3a9aea2",
   "metadata": {},
   "source": [
    "#### Ex. 1.7\n",
    "Here are some `timeit` experiments for you to try. Check which methods are faster?"
   ]
  },
  {
   "cell_type": "code",
   "execution_count": 36,
   "id": "79ef0ee6",
   "metadata": {},
   "outputs": [
    {
     "data": {
      "text/plain": [
       "array([ 0, 11])"
      ]
     },
     "execution_count": 36,
     "metadata": {},
     "output_type": "execute_result"
    }
   ],
   "source": [
    "nd[[0,1],[0,1]]"
   ]
  },
  {
   "cell_type": "code",
   "execution_count": 37,
   "id": "50408b74",
   "metadata": {},
   "outputs": [
    {
     "data": {
      "text/plain": [
       "array([[ 0,  1,  2,  3,  4,  5,  6,  7,  8,  9],\n",
       "       [10, 11, 12, 13, 14, 15, 16, 17, 18, 19],\n",
       "       [20, 21, 22, 23, 24, 25, 26, 27, 28, 29],\n",
       "       [30, 31, 32, 33, 34, 35, 36, 37, 38, 39],\n",
       "       [40, 41, 42, 43, 44, 45, 46, 47, 48, 49],\n",
       "       [50, 51, 52, 53, 54, 55, 56, 57, 58, 59],\n",
       "       [60, 61, 62, 63, 64, 65, 66, 67, 68, 69],\n",
       "       [70, 71, 72, 73, 74, 75, 76, 77, 78, 79],\n",
       "       [80, 81, 82, 83, 84, 85, 86, 87, 88, 89],\n",
       "       [90, 91, 92, 93, 94, 95, 96, 97, 98, 99]])"
      ]
     },
     "execution_count": 37,
     "metadata": {},
     "output_type": "execute_result"
    }
   ],
   "source": [
    "nd"
   ]
  },
  {
   "cell_type": "code",
   "execution_count": 30,
   "id": "5594c28f",
   "metadata": {},
   "outputs": [
    {
     "name": "stdout",
     "output_type": "stream",
     "text": [
      "110 ns ± 1.36 ns per loop (mean ± std. dev. of 3 runs, 10,000,000 loops each)\n",
      "61.6 ns ± 0.0778 ns per loop (mean ± std. dev. of 3 runs, 10,000,000 loops each)\n"
     ]
    }
   ],
   "source": [
    "# Accessing a 2d array\n",
    "nd = np.arange(100).reshape((10,10))\n",
    "\n",
    "# accessing element of 2d array\n",
    "%timeit -n 10000000 -r 3 nd[5][5]\n",
    "%timeit -n 10000000 -r 3 nd[5,5]   #这个快一倍"
   ]
  },
  {
   "cell_type": "code",
   "execution_count": 31,
   "id": "fafa4f7d",
   "metadata": {},
   "outputs": [
    {
     "name": "stdout",
     "output_type": "stream",
     "text": [
      "90.3 ms ± 24.8 ms per loop (mean ± std. dev. of 10 runs, 1 loop each)\n",
      "81.1 ms ± 722 µs per loop (mean ± std. dev. of 10 runs, 1 loop each)\n"
     ]
    }
   ],
   "source": [
    "# Multiplying two vectors\n",
    "x = np.arange(10E7)\n",
    "%timeit -n 1 -r 10 x*x\n",
    "%timeit -n 1 -r 10 x**2"
   ]
  },
  {
   "cell_type": "code",
   "execution_count": 38,
   "id": "5276322e",
   "metadata": {},
   "outputs": [
    {
     "name": "stdout",
     "output_type": "stream",
     "text": [
      "193 ms ± 167 µs per loop (mean ± std. dev. of 7 runs, 1 loop each)\n",
      "52.2 ms ± 68.1 µs per loop (mean ± std. dev. of 7 runs, 10 loops each)\n",
      "1.11 ms ± 3.72 µs per loop (mean ± std. dev. of 7 runs, 1,000 loops each)\n"
     ]
    }
   ],
   "source": [
    "# Comparing range functions and iterating in loops\n",
    "# Note: some distributions may see overflow in range() example\n",
    "\n",
    "size = int(1E6)\n",
    "\n",
    "%timeit for x in range(size): x**2\n",
    "\n",
    "%timeit for x in np.arange(size): x**2\n",
    "\n",
    "%timeit np.arange(size)**2    \n",
    "\n",
    "# 直接在矩阵上做运算，因为他这里默认的就是对每个元素"
   ]
  },
  {
   "cell_type": "markdown",
   "id": "2235c9f7",
   "metadata": {},
   "source": [
    "#### Ex. 1.8\n",
    "The Taylor series expansion for the trigonometric function $\\arctan(y)$ is :\n",
    "$$\\arctan ( y) \\, = \\,y - \\frac{y^3}{3} + \\frac{y^5}{5}  - \\frac{y^7}{7}  + \\dots $$\n",
    "Now, $\\arctan(1) = \\pi/4 $, so\n",
    "$$ \\pi = 4 \\, \\Big( 1- \\frac{1}{3} + \\frac{1}{5} - \\frac{1}{7} + ... \\Big) $$\n",
    "<br>\n",
    "We can represent the first few terms of the series expansion of $\\arctan(y)$ using a numpy `Polynomial`, with coefficients:\n",
    "$$0, +1, 0, -1/3, 0, +1/5, 0, -1/7,\\ldots\\,$$ \n",
    "and then use it to approximate $\\pi$.\n",
    "\n",
    "Write a function called `arctan` using the expansion above and use it to calculate an approximation of $\\pi$ using numpy polynomials."
   ]
  },
  {
   "cell_type": "code",
   "execution_count": 39,
   "id": "a27d0f68",
   "metadata": {},
   "outputs": [],
   "source": [
    "## You should use numpy.polynmial in your function so lets import it\n",
    "from numpy.polynomial import Polynomial"
   ]
  },
  {
   "cell_type": "code",
   "execution_count": 54,
   "id": "4f9479ba",
   "metadata": {},
   "outputs": [],
   "source": [
    "def arctan(y):\n",
    "    ind = [ (-1)**(x+1) * 1/(2*x-1) for x in range(1,100)]\n",
    "    a = [0]\n",
    "    return Polynomial([a]+ind)(y)"
   ]
  },
  {
   "cell_type": "code",
   "execution_count": 55,
   "id": "83510a42",
   "metadata": {},
   "outputs": [
    {
     "data": {
      "text/plain": [
       "array([0.78792335])"
      ]
     },
     "execution_count": 55,
     "metadata": {},
     "output_type": "execute_result"
    }
   ],
   "source": [
    "arctan(1)"
   ]
  },
  {
   "cell_type": "markdown",
   "id": "f8cb1686",
   "metadata": {},
   "source": [
    "### Exercise set 2\n",
    "\n",
    "The first step in most data analytics projects is reading the data file. In this exercise, you'll create `Series` and `DataFrame` objects, both by hand and by reading data files."
   ]
  },
  {
   "cell_type": "markdown",
   "id": "e9437f8f",
   "metadata": {},
   "source": [
    "#### Ex. 2.1\n",
    "\n",
    "In the _Solution_ cell below, create a `DataFrame` fruits that looks like this:\n",
    "\n",
    "![](https://i.imgur.com/Ax3pp2A.png)"
   ]
  },
  {
   "cell_type": "code",
   "execution_count": 61,
   "id": "3fd8b2c8",
   "metadata": {},
   "outputs": [
    {
     "data": {
      "text/html": [
       "<div>\n",
       "<style scoped>\n",
       "    .dataframe tbody tr th:only-of-type {\n",
       "        vertical-align: middle;\n",
       "    }\n",
       "\n",
       "    .dataframe tbody tr th {\n",
       "        vertical-align: top;\n",
       "    }\n",
       "\n",
       "    .dataframe thead th {\n",
       "        text-align: right;\n",
       "    }\n",
       "</style>\n",
       "<table border=\"1\" class=\"dataframe\">\n",
       "  <thead>\n",
       "    <tr style=\"text-align: right;\">\n",
       "      <th></th>\n",
       "      <th>Apples</th>\n",
       "      <th>Bananas</th>\n",
       "    </tr>\n",
       "  </thead>\n",
       "  <tbody>\n",
       "    <tr>\n",
       "      <th>0</th>\n",
       "      <td>30</td>\n",
       "      <td>21</td>\n",
       "    </tr>\n",
       "  </tbody>\n",
       "</table>\n",
       "</div>"
      ],
      "text/plain": [
       "   Apples  Bananas\n",
       "0      30       21"
      ]
     },
     "execution_count": 61,
     "metadata": {},
     "output_type": "execute_result"
    }
   ],
   "source": [
    "df = pd.DataFrame(np.array([[30,21]]),index = [0], columns = ['Apples','Bananas'])\n",
    "df"
   ]
  },
  {
   "cell_type": "markdown",
   "id": "eceb7193",
   "metadata": {},
   "source": [
    "#### Ex 2.2\n",
    "\n",
    "Create a variable `ingredients` with a Series that looks like:\n",
    "\n",
    "```\n",
    "Flour     4 cups\n",
    "Milk       1 cup\n",
    "Eggs     2 large\n",
    "Spam       1 can\n",
    "Name: Dinner, dtype: object\n",
    "```"
   ]
  },
  {
   "cell_type": "code",
   "execution_count": 64,
   "id": "75574413",
   "metadata": {},
   "outputs": [],
   "source": [
    "ingredients = pd.Series(data = ['4 cups','1 cup','2 large', '1 can'], index = ['Flour','Milk','Eggs','Spam'])"
   ]
  },
  {
   "cell_type": "code",
   "execution_count": 65,
   "id": "631a6395",
   "metadata": {},
   "outputs": [
    {
     "data": {
      "text/plain": [
       "Flour     4 cups\n",
       "Milk       1 cup\n",
       "Eggs     2 large\n",
       "Spam       1 can\n",
       "dtype: object"
      ]
     },
     "execution_count": 65,
     "metadata": {},
     "output_type": "execute_result"
    }
   ],
   "source": [
    "ingredients"
   ]
  },
  {
   "cell_type": "markdown",
   "id": "0588e1b0",
   "metadata": {},
   "source": [
    "#### Ex 2.3\n",
    "In the cell below, write code to save this `DataFrame` to disk as a csv file with the name `cows_and_goats.csv`."
   ]
  },
  {
   "cell_type": "code",
   "execution_count": 66,
   "id": "0943f42b",
   "metadata": {},
   "outputs": [
    {
     "data": {
      "text/html": [
       "<div>\n",
       "<style scoped>\n",
       "    .dataframe tbody tr th:only-of-type {\n",
       "        vertical-align: middle;\n",
       "    }\n",
       "\n",
       "    .dataframe tbody tr th {\n",
       "        vertical-align: top;\n",
       "    }\n",
       "\n",
       "    .dataframe thead th {\n",
       "        text-align: right;\n",
       "    }\n",
       "</style>\n",
       "<table border=\"1\" class=\"dataframe\">\n",
       "  <thead>\n",
       "    <tr style=\"text-align: right;\">\n",
       "      <th></th>\n",
       "      <th>Cows</th>\n",
       "      <th>Goats</th>\n",
       "    </tr>\n",
       "  </thead>\n",
       "  <tbody>\n",
       "    <tr>\n",
       "      <th>Year 1</th>\n",
       "      <td>12</td>\n",
       "      <td>22</td>\n",
       "    </tr>\n",
       "    <tr>\n",
       "      <th>Year 2</th>\n",
       "      <td>20</td>\n",
       "      <td>19</td>\n",
       "    </tr>\n",
       "  </tbody>\n",
       "</table>\n",
       "</div>"
      ],
      "text/plain": [
       "        Cows  Goats\n",
       "Year 1    12     22\n",
       "Year 2    20     19"
      ]
     },
     "execution_count": 66,
     "metadata": {},
     "output_type": "execute_result"
    }
   ],
   "source": [
    "animals = pd.DataFrame({'Cows': [12, 20], 'Goats': [22, 19]}, index=['Year 1', 'Year 2'])\n",
    "animals"
   ]
  },
  {
   "cell_type": "code",
   "execution_count": 67,
   "id": "f3ce23fc",
   "metadata": {},
   "outputs": [],
   "source": [
    "animals.to_csv('cows_and_goats.csv')"
   ]
  },
  {
   "cell_type": "markdown",
   "id": "20070d16",
   "metadata": {},
   "source": [
    "### Exercise set 3"
   ]
  },
  {
   "cell_type": "markdown",
   "id": "ca5d947a",
   "metadata": {},
   "source": [
    "#### Ex 3.1\n",
    " Read inputs/core_data.csv as a dataframe call it `cr` \n",
    " \n",
    " ** show the head of it"
   ]
  },
  {
   "cell_type": "code",
   "execution_count": 68,
   "id": "950c8abd",
   "metadata": {},
   "outputs": [],
   "source": [
    "cr  = pd.read_csv('inputs/core_data.csv')"
   ]
  },
  {
   "cell_type": "code",
   "execution_count": 70,
   "id": "63c8cfc8",
   "metadata": {},
   "outputs": [
    {
     "data": {
      "text/html": [
       "<div>\n",
       "<style scoped>\n",
       "    .dataframe tbody tr th:only-of-type {\n",
       "        vertical-align: middle;\n",
       "    }\n",
       "\n",
       "    .dataframe tbody tr th {\n",
       "        vertical-align: top;\n",
       "    }\n",
       "\n",
       "    .dataframe thead th {\n",
       "        text-align: right;\n",
       "    }\n",
       "</style>\n",
       "<table border=\"1\" class=\"dataframe\">\n",
       "  <thead>\n",
       "    <tr style=\"text-align: right;\">\n",
       "      <th></th>\n",
       "      <th>Exp</th>\n",
       "      <th>Site</th>\n",
       "      <th>Hole</th>\n",
       "      <th>Core</th>\n",
       "      <th>Type</th>\n",
       "      <th>Sect</th>\n",
       "      <th>Top(cm)</th>\n",
       "      <th>Depth CSF-A (m)</th>\n",
       "      <th>NGR total counts (cps)</th>\n",
       "      <th>Reflectance L*</th>\n",
       "      <th>Reflectance a*</th>\n",
       "      <th>Reflectance b*</th>\n",
       "      <th>Lithology</th>\n",
       "    </tr>\n",
       "  </thead>\n",
       "  <tbody>\n",
       "    <tr>\n",
       "      <th>0</th>\n",
       "      <td>194</td>\n",
       "      <td>1192</td>\n",
       "      <td>A</td>\n",
       "      <td>1</td>\n",
       "      <td>H</td>\n",
       "      <td>1</td>\n",
       "      <td>20</td>\n",
       "      <td>0.2</td>\n",
       "      <td>16.2</td>\n",
       "      <td>39.55</td>\n",
       "      <td>4.22</td>\n",
       "      <td>10.59</td>\n",
       "      <td>Marls</td>\n",
       "    </tr>\n",
       "    <tr>\n",
       "      <th>1</th>\n",
       "      <td>194</td>\n",
       "      <td>1192</td>\n",
       "      <td>A</td>\n",
       "      <td>1</td>\n",
       "      <td>H</td>\n",
       "      <td>1</td>\n",
       "      <td>40</td>\n",
       "      <td>0.4</td>\n",
       "      <td>20.0</td>\n",
       "      <td>66.57</td>\n",
       "      <td>4.70</td>\n",
       "      <td>19.52</td>\n",
       "      <td>Marls</td>\n",
       "    </tr>\n",
       "    <tr>\n",
       "      <th>2</th>\n",
       "      <td>194</td>\n",
       "      <td>1192</td>\n",
       "      <td>A</td>\n",
       "      <td>1</td>\n",
       "      <td>H</td>\n",
       "      <td>1</td>\n",
       "      <td>60</td>\n",
       "      <td>0.6</td>\n",
       "      <td>18.8</td>\n",
       "      <td>68.21</td>\n",
       "      <td>4.79</td>\n",
       "      <td>24.13</td>\n",
       "      <td>Clayey Marls</td>\n",
       "    </tr>\n",
       "    <tr>\n",
       "      <th>3</th>\n",
       "      <td>194</td>\n",
       "      <td>1192</td>\n",
       "      <td>A</td>\n",
       "      <td>1</td>\n",
       "      <td>H</td>\n",
       "      <td>1</td>\n",
       "      <td>80</td>\n",
       "      <td>0.8</td>\n",
       "      <td>21.6</td>\n",
       "      <td>64.90</td>\n",
       "      <td>6.77</td>\n",
       "      <td>29.16</td>\n",
       "      <td>Sandy carbonate</td>\n",
       "    </tr>\n",
       "    <tr>\n",
       "      <th>4</th>\n",
       "      <td>194</td>\n",
       "      <td>1192</td>\n",
       "      <td>A</td>\n",
       "      <td>1</td>\n",
       "      <td>H</td>\n",
       "      <td>1</td>\n",
       "      <td>100</td>\n",
       "      <td>1.0</td>\n",
       "      <td>25.2</td>\n",
       "      <td>67.85</td>\n",
       "      <td>2.34</td>\n",
       "      <td>14.76</td>\n",
       "      <td>Marls</td>\n",
       "    </tr>\n",
       "  </tbody>\n",
       "</table>\n",
       "</div>"
      ],
      "text/plain": [
       "   Exp  Site Hole  Core Type  Sect  Top(cm)  Depth CSF-A (m)  \\\n",
       "0  194  1192    A     1    H     1       20              0.2   \n",
       "1  194  1192    A     1    H     1       40              0.4   \n",
       "2  194  1192    A     1    H     1       60              0.6   \n",
       "3  194  1192    A     1    H     1       80              0.8   \n",
       "4  194  1192    A     1    H     1      100              1.0   \n",
       "\n",
       "   NGR total counts (cps)  Reflectance L*  Reflectance a*  Reflectance b*  \\\n",
       "0                    16.2           39.55            4.22           10.59   \n",
       "1                    20.0           66.57            4.70           19.52   \n",
       "2                    18.8           68.21            4.79           24.13   \n",
       "3                    21.6           64.90            6.77           29.16   \n",
       "4                    25.2           67.85            2.34           14.76   \n",
       "\n",
       "         Lithology  \n",
       "0            Marls  \n",
       "1            Marls  \n",
       "2     Clayey Marls  \n",
       "3  Sandy carbonate  \n",
       "4            Marls  "
      ]
     },
     "execution_count": 70,
     "metadata": {},
     "output_type": "execute_result"
    }
   ],
   "source": [
    "cr.head()"
   ]
  },
  {
   "cell_type": "markdown",
   "id": "064dc5fc",
   "metadata": {},
   "source": [
    "#### Ex 3.2\n",
    " Use the .info() method to find out how many entries there are."
   ]
  },
  {
   "cell_type": "code",
   "execution_count": 71,
   "id": "b935f217",
   "metadata": {},
   "outputs": [
    {
     "name": "stdout",
     "output_type": "stream",
     "text": [
      "<class 'pandas.core.frame.DataFrame'>\n",
      "RangeIndex: 25217 entries, 0 to 25216\n",
      "Data columns (total 13 columns):\n",
      " #   Column                  Non-Null Count  Dtype  \n",
      "---  ------                  --------------  -----  \n",
      " 0   Exp                     25217 non-null  int64  \n",
      " 1   Site                    25217 non-null  int64  \n",
      " 2   Hole                    25217 non-null  object \n",
      " 3   Core                    25217 non-null  int64  \n",
      " 4   Type                    25204 non-null  object \n",
      " 5   Sect                    25217 non-null  int64  \n",
      " 6   Top(cm)                 25217 non-null  int64  \n",
      " 7   Depth CSF-A (m)         25215 non-null  float64\n",
      " 8   NGR total counts (cps)  25200 non-null  float64\n",
      " 9   Reflectance L*          25195 non-null  float64\n",
      " 10  Reflectance a*          25212 non-null  float64\n",
      " 11  Reflectance b*          25206 non-null  float64\n",
      " 12  Lithology               713 non-null    object \n",
      "dtypes: float64(5), int64(5), object(3)\n",
      "memory usage: 2.5+ MB\n"
     ]
    }
   ],
   "source": [
    "cr.info()"
   ]
  },
  {
   "cell_type": "markdown",
   "id": "e6b24372",
   "metadata": {},
   "source": [
    "#### Ex 3.3\n",
    "What is the average `Depth CSF-A (m)` ?"
   ]
  },
  {
   "cell_type": "code",
   "execution_count": 74,
   "id": "11b8604d",
   "metadata": {},
   "outputs": [
    {
     "data": {
      "text/plain": [
       "234.60238032916914"
      ]
     },
     "execution_count": 74,
     "metadata": {},
     "output_type": "execute_result"
    }
   ],
   "source": [
    "cr.iloc[:,7].mean()"
   ]
  },
  {
   "cell_type": "markdown",
   "id": "81de696b",
   "metadata": {},
   "source": [
    "#### Ex 3.4\n",
    " What is the highest amount of `Reflectance a*` in the dataset?"
   ]
  },
  {
   "cell_type": "code",
   "execution_count": 75,
   "id": "66c1971f",
   "metadata": {},
   "outputs": [
    {
     "data": {
      "text/plain": [
       "17.85"
      ]
     },
     "execution_count": 75,
     "metadata": {},
     "output_type": "execute_result"
    }
   ],
   "source": [
    "cr.iloc[:,10].max()"
   ]
  },
  {
   "cell_type": "markdown",
   "id": "f844c3c7",
   "metadata": {},
   "source": [
    "#### Ex 3.5\n",
    "What is the amount of `Reflectance L*` for the highest amount of `Reflectance a*`"
   ]
  },
  {
   "cell_type": "code",
   "execution_count": 80,
   "id": "591aa346",
   "metadata": {},
   "outputs": [
    {
     "data": {
      "text/plain": [
       "21880    48.01\n",
       "Name: Reflectance L*, dtype: float64"
      ]
     },
     "execution_count": 80,
     "metadata": {},
     "output_type": "execute_result"
    }
   ],
   "source": [
    "cr[cr.iloc[:,10].max()==cr.iloc[:,10]].iloc[:,9]"
   ]
  },
  {
   "cell_type": "markdown",
   "id": "d318b8e2",
   "metadata": {},
   "source": [
    "#### Ex 3.6\n",
    "what is the minimum `NGR total counts (cps)`'s Lithology type?"
   ]
  },
  {
   "cell_type": "code",
   "execution_count": 82,
   "id": "de49fa93",
   "metadata": {},
   "outputs": [
    {
     "data": {
      "text/plain": [
       "15297    Marls\n",
       "15365      NaN\n",
       "Name: Lithology, dtype: object"
      ]
     },
     "execution_count": 82,
     "metadata": {},
     "output_type": "execute_result"
    }
   ],
   "source": [
    "cr[cr['NGR total counts (cps)']==cr['NGR total counts (cps)'].min()]['Lithology']"
   ]
  },
  {
   "cell_type": "markdown",
   "id": "4a20420a",
   "metadata": {},
   "source": [
    "#### Ex 3.7\n",
    "How many `Holes` has the `Lithology` type of `Marls`?"
   ]
  },
  {
   "cell_type": "code",
   "execution_count": 85,
   "id": "befc3ab2",
   "metadata": {},
   "outputs": [
    {
     "name": "stdout",
     "output_type": "stream",
     "text": [
      "<class 'pandas.core.series.Series'>\n",
      "Int64Index: 14 entries, 0 to 15298\n",
      "Series name: Hole\n",
      "Non-Null Count  Dtype \n",
      "--------------  ----- \n",
      "14 non-null     object\n",
      "dtypes: object(1)\n",
      "memory usage: 224.0+ bytes\n"
     ]
    }
   ],
   "source": [
    "cr[cr['Lithology']=='Marls']['Hole'].info()"
   ]
  },
  {
   "cell_type": "markdown",
   "id": "c68c7f12",
   "metadata": {},
   "source": [
    "#### Ex 3.8\n",
    "What is the data type of the `Hole` column in the dataset?"
   ]
  },
  {
   "cell_type": "code",
   "execution_count": 92,
   "id": "fd1415b7",
   "metadata": {},
   "outputs": [
    {
     "data": {
      "text/plain": [
       "dtype('O')"
      ]
     },
     "execution_count": 92,
     "metadata": {},
     "output_type": "execute_result"
    }
   ],
   "source": [
    "cr['Hole'].dtype  #It means: 'O' (Python) objects"
   ]
  },
  {
   "cell_type": "markdown",
   "id": "bbe5b855",
   "metadata": {},
   "source": [
    "#### Ex 3.9\n",
    "\n",
    "Create a variable `df` containing the `Depth CSF-A (m)` and `Lithology` columns of the first 100 records\n",
    "\n",
    "Hint: you may use `loc` or `iloc`. When working on the answer this question and the several of the ones that follow, keep the following \"gotcha\" described in the lecture:"
   ]
  },
  {
   "cell_type": "code",
   "execution_count": 196,
   "id": "aa006191",
   "metadata": {},
   "outputs": [
    {
     "data": {
      "text/html": [
       "<div>\n",
       "<style scoped>\n",
       "    .dataframe tbody tr th:only-of-type {\n",
       "        vertical-align: middle;\n",
       "    }\n",
       "\n",
       "    .dataframe tbody tr th {\n",
       "        vertical-align: top;\n",
       "    }\n",
       "\n",
       "    .dataframe thead th {\n",
       "        text-align: right;\n",
       "    }\n",
       "</style>\n",
       "<table border=\"1\" class=\"dataframe\">\n",
       "  <thead>\n",
       "    <tr style=\"text-align: right;\">\n",
       "      <th></th>\n",
       "      <th>Depth CSF-A (m)</th>\n",
       "      <th>Lithology</th>\n",
       "    </tr>\n",
       "  </thead>\n",
       "  <tbody>\n",
       "    <tr>\n",
       "      <th>0</th>\n",
       "      <td>0.2</td>\n",
       "      <td>Marls</td>\n",
       "    </tr>\n",
       "    <tr>\n",
       "      <th>1</th>\n",
       "      <td>0.4</td>\n",
       "      <td>Marls</td>\n",
       "    </tr>\n",
       "    <tr>\n",
       "      <th>2</th>\n",
       "      <td>0.6</td>\n",
       "      <td>Clayey Marls</td>\n",
       "    </tr>\n",
       "    <tr>\n",
       "      <th>3</th>\n",
       "      <td>0.8</td>\n",
       "      <td>Sandy carbonate</td>\n",
       "    </tr>\n",
       "    <tr>\n",
       "      <th>4</th>\n",
       "      <td>1.0</td>\n",
       "      <td>Marls</td>\n",
       "    </tr>\n",
       "    <tr>\n",
       "      <th>...</th>\n",
       "      <td>...</td>\n",
       "      <td>...</td>\n",
       "    </tr>\n",
       "    <tr>\n",
       "      <th>95</th>\n",
       "      <td>25.6</td>\n",
       "      <td>NaN</td>\n",
       "    </tr>\n",
       "    <tr>\n",
       "      <th>96</th>\n",
       "      <td>25.8</td>\n",
       "      <td>NaN</td>\n",
       "    </tr>\n",
       "    <tr>\n",
       "      <th>97</th>\n",
       "      <td>26.0</td>\n",
       "      <td>NaN</td>\n",
       "    </tr>\n",
       "    <tr>\n",
       "      <th>98</th>\n",
       "      <td>26.2</td>\n",
       "      <td>NaN</td>\n",
       "    </tr>\n",
       "    <tr>\n",
       "      <th>99</th>\n",
       "      <td>26.4</td>\n",
       "      <td>NaN</td>\n",
       "    </tr>\n",
       "  </tbody>\n",
       "</table>\n",
       "<p>100 rows × 2 columns</p>\n",
       "</div>"
      ],
      "text/plain": [
       "    Depth CSF-A (m)        Lithology\n",
       "0               0.2            Marls\n",
       "1               0.4            Marls\n",
       "2               0.6     Clayey Marls\n",
       "3               0.8  Sandy carbonate\n",
       "4               1.0            Marls\n",
       "..              ...              ...\n",
       "95             25.6              NaN\n",
       "96             25.8              NaN\n",
       "97             26.0              NaN\n",
       "98             26.2              NaN\n",
       "99             26.4              NaN\n",
       "\n",
       "[100 rows x 2 columns]"
      ]
     },
     "execution_count": 196,
     "metadata": {},
     "output_type": "execute_result"
    }
   ],
   "source": [
    "df = cr[['Depth CSF-A (m)','Lithology']].iloc[0:100]\n",
    "df"
   ]
  },
  {
   "cell_type": "markdown",
   "id": "d388d48a",
   "metadata": {},
   "source": [
    "#### Ex 3.10\n",
    "What is the number of data in `df` in which `Depth CSF-A (m)` is more than **10** and less than **25**"
   ]
  },
  {
   "cell_type": "code",
   "execution_count": 110,
   "id": "df77b9b3",
   "metadata": {},
   "outputs": [
    {
     "data": {
      "text/plain": [
       "47"
      ]
     },
     "execution_count": 110,
     "metadata": {},
     "output_type": "execute_result"
    }
   ],
   "source": [
    "len(df[(df.iloc[:,0]>10) & (df.iloc[:,0]<25)].iloc[:,0])"
   ]
  },
  {
   "cell_type": "code",
   "execution_count": 151,
   "id": "d9f06671",
   "metadata": {},
   "outputs": [
    {
     "name": "stdout",
     "output_type": "stream",
     "text": [
      "    Depth CSF-A (m)  Lithology\n",
      "0              True       True\n",
      "1              True       True\n",
      "2              True       True\n",
      "3              True       True\n",
      "4              True       True\n",
      "..              ...        ...\n",
      "95             True       True\n",
      "96             True       True\n",
      "97             True       True\n",
      "98             True       True\n",
      "99             True       True\n",
      "\n",
      "[100 rows x 2 columns]\n"
     ]
    }
   ],
   "source": [
    "print(df.isnull() == ~df.notnull())"
   ]
  },
  {
   "cell_type": "markdown",
   "id": "baa4d668",
   "metadata": {},
   "source": [
    "#### Ex 3.11\n",
    "Calculate the number of missing, and duplicated values? What is the number of unique values for `df`"
   ]
  },
  {
   "cell_type": "code",
   "execution_count": 154,
   "id": "ae0208ec",
   "metadata": {},
   "outputs": [
    {
     "data": {
      "text/plain": [
       "False"
      ]
     },
     "execution_count": 154,
     "metadata": {},
     "output_type": "execute_result"
    }
   ],
   "source": [
    "df.isnull().iloc[:,0].values.any() #CSF has no missing value"
   ]
  },
  {
   "cell_type": "code",
   "execution_count": 155,
   "id": "53107c92",
   "metadata": {},
   "outputs": [
    {
     "data": {
      "text/plain": [
       "Depth CSF-A (m)     0\n",
       "Lithology          84\n",
       "dtype: int64"
      ]
     },
     "execution_count": 155,
     "metadata": {},
     "output_type": "execute_result"
    }
   ],
   "source": [
    "df.isnull().sum()"
   ]
  },
  {
   "cell_type": "code",
   "execution_count": 146,
   "id": "9e3bcd49",
   "metadata": {},
   "outputs": [
    {
     "data": {
      "text/plain": [
       "84"
      ]
     },
     "execution_count": 146,
     "metadata": {},
     "output_type": "execute_result"
    }
   ],
   "source": [
    "len(df.loc[~df.notnull().iloc[:,1]])"
   ]
  },
  {
   "cell_type": "code",
   "execution_count": 197,
   "id": "65e39aef",
   "metadata": {},
   "outputs": [
    {
     "data": {
      "text/plain": [
       "2"
      ]
     },
     "execution_count": 197,
     "metadata": {},
     "output_type": "execute_result"
    }
   ],
   "source": [
    "df.duplicated().sum()"
   ]
  },
  {
   "cell_type": "code",
   "execution_count": 166,
   "id": "ed3eb9af",
   "metadata": {},
   "outputs": [
    {
     "name": "stdout",
     "output_type": "stream",
     "text": [
      "4.9     2\n",
      "1.7     2\n",
      "4.4     2\n",
      "10.1    2\n",
      "4.0     2\n",
      "       ..\n",
      "7.2     1\n",
      "7.0     1\n",
      "6.8     1\n",
      "6.6     1\n",
      "26.4    1\n",
      "Name: Depth CSF-A (m), Length: 95, dtype: int64\n"
     ]
    }
   ],
   "source": [
    "print(df['Depth CSF-A (m)'].value_counts())"
   ]
  },
  {
   "cell_type": "code",
   "execution_count": 192,
   "id": "55496d7e",
   "metadata": {},
   "outputs": [
    {
     "name": "stdout",
     "output_type": "stream",
     "text": [
      "5\n",
      "95\n",
      "95\n"
     ]
    }
   ],
   "source": [
    "print((df['Depth CSF-A (m)'].value_counts()>1).sum())\n",
    "print(len(df['Depth CSF-A (m)'].unique()))\n",
    "print(df['Depth CSF-A (m)'].nunique())"
   ]
  },
  {
   "cell_type": "markdown",
   "id": "d0619258",
   "metadata": {},
   "source": [
    "### Exercise set 4\n",
    "We are going to load a new data. Run the below cell\n",
    "\n",
    "** If you have time, apply your solutions for the questions above on the new dataset"
   ]
  },
  {
   "cell_type": "code",
   "execution_count": 167,
   "id": "62cc7835",
   "metadata": {},
   "outputs": [],
   "source": [
    "wi = pd.read_csv('inputs/winemag-data-130k-v2.csv')"
   ]
  },
  {
   "cell_type": "markdown",
   "id": "461239d7",
   "metadata": {},
   "source": [
    "#### Ex 4.1\n",
    "There are only so many words you can use when describing a bottle of wine. Is a wine more likely to be \"tropical\" or \"fruity\"? Create a Series descriptor_counts counting how many times each of these two words appears in the description column in the dataset."
   ]
  },
  {
   "cell_type": "code",
   "execution_count": 169,
   "id": "d3e40b3b",
   "metadata": {},
   "outputs": [],
   "source": [
    "ser = wi['description']"
   ]
  },
  {
   "cell_type": "code",
   "execution_count": 187,
   "id": "138491aa",
   "metadata": {},
   "outputs": [
    {
     "name": "stdout",
     "output_type": "stream",
     "text": [
      "t = 3800, f = 9455\n"
     ]
    }
   ],
   "source": [
    "t,f = 0,0\n",
    "for i in ser:\n",
    "    if 'tropical' in i.lower():\n",
    "        t+=1\n",
    "    if 'fruity' in i.lower():\n",
    "        f+=1\n",
    "#     print(i+ '\\n')\n",
    "print(f'{t = }, {f = }')\n"
   ]
  },
  {
   "cell_type": "markdown",
   "id": "06b1e9d9",
   "metadata": {},
   "source": [
    "#### Ex 4.2\n",
    "Who are the most common wine reviewers in the dataset? Create a `Series` whose index is the `taster_twitter_handle` category from the dataset, and whose values count how many reviews each person wrote."
   ]
  },
  {
   "cell_type": "code",
   "execution_count": 199,
   "id": "8c95c7b6",
   "metadata": {},
   "outputs": [
    {
     "data": {
      "text/plain": [
       "0         @kerinokeefe\n",
       "1           @vossroger\n",
       "2          @paulgwine \n",
       "3                  NaN\n",
       "4          @paulgwine \n",
       "              ...     \n",
       "129966             NaN\n",
       "129967     @paulgwine \n",
       "129968      @vossroger\n",
       "129969      @vossroger\n",
       "129970      @vossroger\n",
       "Name: taster_twitter_handle, Length: 129971, dtype: object"
      ]
     },
     "execution_count": 199,
     "metadata": {},
     "output_type": "execute_result"
    }
   ],
   "source": [
    "ser2 = wi['taster_twitter_handle']\n",
    "ser2 "
   ]
  },
  {
   "cell_type": "code",
   "execution_count": 219,
   "id": "e5be8754",
   "metadata": {},
   "outputs": [
    {
     "data": {
      "text/plain": [
       "{'@vossroger': 25514,\n",
       " '@wineschach': 15134,\n",
       " '@kerinokeefe': 10776,\n",
       " '@vboone': 9537,\n",
       " '@paulgwine\\xa0': 9532,\n",
       " '@mattkettmann': 6332,\n",
       " '@JoeCz': 5147,\n",
       " '@wawinereport': 4966,\n",
       " '@gordone_cellars': 4177,\n",
       " '@AnneInVino': 3685,\n",
       " '@laurbuzz': 1835,\n",
       " '@suskostrzewa': 1085,\n",
       " '@worldwineguys': 1005,\n",
       " '@bkfiona': 27,\n",
       " '@winewchristina': 6}"
      ]
     },
     "execution_count": 219,
     "metadata": {},
     "output_type": "execute_result"
    }
   ],
   "source": [
    "ser2.value_counts()\n",
    "dic = {}\n",
    "for i in ser2.value_counts().index:\n",
    "    dic[i] = ser2.value_counts()[i]\n",
    "    \n",
    "dic"
   ]
  },
  {
   "cell_type": "markdown",
   "id": "0be6abc0",
   "metadata": {},
   "source": [
    "#### Ex 4.3\n",
    "Create a dataframe top_oceania_wines containing all reviews with at least 95 points (out of 100) for wines from Australia or New Zealand."
   ]
  },
  {
   "cell_type": "code",
   "execution_count": 233,
   "id": "883091e8",
   "metadata": {},
   "outputs": [
    {
     "data": {
      "text/html": [
       "<div>\n",
       "<style scoped>\n",
       "    .dataframe tbody tr th:only-of-type {\n",
       "        vertical-align: middle;\n",
       "    }\n",
       "\n",
       "    .dataframe tbody tr th {\n",
       "        vertical-align: top;\n",
       "    }\n",
       "\n",
       "    .dataframe thead th {\n",
       "        text-align: right;\n",
       "    }\n",
       "</style>\n",
       "<table border=\"1\" class=\"dataframe\">\n",
       "  <thead>\n",
       "    <tr style=\"text-align: right;\">\n",
       "      <th></th>\n",
       "      <th>Unnamed: 0</th>\n",
       "      <th>country</th>\n",
       "      <th>description</th>\n",
       "      <th>designation</th>\n",
       "      <th>points</th>\n",
       "      <th>price</th>\n",
       "      <th>province</th>\n",
       "      <th>region_1</th>\n",
       "      <th>region_2</th>\n",
       "      <th>taster_name</th>\n",
       "      <th>taster_twitter_handle</th>\n",
       "      <th>title</th>\n",
       "      <th>variety</th>\n",
       "      <th>winery</th>\n",
       "    </tr>\n",
       "  </thead>\n",
       "  <tbody>\n",
       "    <tr>\n",
       "      <th>345</th>\n",
       "      <td>345</td>\n",
       "      <td>Australia</td>\n",
       "      <td>This wine contains some material over 100 year...</td>\n",
       "      <td>Rare</td>\n",
       "      <td>100</td>\n",
       "      <td>350.0</td>\n",
       "      <td>Victoria</td>\n",
       "      <td>Rutherglen</td>\n",
       "      <td>NaN</td>\n",
       "      <td>Joe Czerwinski</td>\n",
       "      <td>@JoeCz</td>\n",
       "      <td>Chambers Rosewood Vineyards NV Rare Muscat (Ru...</td>\n",
       "      <td>Muscat</td>\n",
       "      <td>Chambers Rosewood Vineyards</td>\n",
       "    </tr>\n",
       "    <tr>\n",
       "      <th>346</th>\n",
       "      <td>346</td>\n",
       "      <td>Australia</td>\n",
       "      <td>This deep brown wine smells like a damp, mossy...</td>\n",
       "      <td>Rare</td>\n",
       "      <td>98</td>\n",
       "      <td>350.0</td>\n",
       "      <td>Victoria</td>\n",
       "      <td>Rutherglen</td>\n",
       "      <td>NaN</td>\n",
       "      <td>Joe Czerwinski</td>\n",
       "      <td>@JoeCz</td>\n",
       "      <td>Chambers Rosewood Vineyards NV Rare Muscadelle...</td>\n",
       "      <td>Muscadelle</td>\n",
       "      <td>Chambers Rosewood Vineyards</td>\n",
       "    </tr>\n",
       "    <tr>\n",
       "      <th>348</th>\n",
       "      <td>348</td>\n",
       "      <td>Australia</td>\n",
       "      <td>Deep mahogany. Dried fig and black tea on the ...</td>\n",
       "      <td>Grand</td>\n",
       "      <td>97</td>\n",
       "      <td>100.0</td>\n",
       "      <td>Victoria</td>\n",
       "      <td>Rutherglen</td>\n",
       "      <td>NaN</td>\n",
       "      <td>Joe Czerwinski</td>\n",
       "      <td>@JoeCz</td>\n",
       "      <td>Chambers Rosewood Vineyards NV Grand Muscat (R...</td>\n",
       "      <td>Muscat</td>\n",
       "      <td>Chambers Rosewood Vineyards</td>\n",
       "    </tr>\n",
       "    <tr>\n",
       "      <th>349</th>\n",
       "      <td>349</td>\n",
       "      <td>Australia</td>\n",
       "      <td>RunRig is always complex, and the 2012 doesn't...</td>\n",
       "      <td>RunRig</td>\n",
       "      <td>97</td>\n",
       "      <td>225.0</td>\n",
       "      <td>South Australia</td>\n",
       "      <td>Barossa</td>\n",
       "      <td>NaN</td>\n",
       "      <td>Joe Czerwinski</td>\n",
       "      <td>@JoeCz</td>\n",
       "      <td>Torbreck 2012 RunRig Shiraz-Viognier (Barossa)</td>\n",
       "      <td>Shiraz-Viognier</td>\n",
       "      <td>Torbreck</td>\n",
       "    </tr>\n",
       "    <tr>\n",
       "      <th>34502</th>\n",
       "      <td>34502</td>\n",
       "      <td>Australia</td>\n",
       "      <td>This prodigious wine showcases Barossa's abili...</td>\n",
       "      <td>The Relic</td>\n",
       "      <td>98</td>\n",
       "      <td>135.0</td>\n",
       "      <td>South Australia</td>\n",
       "      <td>Barossa Valley</td>\n",
       "      <td>NaN</td>\n",
       "      <td>Joe Czerwinski</td>\n",
       "      <td>@JoeCz</td>\n",
       "      <td>Standish 2006 The Relic Shiraz (Barossa Valley)</td>\n",
       "      <td>Shiraz</td>\n",
       "      <td>Standish</td>\n",
       "    </tr>\n",
       "    <tr>\n",
       "      <th>34506</th>\n",
       "      <td>34506</td>\n",
       "      <td>Australia</td>\n",
       "      <td>If Standish's Relic is the feminine side of Sh...</td>\n",
       "      <td>The Standish Single Vineyard</td>\n",
       "      <td>96</td>\n",
       "      <td>135.0</td>\n",
       "      <td>South Australia</td>\n",
       "      <td>Barossa Valley</td>\n",
       "      <td>NaN</td>\n",
       "      <td>Joe Czerwinski</td>\n",
       "      <td>@JoeCz</td>\n",
       "      <td>Standish 2005 The Standish Single Vineyard Shi...</td>\n",
       "      <td>Shiraz</td>\n",
       "      <td>Standish</td>\n",
       "    </tr>\n",
       "    <tr>\n",
       "      <th>39961</th>\n",
       "      <td>39961</td>\n",
       "      <td>Australia</td>\n",
       "      <td>As unevolved as they are, the dense and multil...</td>\n",
       "      <td>Grange</td>\n",
       "      <td>96</td>\n",
       "      <td>185.0</td>\n",
       "      <td>South Australia</td>\n",
       "      <td>South Australia</td>\n",
       "      <td>NaN</td>\n",
       "      <td>NaN</td>\n",
       "      <td>NaN</td>\n",
       "      <td>Penfolds 1996 Grange Shiraz (South Australia)</td>\n",
       "      <td>Shiraz</td>\n",
       "      <td>Penfolds</td>\n",
       "    </tr>\n",
       "    <tr>\n",
       "      <th>56953</th>\n",
       "      <td>56953</td>\n",
       "      <td>Australia</td>\n",
       "      <td>This inky, embryonic wine deserves to be cella...</td>\n",
       "      <td>Grange</td>\n",
       "      <td>99</td>\n",
       "      <td>850.0</td>\n",
       "      <td>South Australia</td>\n",
       "      <td>South Australia</td>\n",
       "      <td>NaN</td>\n",
       "      <td>Joe Czerwinski</td>\n",
       "      <td>@JoeCz</td>\n",
       "      <td>Penfolds 2010 Grange Shiraz (South Australia)</td>\n",
       "      <td>Shiraz</td>\n",
       "      <td>Penfolds</td>\n",
       "    </tr>\n",
       "    <tr>\n",
       "      <th>56956</th>\n",
       "      <td>56956</td>\n",
       "      <td>Australia</td>\n",
       "      <td>You may have to scour the country to secure so...</td>\n",
       "      <td>Andelmonde</td>\n",
       "      <td>97</td>\n",
       "      <td>95.0</td>\n",
       "      <td>South Australia</td>\n",
       "      <td>Barossa Valley</td>\n",
       "      <td>NaN</td>\n",
       "      <td>Joe Czerwinski</td>\n",
       "      <td>@JoeCz</td>\n",
       "      <td>Standish 2012 Andelmonde Shiraz (Barossa Valley)</td>\n",
       "      <td>Shiraz</td>\n",
       "      <td>Standish</td>\n",
       "    </tr>\n",
       "    <tr>\n",
       "      <th>56957</th>\n",
       "      <td>56957</td>\n",
       "      <td>Australia</td>\n",
       "      <td>Thorn Clarke has taken its Shiraz to a new lev...</td>\n",
       "      <td>Ron Thorn Single Vineyard</td>\n",
       "      <td>96</td>\n",
       "      <td>89.0</td>\n",
       "      <td>South Australia</td>\n",
       "      <td>Barossa</td>\n",
       "      <td>NaN</td>\n",
       "      <td>Joe Czerwinski</td>\n",
       "      <td>@JoeCz</td>\n",
       "      <td>Thorn Clarke 2012 Ron Thorn Single Vineyard Sh...</td>\n",
       "      <td>Shiraz</td>\n",
       "      <td>Thorn Clarke</td>\n",
       "    </tr>\n",
       "    <tr>\n",
       "      <th>56959</th>\n",
       "      <td>56959</td>\n",
       "      <td>Australia</td>\n",
       "      <td>Is this the Yin to Grange's Yang? The wines ar...</td>\n",
       "      <td>Hill of Grace</td>\n",
       "      <td>96</td>\n",
       "      <td>820.0</td>\n",
       "      <td>South Australia</td>\n",
       "      <td>Eden Valley</td>\n",
       "      <td>NaN</td>\n",
       "      <td>Joe Czerwinski</td>\n",
       "      <td>@JoeCz</td>\n",
       "      <td>Henschke 2010 Hill of Grace Shiraz (Eden Valley)</td>\n",
       "      <td>Shiraz</td>\n",
       "      <td>Henschke</td>\n",
       "    </tr>\n",
       "    <tr>\n",
       "      <th>59977</th>\n",
       "      <td>59977</td>\n",
       "      <td>Australia</td>\n",
       "      <td>This is a top example of the classic Australia...</td>\n",
       "      <td>The Peake</td>\n",
       "      <td>96</td>\n",
       "      <td>150.0</td>\n",
       "      <td>South Australia</td>\n",
       "      <td>McLaren Vale</td>\n",
       "      <td>NaN</td>\n",
       "      <td>Joe Czerwinski</td>\n",
       "      <td>@JoeCz</td>\n",
       "      <td>Hickinbotham 2013 The Peake Cabernet-Shiraz (M...</td>\n",
       "      <td>Cabernet-Shiraz</td>\n",
       "      <td>Hickinbotham</td>\n",
       "    </tr>\n",
       "    <tr>\n",
       "      <th>67096</th>\n",
       "      <td>67096</td>\n",
       "      <td>Australia</td>\n",
       "      <td>Just a tiny serving of this dark nectar will l...</td>\n",
       "      <td>Calliope Rare</td>\n",
       "      <td>98</td>\n",
       "      <td>86.0</td>\n",
       "      <td>Victoria</td>\n",
       "      <td>Rutherglen</td>\n",
       "      <td>NaN</td>\n",
       "      <td>Joe Czerwinski</td>\n",
       "      <td>@JoeCz</td>\n",
       "      <td>R.L. Buller &amp; Son NV Calliope Rare Tokay (Ruth...</td>\n",
       "      <td>Tokay</td>\n",
       "      <td>R.L. Buller &amp; Son</td>\n",
       "    </tr>\n",
       "    <tr>\n",
       "      <th>77028</th>\n",
       "      <td>77028</td>\n",
       "      <td>Australia</td>\n",
       "      <td>This has all the size and weight you've come t...</td>\n",
       "      <td>Grange</td>\n",
       "      <td>98</td>\n",
       "      <td>850.0</td>\n",
       "      <td>South Australia</td>\n",
       "      <td>South Australia</td>\n",
       "      <td>NaN</td>\n",
       "      <td>Joe Czerwinski</td>\n",
       "      <td>@JoeCz</td>\n",
       "      <td>Penfolds 2008 Grange Shiraz (South Australia)</td>\n",
       "      <td>Shiraz</td>\n",
       "      <td>Penfolds</td>\n",
       "    </tr>\n",
       "    <tr>\n",
       "      <th>77036</th>\n",
       "      <td>77036</td>\n",
       "      <td>Australia</td>\n",
       "      <td>RWT (unromantically derived from “Red Wine Tri...</td>\n",
       "      <td>RWT</td>\n",
       "      <td>96</td>\n",
       "      <td>150.0</td>\n",
       "      <td>South Australia</td>\n",
       "      <td>Barossa Valley</td>\n",
       "      <td>NaN</td>\n",
       "      <td>Joe Czerwinski</td>\n",
       "      <td>@JoeCz</td>\n",
       "      <td>Penfolds 2009 RWT Shiraz (Barossa Valley)</td>\n",
       "      <td>Shiraz</td>\n",
       "      <td>Penfolds</td>\n",
       "    </tr>\n",
       "    <tr>\n",
       "      <th>77037</th>\n",
       "      <td>77037</td>\n",
       "      <td>Australia</td>\n",
       "      <td>Winemaker Dave Powell is no longer with Torbre...</td>\n",
       "      <td>RunRig</td>\n",
       "      <td>96</td>\n",
       "      <td>225.0</td>\n",
       "      <td>South Australia</td>\n",
       "      <td>Barossa Valley</td>\n",
       "      <td>NaN</td>\n",
       "      <td>Joe Czerwinski</td>\n",
       "      <td>@JoeCz</td>\n",
       "      <td>Torbreck 2007 RunRig Shiraz-Viognier (Barossa ...</td>\n",
       "      <td>Shiraz-Viognier</td>\n",
       "      <td>Torbreck</td>\n",
       "    </tr>\n",
       "    <tr>\n",
       "      <th>83357</th>\n",
       "      <td>83357</td>\n",
       "      <td>Australia</td>\n",
       "      <td>A throwback to the monster Shiraz style of old...</td>\n",
       "      <td>Grange</td>\n",
       "      <td>96</td>\n",
       "      <td>500.0</td>\n",
       "      <td>South Australia</td>\n",
       "      <td>South Australia</td>\n",
       "      <td>NaN</td>\n",
       "      <td>Joe Czerwinski</td>\n",
       "      <td>@JoeCz</td>\n",
       "      <td>Penfolds 2004 Grange Shiraz (South Australia)</td>\n",
       "      <td>Shiraz</td>\n",
       "      <td>Penfolds</td>\n",
       "    </tr>\n",
       "    <tr>\n",
       "      <th>87128</th>\n",
       "      <td>87128</td>\n",
       "      <td>Australia</td>\n",
       "      <td>This full-bodied, muscular Shiraz is built for...</td>\n",
       "      <td>Amery Vineyard Block 6</td>\n",
       "      <td>96</td>\n",
       "      <td>120.0</td>\n",
       "      <td>South Australia</td>\n",
       "      <td>McLaren Vale</td>\n",
       "      <td>NaN</td>\n",
       "      <td>Joe Czerwinski</td>\n",
       "      <td>@JoeCz</td>\n",
       "      <td>Kay Brothers 2012 Amery Vineyard Block 6 Shira...</td>\n",
       "      <td>Shiraz</td>\n",
       "      <td>Kay Brothers</td>\n",
       "    </tr>\n",
       "    <tr>\n",
       "      <th>109427</th>\n",
       "      <td>109427</td>\n",
       "      <td>Australia</td>\n",
       "      <td>This wine is dark brown in hue with a greenish...</td>\n",
       "      <td>Rare</td>\n",
       "      <td>99</td>\n",
       "      <td>300.0</td>\n",
       "      <td>Victoria</td>\n",
       "      <td>Rutherglen</td>\n",
       "      <td>NaN</td>\n",
       "      <td>Joe Czerwinski</td>\n",
       "      <td>@JoeCz</td>\n",
       "      <td>Chambers Rosewood Vineyards NV Rare Muscadelle...</td>\n",
       "      <td>Muscadelle</td>\n",
       "      <td>Chambers Rosewood Vineyards</td>\n",
       "    </tr>\n",
       "    <tr>\n",
       "      <th>109434</th>\n",
       "      <td>109434</td>\n",
       "      <td>Australia</td>\n",
       "      <td>D'Arenberg's lineup of single-vineyard Shiraze...</td>\n",
       "      <td>The Swinging Malaysian Single Vineyard</td>\n",
       "      <td>96</td>\n",
       "      <td>85.0</td>\n",
       "      <td>South Australia</td>\n",
       "      <td>McLaren Vale</td>\n",
       "      <td>NaN</td>\n",
       "      <td>Joe Czerwinski</td>\n",
       "      <td>@JoeCz</td>\n",
       "      <td>D'Arenberg 2010 The Swinging Malaysian Single ...</td>\n",
       "      <td>Shiraz</td>\n",
       "      <td>D'Arenberg</td>\n",
       "    </tr>\n",
       "    <tr>\n",
       "      <th>122421</th>\n",
       "      <td>122421</td>\n",
       "      <td>Australia</td>\n",
       "      <td>Despite this wine's weight and richness, it re...</td>\n",
       "      <td>Amon-Ra Unfiltered</td>\n",
       "      <td>96</td>\n",
       "      <td>110.0</td>\n",
       "      <td>South Australia</td>\n",
       "      <td>Barossa Valley</td>\n",
       "      <td>NaN</td>\n",
       "      <td>Joe Czerwinski</td>\n",
       "      <td>@JoeCz</td>\n",
       "      <td>Glaetzer 2010 Amon-Ra Unfiltered Shiraz (Baros...</td>\n",
       "      <td>Shiraz</td>\n",
       "      <td>Glaetzer</td>\n",
       "    </tr>\n",
       "    <tr>\n",
       "      <th>122939</th>\n",
       "      <td>122939</td>\n",
       "      <td>Australia</td>\n",
       "      <td>Full-bodied and plush yet vibrant and imbued w...</td>\n",
       "      <td>The Factor</td>\n",
       "      <td>98</td>\n",
       "      <td>125.0</td>\n",
       "      <td>South Australia</td>\n",
       "      <td>Barossa Valley</td>\n",
       "      <td>NaN</td>\n",
       "      <td>Joe Czerwinski</td>\n",
       "      <td>@JoeCz</td>\n",
       "      <td>Torbreck 2013 The Factor Shiraz (Barossa Valley)</td>\n",
       "      <td>Shiraz</td>\n",
       "      <td>Torbreck</td>\n",
       "    </tr>\n",
       "  </tbody>\n",
       "</table>\n",
       "</div>"
      ],
      "text/plain": [
       "        Unnamed: 0    country  \\\n",
       "345            345  Australia   \n",
       "346            346  Australia   \n",
       "348            348  Australia   \n",
       "349            349  Australia   \n",
       "34502        34502  Australia   \n",
       "34506        34506  Australia   \n",
       "39961        39961  Australia   \n",
       "56953        56953  Australia   \n",
       "56956        56956  Australia   \n",
       "56957        56957  Australia   \n",
       "56959        56959  Australia   \n",
       "59977        59977  Australia   \n",
       "67096        67096  Australia   \n",
       "77028        77028  Australia   \n",
       "77036        77036  Australia   \n",
       "77037        77037  Australia   \n",
       "83357        83357  Australia   \n",
       "87128        87128  Australia   \n",
       "109427      109427  Australia   \n",
       "109434      109434  Australia   \n",
       "122421      122421  Australia   \n",
       "122939      122939  Australia   \n",
       "\n",
       "                                              description  \\\n",
       "345     This wine contains some material over 100 year...   \n",
       "346     This deep brown wine smells like a damp, mossy...   \n",
       "348     Deep mahogany. Dried fig and black tea on the ...   \n",
       "349     RunRig is always complex, and the 2012 doesn't...   \n",
       "34502   This prodigious wine showcases Barossa's abili...   \n",
       "34506   If Standish's Relic is the feminine side of Sh...   \n",
       "39961   As unevolved as they are, the dense and multil...   \n",
       "56953   This inky, embryonic wine deserves to be cella...   \n",
       "56956   You may have to scour the country to secure so...   \n",
       "56957   Thorn Clarke has taken its Shiraz to a new lev...   \n",
       "56959   Is this the Yin to Grange's Yang? The wines ar...   \n",
       "59977   This is a top example of the classic Australia...   \n",
       "67096   Just a tiny serving of this dark nectar will l...   \n",
       "77028   This has all the size and weight you've come t...   \n",
       "77036   RWT (unromantically derived from “Red Wine Tri...   \n",
       "77037   Winemaker Dave Powell is no longer with Torbre...   \n",
       "83357   A throwback to the monster Shiraz style of old...   \n",
       "87128   This full-bodied, muscular Shiraz is built for...   \n",
       "109427  This wine is dark brown in hue with a greenish...   \n",
       "109434  D'Arenberg's lineup of single-vineyard Shiraze...   \n",
       "122421  Despite this wine's weight and richness, it re...   \n",
       "122939  Full-bodied and plush yet vibrant and imbued w...   \n",
       "\n",
       "                                   designation  points  price  \\\n",
       "345                                       Rare     100  350.0   \n",
       "346                                       Rare      98  350.0   \n",
       "348                                      Grand      97  100.0   \n",
       "349                                     RunRig      97  225.0   \n",
       "34502                                The Relic      98  135.0   \n",
       "34506             The Standish Single Vineyard      96  135.0   \n",
       "39961                                   Grange      96  185.0   \n",
       "56953                                   Grange      99  850.0   \n",
       "56956                               Andelmonde      97   95.0   \n",
       "56957                Ron Thorn Single Vineyard      96   89.0   \n",
       "56959                            Hill of Grace      96  820.0   \n",
       "59977                                The Peake      96  150.0   \n",
       "67096                            Calliope Rare      98   86.0   \n",
       "77028                                   Grange      98  850.0   \n",
       "77036                                      RWT      96  150.0   \n",
       "77037                                   RunRig      96  225.0   \n",
       "83357                                   Grange      96  500.0   \n",
       "87128                   Amery Vineyard Block 6      96  120.0   \n",
       "109427                                    Rare      99  300.0   \n",
       "109434  The Swinging Malaysian Single Vineyard      96   85.0   \n",
       "122421                      Amon-Ra Unfiltered      96  110.0   \n",
       "122939                              The Factor      98  125.0   \n",
       "\n",
       "               province         region_1 region_2     taster_name  \\\n",
       "345            Victoria       Rutherglen      NaN  Joe Czerwinski   \n",
       "346            Victoria       Rutherglen      NaN  Joe Czerwinski   \n",
       "348            Victoria       Rutherglen      NaN  Joe Czerwinski   \n",
       "349     South Australia          Barossa      NaN  Joe Czerwinski   \n",
       "34502   South Australia   Barossa Valley      NaN  Joe Czerwinski   \n",
       "34506   South Australia   Barossa Valley      NaN  Joe Czerwinski   \n",
       "39961   South Australia  South Australia      NaN             NaN   \n",
       "56953   South Australia  South Australia      NaN  Joe Czerwinski   \n",
       "56956   South Australia   Barossa Valley      NaN  Joe Czerwinski   \n",
       "56957   South Australia          Barossa      NaN  Joe Czerwinski   \n",
       "56959   South Australia      Eden Valley      NaN  Joe Czerwinski   \n",
       "59977   South Australia     McLaren Vale      NaN  Joe Czerwinski   \n",
       "67096          Victoria       Rutherglen      NaN  Joe Czerwinski   \n",
       "77028   South Australia  South Australia      NaN  Joe Czerwinski   \n",
       "77036   South Australia   Barossa Valley      NaN  Joe Czerwinski   \n",
       "77037   South Australia   Barossa Valley      NaN  Joe Czerwinski   \n",
       "83357   South Australia  South Australia      NaN  Joe Czerwinski   \n",
       "87128   South Australia     McLaren Vale      NaN  Joe Czerwinski   \n",
       "109427         Victoria       Rutherglen      NaN  Joe Czerwinski   \n",
       "109434  South Australia     McLaren Vale      NaN  Joe Czerwinski   \n",
       "122421  South Australia   Barossa Valley      NaN  Joe Czerwinski   \n",
       "122939  South Australia   Barossa Valley      NaN  Joe Czerwinski   \n",
       "\n",
       "       taster_twitter_handle  \\\n",
       "345                   @JoeCz   \n",
       "346                   @JoeCz   \n",
       "348                   @JoeCz   \n",
       "349                   @JoeCz   \n",
       "34502                 @JoeCz   \n",
       "34506                 @JoeCz   \n",
       "39961                    NaN   \n",
       "56953                 @JoeCz   \n",
       "56956                 @JoeCz   \n",
       "56957                 @JoeCz   \n",
       "56959                 @JoeCz   \n",
       "59977                 @JoeCz   \n",
       "67096                 @JoeCz   \n",
       "77028                 @JoeCz   \n",
       "77036                 @JoeCz   \n",
       "77037                 @JoeCz   \n",
       "83357                 @JoeCz   \n",
       "87128                 @JoeCz   \n",
       "109427                @JoeCz   \n",
       "109434                @JoeCz   \n",
       "122421                @JoeCz   \n",
       "122939                @JoeCz   \n",
       "\n",
       "                                                    title          variety  \\\n",
       "345     Chambers Rosewood Vineyards NV Rare Muscat (Ru...           Muscat   \n",
       "346     Chambers Rosewood Vineyards NV Rare Muscadelle...       Muscadelle   \n",
       "348     Chambers Rosewood Vineyards NV Grand Muscat (R...           Muscat   \n",
       "349        Torbreck 2012 RunRig Shiraz-Viognier (Barossa)  Shiraz-Viognier   \n",
       "34502     Standish 2006 The Relic Shiraz (Barossa Valley)           Shiraz   \n",
       "34506   Standish 2005 The Standish Single Vineyard Shi...           Shiraz   \n",
       "39961       Penfolds 1996 Grange Shiraz (South Australia)           Shiraz   \n",
       "56953       Penfolds 2010 Grange Shiraz (South Australia)           Shiraz   \n",
       "56956    Standish 2012 Andelmonde Shiraz (Barossa Valley)           Shiraz   \n",
       "56957   Thorn Clarke 2012 Ron Thorn Single Vineyard Sh...           Shiraz   \n",
       "56959    Henschke 2010 Hill of Grace Shiraz (Eden Valley)           Shiraz   \n",
       "59977   Hickinbotham 2013 The Peake Cabernet-Shiraz (M...  Cabernet-Shiraz   \n",
       "67096   R.L. Buller & Son NV Calliope Rare Tokay (Ruth...            Tokay   \n",
       "77028       Penfolds 2008 Grange Shiraz (South Australia)           Shiraz   \n",
       "77036           Penfolds 2009 RWT Shiraz (Barossa Valley)           Shiraz   \n",
       "77037   Torbreck 2007 RunRig Shiraz-Viognier (Barossa ...  Shiraz-Viognier   \n",
       "83357       Penfolds 2004 Grange Shiraz (South Australia)           Shiraz   \n",
       "87128   Kay Brothers 2012 Amery Vineyard Block 6 Shira...           Shiraz   \n",
       "109427  Chambers Rosewood Vineyards NV Rare Muscadelle...       Muscadelle   \n",
       "109434  D'Arenberg 2010 The Swinging Malaysian Single ...           Shiraz   \n",
       "122421  Glaetzer 2010 Amon-Ra Unfiltered Shiraz (Baros...           Shiraz   \n",
       "122939   Torbreck 2013 The Factor Shiraz (Barossa Valley)           Shiraz   \n",
       "\n",
       "                             winery  \n",
       "345     Chambers Rosewood Vineyards  \n",
       "346     Chambers Rosewood Vineyards  \n",
       "348     Chambers Rosewood Vineyards  \n",
       "349                        Torbreck  \n",
       "34502                      Standish  \n",
       "34506                      Standish  \n",
       "39961                      Penfolds  \n",
       "56953                      Penfolds  \n",
       "56956                      Standish  \n",
       "56957                  Thorn Clarke  \n",
       "56959                      Henschke  \n",
       "59977                  Hickinbotham  \n",
       "67096             R.L. Buller & Son  \n",
       "77028                      Penfolds  \n",
       "77036                      Penfolds  \n",
       "77037                      Torbreck  \n",
       "83357                      Penfolds  \n",
       "87128                  Kay Brothers  \n",
       "109427  Chambers Rosewood Vineyards  \n",
       "109434                   D'Arenberg  \n",
       "122421                     Glaetzer  \n",
       "122939                     Torbreck  "
      ]
     },
     "execution_count": 233,
     "metadata": {},
     "output_type": "execute_result"
    }
   ],
   "source": [
    "wi_sc = wi[(wi['country']=='Australia') | (wi['country']=='New Zealand') ]\n",
    "topow = wi_sc[wi_sc['points']>95]\n",
    "topow"
   ]
  },
  {
   "cell_type": "markdown",
   "id": "210a7e51",
   "metadata": {},
   "source": [
    "#### Ex 4.4\n",
    "What are the minimum and maximum prices for each `variety` of wine? Create a `DataFrame` whose index is the `variety` category from the dataset and whose values are the `min` and `max` values thereof."
   ]
  },
  {
   "cell_type": "code",
   "execution_count": 243,
   "id": "a8771331",
   "metadata": {},
   "outputs": [
    {
     "data": {
      "text/plain": [
       "Index(['Abouriou', 'Agiorgitiko', 'Aglianico', 'Aidani', 'Airen', 'Albana',\n",
       "       'Albanello', 'Albariño', 'Albarossa', 'Aleatico',\n",
       "       ...\n",
       "       'Yapincak', 'Zelen', 'Zibibbo', 'Zierfandler', 'Zierfandler-Rotgipfler',\n",
       "       'Zinfandel', 'Zlahtina', 'Zweigelt', 'Çalkarası', 'Žilavka'],\n",
       "      dtype='object', name='variety', length=707)"
      ]
     },
     "execution_count": 243,
     "metadata": {},
     "output_type": "execute_result"
    }
   ],
   "source": [
    "a['price'].size().index  # Notice the .size() method"
   ]
  },
  {
   "cell_type": "code",
   "execution_count": 246,
   "id": "af7cf87e",
   "metadata": {},
   "outputs": [],
   "source": [
    "a = wi.groupby('variety')\n",
    "df = pd.DataFrame({'Min_price':list(a['price'].min()),'Max_price':list(a['price'].max())}, index = list(a['price'].size().index))"
   ]
  },
  {
   "cell_type": "code",
   "execution_count": 247,
   "id": "02fac89d",
   "metadata": {},
   "outputs": [
    {
     "data": {
      "text/html": [
       "<div>\n",
       "<style scoped>\n",
       "    .dataframe tbody tr th:only-of-type {\n",
       "        vertical-align: middle;\n",
       "    }\n",
       "\n",
       "    .dataframe tbody tr th {\n",
       "        vertical-align: top;\n",
       "    }\n",
       "\n",
       "    .dataframe thead th {\n",
       "        text-align: right;\n",
       "    }\n",
       "</style>\n",
       "<table border=\"1\" class=\"dataframe\">\n",
       "  <thead>\n",
       "    <tr style=\"text-align: right;\">\n",
       "      <th></th>\n",
       "      <th>Min_price</th>\n",
       "      <th>Max_price</th>\n",
       "    </tr>\n",
       "  </thead>\n",
       "  <tbody>\n",
       "    <tr>\n",
       "      <th>Abouriou</th>\n",
       "      <td>15.0</td>\n",
       "      <td>75.0</td>\n",
       "    </tr>\n",
       "    <tr>\n",
       "      <th>Agiorgitiko</th>\n",
       "      <td>10.0</td>\n",
       "      <td>66.0</td>\n",
       "    </tr>\n",
       "    <tr>\n",
       "      <th>Aglianico</th>\n",
       "      <td>6.0</td>\n",
       "      <td>180.0</td>\n",
       "    </tr>\n",
       "    <tr>\n",
       "      <th>Aidani</th>\n",
       "      <td>27.0</td>\n",
       "      <td>27.0</td>\n",
       "    </tr>\n",
       "    <tr>\n",
       "      <th>Airen</th>\n",
       "      <td>8.0</td>\n",
       "      <td>10.0</td>\n",
       "    </tr>\n",
       "    <tr>\n",
       "      <th>...</th>\n",
       "      <td>...</td>\n",
       "      <td>...</td>\n",
       "    </tr>\n",
       "    <tr>\n",
       "      <th>Zinfandel</th>\n",
       "      <td>5.0</td>\n",
       "      <td>100.0</td>\n",
       "    </tr>\n",
       "    <tr>\n",
       "      <th>Zlahtina</th>\n",
       "      <td>13.0</td>\n",
       "      <td>16.0</td>\n",
       "    </tr>\n",
       "    <tr>\n",
       "      <th>Zweigelt</th>\n",
       "      <td>9.0</td>\n",
       "      <td>70.0</td>\n",
       "    </tr>\n",
       "    <tr>\n",
       "      <th>Çalkarası</th>\n",
       "      <td>19.0</td>\n",
       "      <td>19.0</td>\n",
       "    </tr>\n",
       "    <tr>\n",
       "      <th>Žilavka</th>\n",
       "      <td>15.0</td>\n",
       "      <td>15.0</td>\n",
       "    </tr>\n",
       "  </tbody>\n",
       "</table>\n",
       "<p>707 rows × 2 columns</p>\n",
       "</div>"
      ],
      "text/plain": [
       "             Min_price  Max_price\n",
       "Abouriou          15.0       75.0\n",
       "Agiorgitiko       10.0       66.0\n",
       "Aglianico          6.0      180.0\n",
       "Aidani            27.0       27.0\n",
       "Airen              8.0       10.0\n",
       "...                ...        ...\n",
       "Zinfandel          5.0      100.0\n",
       "Zlahtina          13.0       16.0\n",
       "Zweigelt           9.0       70.0\n",
       "Çalkarası         19.0       19.0\n",
       "Žilavka           15.0       15.0\n",
       "\n",
       "[707 rows x 2 columns]"
      ]
     },
     "execution_count": 247,
     "metadata": {},
     "output_type": "execute_result"
    }
   ],
   "source": [
    "df"
   ]
  },
  {
   "cell_type": "markdown",
   "id": "96cb9d65",
   "metadata": {},
   "source": [
    "#### Ex 4.5\n",
    "I'm an economical wine buyer. Which wine is the \"best bargain\"? Create a variable bargain_wine with the title of the wine with the highest points-to-price ratio in the dataset."
   ]
  },
  {
   "cell_type": "code",
   "execution_count": 255,
   "id": "2d24f768",
   "metadata": {},
   "outputs": [],
   "source": [
    "wi_ = wi.set_index('title')"
   ]
  },
  {
   "cell_type": "code",
   "execution_count": 256,
   "id": "45d787a5",
   "metadata": {},
   "outputs": [],
   "source": [
    "po = wi_['points']\n",
    "pr = wi_['price']"
   ]
  },
  {
   "cell_type": "code",
   "execution_count": 258,
   "id": "f0c9fa47",
   "metadata": {},
   "outputs": [],
   "source": [
    "bargain = po/pr"
   ]
  },
  {
   "cell_type": "code",
   "execution_count": 268,
   "id": "b79556fd",
   "metadata": {},
   "outputs": [
    {
     "data": {
      "text/html": [
       "<div>\n",
       "<style scoped>\n",
       "    .dataframe tbody tr th:only-of-type {\n",
       "        vertical-align: middle;\n",
       "    }\n",
       "\n",
       "    .dataframe tbody tr th {\n",
       "        vertical-align: top;\n",
       "    }\n",
       "\n",
       "    .dataframe thead th {\n",
       "        text-align: right;\n",
       "    }\n",
       "</style>\n",
       "<table border=\"1\" class=\"dataframe\">\n",
       "  <thead>\n",
       "    <tr style=\"text-align: right;\">\n",
       "      <th></th>\n",
       "      <th>0</th>\n",
       "    </tr>\n",
       "    <tr>\n",
       "      <th>title</th>\n",
       "      <th></th>\n",
       "    </tr>\n",
       "  </thead>\n",
       "  <tbody>\n",
       "    <tr>\n",
       "      <th>Nicosia 2013 Vulkà Bianco  (Etna)</th>\n",
       "      <td>NaN</td>\n",
       "    </tr>\n",
       "    <tr>\n",
       "      <th>Quinta dos Avidagos 2011 Avidagos Red (Douro)</th>\n",
       "      <td>5.800000</td>\n",
       "    </tr>\n",
       "    <tr>\n",
       "      <th>Rainstorm 2013 Pinot Gris (Willamette Valley)</th>\n",
       "      <td>6.214286</td>\n",
       "    </tr>\n",
       "    <tr>\n",
       "      <th>St. Julian 2013 Reserve Late Harvest Riesling (Lake Michigan Shore)</th>\n",
       "      <td>6.692308</td>\n",
       "    </tr>\n",
       "    <tr>\n",
       "      <th>Sweet Cheeks 2012 Vintner's Reserve Wild Child Block Pinot Noir (Willamette Valley)</th>\n",
       "      <td>1.338462</td>\n",
       "    </tr>\n",
       "    <tr>\n",
       "      <th>...</th>\n",
       "      <td>...</td>\n",
       "    </tr>\n",
       "    <tr>\n",
       "      <th>Dr. H. Thanisch (Erben Müller-Burggraef) 2013 Brauneberger Juffer-Sonnenuhr Spätlese Riesling (Mosel)</th>\n",
       "      <td>3.214286</td>\n",
       "    </tr>\n",
       "    <tr>\n",
       "      <th>Citation 2004 Pinot Noir (Oregon)</th>\n",
       "      <td>1.200000</td>\n",
       "    </tr>\n",
       "    <tr>\n",
       "      <th>Domaine Gresser 2013 Kritt Gewurztraminer (Alsace)</th>\n",
       "      <td>3.000000</td>\n",
       "    </tr>\n",
       "    <tr>\n",
       "      <th>Domaine Marcel Deiss 2012 Pinot Gris (Alsace)</th>\n",
       "      <td>2.812500</td>\n",
       "    </tr>\n",
       "    <tr>\n",
       "      <th>Domaine Schoffit 2012 Lieu-dit Harth Cuvée Caroline Gewurztraminer (Alsace)</th>\n",
       "      <td>4.285714</td>\n",
       "    </tr>\n",
       "  </tbody>\n",
       "</table>\n",
       "<p>129971 rows × 1 columns</p>\n",
       "</div>"
      ],
      "text/plain": [
       "                                                           0\n",
       "title                                                       \n",
       "Nicosia 2013 Vulkà Bianco  (Etna)                        NaN\n",
       "Quinta dos Avidagos 2011 Avidagos Red (Douro)       5.800000\n",
       "Rainstorm 2013 Pinot Gris (Willamette Valley)       6.214286\n",
       "St. Julian 2013 Reserve Late Harvest Riesling (...  6.692308\n",
       "Sweet Cheeks 2012 Vintner's Reserve Wild Child ...  1.338462\n",
       "...                                                      ...\n",
       "Dr. H. Thanisch (Erben Müller-Burggraef) 2013 B...  3.214286\n",
       "Citation 2004 Pinot Noir (Oregon)                   1.200000\n",
       "Domaine Gresser 2013 Kritt Gewurztraminer (Alsace)  3.000000\n",
       "Domaine Marcel Deiss 2012 Pinot Gris (Alsace)       2.812500\n",
       "Domaine Schoffit 2012 Lieu-dit Harth Cuvée Caro...  4.285714\n",
       "\n",
       "[129971 rows x 1 columns]"
      ]
     },
     "execution_count": 268,
     "metadata": {},
     "output_type": "execute_result"
    }
   ],
   "source": [
    "pd.DataFrame(bargain.values,index = bargain.index)"
   ]
  },
  {
   "cell_type": "markdown",
   "id": "9495552b",
   "metadata": {},
   "source": [
    "#### Ex 4.6\n",
    "\n",
    "`region_1` and `region_2` are pretty uninformative names for locale columns in our wine reviews dataset. Create a copy of `wi` with these columns renamed to `region` and `locale`, respectively."
   ]
  },
  {
   "cell_type": "code",
   "execution_count": 272,
   "id": "7cdc52e2",
   "metadata": {},
   "outputs": [],
   "source": [
    "wi_new = wi.rename(columns = {'region_1' : 'region', 'region_2' : 'locale'})"
   ]
  },
  {
   "cell_type": "code",
   "execution_count": 273,
   "id": "e0315a75",
   "metadata": {},
   "outputs": [
    {
     "data": {
      "text/html": [
       "<div>\n",
       "<style scoped>\n",
       "    .dataframe tbody tr th:only-of-type {\n",
       "        vertical-align: middle;\n",
       "    }\n",
       "\n",
       "    .dataframe tbody tr th {\n",
       "        vertical-align: top;\n",
       "    }\n",
       "\n",
       "    .dataframe thead th {\n",
       "        text-align: right;\n",
       "    }\n",
       "</style>\n",
       "<table border=\"1\" class=\"dataframe\">\n",
       "  <thead>\n",
       "    <tr style=\"text-align: right;\">\n",
       "      <th></th>\n",
       "      <th>Unnamed: 0</th>\n",
       "      <th>country</th>\n",
       "      <th>description</th>\n",
       "      <th>designation</th>\n",
       "      <th>points</th>\n",
       "      <th>price</th>\n",
       "      <th>province</th>\n",
       "      <th>region</th>\n",
       "      <th>locale</th>\n",
       "      <th>taster_name</th>\n",
       "      <th>taster_twitter_handle</th>\n",
       "      <th>title</th>\n",
       "      <th>variety</th>\n",
       "      <th>winery</th>\n",
       "    </tr>\n",
       "  </thead>\n",
       "  <tbody>\n",
       "    <tr>\n",
       "      <th>0</th>\n",
       "      <td>0</td>\n",
       "      <td>Italy</td>\n",
       "      <td>Aromas include tropical fruit, broom, brimston...</td>\n",
       "      <td>Vulkà Bianco</td>\n",
       "      <td>87</td>\n",
       "      <td>NaN</td>\n",
       "      <td>Sicily &amp; Sardinia</td>\n",
       "      <td>Etna</td>\n",
       "      <td>NaN</td>\n",
       "      <td>Kerin O’Keefe</td>\n",
       "      <td>@kerinokeefe</td>\n",
       "      <td>Nicosia 2013 Vulkà Bianco  (Etna)</td>\n",
       "      <td>White Blend</td>\n",
       "      <td>Nicosia</td>\n",
       "    </tr>\n",
       "    <tr>\n",
       "      <th>1</th>\n",
       "      <td>1</td>\n",
       "      <td>Portugal</td>\n",
       "      <td>This is ripe and fruity, a wine that is smooth...</td>\n",
       "      <td>Avidagos</td>\n",
       "      <td>87</td>\n",
       "      <td>15.0</td>\n",
       "      <td>Douro</td>\n",
       "      <td>NaN</td>\n",
       "      <td>NaN</td>\n",
       "      <td>Roger Voss</td>\n",
       "      <td>@vossroger</td>\n",
       "      <td>Quinta dos Avidagos 2011 Avidagos Red (Douro)</td>\n",
       "      <td>Portuguese Red</td>\n",
       "      <td>Quinta dos Avidagos</td>\n",
       "    </tr>\n",
       "    <tr>\n",
       "      <th>2</th>\n",
       "      <td>2</td>\n",
       "      <td>US</td>\n",
       "      <td>Tart and snappy, the flavors of lime flesh and...</td>\n",
       "      <td>NaN</td>\n",
       "      <td>87</td>\n",
       "      <td>14.0</td>\n",
       "      <td>Oregon</td>\n",
       "      <td>Willamette Valley</td>\n",
       "      <td>Willamette Valley</td>\n",
       "      <td>Paul Gregutt</td>\n",
       "      <td>@paulgwine</td>\n",
       "      <td>Rainstorm 2013 Pinot Gris (Willamette Valley)</td>\n",
       "      <td>Pinot Gris</td>\n",
       "      <td>Rainstorm</td>\n",
       "    </tr>\n",
       "    <tr>\n",
       "      <th>3</th>\n",
       "      <td>3</td>\n",
       "      <td>US</td>\n",
       "      <td>Pineapple rind, lemon pith and orange blossom ...</td>\n",
       "      <td>Reserve Late Harvest</td>\n",
       "      <td>87</td>\n",
       "      <td>13.0</td>\n",
       "      <td>Michigan</td>\n",
       "      <td>Lake Michigan Shore</td>\n",
       "      <td>NaN</td>\n",
       "      <td>Alexander Peartree</td>\n",
       "      <td>NaN</td>\n",
       "      <td>St. Julian 2013 Reserve Late Harvest Riesling ...</td>\n",
       "      <td>Riesling</td>\n",
       "      <td>St. Julian</td>\n",
       "    </tr>\n",
       "    <tr>\n",
       "      <th>4</th>\n",
       "      <td>4</td>\n",
       "      <td>US</td>\n",
       "      <td>Much like the regular bottling from 2012, this...</td>\n",
       "      <td>Vintner's Reserve Wild Child Block</td>\n",
       "      <td>87</td>\n",
       "      <td>65.0</td>\n",
       "      <td>Oregon</td>\n",
       "      <td>Willamette Valley</td>\n",
       "      <td>Willamette Valley</td>\n",
       "      <td>Paul Gregutt</td>\n",
       "      <td>@paulgwine</td>\n",
       "      <td>Sweet Cheeks 2012 Vintner's Reserve Wild Child...</td>\n",
       "      <td>Pinot Noir</td>\n",
       "      <td>Sweet Cheeks</td>\n",
       "    </tr>\n",
       "    <tr>\n",
       "      <th>...</th>\n",
       "      <td>...</td>\n",
       "      <td>...</td>\n",
       "      <td>...</td>\n",
       "      <td>...</td>\n",
       "      <td>...</td>\n",
       "      <td>...</td>\n",
       "      <td>...</td>\n",
       "      <td>...</td>\n",
       "      <td>...</td>\n",
       "      <td>...</td>\n",
       "      <td>...</td>\n",
       "      <td>...</td>\n",
       "      <td>...</td>\n",
       "      <td>...</td>\n",
       "    </tr>\n",
       "    <tr>\n",
       "      <th>129966</th>\n",
       "      <td>129966</td>\n",
       "      <td>Germany</td>\n",
       "      <td>Notes of honeysuckle and cantaloupe sweeten th...</td>\n",
       "      <td>Brauneberger Juffer-Sonnenuhr Spätlese</td>\n",
       "      <td>90</td>\n",
       "      <td>28.0</td>\n",
       "      <td>Mosel</td>\n",
       "      <td>NaN</td>\n",
       "      <td>NaN</td>\n",
       "      <td>Anna Lee C. Iijima</td>\n",
       "      <td>NaN</td>\n",
       "      <td>Dr. H. Thanisch (Erben Müller-Burggraef) 2013 ...</td>\n",
       "      <td>Riesling</td>\n",
       "      <td>Dr. H. Thanisch (Erben Müller-Burggraef)</td>\n",
       "    </tr>\n",
       "    <tr>\n",
       "      <th>129967</th>\n",
       "      <td>129967</td>\n",
       "      <td>US</td>\n",
       "      <td>Citation is given as much as a decade of bottl...</td>\n",
       "      <td>NaN</td>\n",
       "      <td>90</td>\n",
       "      <td>75.0</td>\n",
       "      <td>Oregon</td>\n",
       "      <td>Oregon</td>\n",
       "      <td>Oregon Other</td>\n",
       "      <td>Paul Gregutt</td>\n",
       "      <td>@paulgwine</td>\n",
       "      <td>Citation 2004 Pinot Noir (Oregon)</td>\n",
       "      <td>Pinot Noir</td>\n",
       "      <td>Citation</td>\n",
       "    </tr>\n",
       "    <tr>\n",
       "      <th>129968</th>\n",
       "      <td>129968</td>\n",
       "      <td>France</td>\n",
       "      <td>Well-drained gravel soil gives this wine its c...</td>\n",
       "      <td>Kritt</td>\n",
       "      <td>90</td>\n",
       "      <td>30.0</td>\n",
       "      <td>Alsace</td>\n",
       "      <td>Alsace</td>\n",
       "      <td>NaN</td>\n",
       "      <td>Roger Voss</td>\n",
       "      <td>@vossroger</td>\n",
       "      <td>Domaine Gresser 2013 Kritt Gewurztraminer (Als...</td>\n",
       "      <td>Gewürztraminer</td>\n",
       "      <td>Domaine Gresser</td>\n",
       "    </tr>\n",
       "    <tr>\n",
       "      <th>129969</th>\n",
       "      <td>129969</td>\n",
       "      <td>France</td>\n",
       "      <td>A dry style of Pinot Gris, this is crisp with ...</td>\n",
       "      <td>NaN</td>\n",
       "      <td>90</td>\n",
       "      <td>32.0</td>\n",
       "      <td>Alsace</td>\n",
       "      <td>Alsace</td>\n",
       "      <td>NaN</td>\n",
       "      <td>Roger Voss</td>\n",
       "      <td>@vossroger</td>\n",
       "      <td>Domaine Marcel Deiss 2012 Pinot Gris (Alsace)</td>\n",
       "      <td>Pinot Gris</td>\n",
       "      <td>Domaine Marcel Deiss</td>\n",
       "    </tr>\n",
       "    <tr>\n",
       "      <th>129970</th>\n",
       "      <td>129970</td>\n",
       "      <td>France</td>\n",
       "      <td>Big, rich and off-dry, this is powered by inte...</td>\n",
       "      <td>Lieu-dit Harth Cuvée Caroline</td>\n",
       "      <td>90</td>\n",
       "      <td>21.0</td>\n",
       "      <td>Alsace</td>\n",
       "      <td>Alsace</td>\n",
       "      <td>NaN</td>\n",
       "      <td>Roger Voss</td>\n",
       "      <td>@vossroger</td>\n",
       "      <td>Domaine Schoffit 2012 Lieu-dit Harth Cuvée Car...</td>\n",
       "      <td>Gewürztraminer</td>\n",
       "      <td>Domaine Schoffit</td>\n",
       "    </tr>\n",
       "  </tbody>\n",
       "</table>\n",
       "<p>129971 rows × 14 columns</p>\n",
       "</div>"
      ],
      "text/plain": [
       "        Unnamed: 0   country  \\\n",
       "0                0     Italy   \n",
       "1                1  Portugal   \n",
       "2                2        US   \n",
       "3                3        US   \n",
       "4                4        US   \n",
       "...            ...       ...   \n",
       "129966      129966   Germany   \n",
       "129967      129967        US   \n",
       "129968      129968    France   \n",
       "129969      129969    France   \n",
       "129970      129970    France   \n",
       "\n",
       "                                              description  \\\n",
       "0       Aromas include tropical fruit, broom, brimston...   \n",
       "1       This is ripe and fruity, a wine that is smooth...   \n",
       "2       Tart and snappy, the flavors of lime flesh and...   \n",
       "3       Pineapple rind, lemon pith and orange blossom ...   \n",
       "4       Much like the regular bottling from 2012, this...   \n",
       "...                                                   ...   \n",
       "129966  Notes of honeysuckle and cantaloupe sweeten th...   \n",
       "129967  Citation is given as much as a decade of bottl...   \n",
       "129968  Well-drained gravel soil gives this wine its c...   \n",
       "129969  A dry style of Pinot Gris, this is crisp with ...   \n",
       "129970  Big, rich and off-dry, this is powered by inte...   \n",
       "\n",
       "                                   designation  points  price  \\\n",
       "0                                 Vulkà Bianco      87    NaN   \n",
       "1                                     Avidagos      87   15.0   \n",
       "2                                          NaN      87   14.0   \n",
       "3                         Reserve Late Harvest      87   13.0   \n",
       "4           Vintner's Reserve Wild Child Block      87   65.0   \n",
       "...                                        ...     ...    ...   \n",
       "129966  Brauneberger Juffer-Sonnenuhr Spätlese      90   28.0   \n",
       "129967                                     NaN      90   75.0   \n",
       "129968                                   Kritt      90   30.0   \n",
       "129969                                     NaN      90   32.0   \n",
       "129970           Lieu-dit Harth Cuvée Caroline      90   21.0   \n",
       "\n",
       "                 province               region             locale  \\\n",
       "0       Sicily & Sardinia                 Etna                NaN   \n",
       "1                   Douro                  NaN                NaN   \n",
       "2                  Oregon    Willamette Valley  Willamette Valley   \n",
       "3                Michigan  Lake Michigan Shore                NaN   \n",
       "4                  Oregon    Willamette Valley  Willamette Valley   \n",
       "...                   ...                  ...                ...   \n",
       "129966              Mosel                  NaN                NaN   \n",
       "129967             Oregon               Oregon       Oregon Other   \n",
       "129968             Alsace               Alsace                NaN   \n",
       "129969             Alsace               Alsace                NaN   \n",
       "129970             Alsace               Alsace                NaN   \n",
       "\n",
       "               taster_name taster_twitter_handle  \\\n",
       "0            Kerin O’Keefe          @kerinokeefe   \n",
       "1               Roger Voss            @vossroger   \n",
       "2             Paul Gregutt           @paulgwine    \n",
       "3       Alexander Peartree                   NaN   \n",
       "4             Paul Gregutt           @paulgwine    \n",
       "...                    ...                   ...   \n",
       "129966  Anna Lee C. Iijima                   NaN   \n",
       "129967        Paul Gregutt           @paulgwine    \n",
       "129968          Roger Voss            @vossroger   \n",
       "129969          Roger Voss            @vossroger   \n",
       "129970          Roger Voss            @vossroger   \n",
       "\n",
       "                                                    title         variety  \\\n",
       "0                       Nicosia 2013 Vulkà Bianco  (Etna)     White Blend   \n",
       "1           Quinta dos Avidagos 2011 Avidagos Red (Douro)  Portuguese Red   \n",
       "2           Rainstorm 2013 Pinot Gris (Willamette Valley)      Pinot Gris   \n",
       "3       St. Julian 2013 Reserve Late Harvest Riesling ...        Riesling   \n",
       "4       Sweet Cheeks 2012 Vintner's Reserve Wild Child...      Pinot Noir   \n",
       "...                                                   ...             ...   \n",
       "129966  Dr. H. Thanisch (Erben Müller-Burggraef) 2013 ...        Riesling   \n",
       "129967                  Citation 2004 Pinot Noir (Oregon)      Pinot Noir   \n",
       "129968  Domaine Gresser 2013 Kritt Gewurztraminer (Als...  Gewürztraminer   \n",
       "129969      Domaine Marcel Deiss 2012 Pinot Gris (Alsace)      Pinot Gris   \n",
       "129970  Domaine Schoffit 2012 Lieu-dit Harth Cuvée Car...  Gewürztraminer   \n",
       "\n",
       "                                          winery  \n",
       "0                                        Nicosia  \n",
       "1                            Quinta dos Avidagos  \n",
       "2                                      Rainstorm  \n",
       "3                                     St. Julian  \n",
       "4                                   Sweet Cheeks  \n",
       "...                                          ...  \n",
       "129966  Dr. H. Thanisch (Erben Müller-Burggraef)  \n",
       "129967                                  Citation  \n",
       "129968                           Domaine Gresser  \n",
       "129969                      Domaine Marcel Deiss  \n",
       "129970                          Domaine Schoffit  \n",
       "\n",
       "[129971 rows x 14 columns]"
      ]
     },
     "execution_count": 273,
     "metadata": {},
     "output_type": "execute_result"
    }
   ],
   "source": [
    "wi_new"
   ]
  }
 ],
 "metadata": {
  "kernelspec": {
   "display_name": "Python 3 (ipykernel)",
   "language": "python",
   "name": "python3"
  },
  "language_info": {
   "codemirror_mode": {
    "name": "ipython",
    "version": 3
   },
   "file_extension": ".py",
   "mimetype": "text/x-python",
   "name": "python",
   "nbconvert_exporter": "python",
   "pygments_lexer": "ipython3",
   "version": "3.9.13"
  }
 },
 "nbformat": 4,
 "nbformat_minor": 5
}
