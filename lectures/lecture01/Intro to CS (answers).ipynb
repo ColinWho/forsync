{
 "cells": [
  {
   "cell_type": "markdown",
   "id": "b349758e",
   "metadata": {},
   "source": [
    "# Introduction to Computer Science\n",
    "\n",
    "## Core exercises\n",
    "\n",
    "### Katas\n",
    "\n",
    "#### Fizz buzz\n",
    "\n",
    "A simple implementation might look like the following"
   ]
  },
  {
   "cell_type": "code",
   "execution_count": null,
   "id": "08ab07b7",
   "metadata": {
    "code_folding": [],
    "hide_input": false
   },
   "outputs": [],
   "source": [
    "def fizz_buzz(n):\n",
    "\n",
    "    for i in range(1, n + 1):\n",
    "        if i % 3 == 0 and i % 5 == 0:\n",
    "            print('Fizz Buzz')\n",
    "        elif i % 3 == 0:\n",
    "            print('Fizz')\n",
    "        elif i % 5 == 0:\n",
    "            print('Buzz')\n",
    "        else:\n",
    "            print(i)"
   ]
  },
  {
   "cell_type": "markdown",
   "id": "301d06bb",
   "metadata": {},
   "source": [
    "Here we use the \"modulo operator\" `%`, which returns the remainder of integer division, so that, for example `3%2 == 1`. Note that there are several alternative methods to set up these sort of tests, but the `i % 3` method is usual among the fastest.\n",
    "\n",
    "The order of the `if` and `else if` statements is important here. If we started with the line with just the `i % 5` statement, then 15 would return `Buzz` rather than `Fizz Buzz`"
   ]
  },
  {
   "cell_type": "markdown",
   "id": "f7f3b371",
   "metadata": {},
   "source": [
    "## Anagram checker\n",
    "\n",
    "For this sort of problem, the best answer is often to convert both inputs to a standard pattern, then compare them. This is something we can do fairly easily for Python strings, and in a number of ways."
   ]
  },
  {
   "cell_type": "code",
   "execution_count": null,
   "id": "66f0faed",
   "metadata": {},
   "outputs": [],
   "source": [
    "import string\n",
    "\n",
    "def anagram_checker(input1, input2):\n",
    "    input1 = [_.lower() for _ in input1 if _ in string.ascii_letters]\n",
    "    input2 = [_.lower() for _ in input2 if _ in string.ascii_letters]\n",
    "\n",
    "    return sorted(input1) == sorted(input2)"
   ]
  },
  {
   "cell_type": "markdown",
   "id": "cb1eb2a8",
   "metadata": {},
   "source": [
    "## A number dictionary\n",
    "\n",
    "The major difficulty here is coming up with the code to translate a number into it's word equivalent. This is effectively problem of \"mapping\" from numbers to words, and mapping problems are usually best solved with `dict`s. The code below will work up to 999 (or `nine hundred )"
   ]
  },
  {
   "cell_type": "code",
   "execution_count": null,
   "id": "c07dfaaf",
   "metadata": {
    "code_folding": []
   },
   "outputs": [],
   "source": [
    "LOOKUP = {0: '',\n",
    "          1: 'one', 2: 'two', 3: 'three',\n",
    "          4: 'four', 5: 'five', 6: 'six',\n",
    "          7: 'seven', 8: 'eight', 9: 'nine',\n",
    "          10: 'ten', 11: 'eleven', 12: 'twelve',\n",
    "          13: 'thirteen', 14: 'fourteen', 15: 'fifteen',\n",
    "          16: 'sixteen', 17: 'seventeen', 18: 'eighteen',\n",
    "          19: 'nineteen', 20: 'twenty', 30: 'thirty',\n",
    "          40: 'forty', 50: 'fifty', 60: 'sixty',\n",
    "          70: 'seventy', 80: 'eighty', 90: 'ninety'}\n",
    "\n",
    "\n",
    "def dictionary_order(int_list):\n",
    "    word_list = []\n",
    "\n",
    "    for number in int_list:\n",
    "\n",
    "        hundreds = number // 100\n",
    "        tens = (number % 100) // 10\n",
    "        ones = number % 10\n",
    "\n",
    "        if number <= 20:\n",
    "            word_list.append(LOOKUP[number])\n",
    "        elif number < 100:\n",
    "            word_list.append(LOOKUP[tens * 10] + '-' + LOOKUP[ones])\n",
    "        else:\n",
    "            if tens > 2:\n",
    "                word_list.append(LOOKUP[hundreds] + ' hundred '\n",
    "                                 + LOOKUP[tens * 10] + ' ' + LOOKUP[ones])\n",
    "            else:\n",
    "                word_list.append(LOOKUP[hundreds] + ' hundred '\n",
    "                                 + LOOKUP[ones])\n",
    "\n",
    "    return sorted(word_list)\n",
    "\n",
    "\n",
    "dictionary_order([1, 20, 3, 5, 302])"
   ]
  },
  {
   "cell_type": "code",
   "execution_count": null,
   "id": "cebc5045",
   "metadata": {},
   "outputs": [],
   "source": [
    "#Do not support large number. Worse than mine"
   ]
  },
  {
   "cell_type": "markdown",
   "id": "ead7d107",
   "metadata": {},
   "source": [
    "The result is a little \"American\", and could be further tweaked for British number patterns.\n",
    "\n",
    "## Reading csv files\n",
    "\n",
    "This is a fairly standard usage of the `csv.reader` function, which allows us to access the rows of a `csv` file as an interable in a `for` loop."
   ]
  },
  {
   "cell_type": "code",
   "execution_count": null,
   "id": "01cff0ae",
   "metadata": {},
   "outputs": [],
   "source": [
    "import csv\n",
    "import os\n",
    "import statistics\n",
    "\n",
    "names = set()\n",
    "bmi = {}\n",
    "heights = {}\n",
    "weights = {}\n",
    "\n",
    "with open(os.sep.join(('data', 'set1.csv')), newline='') as csvfile:\n",
    "    data = csv.reader(csvfile)\n",
    "    next(data)  # skip header row\n",
    "    for row in data:\n",
    "        names.add(row[0])\n",
    "        heights[row[0]] = float(row[2])\n",
    "        weights[row[0]] = float(row[3])\n",
    "\n",
    "        bmi[row[0]] = weights[row[0]] / (heights[row[0]])**2\n",
    "\n",
    "print('mean BMI:', statistics.mean(bmi.values()))\n",
    "\n",
    "mean_height = statistics.mean(heights.values())\n",
    "mean_weight = statistics.mean(weights.values())\n",
    "\n",
    "\n",
    "print(bmi)\n",
    "print('mean height:', mean_height)\n",
    "print('mean weight:', mean_weight)\n",
    "print('BMI from means:', mean_weight / (mean_height)**2)"
   ]
  },
  {
   "cell_type": "markdown",
   "id": "506ab780",
   "metadata": {},
   "source": [
    "## Interacting with files\n",
    "\n",
    "watch out, the `os.remove` command is powerful, and can't easily be undone!"
   ]
  },
  {
   "cell_type": "code",
   "execution_count": null,
   "id": "b6152732",
   "metadata": {},
   "outputs": [],
   "source": [
    "def clear_or_save(filename)\n",
    "    if os.path.exists(filename):\n",
    "        os.remove(filename)\n",
    "    else:\n",
    "        output = open(filename, 'w')\n",
    "        output.write(f'{datetime.datetime.now()}')\n",
    "        output.close()\n",
    "\n",
    "def clear_or_save_via_exceptions(filename):\n",
    "    try:\n",
    "        os.remove(\"test.txt\")\n",
    "    except FileNotFoundError:\n",
    "        with open(\"test.txt\", 'w') as output:\n",
    "            output.write(f'{datetime.datetime.now()}')"
   ]
  },
  {
   "cell_type": "markdown",
   "id": "ab01ee76",
   "metadata": {},
   "source": [
    "## Bubble sort\n",
    "\n",
    "We need two loops here (which makes the algorithm $\\mathcal{O}(n^2)$). We can use one of the Python iteration functions to simplify writing the outer loop and the \"truthiness\" of an empty list to handle when to stop."
   ]
  },
  {
   "cell_type": "code",
   "execution_count": null,
   "id": "55ca856b",
   "metadata": {},
   "outputs": [],
   "source": [
    "def bubble_sort(input):\n",
    "\n",
    "    unsrt = input[:-1]\n",
    "\n",
    "    while unsrt: # stops when unsrt is empty\n",
    "        for idx, val in enumerate(unsrt):\n",
    "            if input[idx] > input[idx+1]:\n",
    "                input[idx], input[idx+1] = input[idx+1], input[idx]\n",
    "        unsrt = unsrt[:-1]\n",
    "\n",
    "    return input\n",
    "\n",
    "\n",
    "bubble_sort([3, 1, 4, 2, 6])\n",
    "\n",
    "        "
   ]
  },
  {
   "cell_type": "markdown",
   "id": "6a1184b4",
   "metadata": {},
   "source": [
    "## Binary search\n",
    "\n",
    "The tasks are starting to get a little more difficult now. Binary search is a surprisingly widely used algorithm for any problem with one dimensional data in which we can tell whether the solution lies to the left or to the right.\n",
    "\n",
    "The code below uses a fairly standard technique with a test value for `p`, `p0`, which we either accept or reject depending on the calulated value.\n",
    "\n",
    "In practice, though much harder to code, the binary search beats the brute force method for surprisingly small problems."
   ]
  },
  {
   "cell_type": "code",
   "execution_count": null,
   "id": "14dcc5b2",
   "metadata": {},
   "outputs": [],
   "source": [
    "import random\n",
    "\n",
    "input = [ random.randint(1, 100) for _ in range(100)]\n",
    "\n",
    "def split1(input):\n",
    "    difference = []\n",
    "\n",
    "    for idx, val in enumerate(input):\n",
    "        difference.append((sum(input[:idx+1])-sum(input[idx+1:]))**2)\n",
    "    return difference.index(min(difference))\n",
    "\n",
    "def split2(input):\n",
    "\n",
    "    def diff(idx):\n",
    "        return sum(input[:idx+1])-sum(input[idx+1:])\n",
    "\n",
    "    n = 1\n",
    "    p = len(input)//2**n\n",
    "    val = diff(p)\n",
    "\n",
    "    while len(input)>=2**(n+1):\n",
    "        n += 1\n",
    "        p0 = p\n",
    "        if val>0:\n",
    "            p0 -= len(input)//2**n\n",
    "        else:\n",
    "            p0 += len(input)//2**n\n",
    "        val0 = diff(p0)\n",
    "        if val0**2<val**2:\n",
    "            p = p0\n",
    "            val = val0\n",
    "\n",
    "    return p\n",
    "\n",
    "print(split1(input))\n",
    "%timeit split1(input)\n",
    "\n",
    "print(split2(input))\n",
    "%timeit split2(input)"
   ]
  },
  {
   "cell_type": "code",
   "execution_count": null,
   "id": "3daacfca",
   "metadata": {},
   "outputs": [],
   "source": [
    "## Floating Point Representations\n",
    "\n",
    "### Exercise 1\n",
    "\n",
    "Easiest just to do the summations"
   ]
  },
  {
   "cell_type": "code",
   "execution_count": null,
   "id": "520bc85a",
   "metadata": {},
   "outputs": [],
   "source": [
    "def bin2dec(x):\n",
    "    negative = x.startswith('-')\n",
    "    x = x.strip(' -').rstrip().split('.')\n",
    "\n",
    "    out = 0\n",
    "    for k, i in enumerate(reversed(x[0])):\n",
    "        if i == '1':\n",
    "            out += 2**k\n",
    "    if len(x)>1:\n",
    "        for k, i in enumerate(x[1]):\n",
    "            if i == '1':\n",
    "                out += 2**-(k+1)\n",
    "    if negative:\n",
    "        out = -out\n",
    "    return out\n",
    "\n",
    "\n",
    "\n",
    "print(bin2dec('1011.1101'))\n",
    "print(bin2dec('-11'))"
   ]
  },
  {
   "cell_type": "markdown",
   "id": "84734a43",
   "metadata": {},
   "source": [
    "### Exercise 2\n",
    "\n",
    "We have 4 bits to pick, each of which can take 2 values, so there are\n",
    "$$ 2\\times2\\times 2\\times2 = 16$$\n",
    "\n",
    "however, without normalization, some of these are the same as each other\n",
    "\n",
    "|b_1|b_2|b_3|e| value\n",
    "|-|-|-|-|-|\n",
    "|0|0|0|0|0.0|\n",
    "|1|0|0|0|0.5|\n",
    "|0|1|0|0|0.25|\n",
    "|0|0|1|0|0.125|\n",
    "|0|0|0|1|0.0|\n",
    "|1|1|0|0|0.75|\n",
    "|1|0|1|0|0.625|\n",
    "|1|0|0|1|1.0|\n",
    "|0|1|1|0|0.375|\n",
    "|0|1|0|1|0.5|\n",
    "|0|0|1|1|0.25|\n",
    "|1|1|1|0|0.875|\n",
    "|1|1|0|1|1.5|\n",
    "|1|0|1|1|1.25|\n",
    "|0|1|1|1|0.75|\n",
    "|1|1|1|1|1.75|\n",
    "\n",
    "With normalisation the form is now\n",
    "\n",
    "$$x = \\pm(0.1b_{1}b_{2}b_{3})_{2} \\times 2^{e}, \\quad b_{1}, b_{2}, b_{3}, e \\in \\{0, 1\\}$$\n",
    "\n",
    "|b_1|b_2|b_3|e| value\n",
    "|-|-|-|-|-|\n",
    "|0|0|0|0|0.5|\n",
    "|1|0|0|0|0.75|\n",
    "|0|1|0|0|0.625|\n",
    "|0|0|1|0|0.5625|\n",
    "|0|0|0|1|1.0|\n",
    "|1|1|0|0|0.875|\n",
    "|1|0|1|0|0.8125|\n",
    "|1|0|0|1|1.5|\n",
    "|0|1|1|0|.6875|\n",
    "|0|1|0|1|1.25|\n",
    "|0|0|1|1|1.25|\n",
    "|1|1|1|0|0.9275|\n",
    "|1|1|0|1|1.75|\n",
    "|1|0|1|1|1.625|\n",
    "|0|1|1|1|1.375|\n",
    "|1|1|1|1|1.875|"
   ]
  }
 ],
 "metadata": {
  "hide_input": false,
  "kernelspec": {
   "display_name": "Python 3 (ipykernel)",
   "language": "python",
   "name": "python3"
  },
  "language_info": {
   "codemirror_mode": {
    "name": "ipython",
    "version": 3
   },
   "file_extension": ".py",
   "mimetype": "text/x-python",
   "name": "python",
   "nbconvert_exporter": "python",
   "pygments_lexer": "ipython3",
   "version": "3.9.13"
  },
  "toc": {
   "base_numbering": 1,
   "nav_menu": {},
   "number_sections": true,
   "sideBar": true,
   "skip_h1_title": false,
   "title_cell": "Table of Contents",
   "title_sidebar": "Contents",
   "toc_cell": false,
   "toc_position": {},
   "toc_section_display": true,
   "toc_window_display": false
  },
  "varInspector": {
   "cols": {
    "lenName": 16,
    "lenType": 16,
    "lenVar": 40
   },
   "kernels_config": {
    "python": {
     "delete_cmd_postfix": "",
     "delete_cmd_prefix": "del ",
     "library": "var_list.py",
     "varRefreshCmd": "print(var_dic_list())"
    },
    "r": {
     "delete_cmd_postfix": ") ",
     "delete_cmd_prefix": "rm(",
     "library": "var_list.r",
     "varRefreshCmd": "cat(var_dic_list()) "
    }
   },
   "types_to_exclude": [
    "module",
    "function",
    "builtin_function_or_method",
    "instance",
    "_Feature"
   ],
   "window_display": false
  }
 },
 "nbformat": 4,
 "nbformat_minor": 5
}
