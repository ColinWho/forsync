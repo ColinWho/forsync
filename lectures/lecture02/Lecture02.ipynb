{
 "cells": [
  {
   "cell_type": "markdown",
   "id": "10c94b50",
   "metadata": {
    "slideshow": {
     "slide_type": "slide"
    }
   },
   "source": [
    "#  <center> Pandas and Numpy"
   ]
  },
  {
   "cell_type": "markdown",
   "id": "fe0b8ee4",
   "metadata": {},
   "source": [
    "<div class=\"alert alert-block alert-danger\">\n",
    "\n",
    "# Terminology\n",
    "\n",
    "**If it is hard, Do not Panic!**\n",
    "____\n",
    "\n",
    "**If it is easy, Do not underestimate it!**\n",
    "\n",
    "___\n",
    "**Do write your own code for the exercises -- Do not copy paste!** you will never become good in coding if you read through the lines of others code and copy-paste them. \n",
    "___\n",
    "\n",
    "- There are  series of excercises, both in the morning and afternoon class. At the end of each day, I will put the solutions in Github repo.\n",
    " \n",
    "- There is an [Extra](./Extra.ipynb) notebook, shown in <span style='color:green'> green boxes through this lecture</span>, that can be skipped (by you and me) in the interests of time. If/when you have the time please read through these sections for your general education\n",
    "    \n",
    "</div>"
   ]
  },
  {
   "cell_type": "markdown",
   "id": "0ff01076",
   "metadata": {},
   "source": [
    "# Introduction to Numpy \n",
    "* [NumPy](https://numpy.org/) (or Numpy) is a Linear Algebra Library for Python\n",
    " NumPy supports:\n",
    "- Multidimensional arrays (`ndarray`)\n",
    "- Matrices and linear algebra operations\n",
    "- Random number generation\n",
    "- Fourier transforms\n",
    "- Polynomials\n",
    "- Tools for integrating with Fortran/C libraries"
   ]
  },
  {
   "cell_type": "markdown",
   "id": "badb3157",
   "metadata": {},
   "source": [
    "<div class=\"alert alert-block alert-info\">\n",
    "\n",
    "## Learning objectives \n",
    "- Learn what NumPy arrays are\n",
    "- Learn basic array manipulations\n",
    "- Learn what vectorial code is\n",
    "\n",
    " </div>"
   ]
  },
  {
   "cell_type": "code",
   "execution_count": null,
   "id": "b2d6a82d",
   "metadata": {},
   "outputs": [],
   "source": [
    "import numpy as np"
   ]
  },
  {
   "cell_type": "markdown",
   "id": "9b2806d3",
   "metadata": {},
   "source": [
    "# Numpy Arrays\n",
    "\n",
    "### NumPy Arrays overview\n",
    "\n",
    "* Core (or Standard) Python Library provides lists and 1D arrays (array.array)\n",
    "\n",
    "  * Lists are general containers for objects\n",
    "  * Arrays are 1D containers for objects of the same type\n",
    "  * Limited functionality\n",
    "  * Some memory and performance overhead associated with these structures\n",
    "\n",
    "* NumPy provides multidimensional arrays (numpy.ndarray)\n",
    "  * Can store many elements of the same data type in multiple dimensions\n",
    "  * cf. Fortran/C/C++ arrays\n",
    "  * More functionality than Core Python e.g. many conveninent methods for array manipulation\n",
    "  * Efficient storage and execution\n",
    "\n",
    "* [Extensive online documentation !](https://docs.scipy.org/doc/numpy/)\n",
    "Let's begin our introduction by exploring how to create NumPy arrays."
   ]
  },
  {
   "cell_type": "markdown",
   "id": "8b48a024",
   "metadata": {},
   "source": [
    "## Creating NumPy Arrays\n",
    "\n",
    "### From a Python List\n",
    "\n",
    "We can create an array by directly converting a list or list of lists:"
   ]
  },
  {
   "cell_type": "code",
   "execution_count": null,
   "id": "ac1f0702",
   "metadata": {},
   "outputs": [],
   "source": [
    "my_list = [1,2,3]\n",
    "np.array(my_list)"
   ]
  },
  {
   "cell_type": "code",
   "execution_count": null,
   "id": "70e6f900",
   "metadata": {},
   "outputs": [],
   "source": [
    "my_matrix = [[1,2,3],[4,5,6],[7,8,9]]\n",
    "np.array(my_matrix)"
   ]
  },
  {
   "cell_type": "markdown",
   "id": "1e754121",
   "metadata": {},
   "source": [
    "### Using built-in Methods\n",
    "\n",
    "There are lots of built-in ways to generate Arrays"
   ]
  },
  {
   "cell_type": "markdown",
   "id": "36b0d9d8",
   "metadata": {},
   "source": [
    "### arange\n",
    "\n",
    "Return evenly spaced values within a given interval."
   ]
  },
  {
   "cell_type": "code",
   "execution_count": null,
   "id": "69579f74",
   "metadata": {},
   "outputs": [],
   "source": [
    "np.arange(0,8)"
   ]
  },
  {
   "cell_type": "code",
   "execution_count": null,
   "id": "79f91117",
   "metadata": {},
   "outputs": [],
   "source": [
    "np.arange(0,11,2)"
   ]
  },
  {
   "cell_type": "markdown",
   "id": "4e0f367e",
   "metadata": {},
   "source": [
    "### zeros, ones and identity matrix\n",
    "\n",
    "Generate arrays of zeros or ones and  identity  matrix"
   ]
  },
  {
   "cell_type": "code",
   "execution_count": null,
   "id": "3c730d81",
   "metadata": {},
   "outputs": [],
   "source": [
    "np.zeros(3)"
   ]
  },
  {
   "cell_type": "code",
   "execution_count": null,
   "id": "ce6e03ce",
   "metadata": {},
   "outputs": [],
   "source": [
    "np.zeros((4,4))"
   ]
  },
  {
   "cell_type": "code",
   "execution_count": null,
   "id": "f207587c",
   "metadata": {},
   "outputs": [],
   "source": [
    "np.ones(3)"
   ]
  },
  {
   "cell_type": "code",
   "execution_count": null,
   "id": "d23d3eaa",
   "metadata": {},
   "outputs": [],
   "source": [
    "np.eye(4)"
   ]
  },
  {
   "cell_type": "markdown",
   "id": "2fc7463d",
   "metadata": {},
   "source": [
    "### linspace\n",
    "Return evenly spaced numbers over a specified interval."
   ]
  },
  {
   "cell_type": "code",
   "execution_count": null,
   "id": "a096bb07",
   "metadata": {},
   "outputs": [],
   "source": [
    "np.linspace(0,20,10)"
   ]
  },
  {
   "cell_type": "markdown",
   "id": "0eb7cf89",
   "metadata": {},
   "source": [
    "## Random \n",
    "\n",
    "Numpy also has lots of ways to create random number arrays:\n",
    "\n",
    "### rand -- from a uniform distribution\n",
    "Create an array of the given shape and populate it with\n",
    "random samples from a uniform distribution\n",
    "over ``[0, 1)``."
   ]
  },
  {
   "cell_type": "code",
   "execution_count": null,
   "id": "4f0d9a34",
   "metadata": {},
   "outputs": [],
   "source": [
    "np.random.rand(2)"
   ]
  },
  {
   "cell_type": "code",
   "execution_count": null,
   "id": "759c6ac7",
   "metadata": {},
   "outputs": [],
   "source": [
    "np.random.rand(3,3)"
   ]
  },
  {
   "cell_type": "markdown",
   "id": "0177ba83",
   "metadata": {},
   "source": [
    "### randn --  from a normal distribution\n",
    "(mean=0, standard deviation=1)"
   ]
  },
  {
   "cell_type": "code",
   "execution_count": null,
   "id": "2dea90cc",
   "metadata": {},
   "outputs": [],
   "source": [
    "np.random.randn(3)"
   ]
  },
  {
   "cell_type": "markdown",
   "id": "82d510ce",
   "metadata": {},
   "source": [
    "### randint \n",
    "Return random integers from `low` (inclusive) to `high` (exclusive)."
   ]
  },
  {
   "cell_type": "code",
   "execution_count": null,
   "id": "1c7540ad",
   "metadata": {},
   "outputs": [],
   "source": [
    "np.random.randint(1,100)"
   ]
  },
  {
   "cell_type": "code",
   "execution_count": null,
   "id": "ccb7d380",
   "metadata": {},
   "outputs": [],
   "source": [
    "np.random.randint(1,100,6)"
   ]
  },
  {
   "cell_type": "markdown",
   "id": "e5cdfa11",
   "metadata": {},
   "source": [
    "You can create 2d arrays with complex elements by specifying the data type."
   ]
  },
  {
   "cell_type": "code",
   "execution_count": null,
   "id": "94ec232b",
   "metadata": {},
   "outputs": [],
   "source": [
    "alist = [[1, 2, 3], [4, 5, 6]]\n",
    "mat = np.array(alist, complex)\n",
    "print(mat)"
   ]
  },
  {
   "cell_type": "markdown",
   "id": "80a6afe1",
   "metadata": {},
   "source": [
    "## Array Attributes and Methods\n",
    "\n",
    "Let's discuss some useful attributes and methods or an array:"
   ]
  },
  {
   "cell_type": "code",
   "execution_count": null,
   "id": "4476f20c",
   "metadata": {},
   "outputs": [],
   "source": [
    "arr = np.arange(25)\n",
    "ranarr = np.random.randint(0,50,10)"
   ]
  },
  {
   "cell_type": "code",
   "execution_count": null,
   "id": "3cf5b400",
   "metadata": {},
   "outputs": [],
   "source": [
    "arr"
   ]
  },
  {
   "cell_type": "code",
   "execution_count": null,
   "id": "35f2ab65",
   "metadata": {},
   "outputs": [],
   "source": [
    "ranarr"
   ]
  },
  {
   "cell_type": "code",
   "execution_count": null,
   "id": "f860973e",
   "metadata": {},
   "outputs": [],
   "source": [
    "# Examine key array attributes\n",
    "print(\"Dimensions \", arr.ndim)   # Number of dimensions\n",
    "print(\"Shape      \", arr.shape)  # number of elements in each dimension\n",
    "print(\"Size       \", arr.size)   # total number of elements\n",
    "print(\"Data type  \", arr.dtype)  # data type of element, 64 bit float (IEEE 754) by default"
   ]
  },
  {
   "cell_type": "markdown",
   "id": "02aa01e8",
   "metadata": {},
   "source": [
    "### Reshape\n",
    "Returns an array containing the same data with a new shape."
   ]
  },
  {
   "cell_type": "code",
   "execution_count": null,
   "id": "8390cd23",
   "metadata": {},
   "outputs": [],
   "source": [
    "arr.reshape(5,5)"
   ]
  },
  {
   "cell_type": "code",
   "execution_count": null,
   "id": "897c0a9c",
   "metadata": {},
   "outputs": [],
   "source": [
    "# Vector\n",
    "arr.shape"
   ]
  },
  {
   "cell_type": "code",
   "execution_count": null,
   "id": "8869f5f7",
   "metadata": {},
   "outputs": [],
   "source": [
    "# Notice the two sets of brackets\n",
    "arr.reshape(1,25)"
   ]
  },
  {
   "cell_type": "code",
   "execution_count": null,
   "id": "71b4418e",
   "metadata": {},
   "outputs": [],
   "source": [
    "arr.reshape(1,25).shape"
   ]
  },
  {
   "cell_type": "code",
   "execution_count": null,
   "id": "15ab272f",
   "metadata": {},
   "outputs": [],
   "source": [
    "arr.reshape(25,1)"
   ]
  },
  {
   "cell_type": "code",
   "execution_count": null,
   "id": "a37b4c71",
   "metadata": {},
   "outputs": [],
   "source": [
    "arr.reshape(25,1).shape"
   ]
  },
  {
   "cell_type": "markdown",
   "id": "33f9233a",
   "metadata": {},
   "source": [
    "### dtype\n",
    "\n",
    "You can also grab the data type of the object in the array:"
   ]
  },
  {
   "cell_type": "code",
   "execution_count": null,
   "id": "fe8ab948",
   "metadata": {},
   "outputs": [],
   "source": [
    "arr.dtype"
   ]
  },
  {
   "cell_type": "markdown",
   "id": "1bc2e4c1",
   "metadata": {},
   "source": [
    "### max,min,argmax,argmin\n",
    "These are useful methods for finding max or min values. Or to find their index locations using argmin or argmax"
   ]
  },
  {
   "cell_type": "code",
   "execution_count": null,
   "id": "7cb4fcf9",
   "metadata": {},
   "outputs": [],
   "source": [
    "ranarr.max()"
   ]
  },
  {
   "cell_type": "code",
   "execution_count": null,
   "id": "ae89c5c5",
   "metadata": {},
   "outputs": [],
   "source": [
    "ranarr.argmax()"
   ]
  },
  {
   "cell_type": "markdown",
   "id": "8d0f39be",
   "metadata": {},
   "source": [
    "### mean, std"
   ]
  },
  {
   "cell_type": "code",
   "execution_count": null,
   "id": "b5126510",
   "metadata": {},
   "outputs": [],
   "source": [
    "ranarr.std()"
   ]
  },
  {
   "cell_type": "markdown",
   "id": "6ffb9ed8",
   "metadata": {},
   "source": [
    "# NumPy Indexing and Selection\n",
    " we will discuss how to select elements or groups of elements from an array."
   ]
  },
  {
   "cell_type": "code",
   "execution_count": null,
   "id": "3e1e72ec",
   "metadata": {},
   "outputs": [],
   "source": [
    "#Creating sample array\n",
    "arr = np.arange(2,11)\n",
    "arr"
   ]
  },
  {
   "cell_type": "markdown",
   "id": "3c67f60f",
   "metadata": {},
   "source": [
    "## Bracket Indexing and Selection\n",
    "The simplest way to pick one or some elements of an array looks very similar to python lists:"
   ]
  },
  {
   "cell_type": "code",
   "execution_count": null,
   "id": "12f2b9b8",
   "metadata": {},
   "outputs": [],
   "source": [
    "#Get a value at an index\n",
    "arr[8]"
   ]
  },
  {
   "cell_type": "code",
   "execution_count": null,
   "id": "35587e6f",
   "metadata": {},
   "outputs": [],
   "source": [
    "#Get values in a range\n",
    "arr[1:5]"
   ]
  },
  {
   "cell_type": "code",
   "execution_count": null,
   "id": "017924ba",
   "metadata": {},
   "outputs": [],
   "source": [
    "#Get values in a range\n",
    "arr[0:5]"
   ]
  },
  {
   "cell_type": "code",
   "execution_count": null,
   "id": "8ce54cba",
   "metadata": {},
   "outputs": [],
   "source": [
    "arr[:6]"
   ]
  },
  {
   "cell_type": "markdown",
   "id": "08cde4c6",
   "metadata": {},
   "source": [
    "## Broadcasting\n",
    "\n",
    "Numpy arrays differ from a normal Python list because of their ability to broadcast:"
   ]
  },
  {
   "cell_type": "code",
   "execution_count": null,
   "id": "c7ef46f8",
   "metadata": {},
   "outputs": [],
   "source": [
    "#Setting a value with index range (Broadcasting)\n",
    "arr[0:5]=99\n",
    "\n",
    "#Show\n",
    "arr"
   ]
  },
  {
   "cell_type": "code",
   "execution_count": null,
   "id": "ff987fec",
   "metadata": {},
   "outputs": [],
   "source": [
    "# Reset array, \n",
    "arr = np.arange(2,11)\n",
    "\n",
    "#Show\n",
    "arr"
   ]
  },
  {
   "cell_type": "code",
   "execution_count": null,
   "id": "fab4dce1",
   "metadata": {},
   "outputs": [],
   "source": [
    "#Important notes on Slices\n",
    "slice_of_arr = arr[0:6]\n",
    "\n",
    "#Show slice\n",
    "slice_of_arr"
   ]
  },
  {
   "cell_type": "code",
   "execution_count": null,
   "id": "5b0177e1",
   "metadata": {},
   "outputs": [],
   "source": [
    "#Change Slice\n",
    "slice_of_arr[:]=99\n",
    "\n",
    "#Show Slice again\n",
    "slice_of_arr"
   ]
  },
  {
   "cell_type": "markdown",
   "id": "f3fd402a",
   "metadata": {},
   "source": [
    "Now note the changes also occur in our original array!"
   ]
  },
  {
   "cell_type": "code",
   "execution_count": null,
   "id": "f15b037d",
   "metadata": {},
   "outputs": [],
   "source": [
    "arr"
   ]
  },
  {
   "cell_type": "markdown",
   "id": "eb472447",
   "metadata": {},
   "source": [
    "Data is not copied, it's a view of the original array! This avoids memory problems!"
   ]
  },
  {
   "cell_type": "code",
   "execution_count": null,
   "id": "1a9f3067",
   "metadata": {},
   "outputs": [],
   "source": [
    "#To get a copy, need to be explicit\n",
    "arr_copy = arr.copy()\n",
    "\n",
    "arr_copy"
   ]
  },
  {
   "cell_type": "markdown",
   "id": "cd0b0406",
   "metadata": {},
   "source": [
    "## Indexing a 2D array (matrices)\n",
    "\n",
    "The general format is **arr_2d[row][col]** or **arr_2d[row,col]**. I recommend usually using the comma notation for clarity."
   ]
  },
  {
   "cell_type": "code",
   "execution_count": null,
   "id": "bc4a3917",
   "metadata": {},
   "outputs": [],
   "source": [
    "arr_2d = np.array(([5,7,9],[10,12,14],[15,17,19]))\n",
    "\n",
    "#Show\n",
    "arr_2d"
   ]
  },
  {
   "cell_type": "code",
   "execution_count": null,
   "id": "97b07b63",
   "metadata": {},
   "outputs": [],
   "source": [
    "# Format is arr_2d[row][col] or arr_2d[row,col]\n",
    "\n",
    "# Getting individual element value\n",
    "arr_2d[1][0]"
   ]
  },
  {
   "cell_type": "code",
   "execution_count": null,
   "id": "b7c9d009",
   "metadata": {},
   "outputs": [],
   "source": [
    "# Getting individual element value\n",
    "arr_2d[1,0]"
   ]
  },
  {
   "cell_type": "code",
   "execution_count": null,
   "id": "bbcedb93",
   "metadata": {},
   "outputs": [],
   "source": [
    "# 2D array slicing\n",
    "\n",
    "#Shape (2,2) from top right corner\n",
    "arr_2d[:2,1:]"
   ]
  },
  {
   "cell_type": "code",
   "execution_count": null,
   "id": "0ba71940",
   "metadata": {},
   "outputs": [],
   "source": [
    "#Shape bottom row\n",
    "arr_2d[2] #arr_2d[2,:]"
   ]
  },
  {
   "cell_type": "markdown",
   "id": "979953b8",
   "metadata": {},
   "source": [
    "## Selection\n",
    "\n",
    "Let's briefly go over how to use brackets for selection based off of comparison operators."
   ]
  },
  {
   "cell_type": "code",
   "execution_count": null,
   "id": "dc9d9d8a",
   "metadata": {},
   "outputs": [],
   "source": [
    "arr = np.arange(0,11)\n",
    "arr"
   ]
  },
  {
   "cell_type": "code",
   "execution_count": null,
   "id": "85ab264d",
   "metadata": {},
   "outputs": [],
   "source": [
    "arr>5"
   ]
  },
  {
   "cell_type": "code",
   "execution_count": null,
   "id": "6a67f09e",
   "metadata": {},
   "outputs": [],
   "source": [
    "arr[arr>=5]"
   ]
  },
  {
   "cell_type": "markdown",
   "id": "5a94213d",
   "metadata": {},
   "source": [
    "# NumPy Operations\n",
    "## Arithmetic\n",
    "\n",
    "You can easily perform array with array arithmetic, or scalar with array arithmetic. Let's see some examples:"
   ]
  },
  {
   "cell_type": "code",
   "execution_count": null,
   "id": "036fad31",
   "metadata": {},
   "outputs": [],
   "source": [
    "arr + arr"
   ]
  },
  {
   "cell_type": "code",
   "execution_count": null,
   "id": "cd0a91d6",
   "metadata": {},
   "outputs": [],
   "source": [
    "arr * arr"
   ]
  },
  {
   "cell_type": "code",
   "execution_count": null,
   "id": "0ce293d5",
   "metadata": {},
   "outputs": [],
   "source": [
    "arr - arr"
   ]
  },
  {
   "cell_type": "code",
   "execution_count": null,
   "id": "eaafd256",
   "metadata": {},
   "outputs": [],
   "source": [
    "# Warning on division by zero, but not an error!\n",
    "# Just replaced with nan\n",
    "arr/arr"
   ]
  },
  {
   "cell_type": "code",
   "execution_count": null,
   "id": "bd07f9fd",
   "metadata": {},
   "outputs": [],
   "source": [
    "# Also warning, but not an error instead infinity\n",
    "1/arr"
   ]
  },
  {
   "cell_type": "code",
   "execution_count": null,
   "id": "d15725a8",
   "metadata": {},
   "outputs": [],
   "source": [
    "arr**3"
   ]
  },
  {
   "cell_type": "code",
   "execution_count": null,
   "id": "a452695f",
   "metadata": {},
   "outputs": [],
   "source": [
    "def f(x):\n",
    "    return x**3\n",
    "\n",
    "x = np.array([1,2,3,4,5,6,7,8,9])\n",
    "y = f(x)\n",
    "\n",
    "print(y)"
   ]
  },
  {
   "cell_type": "markdown",
   "id": "0e20d2de",
   "metadata": {},
   "source": [
    "## Universal Array Functions\n",
    "\n",
    "Numpy comes with many [universal array functions](http://docs.scipy.org/doc/numpy/reference/ufuncs.html), which are essentially just mathematical operations you can use to perform the operation across the array. Let's show some common ones:"
   ]
  },
  {
   "cell_type": "code",
   "execution_count": null,
   "id": "e81b3e19",
   "metadata": {},
   "outputs": [],
   "source": [
    "#Taking Square Roots\n",
    "np.sqrt(arr)"
   ]
  },
  {
   "cell_type": "code",
   "execution_count": null,
   "id": "951b8eaf",
   "metadata": {},
   "outputs": [],
   "source": [
    "#Calcualting exponential (e^)\n",
    "np.exp(arr)"
   ]
  },
  {
   "cell_type": "code",
   "execution_count": null,
   "id": "f266a185",
   "metadata": {},
   "outputs": [],
   "source": [
    "np.max(arr) #same as arr.max()"
   ]
  },
  {
   "cell_type": "code",
   "execution_count": null,
   "id": "d76055d9",
   "metadata": {},
   "outputs": [],
   "source": [
    "np.sin(arr)"
   ]
  },
  {
   "cell_type": "code",
   "execution_count": null,
   "id": "c9d25ea5",
   "metadata": {},
   "outputs": [],
   "source": [
    "np.log(arr)"
   ]
  },
  {
   "cell_type": "markdown",
   "id": "d5366896",
   "metadata": {},
   "source": [
    "### Linear algebra with numpy.linalg\n",
    " \n",
    "Numpy provides some linear algebra capabilities, from matrix-vector product to matrix inversion and system solution"
   ]
  },
  {
   "cell_type": "code",
   "execution_count": null,
   "id": "6771a38b",
   "metadata": {},
   "outputs": [],
   "source": [
    "A = np.array([[1,2,3],[4,5,6],[7,8,8]])\n",
    "B = np.array([1,2,1])\n",
    "\n",
    "print(np.dot(A,B))"
   ]
  },
  {
   "cell_type": "code",
   "execution_count": null,
   "id": "ee766555",
   "metadata": {},
   "outputs": [],
   "source": [
    "import numpy.linalg as la"
   ]
  },
  {
   "cell_type": "code",
   "execution_count": null,
   "id": "874820ca",
   "metadata": {},
   "outputs": [],
   "source": [
    "n = la.norm(B)\n",
    "print(n)\n",
    "\n",
    "n = la.norm(A)\n",
    "print(n)\n",
    "\n",
    "d = la.det(A)\n",
    "print(d)"
   ]
  },
  {
   "cell_type": "markdown",
   "id": "cef97578",
   "metadata": {},
   "source": [
    "And it is possible to solve linear systems, using low level C/Fortran code:"
   ]
  },
  {
   "cell_type": "code",
   "execution_count": null,
   "id": "559573df",
   "metadata": {},
   "outputs": [],
   "source": [
    "la.solve(A,B)"
   ]
  },
  {
   "cell_type": "code",
   "execution_count": null,
   "id": "790ad287",
   "metadata": {},
   "outputs": [],
   "source": [
    "A_inv = la.inv(A)\n",
    "print(A_inv)"
   ]
  },
  {
   "cell_type": "code",
   "execution_count": null,
   "id": "79c21fdd",
   "metadata": {},
   "outputs": [],
   "source": [
    "#The eigen decomposition (of a square matrix) can also be computed:\n",
    "eival, eivec = la.eig(A)\n",
    "print(eival)\n",
    "print(eivec)"
   ]
  },
  {
   "cell_type": "markdown",
   "id": "f4b2a896",
   "metadata": {},
   "source": [
    "### Performance\n",
    "\n",
    "Python has a convenient timing function called `timeit`.\n",
    "\n",
    "Can use this to measure the execution time of small code snippets.\n",
    "\n",
    "* From python: `import timeit` and supply code  snippet as a string\n",
    "* From ipython: can use magic command `%timeit`\n",
    "\n",
    "By default, `%timeit` loops (repeats) over your code 3 times and outputs the best time. It also tells you how many iterations it ran the code per loop. \n",
    "You can specify the number of loops and the number of iterations per loop.\n",
    "```\n",
    "%timeit -n <iterations> -r <repeats>  <code_snippet>\n",
    "```\n",
    "\n",
    "See\n",
    "\n",
    "* `%timeit?` for more information\n",
    "* https://docs.python.org/2/library/timeit.html"
   ]
  },
  {
   "cell_type": "markdown",
   "id": "482061b6",
   "metadata": {},
   "source": [
    "# Introduction to Pandas\n",
    "[Pandas](https://pandas.pydata.org/) is an open source library that's built on top of `NumPy`.\n",
    " The name is derived from the term \"panel data\", an econometrics term for data sets that include observations over multiple time periods for the same individuals.\n",
    "\n",
    "- It allows for fast analysis and data cleaning and preparation. It is used for preprocessing machine learning approaches.\n",
    "- It excels in performance and productivity for the user.\n",
    "- It has built-in visualization features.\n",
    "- It can work with data from a wide variety of sources.\n",
    "- It allows importing data in various formats such as csv, excel, HTML, etc.\n",
    "- It allows a range of data manipulation operations such as `groupby`, `join`, `merge`, `melt`, `concatenation` as well as data cleaning features such as filling, replacing or imputing null values.\n",
    "- It is used for timeseries analysis."
   ]
  },
  {
   "cell_type": "markdown",
   "id": "ab385c19",
   "metadata": {},
   "source": [
    "<div class=\"alert alert-block alert-info\">\n",
    "\n",
    "## Learning objectives \n",
    "Today we will learn how to use pandas for data analysis. \n",
    "- Series\n",
    "- DataFrames: Creating, reading and writing to `DataFrame`'s.\n",
    "- Indexing of `DataFrame`'s and how to slice and reference them.\n",
    "- Operations\n",
    "- Extract information from your data through summary functions and maps.\n",
    "- Grouping and sorting data.\n",
    "- `DataType`'s and handling missing data.\n",
    "- Renaming Merging,Joining,and Concatenating.\n",
    "- **Built-in visualization features\n",
    "- **Timeseries with Pandas\n",
    " </div>"
   ]
  },
  {
   "cell_type": "code",
   "execution_count": null,
   "id": "42fd00d5",
   "metadata": {},
   "outputs": [],
   "source": [
    "#Importing library\n",
    "import pandas as pd\n",
    "\n",
    "from numpy.random import randn\n",
    "np.random.seed(101)"
   ]
  },
  {
   "cell_type": "markdown",
   "id": "feaf7aaa",
   "metadata": {},
   "source": [
    "#  Series\n",
    "A Series is built on top of the NumPy array object.\n",
    "- A Series can be indexed by a label.\n",
    "- It also doesn't need to hold numeric data, it can hold any arbitrary Python Object.\n",
    "\n",
    "Let's explore this concept through some examples:"
   ]
  },
  {
   "cell_type": "markdown",
   "id": "507d0478",
   "metadata": {},
   "source": [
    "## Creating a Series in diffrent ways\n",
    "\n",
    "You can convert a **list**, **numpy array**, or **dictionary** to a Series:"
   ]
  },
  {
   "cell_type": "code",
   "execution_count": null,
   "id": "4be52740",
   "metadata": {},
   "outputs": [],
   "source": [
    "labels = ['x','y','z']\n",
    "my_list = [100,200, 300] #python list\n",
    "arr = np.array([100,200,300]) #python array\n",
    "dic = {'x':100,'y':200,'z':300}  #python dictionary"
   ]
  },
  {
   "cell_type": "markdown",
   "id": "eb704742",
   "metadata": {},
   "source": [
    "**List**"
   ]
  },
  {
   "cell_type": "code",
   "execution_count": null,
   "id": "03266426",
   "metadata": {},
   "outputs": [],
   "source": [
    "pd.Series(data = my_list) "
   ]
  },
  {
   "cell_type": "markdown",
   "id": "88742789",
   "metadata": {},
   "source": [
    "It looks a lot like an numpy array. Except here it's very distinguished that we have an index 0 1 2 and then the actual data 100 200 300 and the key to a panda series is that you can actually specify what you want that index to be."
   ]
  },
  {
   "cell_type": "code",
   "execution_count": null,
   "id": "f9316e79",
   "metadata": {},
   "outputs": [],
   "source": [
    "pd.Series(data=my_list,index=labels)"
   ]
  },
  {
   "cell_type": "markdown",
   "id": "93203190",
   "metadata": {},
   "source": [
    "**numpy array**"
   ]
  },
  {
   "cell_type": "code",
   "execution_count": null,
   "id": "ef699662",
   "metadata": {},
   "outputs": [],
   "source": [
    "pd.Series(arr)"
   ]
  },
  {
   "cell_type": "code",
   "execution_count": null,
   "id": "5ef6a250",
   "metadata": {},
   "outputs": [],
   "source": [
    "pd.Series(arr,labels)"
   ]
  },
  {
   "cell_type": "markdown",
   "id": "cacaba79",
   "metadata": {},
   "source": [
    "**Dictionary**"
   ]
  },
  {
   "cell_type": "code",
   "execution_count": null,
   "id": "ca86d059",
   "metadata": {},
   "outputs": [],
   "source": [
    "pd.Series(dic)"
   ]
  },
  {
   "cell_type": "markdown",
   "id": "45622dbb",
   "metadata": {},
   "source": [
    "### Data in a Series\n",
    "\n",
    "A pandas Series can hold a variety of object types. Its entries are not limited to integers. For instance, here's a `series` whose values are strings:"
   ]
  },
  {
   "cell_type": "code",
   "execution_count": null,
   "id": "57bb1ab1",
   "metadata": {
    "slideshow": {
     "slide_type": "subslide"
    }
   },
   "outputs": [],
   "source": [
    "pd.Series(data=labels)"
   ]
  },
  {
   "cell_type": "code",
   "execution_count": null,
   "id": "622f9974",
   "metadata": {},
   "outputs": [],
   "source": [
    "# Even functions (although unlikely that you will use this) \n",
    "#This is just to demonstrate of pandas flexibility to work with various data type\n",
    "pd.Series([sum,print,len])"
   ]
  },
  {
   "cell_type": "markdown",
   "id": "711e33b3",
   "metadata": {},
   "source": [
    "## Using an Index\n",
    "\n",
    "Let's see some examples of how to grab information from a Series. Let us create two sereis, ser1 and ser2:"
   ]
  },
  {
   "cell_type": "code",
   "execution_count": null,
   "id": "3a9b3299",
   "metadata": {},
   "outputs": [],
   "source": [
    "ser1 = pd.Series([10,20,30,40],index = ['X', 'Y','Z', 'T'])                                   "
   ]
  },
  {
   "cell_type": "code",
   "execution_count": null,
   "id": "2c1f703e",
   "metadata": {},
   "outputs": [],
   "source": [
    "ser1"
   ]
  },
  {
   "cell_type": "code",
   "execution_count": null,
   "id": "7645430a",
   "metadata": {},
   "outputs": [],
   "source": [
    "ser2 = pd.Series([10,20,50,40],index = ['X', 'Y','M', 'T'])                                   "
   ]
  },
  {
   "cell_type": "code",
   "execution_count": null,
   "id": "72d20c7f",
   "metadata": {},
   "outputs": [],
   "source": [
    "ser2"
   ]
  },
  {
   "cell_type": "code",
   "execution_count": null,
   "id": "ea1e2474",
   "metadata": {},
   "outputs": [],
   "source": [
    "ser1['X'] #just pass in the index label"
   ]
  },
  {
   "cell_type": "markdown",
   "id": "88342213",
   "metadata": {},
   "source": [
    "**Operations are then also done based off of index:**\n",
    "\n",
    "*Note:  when performing operations with a Pandas series (or almost ny numpy Panda's base object)  the integers will be converted into floats. That's so you don't accidentally lose information and maintain them."
   ]
  },
  {
   "cell_type": "code",
   "execution_count": null,
   "id": "e1ed0f17",
   "metadata": {},
   "outputs": [],
   "source": [
    "ser1 + ser2"
   ]
  },
  {
   "cell_type": "markdown",
   "id": "0180fe37",
   "metadata": {},
   "source": [
    "#  DataFrames: creating, reading, writing\n",
    "\n",
    "A `DataFrame` is a table. It contains an array of individual entries, each of which has a certain value. Each entry corresponds to a row (or record) and a column."
   ]
  },
  {
   "cell_type": "markdown",
   "id": "80872ca4",
   "metadata": {},
   "source": [
    "# Creating\n",
    "We are using the `pd.DataFrame()` constructor to generate these `DataFrame` objects."
   ]
  },
  {
   "cell_type": "code",
   "execution_count": null,
   "id": "d171e702",
   "metadata": {},
   "outputs": [],
   "source": [
    "df = pd.DataFrame(randn(4,3), index=['A','B','C','D'], columns=['X','Y','Z'])\n",
    "\n",
    "#!Be more Professional:\n",
    "#df = pd.DataFrame(randn(4,3),index='A B C D'.split(),columns='X Y Z'.split())"
   ]
  },
  {
   "cell_type": "code",
   "execution_count": null,
   "id": "5d67ef47",
   "metadata": {},
   "outputs": [],
   "source": [
    "df"
   ]
  },
  {
   "cell_type": "code",
   "execution_count": null,
   "id": "c418e991",
   "metadata": {},
   "outputs": [],
   "source": [
    "#type(df['X'])"
   ]
  },
  {
   "cell_type": "code",
   "execution_count": null,
   "id": "a7982276",
   "metadata": {},
   "outputs": [],
   "source": [
    "data = pd.DataFrame({'Course':['NPP','NPP','EDMS','EDMS','CM','CM'],\n",
    "       'Person':['Bob','Sam','Amy','Vanessa','Carl','Sarah'],\n",
    "       'Marks':[70,75,80,65,60,90]},\n",
    "       index=['A','B','C','D','E','F'])"
   ]
  },
  {
   "cell_type": "code",
   "execution_count": null,
   "id": "ff68484d",
   "metadata": {},
   "outputs": [],
   "source": [
    "data"
   ]
  },
  {
   "cell_type": "markdown",
   "id": "ead95c68",
   "metadata": {},
   "source": [
    "# Reading and writing\n",
    "\n",
    "Being able to create a `DataFrame` or `Series` by hand is useful. But, most of the time, we won't actually be creating our own data by hand. Instead, we'll be working with data that already exists."
   ]
  },
  {
   "cell_type": "markdown",
   "id": "4c9a29a1",
   "metadata": {},
   "source": [
    "**CSV** Data can be stored in any of a number of different forms and formats. By far the most basic of these is the humble CSV file. When you open a CSV file you get something that looks like this:"
   ]
  },
  {
   "cell_type": "code",
   "execution_count": null,
   "id": "804ad192",
   "metadata": {},
   "outputs": [],
   "source": [
    "df1 = pd.read_csv('inputs/df1.csv')"
   ]
  },
  {
   "cell_type": "markdown",
   "id": "b9999af7",
   "metadata": {},
   "source": [
    "The `pd.read_csv()` function is very versatile, with over 30 optional parameters you can specify. For example, you can see in this dataset that the CSV file has a built-in index, which pandas did not pick up on automatically. To make pandas use that column for the index (instead of creating a new one from scratch), we can specify an index_col."
   ]
  },
  {
   "cell_type": "code",
   "execution_count": null,
   "id": "cc5df7af",
   "metadata": {},
   "outputs": [],
   "source": [
    "#df.to_csv('example',index=False)"
   ]
  },
  {
   "cell_type": "markdown",
   "id": "2eba9a42",
   "metadata": {},
   "source": [
    "**Excel** Pandas can read and write excel files, keep in mind, this only imports data. Not formulas or images, having images or macros may cause this read_excel method to crash."
   ]
  },
  {
   "cell_type": "code",
   "execution_count": null,
   "id": "f2bdc047",
   "metadata": {},
   "outputs": [],
   "source": [
    "#pd.read_excel('Excel_Sample.xlsx',sheetname='Sheet1')"
   ]
  },
  {
   "cell_type": "code",
   "execution_count": null,
   "id": "2b038958",
   "metadata": {},
   "outputs": [],
   "source": [
    "#df.to_excel('Excel_Sample.xlsx',sheet_name='Sheet1')"
   ]
  },
  {
   "cell_type": "markdown",
   "id": "9f657868",
   "metadata": {},
   "source": [
    "<div class=\"alert alert-block alert-success\" style=\"color:red\">\n",
    "\n",
    "You can see how to read HTML and SQL files in [Extra](./Extra.ipynb) </div>"
   ]
  },
  {
   "cell_type": "markdown",
   "id": "5f1e036a",
   "metadata": {},
   "source": [
    "#  Selection, Assigning data and Indexing\n",
    "\n",
    "## Selection\n",
    "\n",
    "Let's learn the various methods to grab data from a DataFrame.\n",
    "These are the two ways of selecting a specific Series out of a `DataFrame`. \n",
    "\n",
    "The indexing operator `[]` does have the advantage that it can handle column names with reserved characters in them."
   ]
  },
  {
   "cell_type": "code",
   "execution_count": null,
   "id": "d40daa92",
   "metadata": {},
   "outputs": [],
   "source": [
    "df"
   ]
  },
  {
   "cell_type": "code",
   "execution_count": null,
   "id": "a4ad476e",
   "metadata": {},
   "outputs": [],
   "source": [
    "df.columns"
   ]
  },
  {
   "cell_type": "code",
   "execution_count": null,
   "id": "c93383bb",
   "metadata": {},
   "outputs": [],
   "source": [
    "df.index"
   ]
  },
  {
   "cell_type": "code",
   "execution_count": null,
   "id": "d390d58d",
   "metadata": {},
   "outputs": [],
   "source": [
    "df['Y']"
   ]
  },
  {
   "cell_type": "code",
   "execution_count": null,
   "id": "93f1b969",
   "metadata": {},
   "outputs": [],
   "source": [
    "# Pass a list of column names\n",
    "df[['Y','Z']]"
   ]
  },
  {
   "cell_type": "code",
   "execution_count": null,
   "id": "3db355f1",
   "metadata": {},
   "outputs": [],
   "source": [
    "# SQL Syntax (NOT RECOMMENDED!)\n",
    "df.Y"
   ]
  },
  {
   "cell_type": "code",
   "execution_count": null,
   "id": "dd26cffa",
   "metadata": {},
   "outputs": [],
   "source": [
    "df['Y'][0]"
   ]
  },
  {
   "cell_type": "markdown",
   "id": "00075848",
   "metadata": {},
   "source": [
    "### Index-based selection\n",
    "\n",
    "Pandas indexing works in one of two paradigms. The first is index-based selection: selecting data based on its numerical position in the data. `iloc` follows this paradigm.\n",
    "\n",
    "The second paradigm for attribute selection is the one followed by the `loc` operator: **label-based selection**. In this paradigm, it's the data index value, not its position, which matters.\n",
    "\n",
    "Both `loc` and `iloc` are row-first, column-second. This is the opposite of what we do in native Python, which is column-first, row-second."
   ]
  },
  {
   "cell_type": "code",
   "execution_count": null,
   "id": "5e98f464",
   "metadata": {},
   "outputs": [],
   "source": [
    "df.loc['A']"
   ]
  },
  {
   "cell_type": "code",
   "execution_count": null,
   "id": "854b1da2",
   "metadata": {},
   "outputs": [],
   "source": [
    "df.loc['B','Y']"
   ]
  },
  {
   "cell_type": "code",
   "execution_count": null,
   "id": "fef3d22f",
   "metadata": {},
   "outputs": [],
   "source": [
    "df.loc[['A','B'],['Z','Y']]"
   ]
  },
  {
   "cell_type": "code",
   "execution_count": null,
   "id": "d40d521f",
   "metadata": {},
   "outputs": [],
   "source": [
    "df.iloc[0,:] #or df.iloc[1]"
   ]
  },
  {
   "cell_type": "code",
   "execution_count": null,
   "id": "766c5ac9",
   "metadata": {},
   "outputs": [],
   "source": [
    "df.iloc[:, 0]"
   ]
  },
  {
   "cell_type": "code",
   "execution_count": null,
   "id": "c92e36e8",
   "metadata": {},
   "outputs": [],
   "source": [
    "df.iloc[:3, 0]"
   ]
  },
  {
   "cell_type": "code",
   "execution_count": null,
   "id": "0a72f3dd",
   "metadata": {},
   "outputs": [],
   "source": [
    "df.iloc[[1, 2], 0]"
   ]
  },
  {
   "cell_type": "markdown",
   "id": "673f9d84",
   "metadata": {},
   "source": [
    "### Creating a new column:\n",
    "**DataFrame Columns are just Series**"
   ]
  },
  {
   "cell_type": "code",
   "execution_count": null,
   "id": "60a03480",
   "metadata": {},
   "outputs": [],
   "source": [
    "type(df['Z'])"
   ]
  },
  {
   "cell_type": "code",
   "execution_count": null,
   "id": "e1cfc4d7",
   "metadata": {},
   "outputs": [],
   "source": [
    "df['new'] = df['Z'] + df['Y']"
   ]
  },
  {
   "cell_type": "code",
   "execution_count": null,
   "id": "13a5090e",
   "metadata": {},
   "outputs": [],
   "source": [
    "df"
   ]
  },
  {
   "cell_type": "code",
   "execution_count": null,
   "id": "865bb3b4",
   "metadata": {},
   "outputs": [],
   "source": [
    "df['index_backwards'] = range(len(df), 0, -1)\n",
    "df"
   ]
  },
  {
   "cell_type": "markdown",
   "id": "40750e05",
   "metadata": {},
   "source": [
    "### Removing Columns"
   ]
  },
  {
   "cell_type": "code",
   "execution_count": null,
   "id": "ef149485",
   "metadata": {},
   "outputs": [],
   "source": [
    "df.drop('new',axis=1)"
   ]
  },
  {
   "cell_type": "code",
   "execution_count": null,
   "id": "668018ec",
   "metadata": {},
   "outputs": [],
   "source": [
    "# Not inplace unless specified!\n",
    "df"
   ]
  },
  {
   "cell_type": "code",
   "execution_count": null,
   "id": "a19bf742",
   "metadata": {},
   "outputs": [],
   "source": [
    "df.drop('new',axis=1,inplace=True)\n",
    "#or \n",
    "#df_newVer = df.drop('new',axis=1)"
   ]
  },
  {
   "cell_type": "markdown",
   "id": "fcc32c9d",
   "metadata": {},
   "source": [
    "Can also drop rows this way:"
   ]
  },
  {
   "cell_type": "code",
   "execution_count": null,
   "id": "3cf863c7",
   "metadata": {},
   "outputs": [],
   "source": [
    "df.drop('A',axis=0)"
   ]
  },
  {
   "cell_type": "markdown",
   "id": "7e124779",
   "metadata": {},
   "source": [
    "**Permanently Removing a Column**"
   ]
  },
  {
   "cell_type": "code",
   "execution_count": null,
   "id": "68538496",
   "metadata": {},
   "outputs": [],
   "source": [
    "del df['index_backwards']"
   ]
  },
  {
   "cell_type": "markdown",
   "id": "636fdfee",
   "metadata": {},
   "source": [
    "### Conditional Selection\n",
    "\n",
    "An important feature of pandas is conditional selection using bracket notation, very similar to numpy:"
   ]
  },
  {
   "cell_type": "code",
   "execution_count": null,
   "id": "a82acdae",
   "metadata": {},
   "outputs": [],
   "source": [
    "df>0"
   ]
  },
  {
   "cell_type": "code",
   "execution_count": null,
   "id": "cddd597c",
   "metadata": {},
   "outputs": [],
   "source": [
    "df[df>0]"
   ]
  },
  {
   "cell_type": "code",
   "execution_count": null,
   "id": "67658f74",
   "metadata": {},
   "outputs": [],
   "source": [
    "df[df['Z']>0]"
   ]
  },
  {
   "cell_type": "code",
   "execution_count": null,
   "id": "4b62811a",
   "metadata": {},
   "outputs": [],
   "source": [
    "df[df['Z']>0]['Y']"
   ]
  },
  {
   "cell_type": "code",
   "execution_count": null,
   "id": "5b3f79da",
   "metadata": {},
   "outputs": [],
   "source": [
    "df[df['Z']>0][['Y','X']]"
   ]
  },
  {
   "cell_type": "markdown",
   "id": "8b25aed5",
   "metadata": {},
   "source": [
    "For two conditions you can use | and & with parenthesis:"
   ]
  },
  {
   "cell_type": "code",
   "execution_count": null,
   "id": "727c6144",
   "metadata": {},
   "outputs": [],
   "source": [
    "df[(df['X']>0) & (df['Y'] > 1)]"
   ]
  },
  {
   "cell_type": "code",
   "execution_count": null,
   "id": "36b79bdb",
   "metadata": {},
   "outputs": [],
   "source": [
    "df"
   ]
  },
  {
   "cell_type": "markdown",
   "id": "fd069813",
   "metadata": {},
   "source": [
    "Pandas comes with a few built-in conditional selectors, two of which we will highlight here.\n",
    "\n",
    "The first is `isin`. `isin` is lets you select data whose value \"is in\" a list of values."
   ]
  },
  {
   "cell_type": "markdown",
   "id": "b3d27653",
   "metadata": {},
   "source": [
    "The second is `isnull` (and its companion `notnull`). These methods let you highlight values which are (or are not) empty (`NaN`). For example, to filter out wines lacking a price tag in the dataset, here's what we would do:"
   ]
  },
  {
   "cell_type": "code",
   "execution_count": null,
   "id": "a8b75a07",
   "metadata": {},
   "outputs": [],
   "source": [
    "df.loc[df['Z'].notnull()]"
   ]
  },
  {
   "cell_type": "markdown",
   "id": "0ea4ccf3",
   "metadata": {},
   "source": [
    "### More Index Details\n",
    "\n",
    "Let's discuss some more features of indexing, including resetting the index or setting it something else."
   ]
  },
  {
   "cell_type": "code",
   "execution_count": null,
   "id": "da9d6c03",
   "metadata": {},
   "outputs": [],
   "source": [
    "# Reset to default 0,1...n index\n",
    "df.reset_index()"
   ]
  },
  {
   "cell_type": "code",
   "execution_count": null,
   "id": "8ed127b4",
   "metadata": {},
   "outputs": [],
   "source": [
    "newind = 'one two three four'.split()"
   ]
  },
  {
   "cell_type": "code",
   "execution_count": null,
   "id": "18f3481c",
   "metadata": {},
   "outputs": [],
   "source": [
    "df['Hs_type'] = newind"
   ]
  },
  {
   "cell_type": "code",
   "execution_count": null,
   "id": "b369fd10",
   "metadata": {},
   "outputs": [],
   "source": [
    "df"
   ]
  },
  {
   "cell_type": "code",
   "execution_count": null,
   "id": "ed492f41",
   "metadata": {},
   "outputs": [],
   "source": [
    "df.set_index('Hs_type')"
   ]
  },
  {
   "cell_type": "code",
   "execution_count": null,
   "id": "f3beb917",
   "metadata": {},
   "outputs": [],
   "source": [
    "df.set_index('Hs_type',inplace=True)"
   ]
  },
  {
   "cell_type": "markdown",
   "id": "0e8d414f",
   "metadata": {},
   "source": [
    "<div class=\"alert alert-block alert-success\">\n",
    "    \n",
    "See [Extra](./Extra.ipynb) for **Multi-Index and Index Hierarchy** </div>"
   ]
  },
  {
   "cell_type": "markdown",
   "id": "5cfb9413",
   "metadata": {},
   "source": [
    "#  Operations\n",
    "\n",
    "There are lots of operations with pandas that will be really useful to you, but don't fall into any distinct category. Let's show them here in this lecture:"
   ]
  },
  {
   "cell_type": "code",
   "execution_count": null,
   "id": "f3a47afc",
   "metadata": {},
   "outputs": [],
   "source": [
    "df = pd.DataFrame({'col1':[1,2,3,4],'col2':[444,555,666,444],'col3':['aa','cc','dd','ee']})\n",
    "df.head()"
   ]
  },
  {
   "cell_type": "markdown",
   "id": "40ff4c4c",
   "metadata": {},
   "source": [
    "### Info on Unique Values"
   ]
  },
  {
   "cell_type": "code",
   "execution_count": null,
   "id": "dae69923",
   "metadata": {},
   "outputs": [],
   "source": [
    "df['col2'].unique()"
   ]
  },
  {
   "cell_type": "code",
   "execution_count": null,
   "id": "a205d99a",
   "metadata": {},
   "outputs": [],
   "source": [
    "df['col2'].nunique()"
   ]
  },
  {
   "cell_type": "code",
   "execution_count": null,
   "id": "0fbe6566",
   "metadata": {},
   "outputs": [],
   "source": [
    "df['col2'].value_counts()"
   ]
  },
  {
   "cell_type": "markdown",
   "id": "b7888645",
   "metadata": {},
   "source": [
    "### Duplications"
   ]
  },
  {
   "cell_type": "code",
   "execution_count": null,
   "id": "809d02f0",
   "metadata": {},
   "outputs": [],
   "source": [
    "df.duplicated()#.sum()"
   ]
  },
  {
   "cell_type": "markdown",
   "id": "116456e5",
   "metadata": {},
   "source": [
    "#### Drop duplication"
   ]
  },
  {
   "cell_type": "code",
   "execution_count": null,
   "id": "0ca745c9",
   "metadata": {},
   "outputs": [],
   "source": [
    "df.drop_duplicates(inplace=True)"
   ]
  },
  {
   "cell_type": "markdown",
   "id": "0dc107e7",
   "metadata": {},
   "source": [
    "### statistical information"
   ]
  },
  {
   "cell_type": "markdown",
   "id": "a4f0b85a",
   "metadata": {},
   "source": [
    "This method generates a high-level summary of the attributes of the given column. It is type-aware, meaning that its output changes based on the data type of the input. The output above only makes sense for numerical data; for string data here's what we get:"
   ]
  },
  {
   "cell_type": "code",
   "execution_count": null,
   "id": "f8eb6683",
   "metadata": {},
   "outputs": [],
   "source": [
    "df['col2'].mean() #.std() #.median()"
   ]
  },
  {
   "cell_type": "markdown",
   "id": "9f57cd29",
   "metadata": {},
   "source": [
    "#### Summary Function\n",
    "Pandas provides many simple *summary functions* (not an official name) which restructure the data in some useful way. For example, consider the `describe()` method:"
   ]
  },
  {
   "cell_type": "code",
   "execution_count": null,
   "id": "18b6edc5",
   "metadata": {},
   "outputs": [],
   "source": [
    "df.describe()"
   ]
  },
  {
   "cell_type": "markdown",
   "id": "a125217c",
   "metadata": {},
   "source": [
    "### Maps\n",
    "\n",
    "A **map** is a term, borrowed from mathematics, for a function that takes one set of values and \"maps\" them to another set of values. In data science we often have a need for creating new representations from existing data, or for transforming data from the format it is in now to the format that we want it to be in later. Maps are what handle this work, making them extremely important for getting your work done!\n",
    "\n",
    "There are two mapping methods that you will use often.\n",
    "\n",
    "`map()` is the first, and slightly simpler one. For example, suppose that we wanted to remean the scores the wines received to 0. We can do this as follows:"
   ]
  },
  {
   "cell_type": "code",
   "execution_count": null,
   "id": "5d51b196",
   "metadata": {},
   "outputs": [],
   "source": [
    "df_mean = df['col1'].mean()\n",
    "df['col1'].map(lambda p: p - df_mean)"
   ]
  },
  {
   "cell_type": "markdown",
   "id": "99f55724",
   "metadata": {},
   "source": [
    "### Applying Functions"
   ]
  },
  {
   "cell_type": "code",
   "execution_count": null,
   "id": "509fa918",
   "metadata": {},
   "outputs": [],
   "source": [
    "def times2(x):\n",
    "    return x*2"
   ]
  },
  {
   "cell_type": "code",
   "execution_count": null,
   "id": "136f5b67",
   "metadata": {},
   "outputs": [],
   "source": [
    "df['col1'].apply(times2)"
   ]
  },
  {
   "cell_type": "code",
   "execution_count": null,
   "id": "f80366de",
   "metadata": {},
   "outputs": [],
   "source": [
    "df['col3'].apply(len)"
   ]
  },
  {
   "cell_type": "code",
   "execution_count": null,
   "id": "68362428",
   "metadata": {},
   "outputs": [],
   "source": [
    "df['col2'].sum()"
   ]
  },
  {
   "cell_type": "markdown",
   "id": "ceb6d6bf",
   "metadata": {},
   "source": [
    "## Data Types \n",
    "\n",
    "You can use the `dtype` property to grab the type of a specific column. Or you can use `dtypes` to see all data types of columns"
   ]
  },
  {
   "cell_type": "code",
   "execution_count": null,
   "id": "fe1cf552",
   "metadata": {},
   "outputs": [],
   "source": [
    "df['col2'].dtype "
   ]
  },
  {
   "cell_type": "code",
   "execution_count": null,
   "id": "86212c03",
   "metadata": {},
   "outputs": [],
   "source": [
    "df.dtypes"
   ]
  },
  {
   "cell_type": "markdown",
   "id": "1ba61b4e",
   "metadata": {},
   "source": [
    "Data types tell us something about how pandas is storing the data internally. `float64` means that it's using a 64-bit floating point number; `int64` means a similarly sized integer instead, and so on.\n",
    "\n",
    "One peculiarity to keep in mind (and on display very clearly here) is that columns consisting entirely of strings do not get their own type; they are instead given the object type.\n",
    "\n",
    "It's possible to convert a column of one type into another wherever such a conversion makes sense by using the `astype()` function. For example, we may transform the points column from its existing `int64` data type into a `float64` data type:"
   ]
  },
  {
   "cell_type": "code",
   "execution_count": null,
   "id": "75a84585",
   "metadata": {},
   "outputs": [],
   "source": [
    "df['col2'].astype('float64')"
   ]
  },
  {
   "cell_type": "markdown",
   "id": "e4dcdb3a",
   "metadata": {},
   "source": [
    "## Missing Values"
   ]
  },
  {
   "cell_type": "markdown",
   "id": "45b62419",
   "metadata": {},
   "source": [
    "Entries missing values are given the value `NaN`, short for \"Not a Number\". For technical reasons these `NaN` values are always of the `float64` `dtype`.\n",
    "\n",
    "Pandas provides some methods specific to missing data. To select `NaN` entries you can use `pd.isnull()` (or its companion `pd.notnull()`). This is meant to be used thusly:"
   ]
  },
  {
   "cell_type": "code",
   "execution_count": null,
   "id": "0d782342",
   "metadata": {},
   "outputs": [],
   "source": [
    "df = pd.DataFrame({'col1':[1,2,3,np.nan],\n",
    "                   'col2':[np.nan,555,666,444],\n",
    "                   'col3':['aaa','bbb','ccc','ddd']})\n",
    "df.head()"
   ]
  },
  {
   "cell_type": "code",
   "execution_count": null,
   "id": "d1b33998",
   "metadata": {},
   "outputs": [],
   "source": [
    "df.isnull()#.sum()"
   ]
  },
  {
   "cell_type": "code",
   "execution_count": null,
   "id": "4c8d0129",
   "metadata": {},
   "outputs": [],
   "source": [
    "df.fillna('FILL')"
   ]
  },
  {
   "cell_type": "code",
   "execution_count": null,
   "id": "8d28348b",
   "metadata": {},
   "outputs": [],
   "source": [
    "data = {'A':['Class1','Class1','Class1','Class2','Class2','Class2'],\n",
    "     'B':['M1','M1','M2','M2','M1','M1'],\n",
    "       'C':['x','y','x','y','x','y'],\n",
    "       'D':[1,3,2,5,4,1]}\n",
    "\n",
    "df = pd.DataFrame(data)\n",
    "df.pivot_table(values='D',index=['A', 'B'],columns=['C'])"
   ]
  },
  {
   "cell_type": "code",
   "execution_count": null,
   "id": "74c3e494",
   "metadata": {},
   "outputs": [],
   "source": [
    "df = pd.DataFrame({'A':[1,2,np.nan],\n",
    "                  'B':[5,np.nan,np.nan],\n",
    "                  'C':[1,2,3]})"
   ]
  },
  {
   "cell_type": "code",
   "execution_count": null,
   "id": "b0df4454",
   "metadata": {},
   "outputs": [],
   "source": [
    "df.dropna()"
   ]
  },
  {
   "cell_type": "code",
   "execution_count": null,
   "id": "4bee8b22",
   "metadata": {},
   "outputs": [],
   "source": [
    "df.dropna(axis=1)"
   ]
  },
  {
   "cell_type": "code",
   "execution_count": null,
   "id": "77fe76ee",
   "metadata": {},
   "outputs": [],
   "source": [
    "df.dropna(thresh=2)"
   ]
  },
  {
   "cell_type": "code",
   "execution_count": null,
   "id": "5d2ffc65",
   "metadata": {},
   "outputs": [],
   "source": [
    "df.fillna(value='FILL VALUE')"
   ]
  },
  {
   "cell_type": "code",
   "execution_count": null,
   "id": "00495294",
   "metadata": {},
   "outputs": [],
   "source": [
    "df['A'].fillna(value=df['A'].mean())"
   ]
  },
  {
   "cell_type": "markdown",
   "id": "2639a2e0",
   "metadata": {},
   "source": [
    "The `replace()` method is worth mentioning here because it's handy for replacing missing data which is given some kind of sentinel value in the dataset: things like \"Unknown\", \"Undisclosed\", \"Invalid\", and so on."
   ]
  },
  {
   "cell_type": "markdown",
   "id": "33437f34",
   "metadata": {},
   "source": [
    "# Groupby\n",
    "\n",
    "The `groupby()` method allows you to group rows of data together and call aggregate functions."
   ]
  },
  {
   "cell_type": "code",
   "execution_count": null,
   "id": "d3d229b6",
   "metadata": {},
   "outputs": [],
   "source": [
    "# Create dataframe\n",
    "data = pd.DataFrame({'Course':['NPP','NPP','EDMS','EDMS','CM','CM'],\n",
    "       'Person':['Bob','Sam','Amy','Vanessa','Carl','Sarah'],\n",
    "       'Marks':[70,75,80,65,60,90]},\n",
    "       index=['A','B','C','D','E','F'])"
   ]
  },
  {
   "cell_type": "code",
   "execution_count": null,
   "id": "df362dc3",
   "metadata": {},
   "outputs": [],
   "source": [
    "df = pd.DataFrame(data)"
   ]
  },
  {
   "cell_type": "markdown",
   "id": "69139532",
   "metadata": {},
   "source": [
    "** Now you can use the .groupby() method to group rows together based off of a column name. For instance let's group based off of Company. This will create a DataFrameGroupBy object:**"
   ]
  },
  {
   "cell_type": "code",
   "execution_count": null,
   "id": "dbfd3b3f",
   "metadata": {},
   "outputs": [],
   "source": [
    "df.groupby('Course')"
   ]
  },
  {
   "cell_type": "markdown",
   "id": "1124be76",
   "metadata": {},
   "source": [
    "You can save this object as a new variable:"
   ]
  },
  {
   "cell_type": "code",
   "execution_count": null,
   "id": "7c42555f",
   "metadata": {},
   "outputs": [],
   "source": [
    "by_course = df.groupby(\"Course\")"
   ]
  },
  {
   "cell_type": "markdown",
   "id": "ea5c8601",
   "metadata": {},
   "source": [
    "And then call aggregate methods off the object:"
   ]
  },
  {
   "cell_type": "code",
   "execution_count": null,
   "id": "2307fada",
   "metadata": {},
   "outputs": [],
   "source": [
    "by_course.mean()"
   ]
  },
  {
   "cell_type": "code",
   "execution_count": null,
   "id": "70ab75e3",
   "metadata": {},
   "outputs": [],
   "source": [
    "df.groupby('Course').mean()"
   ]
  },
  {
   "cell_type": "code",
   "execution_count": null,
   "id": "6fb8e34d",
   "metadata": {},
   "outputs": [],
   "source": [
    "by_course.std() #max() #min()"
   ]
  },
  {
   "cell_type": "code",
   "execution_count": null,
   "id": "0ff8eb50",
   "metadata": {},
   "outputs": [],
   "source": [
    "by_course.count()"
   ]
  },
  {
   "cell_type": "code",
   "execution_count": null,
   "id": "4143b74b",
   "metadata": {},
   "outputs": [],
   "source": [
    "by_course.describe()"
   ]
  },
  {
   "cell_type": "code",
   "execution_count": null,
   "id": "6cbfe6fd",
   "metadata": {},
   "outputs": [],
   "source": [
    "by_course.describe().transpose()"
   ]
  },
  {
   "cell_type": "code",
   "execution_count": null,
   "id": "fbbaf105",
   "metadata": {},
   "outputs": [],
   "source": [
    "by_course.describe().transpose()['NPP']"
   ]
  },
  {
   "cell_type": "markdown",
   "id": "3291f801",
   "metadata": {},
   "source": [
    "Another groupby() method worth mentioning is agg(), which lets you run a bunch of different functions on your DataFrame simultaneously. For example, we can generate a simple statistical summary of the dataset as follows:"
   ]
  },
  {
   "cell_type": "code",
   "execution_count": null,
   "id": "1afa3afb",
   "metadata": {},
   "outputs": [],
   "source": [
    "df.groupby(['Course']).agg([len, min, max])"
   ]
  },
  {
   "cell_type": "markdown",
   "id": "91df8fab",
   "metadata": {},
   "source": [
    "# Merging, Joining, and Concatenating\n",
    "\n",
    "There are 3 main ways of combining DataFrames together: Merging, Joining and Concatenating. In this lecture we will discuss these 3 methods with examples."
   ]
  },
  {
   "cell_type": "code",
   "execution_count": null,
   "id": "872d6323",
   "metadata": {},
   "outputs": [],
   "source": [
    "df1 = pd.DataFrame({'A': ['A0', 'A1', 'A2', 'A3'],\n",
    "                        'B': ['B0', 'B1', 'B2', 'B3'],\n",
    "                        'C': ['C0', 'C1', 'C2', 'C3'],\n",
    "                        'D': ['D0', 'D1', 'D2', 'D3']},\n",
    "                        index=[0, 1, 2, 3])"
   ]
  },
  {
   "cell_type": "code",
   "execution_count": null,
   "id": "c4ad9fb9",
   "metadata": {},
   "outputs": [],
   "source": [
    "df2 = pd.DataFrame({'A': ['A4', 'A5', 'A6', 'A7'],\n",
    "                        'B': ['B4', 'B5', 'B6', 'B7'],\n",
    "                        'C': ['C4', 'C5', 'C6', 'C7'],\n",
    "                        'D': ['D4', 'D5', 'D6', 'D7']},\n",
    "                         index=[4, 5, 6, 7]) "
   ]
  },
  {
   "cell_type": "code",
   "execution_count": null,
   "id": "092eb3d2",
   "metadata": {},
   "outputs": [],
   "source": [
    "df3 = pd.DataFrame({'A': ['A8', 'A9', 'A10', 'A11'],\n",
    "                        'B': ['B8', 'B9', 'B10', 'B11'],\n",
    "                        'C': ['C8', 'C9', 'C10', 'C11'],\n",
    "                        'D': ['D8', 'D9', 'D10', 'D11']},\n",
    "                        index=[8, 9, 10, 11])"
   ]
  },
  {
   "cell_type": "markdown",
   "id": "49346ec5",
   "metadata": {},
   "source": [
    "## Concatenation\n",
    "\n",
    "Concatenation basically glues together DataFrames. Keep in mind that dimensions should match along the axis you are concatenating on. You can use **pd.concat** and pass in a list of DataFrames to concatenate together:"
   ]
  },
  {
   "cell_type": "code",
   "execution_count": null,
   "id": "dd3c17c5",
   "metadata": {},
   "outputs": [],
   "source": [
    "pd.concat([df1,df2,df3])"
   ]
  },
  {
   "cell_type": "code",
   "execution_count": null,
   "id": "8b2b7821",
   "metadata": {},
   "outputs": [],
   "source": [
    "pd.concat([df1,df2,df3],axis=1)"
   ]
  },
  {
   "cell_type": "code",
   "execution_count": null,
   "id": "c9d1183f",
   "metadata": {},
   "outputs": [],
   "source": [
    "left = pd.DataFrame({'key': ['K0', 'K1', 'K2', 'K3'],\n",
    "                     'A': ['A0', 'A1', 'A2', 'A3'],\n",
    "                     'B': ['B0', 'B1', 'B2', 'B3']})\n",
    "   \n",
    "right = pd.DataFrame({'key': ['K0', 'K1', 'K2', 'K3'],\n",
    "                          'C': ['C0', 'C1', 'C2', 'C3'],\n",
    "                          'D': ['D0', 'D1', 'D2', 'D3']})    "
   ]
  },
  {
   "cell_type": "markdown",
   "id": "38d7e625",
   "metadata": {},
   "source": [
    "## Merging\n",
    "\n",
    "The **merge** function allows you to merge DataFrames together using a similar logic as merging SQL Tables together. For example:"
   ]
  },
  {
   "cell_type": "code",
   "execution_count": null,
   "id": "0e497e93",
   "metadata": {},
   "outputs": [],
   "source": [
    "pd.merge(left,right,how='inner',on='key')"
   ]
  },
  {
   "cell_type": "code",
   "execution_count": null,
   "id": "9d765cf6",
   "metadata": {},
   "outputs": [],
   "source": [
    "left = pd.DataFrame({'key1': ['K0', 'K0', 'K1', 'K2'],\n",
    "                     'key2': ['K0', 'K1', 'K0', 'K1'],\n",
    "                        'A': ['A0', 'A1', 'A2', 'A3'],\n",
    "                        'B': ['B0', 'B1', 'B2', 'B3']})\n",
    "    \n",
    "right = pd.DataFrame({'key1': ['K0', 'K1', 'K1', 'K2'],\n",
    "                               'key2': ['K0', 'K0', 'K0', 'K0'],\n",
    "                                  'C': ['C0', 'C1', 'C2', 'C3'],\n",
    "                                  'D': ['D0', 'D1', 'D2', 'D3']})"
   ]
  },
  {
   "cell_type": "code",
   "execution_count": null,
   "id": "7da06fe9",
   "metadata": {},
   "outputs": [],
   "source": [
    "pd.merge(left, right, on=['key1', 'key2'])"
   ]
  },
  {
   "cell_type": "code",
   "execution_count": null,
   "id": "c0d5c872",
   "metadata": {},
   "outputs": [],
   "source": [
    "pd.merge(left, right, how='outer', on=['key1', 'key2'])"
   ]
  },
  {
   "cell_type": "code",
   "execution_count": null,
   "id": "3f46527b",
   "metadata": {},
   "outputs": [],
   "source": [
    "pd.merge(left, right, how='right', on=['key1', 'key2'])"
   ]
  },
  {
   "cell_type": "code",
   "execution_count": null,
   "id": "526b3839",
   "metadata": {},
   "outputs": [],
   "source": [
    "pd.merge(left, right, how='left', on=['key1', 'key2'])"
   ]
  },
  {
   "cell_type": "markdown",
   "id": "a28ec083",
   "metadata": {},
   "source": [
    "## Joining\n",
    "Joining is a convenient method for combining the columns of two potentially differently-indexed DataFrames into a single result DataFrame."
   ]
  },
  {
   "cell_type": "code",
   "execution_count": null,
   "id": "9f1eb691",
   "metadata": {},
   "outputs": [],
   "source": [
    "left = pd.DataFrame({'A': ['A0', 'A1', 'A2'],\n",
    "                     'B': ['B0', 'B1', 'B2']},\n",
    "                      index=['K0', 'K1', 'K2']) \n",
    "\n",
    "right = pd.DataFrame({'C': ['C0', 'C2', 'C3'],\n",
    "                    'D': ['D0', 'D2', 'D3']},\n",
    "                      index=['K0', 'K2', 'K3'])"
   ]
  },
  {
   "cell_type": "code",
   "execution_count": null,
   "id": "2bf0909e",
   "metadata": {},
   "outputs": [],
   "source": [
    "left.join(right)"
   ]
  },
  {
   "cell_type": "code",
   "execution_count": null,
   "id": "4254e316",
   "metadata": {},
   "outputs": [],
   "source": [
    "left.join(right, how='outer')"
   ]
  },
  {
   "cell_type": "markdown",
   "id": "2a023067",
   "metadata": {},
   "source": [
    "<div class=\"alert alert-block alert-success\">\n",
    "    \n",
    "See **Built-in visualization features**\n",
    "and **Timeseries with Pandas** in [Extra](./Extra.ipynb) </div>"
   ]
  },
  {
   "cell_type": "markdown",
   "id": "38f776f8",
   "metadata": {},
   "source": [
    "# Further reading and refrences"
   ]
  },
  {
   "cell_type": "markdown",
   "id": "911699db",
   "metadata": {},
   "source": [
    " For more info on why you would want to use Arrays instead of lists, check out this great [StackOverflow post](http://stackoverflow.com/questions/993984/why-numpy-instead-of-python-lists)."
   ]
  },
  {
   "cell_type": "markdown",
   "id": "99b4ae1c",
   "metadata": {},
   "source": [
    " [Pandas extra](https://pandas.pydata.org/pandas-docs/stable/getting_started/tutorials.html)."
   ]
  },
  {
   "cell_type": "markdown",
   "id": "619a4673",
   "metadata": {},
   "source": [
    "Further, if you are interested in data science and machine learning then you need to know about Kaggle. You will use it a few times throughout the year. An introduction can be found:\n",
    "\n",
    "[![Two](http://img.youtube.com/vi/TNzDMOg_zsw/0.jpg)](https://youtu.be/TNzDMOg_zsw)"
   ]
  }
 ],
 "metadata": {
  "kernelspec": {
   "display_name": "Python 3 (ipykernel)",
   "language": "python",
   "name": "python3"
  }
 },
 "nbformat": 4,
 "nbformat_minor": 5
}
