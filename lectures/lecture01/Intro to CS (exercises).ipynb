{
 "cells": [
  {
   "cell_type": "markdown",
   "id": "82f9a0e0",
   "metadata": {},
   "source": [
    "# Introduction to Computer Science\n",
    "\n",
    "## Core exercises\n",
    "\n",
    "This notebook contains exercises for the Intro to CS lecture. Example solutions & discussion will be released the day after the lecture."
   ]
  },
  {
   "cell_type": "markdown",
   "id": "a670b905",
   "metadata": {},
   "source": [
    "## Hour I\n",
    "\n",
    "### Python \"coding Katas\"\n",
    "\n",
    "A code kata is a short, well defined programming exercise you can undertake to practice your skills and learn through repetition and immersion.\n",
    "\n",
    "Lists of exercises exist across the internet, e.g.:\n",
    "\n",
    "- <https://github.com/gamontal/awesome-katas>\n",
    "- <https://www.codewars.com/collections/easy-python-katas>\n",
    "- <https://umuzi-org.github.io/tech-department/projects/basic-flow-control-katas/>\n",
    "\n",
    "We've picked out some standard problems to try. Feel free to work by yourself, or together in a small group, and don't be afraid to ask for help if you get stuck.\n",
    "\n",
    "#### Fizz buzz\n",
    "\n",
    "[Fizz buzz](https://en.wikipedia.org/wiki/Fizz_buzz)\n",
    "\n",
    "is a children's game in which players take turns to count upwards from 1, each saying the next number in turn. Whenever the number divides exactly by 3 it is replaced with 'Fizz', and whenever it divides by 5 it is replaced with 'Buzz'. Numbers which divide by both (e.g. 15) are replaced with 'Fizz Buzz'.\n",
    "\n",
    "Your job is to write a python function which takes one input, $n$, and return the results up to that number. So `fizzbuzz(30)` should return `1, 2, Fizz, 4, Buzz, Fizz, 7, 8, Fizz, Buzz, 11, Fizz, 13, 14, Fizz Buzz, 16, 17, Fizz, 19, Buzz, Fizz, 22, 23, Fizz, Buzz, 26, Fizz, 28, 29, Fizz Buzz,`.\n",
    "\n",
    "\n",
    "##### _a hint_\n",
    "\n",
    "You'll need to loop through the numbers, and check whether they divide by 3 or 5."
   ]
  },
  {
   "cell_type": "code",
   "execution_count": 8,
   "id": "549578a3",
   "metadata": {
    "vscode": {
     "languageId": "python"
    }
   },
   "outputs": [],
   "source": [
    "def fizz_buzz(n):\n",
    "    res = []\n",
    "    for i in range(n):\n",
    "        if (i+1)%3 == 0 and (n+1)%5 == 0:\n",
    "            res.append('Fizz Buzz')\n",
    "        elif (i+1)%3 == 0:\n",
    "            res.append('Fizz')\n",
    "        elif (i+1)%5 == 0:\n",
    "            res.append('Buzz')\n",
    "        else:\n",
    "            res.append(i+1)\n",
    "    return res"
   ]
  },
  {
   "cell_type": "markdown",
   "id": "1dfe7618",
   "metadata": {},
   "source": [
    "#### Anagram checker\n",
    "\n",
    "An [anagram](https://en.wikipedia.org/wiki/Anagram) is a word or phrase formed by rearranging the letters of an input word (or) phase into a new one.\n",
    "\n",
    "For example, `carthorse` is an anagram of `orchestra` and `a decimal point` is an anagram of `I'm a dot in place`.\n",
    "\n",
    "Your job is to write a function which takes two inputs and checks if they are anagrams. As in the examples above, it should ideally ignore punctuation and whitespace, as well as case, i.e. whether letters are in capitals (`A`) or small letters (`a`).\n",
    "\n",
    "##### _a hint_\n",
    "\n",
    "This problem can be approached a number of ways, but you may find the string methods (e.g. `\"AbC\".lower()`) or the contents of the built in `string` module useful."
   ]
  },
  {
   "cell_type": "code",
   "execution_count": 21,
   "id": "300c8fa0",
   "metadata": {},
   "outputs": [
    {
     "data": {
      "text/plain": [
       "True"
      ]
     },
     "execution_count": 21,
     "metadata": {},
     "output_type": "execute_result"
    }
   ],
   "source": [
    "sorted([1,2,3]) == sorted([2,3,1])"
   ]
  },
  {
   "cell_type": "code",
   "execution_count": 45,
   "id": "a3c51dfb",
   "metadata": {
    "vscode": {
     "languageId": "python"
    }
   },
   "outputs": [],
   "source": [
    "def anagram_checker(word1, word2):\n",
    "    word1 = word1.lower()\n",
    "    word2 = word2.lower()\n",
    "    list = 'abcdefghijklmnopqrstuvwxyz'\n",
    "    list1, list2 = [], []\n",
    "    for i in word1:\n",
    "        if i in list:\n",
    "            list1.append(i)\n",
    "    for i in word2:\n",
    "        if i in list:\n",
    "            list2.append(i)\n",
    "    if sorted(list1) == sorted(list2):\n",
    "        return 'Yes'\n",
    "    else:\n",
    "        return 'No'"
   ]
  },
  {
   "cell_type": "code",
   "execution_count": null,
   "id": "66f0faed",
   "metadata": {},
   "outputs": [],
   "source": [
    "#Answer:\n",
    "\n",
    "import string\n",
    "\n",
    "def anagram_checker(input1, input2):\n",
    "    input1 = [_.lower() for _ in input1 if _ in string.ascii_letters]\n",
    "    input2 = [_.lower() for _ in input2 if _ in string.ascii_letters]\n",
    "\n",
    "    return sorted(input1) == sorted(input2)"
   ]
  },
  {
   "cell_type": "code",
   "execution_count": null,
   "id": "8d7ba97f",
   "metadata": {},
   "outputs": [],
   "source": []
  },
  {
   "cell_type": "code",
   "execution_count": 47,
   "id": "81691a1a",
   "metadata": {},
   "outputs": [
    {
     "name": "stdout",
     "output_type": "stream",
     "text": [
      "abcdefghijklmnopqrstuvwxyz\n",
      "['s', 'c', 'd', 'e', 'f', 'a']\n"
     ]
    },
    {
     "data": {
      "text/plain": [
       "'No'"
      ]
     },
     "execution_count": 47,
     "metadata": {},
     "output_type": "execute_result"
    }
   ],
   "source": [
    "anagram_checker('scderf', 'scdefa')"
   ]
  },
  {
   "cell_type": "markdown",
   "id": "7c975554",
   "metadata": {},
   "source": [
    "#### (Hard) Making a number dictionary\n",
    "\n",
    "Write a routine to sort a list of Python `int` into their  _dictionary_ (i.e. word list) order, based on their english language name. In this list the number 3 comes before 2, since `three` comes earlier than `two` in the dictionary.\n",
    "\n",
    "\n",
    "##### _a hint_ \n",
    "\n",
    "A reasonable solution for small numbers (up to about 20) is to precalculate the order of the numbers.\n",
    "\n",
    "An intermediate solution will have a mapping from the numbers to their word forms, and use Python to calcualte the alphabetical order. This will again only work for a fairly low maximum number.\n",
    "\n",
    "An advanced solution will build up the word form of the number from its component parts (e.g. `twenty three thousand four hundred and seven`), then let Python do the ordering again."
   ]
  },
  {
   "cell_type": "code",
   "execution_count": 50,
   "id": "6ab5f819",
   "metadata": {},
   "outputs": [
    {
     "data": {
      "text/plain": [
       "False"
      ]
     },
     "execution_count": 50,
     "metadata": {},
     "output_type": "execute_result"
    }
   ],
   "source": [
    "'one' > 'twenty three thousand four hundred and seven'"
   ]
  },
  {
   "cell_type": "code",
   "execution_count": 84,
   "id": "982ffe75",
   "metadata": {},
   "outputs": [],
   "source": [
    "def n2w(num):\n",
    "    less_than_20 = [\"\", \"One\", \"Two\", \"Three\", \"Four\", \"Five\", \"Six\",\n",
    "                    \"Seven\", \"Eight\", \"Nine\", \"Ten\", \"Eleven\", \"Twelve\", \"Thirteen\",\n",
    "                    \"Fourteen\", \"Fifteen\", \"Sixteen\", \"Seventeen\", \"Eighteen\",\n",
    "                    \"Nineteen\"]\n",
    "    tens = [\"\", \"Ten\", \"Twenty\", \"Thirty\", \"Forty\", \"Fifty\", \"Sixty\",\n",
    "            \"Seventy\", \"Eighty\", \"Ninety\"]\n",
    "    thousands = [\"\", \"Thousand\", \"Million\", \"Billion\"]\n",
    "\n",
    "    def helper(n):\n",
    "        if n == 0:\n",
    "            return \"\"\n",
    "        elif n < 20:\n",
    "            return less_than_20[n] + \" \"\n",
    "        elif n < 100:\n",
    "            return tens[n//10] + \" \" + helper(n % 10)\n",
    "        else:\n",
    "            return less_than_20[n // 100] + \" Hundred \" + helper(n % 100)\n",
    "\n",
    "    if num == 0:\n",
    "        return \"Zero\"\n",
    "        ans = \"\"\n",
    "\n",
    "    i = 0\n",
    "    ans = ''\n",
    "    while num > 0:\n",
    "        if num % 1000 != 0:\n",
    "            ans = helper(num % 1000) + thousands[i] + \" \" + ans\n",
    "            i += 1\n",
    "            num //= 1000\n",
    "        else:\n",
    "            ans = helper(num % 1000) + thousands[i]\n",
    "            i += 1\n",
    "            num //= 1000\n",
    "\n",
    "    return ans.strip()"
   ]
  },
  {
   "cell_type": "code",
   "execution_count": 99,
   "id": "5e0b2b94",
   "metadata": {},
   "outputs": [
    {
     "data": {
      "text/plain": [
       "'Twenty Three Thousand Four Hundred'"
      ]
     },
     "execution_count": 99,
     "metadata": {},
     "output_type": "execute_result"
    }
   ],
   "source": [
    "n2w(23400)"
   ]
  },
  {
   "cell_type": "code",
   "execution_count": 96,
   "id": "d518f38b",
   "metadata": {
    "vscode": {
     "languageId": "python"
    }
   },
   "outputs": [],
   "source": [
    "def dictionary_order(int_list):\n",
    "    a = [n2w(i) for i in int_list]\n",
    "    res = []\n",
    "#     print(int_list)\n",
    "    for i in sorted(a):\n",
    "        ind = a.index(i)\n",
    "        res.append(int_list[ind])\n",
    "    return res"
   ]
  },
  {
   "cell_type": "code",
   "execution_count": 97,
   "id": "df0b04f8",
   "metadata": {},
   "outputs": [
    {
     "data": {
      "text/plain": [
       "[5, 4, 1, 3, 2]"
      ]
     },
     "execution_count": 97,
     "metadata": {},
     "output_type": "execute_result"
    }
   ],
   "source": [
    "dictionary_order([1,2,3,4,5])"
   ]
  },
  {
   "cell_type": "markdown",
   "id": "f8e74fab",
   "metadata": {},
   "source": [
    "### Leveraging the Python standard libraries, part one:\n",
    "\n",
    "Tomorrow you will see the Python package Pandas, which can help to solve many problems involving structured data, however for now, let's see what we can do using modules from the Python standard library:\n",
    "\n",
    "The file `data/set1.csv` contains a short dataset containing the heights and weights of a group of people. Try to use the `csv.reader` function to access the data and calculate the following:\n",
    "\n",
    "1. Each person's [Body Mass Index](https://en.wikipedia.org/wiki/Body_mass_index) (BMI). The mathematical formula for this is\n",
    "    $$ \\frac{\\textrm{weight in kg}}{\\textrm{height in m}^2}.$$\n",
    "2. The mean of the BMIs for the group.\n",
    "3. The mean of the heights for the group.\n",
    "4. The mean of the weights for the group.\n",
    "5. The function\n",
    "   $$ \\frac{\\textrm{mean weight}}{\\textrm{mean height}^2}.$$\n",
    "\n",
    "Try to only `import` modules from [the standard library](https://docs.python.org/3/library/). You may find the `statistics` module useful.\n",
    "\n",
    "#### Other things to try\n",
    "\n",
    "- Try replacing the mean with other forms of average. Which ones make the results of (2.) and (5.) most different\n",
    "- (Hard) The file `data/set2.csv` is a less clean set of data, more like what we get in real life. Can you extend your code to deal with it?"
   ]
  },
  {
   "cell_type": "code",
   "execution_count": 222,
   "id": "7cab7c37",
   "metadata": {
    "code_folding": [
     5,
     6,
     14
    ],
    "vscode": {
     "languageId": "python"
    }
   },
   "outputs": [
    {
     "name": "stdout",
     "output_type": "stream",
     "text": [
      "{'Ann': 19.24249352232891, 'Boris': 21.21424864930863, 'Claude': 25.013520822065985, 'Denise': 19.979188345473464, 'Eve': 20.751150558842866, 'Francis': 20.01460920379839, 'Gerald': 24.930747922437675, 'Hilda': 21.887076365377382, 'Ignatius': 25.039610683567226, 'Jing Yi': 20.202020202020204}\n",
      "21.827466627522075\n",
      "meanhei 1.7249999999999996\n",
      "meanwei 65.85\n",
      "mwei/mhei^2 22.129804662885956\n"
     ]
    }
   ],
   "source": [
    "import csv\n",
    "\n",
    "gen, hei, wei = {}, {}, {}\n",
    "with open('./data/set1.csv', newline='') as csvfile:\n",
    "    spamreader1 = csv.reader(csvfile, delimiter=',', quotechar='|')\n",
    "    for row in spamreader1:\n",
    "        try:\n",
    "            hei[row[0]] = float(row[2])\n",
    "            wei[row[0]] = float(row[3])\n",
    "            gen[row[0]] = row[2]\n",
    "        except ValueError:\n",
    "            pass\n",
    "\n",
    "BMI = {}\n",
    "for a, b in hei.items():\n",
    "    BMI[a] = wei[a]/(hei[a]**2)\n",
    "\n",
    "print(BMI)\n",
    "print(sum(BMI.values())/len(BMI))\n",
    "heim = (sum(hei.values())/len(BMI))\n",
    "print('meanhei', heim)\n",
    "weim = (sum(wei.values())/len(BMI))\n",
    "print('meanwei', weim)\n",
    "print(f'mwei/mhei^2', weim/(heim**2))"
   ]
  },
  {
   "cell_type": "code",
   "execution_count": 223,
   "id": "9a9a8cea",
   "metadata": {},
   "outputs": [
    {
     "name": "stdout",
     "output_type": "stream",
     "text": [
      "---------------------------------\n",
      "Name,, Gender,, Height,, Weight\n",
      "Ann,, Female,, 1.62, m,, 50.5, kg\n",
      "Boris,, Male,, 181, cm,, 69.5, kg\n",
      "Claude,, Male,, 172, cm,, None\n",
      "Denise,, Female,, 1.55, m,, 48.0, kg\n",
      "Eve,, Female,, 1.56, m,, 50.5, kg\n",
      "Francis,, Male,, 1.85, m,, 68.5, kg\n",
      "Gerald,, Male,, 71, inches,, 212, pounds\n",
      "Hilda,, Female,, 1.71, m,, 64.0, kg\n",
      "Ignatius,, Male,, 1.88, m,, 88.5, kg\n",
      "Jing, Yi,, Female,, 1.65, m,, 55.0, kg\n"
     ]
    }
   ],
   "source": [
    "# convert unit, del none\n",
    "print('---------------------------------')\n",
    "with open('./data/set2.csv', newline='') as csvfile:\n",
    "    spamreader2 = csv.reader(csvfile, delimiter=' ', quotechar='|')\n",
    "    for row in spamreader2:\n",
    "         print(', '.join(row))    "
   ]
  },
  {
   "cell_type": "markdown",
   "id": "518cb2e3",
   "metadata": {},
   "source": [
    "#### (harder) Leveraging the Python standard libraries, part two:\n",
    "\n",
    "Try to write some code to do the following:\n",
    "- If the the file `text.txt` exists, delete it\n",
    "- Otherwise, create a new `text.txt` file and write the current time to it:\n",
    "\n",
    "_hints_:\n",
    "- The [`os` module]() has a function to delete (\"remove\") files. Watch out, this doesn't double check. \n",
    "- The [`os.path` module]() provides a function to test whether a path to a file or folder exists \n",
    "- The function `datetime.datetime.now()` in the [`datetime` module]() returns a printable datetime object."
   ]
  },
  {
   "cell_type": "code",
   "execution_count": 246,
   "id": "44da6989",
   "metadata": {
    "vscode": {
     "languageId": "python"
    }
   },
   "outputs": [
    {
     "name": "stdout",
     "output_type": "stream",
     "text": [
      "No such file\n",
      "2022-10-10 15:51:50.725219\n",
      "15:51\n"
     ]
    }
   ],
   "source": [
    "import datetime\n",
    "import time\n",
    "import os\n",
    "if os.path.exists('text.txt'):\n",
    "    os.remove('text.txt')\n",
    "else:\n",
    "    print('No such file')\n",
    "\n",
    "with open('text.txt', 'w') as f:\n",
    "    f.write(str(datetime.datetime.now()))\n",
    "    \n",
    "print(datetime.datetime.now())\n",
    "print(time.strftime(\"%H:%M\", time.localtime()))"
   ]
  },
  {
   "cell_type": "code",
   "execution_count": null,
   "id": "b6152732",
   "metadata": {},
   "outputs": [],
   "source": [
    "# Answer\n",
    "\n",
    "def clear_or_save(filename)\n",
    "    if os.path.exists(filename):\n",
    "        os.remove(filename)\n",
    "    else:\n",
    "        output = open(filename, 'w')     # Notice this line.\n",
    "        output.write(f'{datetime.datetime.now()}')\n",
    "        output.close()\n",
    "\n",
    "def clear_or_save_via_exceptions(filename):\n",
    "    try:\n",
    "        os.remove(\"test.txt\")\n",
    "    except FileNotFoundError:\n",
    "        with open(\"test.txt\", 'w') as output:\n",
    "            output.write(f'{datetime.datetime.now()}')"
   ]
  },
  {
   "cell_type": "markdown",
   "id": "847ec0b7",
   "metadata": {},
   "source": [
    "**Other things to try**\n",
    "\n",
    "- Can you copy the file instead of deleting it?"
   ]
  },
  {
   "cell_type": "code",
   "execution_count": 247,
   "id": "ca0fa487",
   "metadata": {},
   "outputs": [
    {
     "data": {
      "text/plain": [
       "'text_.txt'"
      ]
     },
     "execution_count": 247,
     "metadata": {},
     "output_type": "execute_result"
    }
   ],
   "source": [
    "import shutil\n",
    "shutil.copyfile('text.txt', 'text_.txt')"
   ]
  },
  {
   "cell_type": "code",
   "execution_count": null,
   "id": "d72a5dac",
   "metadata": {
    "vscode": {
     "languageId": "python"
    }
   },
   "outputs": [],
   "source": [
    "def clear_or_save(filename):\n",
    "    # Write your code here"
   ]
  },
  {
   "cell_type": "markdown",
   "id": "a835edbc",
   "metadata": {},
   "source": [
    "## More Katas\n",
    "\n",
    "### Bubble sort\n",
    "\n",
    "The \"bubble sort\" is an easy to implement (though not particularly efficient) algorithm to sort a collection of numbers, and often the first such algorithm people are introduced to. It can briefly be described as follows:\n",
    "\n",
    "Initially, assume the whole list is unsorted. \n",
    "1. Loop over the unsorted elements of the list\n",
    "2. Compare each element to its neighbour\n",
    "3. If the first element is larger, then swap them, otherwise leave them unchanged.\n",
    "4. When you get to the end of the unsorted section, the last element is now the largest one lest and is sorted. Everything to the left is still unsorted. Go back to step 1. to sort it.\n",
    "\n",
    "Your job is to implement a bubble sort on an input Python list. Can you also work out the asmyptotic complexity?\n",
    "\n",
    "As initial test data, try the unsorted list\n",
    "```python\n",
    "[1, 5, 3, 4, 2, 6]\n",
    "```\n",
    "To get large trial sets to estimate complexity, you can use \n",
    "\n",
    "```python\n",
    "import random\n",
    "x = list(range(1000))\n",
    "random.shuffle(x)\n",
    "```"
   ]
  },
  {
   "cell_type": "code",
   "execution_count": 259,
   "id": "9faf9e6f",
   "metadata": {
    "vscode": {
     "languageId": "python"
    }
   },
   "outputs": [],
   "source": [
    "def bubble_sort_(input):\n",
    "    for i in range(len(input)-1):\n",
    "        a,b =  input[i], input[i+1]\n",
    "        if a>b:\n",
    "            input[i] = b\n",
    "            input[i+1] = a\n",
    "    return input\n",
    "\n",
    "def bubble_sort(input):\n",
    "    for i in range(len(input)-1):\n",
    "        input = bubble_sort_(input)\n",
    "    return input"
   ]
  },
  {
   "cell_type": "code",
   "execution_count": 260,
   "id": "e93ee790",
   "metadata": {},
   "outputs": [
    {
     "name": "stdout",
     "output_type": "stream",
     "text": [
      "[5, 7, 8, 0, 9, 2, 4, 6, 1, 3]\n",
      "[0, 1, 2, 3, 4, 5, 6, 7, 8, 9]\n"
     ]
    }
   ],
   "source": [
    "import random\n",
    "x = list(range(10))\n",
    "random.shuffle(x)\n",
    "print(x)\n",
    "print(bubble_sort(x))"
   ]
  },
  {
   "cell_type": "code",
   "execution_count": null,
   "id": "55ca856b",
   "metadata": {},
   "outputs": [],
   "source": [
    "#Answer\n",
    "\n",
    "def bubble_sort(input):\n",
    "\n",
    "    unsrt = input[:-1]\n",
    "# Notice the next line; while list continue if list not empty\n",
    "    while unsrt: # stops when unsrt is empty  \n",
    "        for idx, val in enumerate(unsrt):\n",
    "            if input[idx] > input[idx+1]:\n",
    "                input[idx], input[idx+1] = input[idx+1], input[idx]\n",
    "        unsrt = unsrt[:-1]\n",
    "\n",
    "    return input\n",
    "\n",
    "\n",
    "bubble_sort([3, 1, 4, 2, 6])\n",
    "\n",
    "        "
   ]
  },
  {
   "cell_type": "markdown",
   "id": "1f98bf47",
   "metadata": {},
   "source": [
    "## Finding a splitting point using binary search\n",
    "\n",
    "You are given a long list of numbers $x = [x_0, x_1, \\ldots, x_n]$, and are asked to find the point $p$ in the list which makes\n",
    "\n",
    "$$\\left(\\left(\\sum_{i=0}^p x_i\\right)-\\left(\\sum_{i=p+1}^n x_i\\right)\\right)^2$$\n",
    "\n",
    "as small as possible.\n",
    "\n",
    "Try to code up the following methods:\n",
    "1. Try every possible $p$ and pick the smallest.\n",
    "2. (harder) Start at $p=n/2$. If the sum of the right hand values is bigger, try $p=n/4$ or if the sum of left hand side values is bigger try $p=3n/4$. This is a [binary search method](https://en.wikipedia.org/wiki/Binary_search_algorithm). Keep on trying midpoints until you find a suitable $p$.\n",
    "\n",
    "Investigate the complexities of these two methods."
   ]
  },
  {
   "cell_type": "code",
   "execution_count": 283,
   "id": "0cec7c46",
   "metadata": {
    "vscode": {
     "languageId": "python"
    }
   },
   "outputs": [
    {
     "data": {
      "text/plain": [
       "(1369, 46)"
      ]
     },
     "execution_count": 283,
     "metadata": {},
     "output_type": "execute_result"
    }
   ],
   "source": [
    "import random\n",
    "\n",
    "input = [ random.randint(1, 100) for _ in range(100)]\n",
    "\n",
    "def calres(x,p):\n",
    "    return (sum(x[:p]) - sum(x[p:]))**2\n",
    "\n",
    "def split1(input):\n",
    "    dic = {}\n",
    "    for i in range(len(input)):\n",
    "        dic[i] = calres(input,i)\n",
    "    return min(dic.values()),list(dic.keys())[list(dic.values()).index(min(dic.values()))]\n",
    "    # Write your code here\n",
    "split1(input)"
   ]
  },
  {
   "cell_type": "code",
   "execution_count": null,
   "id": "3c95b64e",
   "metadata": {},
   "outputs": [],
   "source": []
  },
  {
   "cell_type": "code",
   "execution_count": 337,
   "id": "34bbe199",
   "metadata": {},
   "outputs": [],
   "source": [
    "def split2(imput):\n",
    "    n = len(imput)\n",
    "    p = int(n/2)\n",
    "    list,dif = [],[]\n",
    "#     dif = [10000000000,abs(sum(imput[p:]) - sum(imput[:p]))]\n",
    "    i = 0\n",
    "    while i<20:\n",
    "        print(p)\n",
    "        print(sum(imput[p:]), sum(imput[:p]))\n",
    "        if sum(imput[p:]) < sum(imput[:p]):\n",
    "            p = int(p/2)\n",
    "        else: \n",
    "            p = int((p+n)/2)\n",
    "        i+=1\n",
    "    return p\n",
    "\n",
    "# #Answer\n",
    "# def split2(input):\n",
    "\n",
    "#     def diff(idx):\n",
    "#         return sum(input[:idx+1])-sum(input[idx+1:])\n",
    "\n",
    "#     n = 1\n",
    "#     p = len(input)//2**n\n",
    "#     val = diff(p)\n",
    "\n",
    "#     while len(input)>=2**(n+1):    #Which is a fairly strange condition for stop\n",
    "#         n += 1\n",
    "#         p0 = p\n",
    "#         if val>0:\n",
    "#             p0 -= len(input)//2**n\n",
    "#         else:\n",
    "#             p0 += len(input)//2**n\n",
    "#         val0 = diff(p0)\n",
    "#         if val0**2<val**2:\n",
    "#             p = p0\n",
    "#             val = val0\n",
    "\n",
    "#     return p"
   ]
  },
  {
   "cell_type": "code",
   "execution_count": 338,
   "id": "60221718",
   "metadata": {},
   "outputs": [
    {
     "name": "stdout",
     "output_type": "stream",
     "text": [
      "50\n",
      "2488 2805\n",
      "25\n",
      "4019 1274\n",
      "62\n",
      "1921 3372\n",
      "31\n",
      "3633 1660\n",
      "65\n",
      "1707 3586\n",
      "32\n",
      "3541 1752\n",
      "66\n",
      "1694 3599\n",
      "33\n",
      "3445 1848\n",
      "66\n",
      "1694 3599\n",
      "33\n",
      "3445 1848\n",
      "66\n",
      "1694 3599\n",
      "33\n",
      "3445 1848\n",
      "66\n",
      "1694 3599\n",
      "33\n",
      "3445 1848\n",
      "66\n",
      "1694 3599\n",
      "33\n",
      "3445 1848\n",
      "66\n",
      "1694 3599\n",
      "33\n",
      "3445 1848\n",
      "66\n",
      "1694 3599\n",
      "33\n",
      "3445 1848\n"
     ]
    },
    {
     "data": {
      "text/plain": [
       "66"
      ]
     },
     "execution_count": 338,
     "metadata": {},
     "output_type": "execute_result"
    }
   ],
   "source": [
    "split2(input)"
   ]
  },
  {
   "cell_type": "markdown",
   "id": "d689a1fa",
   "metadata": {},
   "source": [
    "## Floating Point Representations\n",
    "\n",
    "### Representations Exercise 1\n",
    "\n",
    "Write function `bin2dec(x2)` which takes a positive binary number $(x)_{2} = a_{n} a_{n-1}\\ldots a_1 a_0 \\, . \\, b_{1} b_{2} b_{3} \\ldots$ as a string (e.g. `'1011.101'`), computes its decimal equivalent $(x)_{10}$, and returns it as a float. Input string does not have to contain fractional part - radix point could be missing."
   ]
  },
  {
   "cell_type": "code",
   "execution_count": 344,
   "id": "a6475e9f",
   "metadata": {},
   "outputs": [
    {
     "data": {
      "text/plain": [
       "2"
      ]
     },
     "execution_count": 344,
     "metadata": {},
     "output_type": "execute_result"
    }
   ],
   "source": [
    "[1,2,3,45].index(3)"
   ]
  },
  {
   "cell_type": "code",
   "execution_count": 352,
   "id": "9fa24659",
   "metadata": {
    "vscode": {
     "languageId": "python"
    }
   },
   "outputs": [],
   "source": [
    "def bin2dec(x2):\n",
    "    list = []\n",
    "    listi = []\n",
    "    listd = []\n",
    "    for i in x2:\n",
    "        try:\n",
    "            list.append(int(i))\n",
    "        except:\n",
    "            list.append(3)\n",
    "    listi = list[:list.index(3)]\n",
    "    listd = list[list.index(3)+1:]    \n",
    "    s = 0\n",
    "    for i in range(len(listi)):\n",
    "        s+= listi[i] * 2**(len(listi) - i-1)\n",
    "    for i in range(len(listd)):\n",
    "        s+= listd[i] * 2**(-i-1)  \n",
    "    return s"
   ]
  },
  {
   "cell_type": "code",
   "execution_count": 6,
   "id": "0a3c8e9b",
   "metadata": {},
   "outputs": [
    {
     "data": {
      "text/plain": [
       "'1011.1101'"
      ]
     },
     "execution_count": 6,
     "metadata": {},
     "output_type": "execute_result"
    }
   ],
   "source": [
    "'1011.1101'.strip(' -').rstrip().split('.')"
   ]
  },
  {
   "cell_type": "code",
   "execution_count": null,
   "id": "717dd2ef",
   "metadata": {},
   "outputs": [],
   "source": []
  },
  {
   "cell_type": "code",
   "execution_count": null,
   "id": "723dc29f",
   "metadata": {},
   "outputs": [],
   "source": [
    "#````Answer\n",
    "def bin2dec(x):\n",
    "    negative = x.startswith('-')\n",
    "    x = x.strip(' -').rstrip().split('.') # remove space and_\n",
    "#rstipe just strip the right side space\n",
    "    out = 0\n",
    "    for k, i in enumerate(reversed(x[0])):\n",
    "        if i == '1':\n",
    "            out += 2**k\n",
    "    if len(x)>1:   # if has decimal part\n",
    "        for k, i in enumerate(x[1]):\n",
    "            if i == '1':\n",
    "                out += 2**-(k+1)\n",
    "    if negative:\n",
    "        out = -out\n",
    "    return out\n",
    "\n",
    "\n",
    "\n",
    "print(bin2dec('1011.1101'))\n",
    "print(bin2dec('-11'))"
   ]
  },
  {
   "cell_type": "code",
   "execution_count": 353,
   "id": "17b8c4b3",
   "metadata": {},
   "outputs": [
    {
     "data": {
      "text/plain": [
       "11.625"
      ]
     },
     "execution_count": 353,
     "metadata": {},
     "output_type": "execute_result"
    }
   ],
   "source": [
    "bin2dec('1011.101')"
   ]
  },
  {
   "cell_type": "code",
   "execution_count": null,
   "id": "724a3a69",
   "metadata": {},
   "outputs": [],
   "source": [
    "#2.1  16; some of the machine number the same at different e s;\n",
    "# `with normalization (o.1 b1 b2 b3), no same machine number as the first decimal 1 times scale is enough \n",
    "# to cover the differences made by other digits, that may lead same machine number. \n",
    "\n",
    "#2.2  0.1xx  * 2^e\n",
    "\n",
    "#3 first find a machine number close to the number, then find the interval? SHould be a code for the \n",
    "#4 easy\n",
    "#5 easy, just use the formula\n",
    "#6.1 should make abs(x/y), say y>x, as small as possible\n",
    "#6.2 Interesting; at least I can use other expression of the formula (e.g. taylor series, fourier transform) to calculate the \n",
    "#   operation in a more error friendly space."
   ]
  },
  {
   "cell_type": "markdown",
   "id": "7de2f180",
   "metadata": {},
   "source": [
    "### Represenations Exercise 2\n",
    "\n",
    "Let us assume we have a machine that represents floating-point numbers using the following representation:\n",
    "\n",
    "$$x = \\pm(0.b_{1}b_{2}b_{3})_{2} \\times 2^{e}, \\quad b_{1}, b_{2}, b_{3}, e \\in \\{0, 1\\}$$\n",
    "\n",
    "1. How many machine numbers are there? What are they?\n",
    "2. How do the machine numbers change if we enforce normalisation?\n",
    "\n",
    "### Representations Exercise 3\n",
    "\n",
    "Determine machine representation of the decimal number -24.98746 in both single and double precision.\n",
    "\n",
    "### Representations Exercise 4\n",
    "\n",
    "What decimal floating-point number corresponds to $(`1 01010111 10011010001001000110100`)_2$ according to IEEE-754?\n",
    "\n",
    "### Representations Exercise 5\n",
    "\n",
    "By applying the theorem of loss of precision, compute how many significant digits are lost in subtraction $x-y$. \n",
    "\n",
    "$$x = 0.8796421358 \\quad y = 0.8795374261$$\n",
    "\n",
    "### Representations Exercise 6\n",
    "\n",
    "For what values of $x$, could the loss of significance by subtraction occur. What could you do to prevent this?\n",
    "\n",
    "1. $f(x) = \\cos^{2}(x) - \\sin^{2}(x)$\n",
    "2. $f(x) = \\ln(x) - 1$"
   ]
  }
 ],
 "metadata": {
  "hide_input": false,
  "kernelspec": {
   "display_name": "Python 3 (ipykernel)",
   "language": "python",
   "name": "python3"
  },
  "language_info": {
   "codemirror_mode": {
    "name": "ipython",
    "version": 3
   },
   "file_extension": ".py",
   "mimetype": "text/x-python",
   "name": "python",
   "nbconvert_exporter": "python",
   "pygments_lexer": "ipython3",
   "version": "3.9.13"
  },
  "toc": {
   "base_numbering": 1,
   "nav_menu": {},
   "number_sections": true,
   "sideBar": true,
   "skip_h1_title": false,
   "title_cell": "Table of Contents",
   "title_sidebar": "Contents",
   "toc_cell": false,
   "toc_position": {},
   "toc_section_display": true,
   "toc_window_display": false
  },
  "varInspector": {
   "cols": {
    "lenName": 16,
    "lenType": 16,
    "lenVar": 40
   },
   "kernels_config": {
    "python": {
     "delete_cmd_postfix": "",
     "delete_cmd_prefix": "del ",
     "library": "var_list.py",
     "varRefreshCmd": "print(var_dic_list())"
    },
    "r": {
     "delete_cmd_postfix": ") ",
     "delete_cmd_prefix": "rm(",
     "library": "var_list.r",
     "varRefreshCmd": "cat(var_dic_list()) "
    }
   },
   "types_to_exclude": [
    "module",
    "function",
    "builtin_function_or_method",
    "instance",
    "_Feature"
   ],
   "window_display": false
  }
 },
 "nbformat": 4,
 "nbformat_minor": 5
}
