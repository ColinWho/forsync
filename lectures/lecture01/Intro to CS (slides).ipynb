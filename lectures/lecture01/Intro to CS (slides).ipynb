{
 "cells": [
  {
   "cell_type": "markdown",
   "id": "41a0de5d",
   "metadata": {
    "slideshow": {
     "slide_type": "slide"
    }
   },
   "source": [
    "# An Introduction to Computer Science in Python\n",
    "\n",
    "_Or: all the CS you actually need to know._"
   ]
  },
  {
   "cell_type": "markdown",
   "id": "8f8e6be4",
   "metadata": {
    "slideshow": {
     "slide_type": "slide"
    }
   },
   "source": [
    "# Who are we?\n",
    "\n",
    "Dr. James Percival (module coordinator)\n",
    "\n",
    "- Masters in Math/PhD in Mathematics & Meterology\n",
    "\n",
    "Interests in Computational Fluids across scales:\n",
    "- Turbulence\n",
    "- Computational meshs\n",
    "- system microphysics parameterizations"
   ]
  },
  {
   "cell_type": "markdown",
   "id": "35d6031c",
   "metadata": {
    "slideshow": {
     "slide_type": "subslide"
    }
   },
   "source": [
    "- E-mail: j.percival@imperial.ac.uk\n",
    "- Teams: @Percival, James R.\n",
    "- Phone: +44 20 7594 1592\n",
    "- Room: 4.94 RSM"
   ]
  },
  {
   "cell_type": "markdown",
   "id": "11a71518",
   "metadata": {
    "slideshow": {
     "slide_type": "subslide"
    }
   },
   "source": [
    "Also teaching:\n",
    "\n",
    "- Dr. Marijan Beg\n",
    "- Dr. Parastoo Salah\n",
    "- Dr. Rhodri Nelson\n",
    "- Dr. Thomas Davison"
   ]
  },
  {
   "cell_type": "markdown",
   "id": "bf41f99d",
   "metadata": {
    "slideshow": {
     "slide_type": "slide"
    }
   },
   "source": [
    "# Now, who are you?\n",
    "\n",
    "We already know you're a mix of engineers & scientists interested in data science. Now let's dig a bit deeper.\n",
    "\n",
    "Over to mentimeter ..."
   ]
  },
  {
   "cell_type": "markdown",
   "id": "9be15fd2",
   "metadata": {
    "slideshow": {
     "slide_type": "slide"
    }
   },
   "source": [
    "### Week 1\n",
    "\n",
    "||Monday|Tuesday|Wednesday|Thusday|Friday|\n",
    "|---|---|---|---|---|---|\n",
    "||**Intro to CS**| **Pandas**| **Debugging**| **Data Structures**| _no lectures_|\n",
    "|9:00 am| Lecture | Lecture | Lecture | Lecture| Lecture|\n",
    "|10:00 am| GTA/TF study | GTA/TF study | Lecture | GTA/TF study | GTA/TF study |\n",
    "|11:00 am| Lecture |Lecture | Lecture | Lecture| Lecture|\n",
    "|12:00 -2pm| _Lunch/self-study_| _Lunch/self-study_| _Lunch/self-study_| _Lunch/self-study_| _Lunch/self-study_|\n",
    "|2:00 pm| Lecture | Lecture | Self-study/societies | Lecture| Lecture|\n",
    "|3:00 pm| GTA/TF study | GTA/TF study | Self-study/societies | GTA/TF study | GTA/TF study |\n",
    "|4:00 pm| GTA/TF study | GTA/TF study | Self-study/societies | GTA/TF study | **Assessment deadline** |"
   ]
  },
  {
   "cell_type": "markdown",
   "id": "33f52ba4",
   "metadata": {
    "slideshow": {
     "slide_type": "subslide"
    }
   },
   "source": [
    "### Week 2\n",
    "\n",
    "||Monday|Tuesday|Wednesday|Thusday|Friday|\n",
    "|---|---|---|---|---|---|\n",
    "||**Python Scripts & Modules**| **Algorithms**| **Scipy**| **Software engineering**| _no lectures_|\n",
    "|9:00 am| Lecture | Lecture | Lecture | Lecture| Lecture|\n",
    "|10:00 am| GTA/TF study | GTA/TF study | Lecture | GTA/TF study | GTA/TF study |\n",
    "|11:00 am| Lecture |Lecture | Lecture | Lecture| Lecture|\n",
    "|12:00 -2pm| _Lunch/self-study_| _Lunch/self-study_| _Lunch/self-study_| _Lunch/self-study_| _Lunch/self-study_|\n",
    "|2:00 pm| Lecture | Lecture | Self-study/societies | Lecture| Lecture|\n",
    "|3:00 pm| GTA/TF study | GTA/TF study | Self-study/societies | GTA/TF study | GTA/TF study |\n",
    "|4:00 pm| GTA/TF study | GTA/TF study | Self-study/societies | GTA/TF study | **Assessment deadline** |"
   ]
  },
  {
   "cell_type": "markdown",
   "id": "c34837c6",
   "metadata": {
    "slideshow": {
     "slide_type": "slide"
    }
   },
   "source": [
    "# Hour 1: What are we teaching you?\n",
    "\n",
    "## Why teach in Python?\n",
    "\n",
    "- Popular & in demand.\n",
    "- General purpose interpretted programming language.\n",
    "- Competes with R in the Data Science space.\n",
    "- Large library of Machine/Deep learning packages."
   ]
  },
  {
   "cell_type": "markdown",
   "id": "68eaf606",
   "metadata": {
    "slideshow": {
     "slide_type": "subslide"
    }
   },
   "source": [
    "## Popular to learn\n",
    "\n",
    "<a href=\"https://www.statista.com/chart/21017/most-popular-programming-languages/\" title=\"Infographic: Python Remains Most Popular Programming Language | Statista\"><img src=\"https://cdn.statcdn.com/Infographic/images/normal/21017.jpeg\" alt=\"Infographic: Python Remains Most Popular Programming Language | Statista\" width=\"auto\" height=\"60%\" style=\"width: auto%; height: 60% !important; max-height:500px; max-width:960px;-ms-interpolation-mode: bicubic;\"/>\n",
    "\n",
    "<a href=https://www.statista.com/chart/21017/most-popular-programming-languages>source</a>"
   ]
  },
  {
   "cell_type": "markdown",
   "id": "a4616076",
   "metadata": {
    "slideshow": {
     "slide_type": "subslide"
    }
   },
   "source": [
    "## Popular to use\n",
    "\n",
    "In general\n",
    "\n",
    "<a href=\"https://www.statista.com/statistics/793628/worldwide-developer-survey-most-used-languages/\" rel=\"nofollow\"><img src=\"https://www.statista.com/graphic/1/793628/worldwide-developer-survey-most-used-languages.jpg\" alt=\"Statistic: Most used programming languages among developers worldwide as of 2022 | Statista\" style=\"width: auto%; height: 60% !important; max-height:500px;-ms-interpolation-mode: bicubic;\"/></a><br />  <a href=\"https://www.statista.com\" rel=\"nofollow\">Source</a>"
   ]
  },
  {
   "cell_type": "markdown",
   "id": "7c4b9908",
   "metadata": {
    "slideshow": {
     "slide_type": "subslide"
    }
   },
   "source": [
    "By data scientists\n",
    "\n",
    "<img src=https://res.cloudinary.com/dyd911kmh/image/upload/v1642759712/image2_m8wk5a.png style=\"width: auto%; height: 60% !important; max-height:500px;-ms-interpolation-mode: bicubic;\"/> <a href=https://datacamp.com/blog/top-programming-languages-for-data-scientists-in-2022> Source</a>"
   ]
  },
  {
   "cell_type": "markdown",
   "id": "44ccfa33",
   "metadata": {
    "slideshow": {
     "slide_type": "subslide"
    }
   },
   "source": [
    "## Popular in employment\n",
    "\n",
    "<img src=images/Python_jobs.jpeg style=\"width: auto%; height: 60% !important; max-height:500px;-ms-interpolation-mode: bicubic;\"/> <a href=https://www.itjobswatch.co.uk/IT-Job-Market/UK/Programming-Languages> Source</a>"
   ]
  },
  {
   "cell_type": "markdown",
   "id": "3ff97812",
   "metadata": {
    "slideshow": {
     "slide_type": "slide"
    }
   },
   "source": [
    "## Why learn in Python?\n",
    "\n",
    "- Easy to do simple things.\n",
    "- Python does a lot of the hard work for you.\n",
    "- Generally not too hard to do more complex things.\n",
    "- Possible (not always easy) to do really complex things"
   ]
  },
  {
   "cell_type": "markdown",
   "id": "54d20342",
   "metadata": {
    "slideshow": {
     "slide_type": "subslide"
    }
   },
   "source": [
    "A _Hello World!_ program in Python."
   ]
  },
  {
   "cell_type": "code",
   "execution_count": null,
   "id": "e6080fb6",
   "metadata": {},
   "outputs": [],
   "source": [
    "print(\"Hello World!\")"
   ]
  },
  {
   "cell_type": "markdown",
   "id": "49ffb4f9",
   "metadata": {},
   "source": [
    "Makr it a program by saving it in [a file](./scripts/hello_world.py)."
   ]
  },
  {
   "cell_type": "code",
   "execution_count": null,
   "id": "16712055",
   "metadata": {},
   "outputs": [],
   "source": [
    "!python scripts/hello_world.py"
   ]
  },
  {
   "cell_type": "markdown",
   "id": "e4850880",
   "metadata": {},
   "source": [
    " Use the `!` character in Jupyter to run something on the command line. In a terminal/prompt, just use \n",
    " ```python scripts/hello_world.py```"
   ]
  },
  {
   "cell_type": "markdown",
   "id": "ddc878a7",
   "metadata": {
    "slideshow": {
     "slide_type": "subslide"
    }
   },
   "source": [
    "A _Hello World!_ program in C.\n",
    "Must compile it for a given system.\n",
    "\n",
    "```c++\n",
    "#include <stdio.h>\n",
    "\n",
    "int main(int argc, int* argv){\n",
    "  printf(\"Hello World!\");\n",
    "  return 0;\n",
    "}\n",
    "```"
   ]
  },
  {
   "cell_type": "markdown",
   "id": "1ef0cb83",
   "metadata": {
    "slideshow": {
     "slide_type": "subslide"
    }
   },
   "source": [
    "As an example of a more complex thing we can do, let's check if the tube is working this morning:"
   ]
  },
  {
   "cell_type": "code",
   "execution_count": null,
   "id": "9083abc4",
   "metadata": {},
   "outputs": [],
   "source": [
    "from urllib.request import urlopen\n",
    "import json\n",
    "\n",
    "url = 'https://api.tfl.gov.uk/line/Circle,District,Piccadilly/status'\n",
    "status = json.load(urlopen(url))\n",
    "short_status = {s['name']:s['lineStatuses'][0]['statusSeverityDescription']\n",
    "                for s in status}\n",
    "for _ in short_status.items():\n",
    "    print('%s: %s'%_)"
   ]
  },
  {
   "cell_type": "markdown",
   "id": "f58dbfae",
   "metadata": {
    "slideshow": {
     "slide_type": "slide"
    }
   },
   "source": [
    "## Why not to write in Python?\n",
    "\n",
    "- Some \"pure Python\" code runs slowly\n",
    "- Python can be a memory hog.\n",
    "- Sometimes a more specialized language is a better fit."
   ]
  },
  {
   "cell_type": "markdown",
   "id": "3cab91f0",
   "metadata": {
    "slideshow": {
     "slide_type": "slide"
    }
   },
   "source": [
    "## How this course works\n",
    "\n",
    "- 2 weeks (block taught)\n",
    "- 8 lecture days (Mon-Thu)\n",
    "- 3 hours of lectures each day\n",
    "- 3 hours of self-study time with GTAs/TFs\n",
    "- Fridays booked for assessments"
   ]
  },
  {
   "cell_type": "markdown",
   "id": "7fa8bce9",
   "metadata": {
    "slideshow": {
     "slide_type": "subslide"
    }
   },
   "source": [
    "- Each day of lectures covers one overall theme.\n",
    "- Time during day for formal lectures & for study exercises.\n",
    "- Course assessment via 2 pieces of coursework (one each week)."
   ]
  },
  {
   "cell_type": "markdown",
   "id": "f2834ba6",
   "metadata": {
    "slideshow": {
     "slide_type": "slide"
    }
   },
   "source": [
    "## Learning outcomes for the day:\n",
    "\n",
    "You will be able to:\n",
    "- explain key inbuilt Python modules.\n",
    "- calculate basic asymptotic complexity in space & time.\n",
    "- describe how computers (& Python) stores numbers.\n",
    "- derive basic error estimates for sums using real numbers in Python."
   ]
  },
  {
   "cell_type": "markdown",
   "id": "2bc2656c",
   "metadata": {
    "slideshow": {
     "slide_type": "slide"
    }
   },
   "source": [
    "## Understanding Computers\n",
    "\n",
    "Computers are built in layers:\n",
    "\n",
    "- Maths, Physics & Chemistry\n",
    "- Electrical & Computer engineering\n",
    "- Computer Science (Theory & Architecture)\n",
    "- Software Engineering \n",
    "- Data & Computational Scientists/Engineers"
   ]
  },
  {
   "cell_type": "markdown",
   "id": "3f765919",
   "metadata": {
    "slideshow": {
     "slide_type": "subslide"
    }
   },
   "source": [
    "When working on the top layer, still need to understand enough of the lower layers to do our job well.\n",
    "\n",
    "Let's start by getting to know Python better"
   ]
  },
  {
   "cell_type": "markdown",
   "id": "2ed321b7",
   "metadata": {
    "slideshow": {
     "slide_type": "slide"
    }
   },
   "source": [
    "## Understanding Python\n",
    "Python is a general purpose interpreted language. \n",
    "\n",
    "- Best thing about Python is that it's so easy to extend.\n",
    "- Most powerful Python operation is `import`."
   ]
  },
  {
   "cell_type": "markdown",
   "id": "d0b4049e",
   "metadata": {
    "slideshow": {
     "slide_type": "slide"
    }
   },
   "source": [
    "## Out-of-the-box\n",
    "\n",
    "- Basic Python installation already has a lot of power.\n",
    "- Large [Standard library](https://docs.python.org/3/library/) in every installation.\n",
    "- Don't need to know what all of it does, but worth a look when you have a new problem to solve"
   ]
  },
  {
   "cell_type": "markdown",
   "id": "e7389db7",
   "metadata": {
    "slideshow": {
     "slide_type": "slide"
    }
   },
   "source": [
    "## Text Processing Services\n",
    "\n",
    "Much easier in Python than C/C++ etc.\n",
    "e.g:\n",
    "- `re` — Regular expression operations\n",
    "- `string` — Common string operations\n",
    "- `textwrap` — Text wrapping and filling\n",
    "- `readline` — GNU readline interface"
   ]
  },
  {
   "cell_type": "markdown",
   "id": "95cc1aa8",
   "metadata": {
    "slideshow": {
     "slide_type": "subslide"
    }
   },
   "source": [
    "These modules are unlikely to be your daily life.\n",
    "\n",
    "Can still be useful & a time saver, especially regular expressions(`re`)."
   ]
  },
  {
   "cell_type": "markdown",
   "id": "83e81ed7",
   "metadata": {
    "slideshow": {
     "slide_type": "subslide"
    }
   },
   "source": [
    "<img src=https://imgs.xkcd.com/comics/regular_expressions.png style=\"width: auto%; height: 60% !important; max-height:500px;-ms-interpolation-mode: bicubic;\"/></a><br />  <a href=\"https://www.statista.com\" rel=\"nofollow\">"
   ]
  },
  {
   "cell_type": "markdown",
   "id": "20fd0f63",
   "metadata": {
    "slideshow": {
     "slide_type": "slide"
    }
   },
   "source": [
    "## Data Types\n",
    "\n",
    "e.g.\n",
    "\n",
    "- `copy` — Shallow and deep copy operations\n",
    "- `collections` — Container datatypes\n",
    "- `datetime` — Basic date and time types\n",
    "- `pprint` — Data pretty printer\n",
    "- `array` — Efficient 1d arrays of numeric values\n",
    "- `calendar` — General calendar-related functions"
   ]
  },
  {
   "cell_type": "markdown",
   "id": "56942f66",
   "metadata": {
    "slideshow": {
     "slide_type": "subslide"
    }
   },
   "source": [
    "We'll talk more about data types & structures on Thursday."
   ]
  },
  {
   "cell_type": "markdown",
   "id": "cb32ddcc",
   "metadata": {
    "slideshow": {
     "slide_type": "slide"
    }
   },
   "source": [
    "## Numeric and Mathematical Modules\n",
    "\n",
    "(Much of this is done better in `numpy`)\n",
    "- `math` — Mathematical functions\n",
    "- `random` — Generate pseudo-random numbers\n",
    "- `decimal` — Decimal fixed point and floating point arithmetic\n",
    "- `fractions` — Rational numbers\n",
    "- `statistics` — Mathematical statistics functions"
   ]
  },
  {
   "cell_type": "markdown",
   "id": "9cf482f1",
   "metadata": {
    "slideshow": {
     "slide_type": "subslide"
    }
   },
   "source": [
    "Watch out! `numpy` and `math` don't always play nicely together."
   ]
  },
  {
   "cell_type": "markdown",
   "id": "dd097bfe",
   "metadata": {
    "slideshow": {
     "slide_type": "slide"
    }
   },
   "source": [
    "## Functional Programming Modules\n",
    "- `itertools` — Functions creating iterators for efficient looping\n",
    "- `functools` — Higher-order functions and operations on callable objects\n",
    "- `operator` — Standard operators as functions"
   ]
  },
  {
   "cell_type": "markdown",
   "id": "671e589c",
   "metadata": {
    "slideshow": {
     "slide_type": "slide"
    }
   },
   "source": [
    "## File and Directory Access\n",
    "\n",
    "- `glob` — Unix style pathname pattern expansion\n",
    "- `shutil` — High-level file operations\n",
    "- `tempfile` — Generate temporary files and directories"
   ]
  },
  {
   "cell_type": "markdown",
   "id": "cd25f0a7",
   "metadata": {
    "slideshow": {
     "slide_type": "slide"
    }
   },
   "source": [
    "## Data Persistence\n",
    "\n",
    "- `pickle` — Python object serialization\n",
    "- `sqlite3` — DB-API 2.0 interface for SQLite databases"
   ]
  },
  {
   "cell_type": "markdown",
   "id": "e91a21fb",
   "metadata": {
    "slideshow": {
     "slide_type": "slide"
    }
   },
   "source": [
    "## Data Compression and Archiving\n",
    "- `gzip` — Support for gzip files\n",
    "- `zipfile` — Work with ZIP archives\n",
    "- `tarfile` — Read and write tar archive files"
   ]
  },
  {
   "cell_type": "markdown",
   "id": "a1f2ade6",
   "metadata": {
    "slideshow": {
     "slide_type": "slide"
    }
   },
   "source": [
    "## File Formats\n",
    "\n",
    "Pandas is more use for data science\n",
    "- `csv` — CSV File Reading and Writing\n",
    "- `json` — JSON encoder and decoder"
   ]
  },
  {
   "cell_type": "markdown",
   "id": "798a2524",
   "metadata": {
    "slideshow": {
     "slide_type": "slide"
    }
   },
   "source": [
    "## Generic Operating System Services\n",
    "\n",
    "- `os` — Miscellaneous operating system interfaces\n",
    "- `sys` — System-specific parameters and functions\n",
    "- `argparse` — Parser for command-line options, arguments and sub-commands\n",
    "- `time` — Time access and conversions"
   ]
  },
  {
   "cell_type": "markdown",
   "id": "7a1476cb",
   "metadata": {
    "slideshow": {
     "slide_type": "slide"
    }
   },
   "source": [
    "## Internet Data Handling/Internet Protocols and Support/GUIs\n",
    "\n",
    "- `urllib` — URL handling modules\n",
    "- `http` — HTTP modules\n",
    "- `tkinter` — Python interface to Tcl/Tk (basic GUIs)"
   ]
  },
  {
   "cell_type": "markdown",
   "id": "3549b663",
   "metadata": {
    "slideshow": {
     "slide_type": "slide"
    }
   },
   "source": [
    "## Testing\n",
    "\n",
    "We'll revisit these next week\n",
    "- `doctest` — Test interactive Python examples\n",
    "- `unittest` — Unit testing framework"
   ]
  },
  {
   "cell_type": "markdown",
   "id": "8406fd80",
   "metadata": {
    "slideshow": {
     "slide_type": "slide"
    }
   },
   "source": [
    "## Debugging and Profiling\n",
    "\n",
    "These will come up again\n",
    "- `pdb` — The Python Debugger\n",
    "- `timeit` — Measure execution time of small code snippets"
   ]
  },
  {
   "cell_type": "markdown",
   "id": "35f71f86",
   "metadata": {
    "slideshow": {
     "slide_type": "slide"
    }
   },
   "source": [
    "# A note about coding\n",
    "\n",
    "Software developers have a number of useful rules of thumb to write good code, with catchy (or not so catchy acronyms\n",
    "\n",
    "|Acronym| Expansion|\n",
    "|-|-|\n",
    "|DRY| Don't Repeat Yourself |\n",
    "|SOC| Separation of Concerns|\n",
    "|KISS| Keep It Simple, Stupid |\n",
    "|YAGNI| You Aint' Gonna Need It |"
   ]
  },
  {
   "cell_type": "markdown",
   "id": "5d4e0e32",
   "metadata": {
    "slideshow": {
     "slide_type": "slide"
    }
   },
   "source": [
    "# Exercise time\n",
    "\n",
    "- First, take a physical break!\n",
    "- Next try some of the [coding exercises](./Intro%20to%20CS%20(exercises).ipynb)\n",
    "- These exercises are important preparation, and will help you ith the graded assessments.\n",
    "- Fine to work in groups here!"
   ]
  },
  {
   "cell_type": "markdown",
   "id": "535fe788",
   "metadata": {
    "slideshow": {
     "slide_type": "slide"
    }
   },
   "source": [
    "## Hour 2: Complexity theory.\n",
    "\n",
    "Theoretical Computer Scientists sometimes treat a computer as a machine which is fed a ribbon or tape and which every tick of \n",
    "a clock reads, writes or updates symbols on the tape.\n",
    "\n",
    "This means that every strategy or algorithm to solve a large problem comes down to a balance between two resources:\n",
    "\n",
    "- space (i.e. how much computer memory or storage is used)\n",
    "- time (i.e. how long it takes to run)"
   ]
  },
  {
   "cell_type": "markdown",
   "id": "cce62dcb",
   "metadata": {
    "slideshow": {
     "slide_type": "slide"
    }
   },
   "source": [
    "## Time complexity: some examples"
   ]
  },
  {
   "cell_type": "code",
   "execution_count": null,
   "id": "d2299a05",
   "metadata": {},
   "outputs": [],
   "source": [
    "def my_max(x):\n",
    "\n",
    "    if len(x) < 1:\n",
    "        return None\n",
    "\n",
    "    maximum = x[0]\n",
    "    for i in x[1:]:\n",
    "        if i > maximum:\n",
    "            maximum = i\n",
    "    return maximum"
   ]
  },
  {
   "cell_type": "markdown",
   "id": "927c0116",
   "metadata": {},
   "source": [
    "Time to solve increases (linearly) with the length of x ($\\mathcal{O}(n^2)$)."
   ]
  },
  {
   "cell_type": "code",
   "execution_count": null,
   "id": "6b2a7f04",
   "metadata": {},
   "outputs": [],
   "source": [
    "def find_duplicates(x):\n",
    "    duplicates = []\n",
    "    for k, val1 in enumerate(x):\n",
    "        for val2 in x[k+1:]:\n",
    "            if val1 == val2:\n",
    "                duplicates.append((val1, val2))        \n",
    "    return duplicates"
   ]
  },
  {
   "cell_type": "markdown",
   "id": "7c25706d",
   "metadata": {},
   "source": [
    "Time to solve increases quadratically with the length of x ($\\mathcal{O}(n^2)$)."
   ]
  },
  {
   "cell_type": "code",
   "execution_count": null,
   "id": "4e4cf39f",
   "metadata": {},
   "outputs": [],
   "source": [
    "def permute(x):\n",
    "\n",
    "    if len(x) <= 1:\n",
    "        return [list(x)]\n",
    "\n",
    "    out = []\n",
    "    for i in x:\n",
    "        y = list(x)\n",
    "        y.remove(i)\n",
    "        for j in permute(y):\n",
    "            out.append([i]+j)\n",
    "    return out"
   ]
  },
  {
   "cell_type": "code",
   "execution_count": null,
   "id": "40ff0a5b",
   "metadata": {},
   "outputs": [],
   "source": [
    "permute(range(1))"
   ]
  },
  {
   "cell_type": "code",
   "execution_count": null,
   "id": "b19989b3",
   "metadata": {},
   "outputs": [],
   "source": [
    "permute(range(3))"
   ]
  },
  {
   "cell_type": "markdown",
   "id": "51fb72a6",
   "metadata": {},
   "source": [
    "Time to run and space needed for output increases with the factorial of the length of the input."
   ]
  },
  {
   "cell_type": "markdown",
   "id": "fb4cb965",
   "metadata": {
    "slideshow": {
     "slide_type": "slide"
    }
   },
   "source": [
    "## Computer Architecture\n",
    "\n",
    "- At a low level, have doped silicon wafers form transistors in logic circuits.\n",
    "\n",
    "- Other physical processes used to store data in longer term"
   ]
  },
  {
   "cell_type": "markdown",
   "id": "6a378713",
   "metadata": {
    "slideshow": {
     "slide_type": "subslide"
    }
   },
   "source": [
    "This storage is arranged in layers:\n",
    "- inside the CPU core (\"register\")\n",
    "- near the CPU (CPU cache)\n",
    "- main memory (\"RAM\")\n",
    "- mass storage (\"hard disk\")"
   ]
  },
  {
   "cell_type": "markdown",
   "id": "9a1a16a7",
   "metadata": {
    "slideshow": {
     "slide_type": "subslide"
    }
   },
   "source": [
    "There is a time penalty involved with getting information between layers.\n",
    "This means computers are faster at processing information which is \"together\".\n",
    "They are also faster at doing things they have specific circuits & instructions for.\n",
    "- Python hides a lot of this from you."
   ]
  },
  {
   "cell_type": "markdown",
   "id": "ffd60fac",
   "metadata": {
    "slideshow": {
     "slide_type": "subslide"
    }
   },
   "source": [
    "All modern computers are _binary_:\n",
    "- high voltage is \"on\"\n",
    "- low voltage is \"off\".\n",
    "\n",
    "Mostly we don't have to think about this. But sometimes it's useful to understand how computers can store numbers, and the errors which come with it."
   ]
  },
  {
   "cell_type": "markdown",
   "id": "c8d15acd",
   "metadata": {},
   "source": [
    "## Representation of integers\n",
    "\n",
    "### Positive integers\n",
    "\n",
    "Can think of each layer of computer memory as a \"tape\" or ribbon, containing a long, finite sequence of ones and zeros.\n",
    "\n",
    "Computers can read short groups of numbers, or replace 1s with 0s and vice versa."
   ]
  },
  {
   "cell_type": "markdown",
   "id": "13cd5435",
   "metadata": {
    "slideshow": {
     "slide_type": "subslide"
    }
   },
   "source": [
    "How does binary work?\n",
    "\n",
    "lets take a binary number, say 1001\n",
    "\n",
    "|$$2^3=8$$|$$2^2=4$$|$$2^1=2$$|$$2^0=1$$|\n",
    "|-|-|-|-|\n",
    "|1|0|0|1|\n",
    "\n",
    "so it's $1\\times8+0\\times4+0\\times2+1\\times1=9$\n",
    "\n",
    "Python can do these conversions for us"
   ]
  },
  {
   "cell_type": "code",
   "execution_count": null,
   "id": "7ace5518",
   "metadata": {},
   "outputs": [],
   "source": [
    "print(int('1001', base=2))\n",
    "print(bin(9))"
   ]
  },
  {
   "cell_type": "markdown",
   "id": "ed4c9428",
   "metadata": {},
   "source": [
    "So how does this work on a computer?\n",
    "\n",
    "Two choices:\n",
    "!. Store how many \"bits\" there are in the number, then the number itself.\n",
    "2. Use a fixed number of bits, and store leading zeros\n",
    "\n",
    "Python uses (a version of) the first way, to have arbitrarily long integers.\n",
    "Numpy uses the second approach for speed and efficiency."
   ]
  },
  {
   "cell_type": "markdown",
   "id": "57acdb65",
   "metadata": {},
   "source": [
    "### Integer Overflow*\n",
    "IF the number of digits is fixed, we can have a problem.\n",
    "\n",
    "Let's say we have an 8bit integer `x`, storing the (binary) value 1111111. What is `x+1`?\n",
    "\n",
    "Let's find out"
   ]
  },
  {
   "cell_type": "code",
   "execution_count": null,
   "id": "1620da4e",
   "metadata": {},
   "outputs": [],
   "source": [
    "import numpy as np\n",
    "x = np.array([int('11111111',2)], dtype=np.uint8)\n",
    "print(x)\n",
    "print(x+1)"
   ]
  },
  {
   "cell_type": "markdown",
   "id": "b97a4198",
   "metadata": {
    "slideshow": {
     "slide_type": "slide"
    }
   },
   "source": [
    "### Negative integers\n",
    "\n",
    "So far we've dealt with just positive integers, sometimes called the counting numbers.\n",
    "\n",
    "How do we handle negative integers?\n",
    "\n",
    "One option is to just \"steal\" one bit from the high end and just use it to indicate negative numbers"
   ]
  },
  {
   "cell_type": "markdown",
   "id": "13a54005",
   "metadata": {
    "slideshow": {
     "slide_type": "subslide"
    }
   },
   "source": [
    "In this system, -3  for a 4 bit signed integer would be\n",
    "\n",
    "|$$-ve$$|$$2^2=4$$|$$2^1=2$$|$$2^0=1$$|\n",
    "|-|-|-|-|\n",
    "|1|0|1|1|\n",
    "\n",
    "Fairly easy system for humans, but complicated for computers.\n",
    "Need entire new circuits for addition and subtraction."
   ]
  },
  {
   "cell_type": "markdown",
   "id": "816de45a",
   "metadata": {
    "slideshow": {
     "slide_type": "subslide"
    }
   },
   "source": [
    "The alternative used in most modern computers is to use the high end bit in the form $-2^{n-1}$ (n is number of bits)\n",
    "\n",
    "This makes the representation of -3\n",
    "\n",
    "|$$-2^3=-8$$|$$2^2=4$$|$$2^1=2$$|$$2^0=1$$|\n",
    "|-|-|-|-|\n",
    "|1|1|0|1|\n",
    "\n",
    "$-8+4+1= -3$\n",
    "\n",
    "Addition and subtraction now work the same as with unsigned integers, and $-3+3 $ (decimal) = $1101+0011$ (binary) = 0."
   ]
  },
  {
   "cell_type": "markdown",
   "id": "4499072e",
   "metadata": {
    "slideshow": {
     "slide_type": "subslide"
    }
   },
   "source": [
    "This is called [two's complement](https://en.wikipedia.org/wiki/Two%27s_complement) representation.\n",
    "\n",
    "To negate a number, switch all the bits and add 1.\n",
    "\n",
    "$-3 = (1101)_2$\n",
    "$(0010)_2+1 = (0011)_2 = 3$"
   ]
  },
  {
   "cell_type": "markdown",
   "id": "54d18a2a",
   "metadata": {
    "slideshow": {
     "slide_type": "subslide"
    }
   },
   "source": [
    "We can get these forms in Python using numpy"
   ]
  },
  {
   "cell_type": "code",
   "execution_count": null,
   "id": "2850bf91",
   "metadata": {},
   "outputs": [],
   "source": [
    "print(np.binary_repr(3, width=4))\n",
    "print(np.binary_repr(-3, width=4))"
   ]
  },
  {
   "cell_type": "markdown",
   "id": "4fce5c3f",
   "metadata": {
    "slideshow": {
     "slide_type": "slide"
    }
   },
   "source": [
    "## Representation of Characters\n",
    "\n",
    "Computers can only store binary data, letters have to be _encoded_\n",
    "\n",
    "A number is chosen for the symbol, and the actual image to show is stored elsewhere.\n",
    "\n",
    "Most famous encoding is ASCII (American Standard Code for Information Interchange)"
   ]
  },
  {
   "cell_type": "markdown",
   "id": "69663922",
   "metadata": {
    "slideshow": {
     "slide_type": "subslide"
    }
   },
   "source": [
    "<img src=\"images/ASCII_table.png\" alt=\"ASCII lookup table\" width=\"auto\" height=\"60%\" style=\"width: auto%; height: 60% !important; max-height:500px; max-width:960px;-ms-interpolation-mode: bicubic;\"/>\n",
    "\n",
    "Table above by [Tom Gibara](https://github.com/tomgibara/ascii-table/wiki) CC-BY-SA.\n",
    "\n",
    "Python3 default is Unicode encoding (`utf-8`). \n",
    "Gives access to characters from most world languages."
   ]
  },
  {
   "cell_type": "markdown",
   "id": "f0054d42",
   "metadata": {
    "slideshow": {
     "slide_type": "subslide"
    }
   },
   "source": [
    "Can even use letter-like symbols from the Unicode standard in the names of functions and objects."
   ]
  },
  {
   "cell_type": "code",
   "execution_count": null,
   "id": "b271e0a9",
   "metadata": {
    "slideshow": {
     "slide_type": "-"
    }
   },
   "outputs": [],
   "source": [
    "def 你好(x):\n",
    "    print('Hello', x)\n",
    "\n",
    "你好('World!')"
   ]
  },
  {
   "cell_type": "markdown",
   "id": "5c149fb7",
   "metadata": {
    "cell_style": "center",
    "slideshow": {
     "slide_type": "slide"
    }
   },
   "source": [
    "## Hour 3: Representation of real numbers (with Marijan Beg)\n",
    "\n",
    "- Every real number is a **point** on the real axis."
   ]
  },
  {
   "cell_type": "code",
   "execution_count": null,
   "id": "66dfc94a",
   "metadata": {
    "cell_style": "center",
    "slideshow": {
     "slide_type": "fragment"
    }
   },
   "outputs": [],
   "source": [
    "fig, ax = single_axis(figsize=(20, 1))\n",
    "ax.set_xlim(-10, 10)\n",
    "ax.set_ylim(0, 0.1)\n",
    "ax.scatter(0.466, 0, s=200)\n",
    "plt.xlabel('$\\mathbb{R}$')\n",
    "plt.show()"
   ]
  },
  {
   "cell_type": "markdown",
   "id": "9de9cd96",
   "metadata": {
    "slideshow": {
     "slide_type": "fragment"
    }
   },
   "source": [
    "- How do we communicate them? How do we represent real numbers?"
   ]
  },
  {
   "cell_type": "markdown",
   "id": "c198b99b",
   "metadata": {
    "cell_style": "center",
    "slideshow": {
     "slide_type": "slide"
    }
   },
   "source": [
    "### Example: Decimal (base-10) representation\n",
    "\n",
    "- $x = 28\\,763.437$\n",
    "\n",
    "- Integer part:\n",
    "$$\n",
    "\\begin{split}\n",
    "28\\,763 & = 20\\,000 + 8\\,000 + 700 + 60 + 3 \\\\\n",
    "        & = 2 \\times 10^{4} + 8 \\times 10^{3} + 7 \\times 10^{2} + 6 \\times 10^{1} + 3 \\times 10^{0}\n",
    "\\end{split}\n",
    "$$\n",
    "\n",
    "- Fractional part:\n",
    "$$\n",
    "\\begin{split}\n",
    "0.437 & = \\frac{4}{10} + \\frac{3}{100} + \\frac{7}{1\\,000}\\\\\n",
    "      & = 4 \\times 10^{-1} + 3 \\times 10^{-2} + 7 \\times 10^{-3}\n",
    "\\end{split}\n",
    "$$"
   ]
  },
  {
   "cell_type": "code",
   "execution_count": null,
   "id": "4a952ec3",
   "metadata": {
    "slideshow": {
     "slide_type": "fragment"
    }
   },
   "outputs": [],
   "source": [
    "x = 28763.437\n",
    "x"
   ]
  },
  {
   "cell_type": "markdown",
   "id": "e7d6a6ce",
   "metadata": {
    "slideshow": {
     "slide_type": "slide"
    }
   },
   "source": [
    "### General decimal (base-10) expression\n",
    "\n",
    "$$\n",
    "a_{n}a_{n-1}\\ldots a_1 a_0 \\, . \\, b_{1} b_{2} b_{3} \\ldots = \\sum_{i=0}^{n} a_{i} \\times 10^{i} + \\sum_{i=1}^{\\infty} b_{i} \\times 10^{-i}\n",
    "$$\n",
    "\n",
    "- $a_{i}, b_{i} \\in \\mathbb{Z}_{10} = \\{0, 1, 2, \\ldots, 9\\} \\quad (0 \\le a_{i}, b_{i} \\le 9)$\n",
    "\n",
    "| | |\n",
    "| - | - |\n",
    "| $a_{n}a_{n-1}\\ldots a_1 a_0$ | integer part |\n",
    "| $.$ | decimal point |\n",
    "| $b_{1} b_{2} b_{3} \\ldots$ | fractional part |"
   ]
  },
  {
   "cell_type": "markdown",
   "id": "83cc5f31",
   "metadata": {
    "slideshow": {
     "slide_type": "slide"
    }
   },
   "source": [
    "### Example: Binary (base-2) representation\n",
    "\n",
    "$$x = (1\\,011.101)_{2}$$\n",
    "\n",
    "- **Note:** We write $(1\\,011.101)_{2}$ to make sure we do not interpret the number as decimal (*one thousand and eleven point one zero one*)\n",
    "\n",
    "- Integer part:\n",
    "$$\n",
    "\\begin{split}\n",
    "(1\\,011)_{2} & = 1 \\times 2^{3} + 0 \\times 2^{2} + 1 \\times 2^{1} + 1 \\times 2^{0}\\\\\n",
    "             & = (11)_{10}\n",
    "\\end{split}\n",
    "$$\n",
    "\n",
    "- Fractional part:\n",
    "$$\n",
    "\\begin{split}\n",
    "(0.101)_{10} & = \\frac{1}{2} + \\frac{0}{4} + \\frac{1}{8}\\\\\n",
    "             & = 1 \\times 2^{-1} + 0 \\times 2^{-2} + 1 \\times 2^{-3}\\\\\n",
    "             & = (0.625)_{10}\n",
    "\\end{split}\n",
    "$$"
   ]
  },
  {
   "cell_type": "markdown",
   "id": "adc4789a",
   "metadata": {
    "slideshow": {
     "slide_type": "slide"
    }
   },
   "source": [
    "How can we write binary numbers in Python?\n",
    "\n",
    "```python\n",
    "x = 0b1011.101\n",
    "x\n",
    "\n",
    "  File \"/var/folders/lr/hsg067s53m3bw35fmxmfyb680000gn/T/ipykernel_72996/2192814046.py\", line 1\n",
    "    x = 0b1011.101\n",
    "              ^\n",
    "SyntaxError: invalid syntax\n",
    "```\n",
    "\n",
    "We can write integers in binary format:"
   ]
  },
  {
   "cell_type": "code",
   "execution_count": null,
   "id": "dffb62bc",
   "metadata": {
    "slideshow": {
     "slide_type": "fragment"
    }
   },
   "outputs": [],
   "source": [
    "x = 0b1011\n",
    "x  # we get decimal as the output"
   ]
  },
  {
   "cell_type": "markdown",
   "id": "1273d55a",
   "metadata": {
    "slideshow": {
     "slide_type": "slide"
    }
   },
   "source": [
    "### General binary (base-2) expression\n",
    "\n",
    "$$\n",
    "a_{n} a_{n-1}\\ldots a_1 a_0 \\, . \\, b_{1} b_{2} b_{3} \\ldots = \\sum_{i=0}^{n} a_{i} \\times 2^{i} + \\sum_{i=1}^{\\infty} b_{i} \\times 2^{-i}\n",
    "$$\n",
    "\n",
    "- $a_{i}, b_{i} \\in \\mathbb{Z}_{2} = \\{0, 1\\} \\quad (0 \\le a_{i}, b_{i} \\le 1)$\n",
    "\n",
    "| | |\n",
    "| - | - |\n",
    "| $a_{n} a_{n-1}\\ldots a_1 a_0$ | integer part |\n",
    "| $.$ | radix point |\n",
    "| $b_{1} b_{2} b_{3} \\ldots$ | fractional part |"
   ]
  },
  {
   "cell_type": "markdown",
   "id": "beb2c086",
   "metadata": {
    "slideshow": {
     "slide_type": "slide"
    }
   },
   "source": [
    "## IEEE floating point standard (IEEE-754)"
   ]
  },
  {
   "cell_type": "markdown",
   "id": "bc768f3f",
   "metadata": {
    "slideshow": {
     "slide_type": "slide"
    }
   },
   "source": [
    "### Scientific notation\n",
    "\n",
    "- We usually write integer part and fractional part of real numbers together with a (decimal/radix) point in between.\n",
    "- On the other hand, we can also write:\n",
    "\n",
    "$$\n",
    "\\begin{split}\n",
    "37541.23 &= 37.54123 \\times 10^{3}\\\\ \n",
    "         &= 3.754123 \\times 10^{4}\\\\\n",
    "         &= 0.3754123 \\times 10^{5}\n",
    "\\end{split}\n",
    "$$\n",
    "\n",
    "- This representation is *not unique*."
   ]
  },
  {
   "cell_type": "markdown",
   "id": "0b992fab",
   "metadata": {
    "slideshow": {
     "slide_type": "slide"
    }
   },
   "source": [
    "### Normalised scientific notation\n",
    "\n",
    "- To ensure uniqueness, we introduce normalised scientific notation:\n",
    "\n",
    "$$x = 0.d_{1}d_{2}d_{3}\\ldots \\times 10^{e}, \\quad d_{1} \\ne 0$$\n",
    "\n",
    "- Leading digit in the fractional part is not zero (except when the number is zero):\n",
    "\n",
    "$$37541.23 = 0.3754123 \\times 10^{5}$$\n",
    "\n",
    "$$0.009765 = 0.9765 \\times 10^{-2}$$"
   ]
  },
  {
   "cell_type": "markdown",
   "id": "7f50c1f9",
   "metadata": {
    "cell_style": "split",
    "slideshow": {
     "slide_type": "slide"
    }
   },
   "source": [
    "### Normalised scientific notation in decimal form\n",
    "\n",
    "Any $x \\in \\{x \\in \\mathbb{R} | x \\ne 0\\}$ can be written as:\n",
    "\n",
    "$$\n",
    "x = \\pm m \\times 10^{e}, \\quad \\frac{1}{10} \\le m < 1\n",
    "$$\n",
    "\n",
    "| label | name |\n",
    "| - | - |\n",
    "| $\\pm$ | sign\n",
    "| $m$ | mantissa |\n",
    "| $e$ | exponent |\n",
    "\n",
    "$$\n",
    "m = \\pm 0.d_{1}d_{2}d_{3}\\ldots, \\quad d_{1} \\ne 0, \\; d_{i} \\in \\mathbb{Z}_{10},\n",
    "$$"
   ]
  },
  {
   "cell_type": "markdown",
   "id": "9813c89c",
   "metadata": {
    "cell_style": "split",
    "slideshow": {
     "slide_type": "-"
    }
   },
   "source": [
    "### Normalised scientific notation in binary form\n",
    "\n",
    "Any $x \\in \\{x \\in \\mathbb{R} | x \\ne 0\\}$ can be written as:\n",
    "\n",
    "$$\n",
    "x = \\pm m \\times 2^{e}, \\quad \\frac{1}{2} \\le m < 1\n",
    "$$\n",
    "\n",
    "| label | name |\n",
    "| - | - |\n",
    "| $\\pm$ | sign\n",
    "| $m$ | mantissa |\n",
    "| $e$ | exponent |\n",
    "\n",
    "$$\n",
    "m = \\pm 0.b_{1}b_{2}b_{3}\\ldots, \\quad b_{1} = 1, \\; b_{i} \\in \\{0, 1\\}.\n",
    "$$"
   ]
  },
  {
   "cell_type": "markdown",
   "id": "4438ad8f",
   "metadata": {
    "slideshow": {
     "slide_type": "slide"
    }
   },
   "source": [
    "### Floating-point representation\n",
    "\n",
    "$$\n",
    "x = \\pm m \\times 2^{e}, \\quad \\frac{1}{2} \\le m < 1\n",
    "$$\n",
    "\n",
    "- We need to save the sign ($\\pm$), mantissa ($m$), and exponent ($e$) separatately.\n",
    "- Every computer has a finite word length\n",
    "    - We cannot exactly represent:\n",
    "        - irrational numbers, e.g. $\\pi$, $\\mathrm{e}$, ...,\n",
    "        - rational numbers that do not fit the finite form, e.g. $\\frac{1}{3}$.\n",
    "    - A disrete set of numbers that are exactly representable are called **machine numbers**.\n",
    "    - A number with a terminating expansion in one base might have a non-terminating expansion in another base, e.g.\n",
    "    \n",
    "    $$(0.1)_{10} = (0.0001100110011001100110011001100110011001100110011\\ldots)_{2}$$"
   ]
  },
  {
   "cell_type": "markdown",
   "id": "b38ab77d",
   "metadata": {
    "slideshow": {
     "slide_type": "slide"
    }
   },
   "source": [
    "- Larger numbers result in overflow.\n",
    "    - Overflow could be handled differently.\n",
    "- Smaller numbers result in underflow - commonly rounded to zero.\n",
    "- Most numbers cannot be represented exactly."
   ]
  },
  {
   "cell_type": "markdown",
   "id": "91243f00",
   "metadata": {
    "slideshow": {
     "slide_type": "slide"
    }
   },
   "source": [
    "## IEEE-754\n",
    "\n",
    "- In early 1980s, IEEE (Institute of Electrical and Electronics Engineers) established floating-point standard (IEEE-754).\n",
    "- Before the standard, computer manufacturers developed their own floating-point number systems.\n",
    "    - There were inconsistencies in results between different machines.\n",
    "- There are three common levels of precison:\n",
    "\n",
    "| precision   | bits | sign | exponent | mantissa |\n",
    "| ----------- | ---- | ---- | -------- | -------- |\n",
    "| single      | 32   | 1    | 8        | 23       |\n",
    "| double      | 64   | 1    | 11       | 52       |\n",
    "| long double | 80   | 1    | 15       | 64       |\n",
    "\n",
    "- As data scientists, we do not need to know all the details, but we need to understand it."
   ]
  },
  {
   "cell_type": "markdown",
   "id": "37dfdb66",
   "metadata": {
    "slideshow": {
     "slide_type": "slide"
    }
   },
   "source": [
    "### Single precision (32 bit)\n",
    "\n",
    "$$x = (-1)^{s} \\times 2^{e-127} \\times (1 + 0.f)_{2}$$\n",
    "\n",
    "- 1 bit for the sign $s$\n",
    "    - $s=0$ - postitive\n",
    "    - $s=1$ - negative\n",
    "    \n",
    "- 8 bits for the exponent $e$\n",
    "    - $0 < e < (11\\,111\\,111)_{2} = 255$ (values $0$ and $255$ are reserved for $\\pm 0$ and $\\pm \\infty$).\n",
    "    - We shift $e$ by 127 to allow representing values around zero:\n",
    "    $$-126 \\le e-127 \\le 127$$\n",
    "    \n",
    "    \n",
    "- 23 bits for the matissa (significand) $f$\n",
    "    - *one-plus form* ($1 + 0.f$) to ensure normalisation\n",
    "        - It actually corresponds to 24 bits because there is a **hidden bit**.\n",
    "    - Mantissa is limited by:\n",
    "    $$(1.00000000000000000000000)_{2} = 1 \\le (1.f)_{2} \\le (1.11111111111111111111111)_{2} = 2 - 2^{-23}$$\n",
    "    \n",
    "- Largest number: $(2-2^{-23}) \\times 2^{127} \\approx 2^{128} \\approx 3.4 \\times 10^{38}$\n",
    "- Smallest positive number: $1 \\times 2^{-126} \\approx 1.17 \\times 10^{-38}$"
   ]
  },
  {
   "cell_type": "markdown",
   "id": "944ae4d6",
   "metadata": {
    "slideshow": {
     "slide_type": "slide"
    }
   },
   "source": [
    "### Machine $\\epsilon$, precision, and resolution\n",
    "\n",
    "- The number of real numbers $x$ we can represent is finite.\n",
    "- The floating-point machine number corresponding to $x$, we denote as $\\mathrm{fl}(x)$.\n",
    "- Machine $\\epsilon$ is the smallest number such that:\n",
    "$$\\mathrm{fl}(1 + \\epsilon) \\ne 1$$\n",
    "- For single precision, the machine $\\epsilon$ is:\n",
    "\n",
    "$$\\epsilon = (1.00000000000000000000001)_{2} - (1.00000000000000000000000)_{2} = 2^{-23} \\approx 1.19 \\times 10^{-7}$$\n",
    "\n",
    "- **Precision:** Because $\\epsilon = \\approx 1.19 \\times 10^{-7}$, we can rely on approximately 6 accurate decimal digits. We say that the precision is 6.\n",
    "$$\\pi_\\mathrm{single} = 3.14159$$\n",
    "- **Resolution:** Sometimes, instead of precision $p$, we show **resolution**: $10^{-p} = 10^{-6}$."
   ]
  },
  {
   "cell_type": "code",
   "execution_count": null,
   "id": "3d819f36",
   "metadata": {
    "slideshow": {
     "slide_type": "slide"
    }
   },
   "outputs": [],
   "source": [
    "import numpy as np\n",
    "\n",
    "single = np.finfo(np.float32)\n",
    "\n",
    "print(f'Single precision float')\n",
    "print(25*'-')\n",
    "print(f'Total size in bits: {single.bits}')\n",
    "print(f'Bits in mantissa: {single.nmant}')\n",
    "print(f'Bits in exponent: {single.nexp}')\n",
    "print(f'Machine epsilon: {single.eps}')\n",
    "print(f'Largest number: {single.max}')\n",
    "print(f'Smallest number: {single.min}')\n",
    "print(f'Smallest positive number: {single.tiny}')\n",
    "print(f'Precision: {single.precision}')\n",
    "print(f'Resolution: {single.resolution}')"
   ]
  },
  {
   "cell_type": "markdown",
   "id": "61be3bd9",
   "metadata": {
    "slideshow": {
     "slide_type": "slide"
    }
   },
   "source": [
    "### Double precision (64 bit)\n",
    "\n",
    "$$x = (-1)^{s} \\times 2^{e-1023} \\times (1 + 0.f)_{2}$$\n",
    "\n",
    "- 1 bit for the sign $s$\n",
    "    - $s=0$ - postitive\n",
    "    - $s=1$ - negative\n",
    "    \n",
    "- 11 bits for the exponent $e$\n",
    "    - $0 < e < (11\\,111\\,111\\,111)_{2} = 2047$ (values $0$ and $2047$ are reserved for $\\pm 0$ and $\\pm \\infty$)\n",
    "    - $-1022 \\le e - 1023 \\le 1023$\n",
    " \n",
    "- 52 bits for mantissa $f$\n",
    "    - *one-plus form* ($1 + 0.f$) to ensure normalisation\n",
    "        - It actually corresponds to 53 bits because there is a **hidden bit**.\n",
    "    - Mantissa is limited by:\n",
    "    $$(1.00\\ldots 00)_{2} = 1 \\le (1.f)_{2} \\le (1.11\\ldots 11)_{2} = 2 - 2^{-52}$$\n",
    "\n",
    "- Largest number: $(2 - 2^{-52}) \\times 2^{1023} \\approx 2^{1024} \\approx 1.8 \\times 10^{308}$\n",
    "- Smallest positive number: $1 \\times 2^{-1022} \\approx 2.2 \\times 10^{-308}$"
   ]
  },
  {
   "cell_type": "markdown",
   "id": "f0b60234",
   "metadata": {
    "slideshow": {
     "slide_type": "slide"
    }
   },
   "source": [
    "### Double precision: machine $\\epsilon$, precision, and resolution\n",
    "\n",
    "- Machine $\\epsilon$:\n",
    "\n",
    "$$\\epsilon = 2^{-52} \\approx 2.22 \\times 10^{-16}$$\n",
    "\n",
    "- Precision: We can rely on approximately 15 accurate decimal digits.\n",
    "$$\\pi_\\mathrm{double} = 3.14159265358979$$\n",
    "- Resolution: $10^{-p} = 10^{-15}$."
   ]
  },
  {
   "cell_type": "code",
   "execution_count": null,
   "id": "86b2c13c",
   "metadata": {
    "slideshow": {
     "slide_type": "slide"
    }
   },
   "outputs": [],
   "source": [
    "double = np.finfo(np.float64)\n",
    "\n",
    "print(f'Single precision float')\n",
    "print(25*'-')\n",
    "print(f'Total size in bits: {double.bits}')\n",
    "print(f'Bits in mantissa: {double.nmant}')\n",
    "print(f'Bits in exponent: {double.nexp}')\n",
    "print(f'Machine epsilon: {double.eps}')\n",
    "print(f'Largest number: {double.max}')\n",
    "print(f'Smallest number: {double.min}')\n",
    "print(f'Smallest positive number: {double.tiny}')\n",
    "print(f'Precision: {double.precision}')\n",
    "print(f'Resolution: {double.resolution}')"
   ]
  },
  {
   "cell_type": "markdown",
   "id": "c04cf8fb",
   "metadata": {
    "slideshow": {
     "slide_type": "slide"
    }
   },
   "source": [
    "### Overflow and underflow\n",
    "\n",
    "- How can we represent $x = 2^{68426539}$ or $x = 2^{-98723640}$?\n",
    "    -  We cannot. This attempt results in overflow or underflow.\n",
    "- Underflow is often rounded to zero.\n",
    "- Overflow is handled differently by different systems."
   ]
  },
  {
   "cell_type": "code",
   "execution_count": null,
   "id": "3204d189",
   "metadata": {
    "slideshow": {
     "slide_type": "slide"
    }
   },
   "outputs": [],
   "source": [
    "huuuuuuge = 1e73642834\n",
    "supersupersmall = 1e-73642834\n",
    "print(f'{huuuuuuge=}')\n",
    "print(f'{supersupersmall=}')"
   ]
  },
  {
   "cell_type": "markdown",
   "id": "81e99d89",
   "metadata": {
    "slideshow": {
     "slide_type": "slide"
    }
   },
   "source": [
    "## Chopping and rounding\n",
    "\n",
    "- For simplicity, here, we assume single precision floating-point numbers.\n",
    "- Let us say we want to represent $x$ with its nearest machine number $\\mathrm{fl}(x)$:\n",
    "\n",
    "$$x = (0.1b_{1}b_{2}b_{3}b_{4}\\ldots)_{2} \\times 2^{m}$$\n",
    "$$\\mathrm{fl}(x) = q \\times 2^{m}, \\frac{1}{2} \\le q < 1, -125 \\le m \\le 128$$\n",
    "\n",
    "- How large can be the error?\n",
    "\n",
    "- **Chopping:** We can chop excess bits $b_{25}b_{26}\\ldots$ and the machine number is then:\n",
    "\n",
    "$$x_{-} = (0.1b_{2}b_{3}b_{4}\\ldots b_{24})_{2} \\times 2^{m}$$\n",
    "\n",
    "- **Rounding:** $x_{+}$ is just to the right and it is obtained by rounding up. We add one unit to $b_{24}$.\n",
    "\n",
    "$$x_{+} = [(0.1b_{2}b_{3}b_{4}\\ldots b_{24})_{2} + 2^{-24}] \\times 2^{m}$$\n",
    "\n",
    "- We now choose the number which is closer to $x$ as its machine representation $\\mathrm{fl}(x)$."
   ]
  },
  {
   "cell_type": "markdown",
   "id": "e8b6f2cb",
   "metadata": {
    "slideshow": {
     "slide_type": "slide"
    }
   },
   "source": [
    "### Absolute and relative error\n",
    "\n",
    "- **Absolute error**:\n",
    "\n",
    "$$|x - \\mathrm{fl}(x)| \\le \\frac{1}{2}|x_{+} - x_{-}| = \\frac{1}{2} \\times 2^{-24} \\times 2^{m} = 2^{-25+m}$$\n",
    "\n",
    "- **Relative error**:\n",
    "\n",
    "$$\\frac{|x - \\mathrm{fl}(x)|}{|x|} \\le \\frac{2^{-25 + m}}{(0.1b_{1}b_{2}b_{3}\\ldots)_{2} \\times 2^{m}} \\le \\frac{2^{-25}}{1/2} = 2^{-24} = u$$\n",
    "\n",
    "- $u$ is the **unit round-off error**.\n",
    "    - It is $2^{-k}$ where $k$ is the number of bits in matissa plus the hidden bit."
   ]
  },
  {
   "cell_type": "markdown",
   "id": "e6d07533",
   "metadata": {
    "slideshow": {
     "slide_type": "slide"
    }
   },
   "source": [
    "## Floating-point arithmetic\n",
    "\n",
    "### Floating-point addition\n",
    "\n",
    "$$8.70 \\times 10^{-1} + 9.95 \\times 10^{1} = \\,?$$\n",
    "\n",
    "1. Rewrite the smaller number such that its exponent matches the exponent of the larger number.\n",
    "\n",
    "$$8.70 \\times 10^{-1} = 0.087 \\times 10^{1}$$\n",
    "\n",
    "2. Add the mantissas:\n",
    "\n",
    "$$9.95 + 0.087 = 10.037,$$\n",
    "\n",
    "3. Normalise result and check for overflow/underflow of the exponent after normalisation.\n",
    "\n",
    "$$10.037 \\times 10^1 = 1.0037 \\times 10^2$$\n",
    "\n",
    "4. Check for overflow/underflow of the exponent after normalisation.\n",
    "\n",
    "    - All good :)\n",
    "\n",
    "5. Round the result.\n",
    "\n",
    "    - If the mantissa does not fit in the space reserved for it, it has to be rounded off. For example: If only 4 digits are allowed for mantissa:\n",
    "\n",
    "$$1.0037 \\times 10^2 \\rightarrow 1.004 \\times 10^2$$"
   ]
  },
  {
   "cell_type": "markdown",
   "id": "eeaf4e08",
   "metadata": {
    "slideshow": {
     "slide_type": "slide"
    }
   },
   "source": [
    "### Floating Point Multiplication\n",
    "\n",
    "Multiply the following two numbers in scientific notation by hand:\n",
    "\n",
    "$$1.110 \\times 10^{10} \\times 9.200 \\times 10^{-5}$$\n",
    "\n",
    "Add the exponents to find\n",
    "- New exponent $= 10 + (-5) = 5$\n",
    "\n",
    "If we add biased exponents, bias will be added twice. Therefore we need to subtract it once to compensate:\n",
    "$$(10 + 127) + (-5 + 127) = 259$$\n",
    "\n",
    "$259 - 127 = 132$ which is $(5 + 127) =$ biased new exponent\n",
    "\n",
    "Multiply the mantissas\n",
    "$$1.110 \\times 9.200 = 10.212000$$\n",
    "\n",
    "Can only keep three digits to the right of the decimal point, so the result is\n",
    "\n",
    "$$10.212 \\times 10^5$$\n",
    "\n",
    "Normalize the result\n",
    "$$1.0212 \\times 10^6$$\n",
    "\n",
    "Round it\n",
    "$$1.021 \\times 10^6$$"
   ]
  },
  {
   "cell_type": "markdown",
   "id": "c3e0d758",
   "metadata": {
    "slideshow": {
     "slide_type": "slide"
    }
   },
   "source": [
    "## Error in arithmetic operations\n",
    "\n",
    "- For any $x \\in \\mathbb{R}$ within the range of the computer:\n",
    "\n",
    "$$\\frac{|x - \\mathrm{fl}(x)|}{x} \\le u$$\n",
    "\n",
    "$$\\mathrm{fl}(x) = x(1 + \\delta), \\quad |\\delta| \\le u$$\n",
    "\n",
    "- If $\\odot$ is any operation ($+, -, \\times, /$), and we assume that $x \\odot y$ is correctly computed, normalised, and finally rounded:\n",
    "\n",
    "$$\\mathrm{fl}(x \\odot y) = (x \\odot y)(1 + \\delta)$$\n",
    "\n",
    "- More precisely:\n",
    "\n",
    "$$\\mathrm{fl}(\\mathrm{fl}(x) \\odot \\mathrm{fl}(y))$$"
   ]
  },
  {
   "cell_type": "markdown",
   "id": "18f2c00c",
   "metadata": {
    "slideshow": {
     "slide_type": "slide"
    }
   },
   "source": [
    "## Loss of significance\n",
    "\n",
    "- Let us say we need to subtract two nearly equal numbers in a machine with only 5 decimal digits of accuracy:\n",
    "\n",
    "$$x = 0.8796421358 \\quad y = 0.8795374261$$\n",
    "\n",
    "What is the relative error?"
   ]
  },
  {
   "cell_type": "code",
   "execution_count": null,
   "id": "5a54ed4a",
   "metadata": {
    "slideshow": {
     "slide_type": "slide"
    }
   },
   "outputs": [],
   "source": [
    "x = 0.8796421358\n",
    "y = 0.8796354261\n",
    "correct = x - y  # is it correct?\n",
    "\n",
    "# Round to 5 decimal digits\n",
    "x_round = round(x, 6)\n",
    "y_round = round(y, 6)\n",
    "computed = round(x_round - y_round, 5)\n",
    "\n",
    "absolute = abs(correct - computed)\n",
    "relative = absolute / abs(correct)\n",
    "\n",
    "print(f'\"Correct\" solution: {correct}')\n",
    "print(f'Correct solution: {correct:0.9f}')\n",
    "print(f'Computed solution: {computed}')\n",
    "print(f'Relative error is: {relative*100:.2f}%.')"
   ]
  },
  {
   "cell_type": "markdown",
   "id": "8997bad7",
   "metadata": {
    "slideshow": {
     "slide_type": "slide"
    }
   },
   "source": [
    "### Theorem of loss of precision\n",
    "\n",
    "- How many significant binary digits are lost in $x - y$ when $x$ is close to $y$?\n",
    "\n",
    "- **Theorem:** Let $x$ and $y$ be normalised floating-point machine numbers, where $x > y > 0$. If $2^{-p} \\le 1 - \\frac{x}{y} \\le 2^{-q}$ for some positive integers $p$ and $q$, then at most $p$ and at least $q$ significant binary bits are lost in the subtraction $x - y$."
   ]
  },
  {
   "cell_type": "markdown",
   "id": "7ed5fdb5",
   "metadata": {
    "slideshow": {
     "slide_type": "slide"
    }
   },
   "source": [
    "## Avoiding loss of significance by subtraction\n",
    "\n",
    "1. $f(x) = \\sqrt{x^{2} + 1} - 1$\n",
    "\n",
    "For $x \\approx 0$, $\\sqrt{x^{2} + 1} \\approx 1$  we are in trouble! How can we remove this subtraction? By rationalisation.\n",
    "\n",
    "$$\n",
    "f(x) = (\\sqrt{x^{2} + 1} - 1) \\frac{\\sqrt{x^{2} + 1} + 1}{\\sqrt{x^{2} + 1} + 1} = \\frac{x^{2}}{\\sqrt{x^{2} + 1} + 1}\n",
    "$$\n",
    "\n",
    "2. $f(x) = x - \\sin(x)$\n",
    "\n",
    "We have an issue for $x \\approx 0$. We can use Taylor explansion:\n",
    "\n",
    "$$f(x) = x - \\left(x - \\frac{x^{3}}{3!} + \\frac{x^{5}}{5!} - \\frac{x^{7}}{7!} + \\ldots\\right) = \\frac{x^{3}}{3!} - \\frac{x^{5}}{5!} + \\frac{x^{7}}{7!} + \\ldots$$"
   ]
  },
  {
   "cell_type": "markdown",
   "id": "acca51bc",
   "metadata": {
    "slideshow": {
     "slide_type": "slide"
    }
   },
   "source": [
    "## Why is `x == y` bad?"
   ]
  },
  {
   "cell_type": "code",
   "execution_count": null,
   "id": "4cc09ea6",
   "metadata": {
    "slideshow": {
     "slide_type": "-"
    }
   },
   "outputs": [],
   "source": [
    "x = np.float64(1)\n",
    "y = np.float64(1/3)\n",
    "\n",
    "assert x == 3*y"
   ]
  },
  {
   "cell_type": "code",
   "execution_count": null,
   "id": "6b264998",
   "metadata": {
    "slideshow": {
     "slide_type": "-"
    }
   },
   "outputs": [],
   "source": [
    "x = np.float32(1)\n",
    "y = np.float32(1/3)\n",
    "\n",
    "assert x == 3*y"
   ]
  },
  {
   "cell_type": "code",
   "execution_count": null,
   "id": "89362962",
   "metadata": {
    "slideshow": {
     "slide_type": "-"
    }
   },
   "outputs": [],
   "source": [
    "assert 0.1 + 0.2 == 0.3"
   ]
  },
  {
   "cell_type": "markdown",
   "id": "3967eeff",
   "metadata": {
    "slideshow": {
     "slide_type": "slide"
    }
   },
   "source": [
    "For comparison of floating-point numbers, we use `np.isclose`."
   ]
  },
  {
   "cell_type": "code",
   "execution_count": null,
   "id": "4f41376d",
   "metadata": {
    "slideshow": {
     "slide_type": "-"
    }
   },
   "outputs": [],
   "source": [
    "assert np.isclose(x, 3*y)"
   ]
  },
  {
   "cell_type": "markdown",
   "id": "b3d86df7",
   "metadata": {
    "slideshow": {
     "slide_type": "slide"
    }
   },
   "source": [
    "## Further Reading\n",
    "\n",
    "* <div class=\"csl-entry\">IEEE ComputerSociety. (2019). <i>754-2019 - IEEE Standard for Floating-Point Arithmetic</i>. IEEE.</div> URL: https://standards.ieee.org/standard/754-2019.html\n",
    "* <div class=\"csl-entry\">Goldberg, D. (1991). What every computer scientist should know about floating-point arithmetic. <i>ACM Computing Surveys</i>, <i>23</i>(1), 5–48.</div> URL: https://doi.org/10.1145/103162.103163\n",
    "* <div class=\"csl-entry\">Overton, M. L. (2001). <i>Numerical Computing with IEEE Floating Point Arithmetic</i>. Society for Industrial and Applied Mathematics. URL: https://doi.org/10.1137/1.9780898718072</div>\n",
    "* R. Burden, J. Faires, A. M. Burden. Numerical Analysis. Brooks Cole, 10th edition (2015).\n",
    "* W. Cheney and D. Kincaid. Numerical Mathematics and Computing.  Wadsworth Publishing Co Inc, 7th edition (2012)."
   ]
  }
 ],
 "metadata": {
  "kernelspec": {
   "display_name": "Python 3 (ipykernel)",
   "language": "python",
   "name": "python3"
  }
 },
 "nbformat": 4,
 "nbformat_minor": 5
}
