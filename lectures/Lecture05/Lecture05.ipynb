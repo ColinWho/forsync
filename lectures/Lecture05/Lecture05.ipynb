{
 "cells": [
  {
   "cell_type": "markdown",
   "metadata": {
    "slideshow": {
     "slide_type": "slide"
    }
   },
   "source": [
    "# Python Packaging (Python Development)\n",
    "\n"
   ]
  },
  {
   "cell_type": "markdown",
   "metadata": {
    "slideshow": {
     "slide_type": "slide"
    }
   },
   "source": [
    "<div class=\"alert alert-block alert-info\">\n",
    "\n",
    "## Learning objectives for today\n",
    "\n",
    "By the end of this lecture you should be able to:\n",
    "\n",
    "- Write Python outside Jupyter;\n",
    "- Explain the similarities & differences between scripts, modules, and packages;\n",
    "- Apply Python coding standards (PEP8) and use linters;\n",
    "- Make and install your own Python package.\n",
    "    <div>"
   ]
  },
  {
   "cell_type": "markdown",
   "metadata": {
    "slideshow": {
     "slide_type": "slide"
    }
   },
   "source": [
    "## The many ways to use Python\n",
    "\n",
    "Python is used in many ways:\n",
    "1. Jupyter notebooks (Data Science, Machine Learning, Teaching, Storytelling, Prototyping...)\n",
    "1. Hacking in the interpreter/IPython console\n",
    "1. Small, useful scripts\n",
    "1. Module files: importable code\n",
    "1. Large, stable packages\n",
    "\n",
    "We'll look at all of these today"
   ]
  },
  {
   "attachments": {
    "320px-Jupyter_logo.svg.png": {
     "image/png": "[encoded data removed]"
    }
   },
   "cell_type": "markdown",
   "metadata": {
    "slideshow": {
     "slide_type": "slide"
    }
   },
   "source": [
    "### Jupyter notebooks\n",
    "\n",
    "![320px-Jupyter_logo.svg.png](attachment:320px-Jupyter_logo.svg.png)\n",
    "\n",
    "An executable document (`.ipynb`) that consists of multiple cells that can contain:\n",
    "- Computer code and its output (code cells)\n",
    "- Human-readable and formattable text, equations, and images (Markdown cells)"
   ]
  },
  {
   "cell_type": "markdown",
   "metadata": {
    "slideshow": {
     "slide_type": "slide"
    }
   },
   "source": [
    "### Good points\n",
    "\n",
    "- Self-consistent and executable document\n",
    "- Great for exploration, prototyping, and [documenting workflows](https://ieeexplore.ieee.org/document/9325550).\n",
    "- Used extensively in teaching.\n",
    "- Popular in data science and machine learning.\n",
    "- Can run remotely on a more powerful computer (e.g. Google Colab with GPUs, Binder, JupyterHub...)."
   ]
  },
  {
   "cell_type": "markdown",
   "metadata": {
    "slideshow": {
     "slide_type": "subslide"
    }
   },
   "source": [
    "### Bad points\n",
    "\n",
    "- Not very good with `git` & version control (as you have probably experienced so far).\n",
    "- Can run cells out of order.\n",
    "- Can skip cells.\n",
    "- Visible output may not match cell contents.\n",
    "- It is usually good idea to `Kernel` -> `Restart Kernel and Run All Cells`."
   ]
  },
  {
   "cell_type": "code",
   "execution_count": 1,
   "metadata": {
    "ExecuteTime": {
     "end_time": "2022-10-17T08:18:07.035345Z",
     "start_time": "2022-10-17T08:18:07.029815Z"
    },
    "slideshow": {
     "slide_type": "-"
    }
   },
   "outputs": [],
   "source": [
    "# examples\n",
    "x=0"
   ]
  },
  {
   "cell_type": "code",
   "execution_count": 2,
   "metadata": {
    "ExecuteTime": {
     "end_time": "2022-10-17T08:18:07.928132Z",
     "start_time": "2022-10-17T08:18:07.923294Z"
    },
    "slideshow": {
     "slide_type": "-"
    }
   },
   "outputs": [],
   "source": [
    "x += 1"
   ]
  },
  {
   "cell_type": "code",
   "execution_count": 3,
   "metadata": {
    "ExecuteTime": {
     "end_time": "2022-10-17T08:18:08.676626Z",
     "start_time": "2022-10-17T08:18:08.673211Z"
    },
    "slideshow": {
     "slide_type": "-"
    }
   },
   "outputs": [
    {
     "name": "stdout",
     "output_type": "stream",
     "text": [
      "X is odd?: True\n"
     ]
    }
   ],
   "source": [
    "print(f\"X is odd?: {x%2==1}\")"
   ]
  },
  {
   "cell_type": "markdown",
   "metadata": {
    "slideshow": {
     "slide_type": "slide"
    }
   },
   "source": [
    "### The Python interpreter\n",
    "\n",
    "```\n",
    "Python 3.10.0 (default, Nov 10 2021, 11:24:47) [Clang 12.0.0 ] on darwin\n",
    "Type \"help\", \"copyright\", \"credits\" or \"license\" for more information.\n",
    ">>> \n",
    "```\n",
    "\n",
    "Not user friendly way to run an interactive Python session, but the best supported.\n",
    "- On many Mac and Linux systems (although sometimes quite old), \n",
    "- Very likely to be on network accessible machines.\n",
    "- Quit with `exit()` or <kbd>Ctrl+D</kbd> (Mac/Linux) or <kbd>Ctrl+Z</kbd> <kbd>Return</kbd> (Windows)."
   ]
  },
  {
   "cell_type": "markdown",
   "metadata": {
    "slideshow": {
     "slide_type": "subslide"
    }
   },
   "source": [
    "<div class=alert-danger>\n",
    "\n",
    "#### Warning!\n",
    "\n",
    "If line starts with Python 2.X.Y like\n",
    "</div>\n",
    "    \n",
    "    \n",
    "```bash\n",
    "Python 2.7.12 (default, Dec  4 2017, 14:50:18) \n",
    "[GCC 5.4.0 20160609] on linux2\n",
    "Type \"help\", \"copyright\", \"credits\" or \"license\" for\n",
    "more information.\n",
    ">>>\n",
    "```\n",
    "<div class=alert-danger>\n",
    "you're running an old interpreter. You can try typing `python3` instead to see if Python 3 is installed.    \n",
    "</div>"
   ]
  },
  {
   "attachments": {
    "download.png": {
     "image/png": "[encoded data removed]"
    }
   },
   "cell_type": "markdown",
   "metadata": {
    "slideshow": {
     "slide_type": "slide"
    }
   },
   "source": [
    "### The IPython console\n",
    "\n",
    "![download.png](attachment:download.png)\n",
    "\n",
    "IPython (aka Interactive Python) much more \"batteries included\"  experience:\n",
    "- better history editor,\n",
    "- better tab completions,\n",
    "- quicker help,\n",
    "- inline matplotlib support."
   ]
  },
  {
   "cell_type": "markdown",
   "metadata": {
    "slideshow": {
     "slide_type": "subslide"
    }
   },
   "source": [
    "IPython interpreter session looks like\n",
    "```\n",
    "Python 3.10.4 (main, Mar 31 2022, 08:41:55) [GCC 7.5.0]\n",
    "Type 'copyright', 'credits' or 'license' for more information\n",
    "IPython 8.5.0 -- An enhanced Interactive Python. Type '?' for help.\n",
    "\n",
    "In [1]:\n",
    "```\n",
    "Many features should be familiar from Jupyter notebooks. In fact \"under the hood\" Jupyter runs IPython (the Python \"kernel\") to process code."
   ]
  },
  {
   "cell_type": "markdown",
   "metadata": {
    "slideshow": {
     "slide_type": "slide"
    }
   },
   "source": [
    "<div class=alert-info>\n",
    "    \n",
    "<h4> Exercise One:</h4>\n",
    "\n",
    "Run a set of commands (see <code>exercises.ipynb</code>)\n",
    "    <ul><li>in a Jupyter notebook,</li> <li>in the Python interpreter,</li> \n",
    "        <li>in IPython.</li>\n",
    "\n",
    "Then try to make some modifications.\n",
    "\n",
    "</div>"
   ]
  },
  {
   "cell_type": "markdown",
   "metadata": {
    "slideshow": {
     "slide_type": "slide"
    }
   },
   "source": [
    "## Python Scripts\n",
    "\n",
    "A Python script is a plain text file containing valid Python code and comments (i.e lines starting `#`), which the Python interpreter transforms into instructions for the computer to perform. Script files are written just the same way you'd write Python code in an interactive interpreter, or similar to a notebook."
   ]
  },
  {
   "cell_type": "markdown",
   "metadata": {
    "slideshow": {
     "slide_type": "subslide"
    }
   },
   "source": [
    "An [example script](https://msc-acse.github.io/ACSE-1/lectures/rot13.py), `rot13.py` might look like\n",
    "```python\n",
    "#!/usr/bin/env python3\n",
    "\n",
    "import codecs\n",
    "import sys\n",
    "\n",
    "print(codecs.encode(sys.argv[1], 'rot13'))\n",
    "```"
   ]
  },
  {
   "cell_type": "markdown",
   "metadata": {
    "slideshow": {
     "slide_type": "subslide"
    }
   },
   "source": [
    "This file reads a string from the command line (via `sys.argv[1]`) and applies the ROT-13 cypher, which cycles letters in the Latin alphabet through to the one 13 places forward/backward (i.e. maps A => N, N => A, g => t and so on). This cypher is its own inverse."
   ]
  },
  {
   "cell_type": "code",
   "execution_count": null,
   "metadata": {},
   "outputs": [],
   "source": [
    "# The sys.argv[1] below is \"Uryyb rirelobql!\""
   ]
  },
  {
   "cell_type": "code",
   "execution_count": 35,
   "metadata": {
    "ExecuteTime": {
     "end_time": "2022-10-17T09:48:29.728106Z",
     "start_time": "2022-10-17T09:48:29.720502Z"
    }
   },
   "outputs": [
    {
     "data": {
      "text/plain": [
       "'Hello everybody!'"
      ]
     },
     "execution_count": 35,
     "metadata": {},
     "output_type": "execute_result"
    }
   ],
   "source": [
    "import codecs\n",
    "codecs.encode(\"Uryyb rirelobql!\" , 'rot13')"
   ]
  },
  {
   "cell_type": "code",
   "execution_count": 4,
   "metadata": {
    "ExecuteTime": {
     "end_time": "2022-10-17T08:27:05.225827Z",
     "start_time": "2022-10-17T08:27:04.723174Z"
    },
    "slideshow": {
     "slide_type": "subslide"
    }
   },
   "outputs": [
    {
     "name": "stdout",
     "output_type": "stream",
     "text": [
      "Hello everybody!\r\n"
     ]
    }
   ],
   "source": [
    "#inside a notebook/IPython, the ! allows calls out to the operating system shell\n",
    "!python rot13.py \"Uryyb rirelobql!\"  "
   ]
  },
  {
   "cell_type": "markdown",
   "metadata": {
    "slideshow": {
     "slide_type": "subslide"
    }
   },
   "source": [
    "<div class=alert-danger>\n",
    "<h4>Warning</h4>\n",
    "\n",
    "The `!` command runs with the same privileges as the user. Don't just run random notebooks off the internet unless you understand what they're doing, or trust the person who you got them from.\n",
    "\n",
    "</div>"
   ]
  },
  {
   "cell_type": "markdown",
   "metadata": {
    "slideshow": {
     "slide_type": "subslide"
    }
   },
   "source": [
    "Inside the IPython console and in notebooks, we can also use the `%run` magic statement:"
   ]
  },
  {
   "cell_type": "code",
   "execution_count": 5,
   "metadata": {
    "ExecuteTime": {
     "end_time": "2022-10-17T08:28:57.102001Z",
     "start_time": "2022-10-17T08:28:57.093542Z"
    }
   },
   "outputs": [
    {
     "name": "stdout",
     "output_type": "stream",
     "text": [
      "It's a secret!\n"
     ]
    }
   ],
   "source": [
    "%run rot13.py \"Vg'f n frperg!\""
   ]
  },
  {
   "cell_type": "code",
   "execution_count": null,
   "metadata": {},
   "outputs": [],
   "source": [
    "# It is same to run the line below in a terminal"
   ]
  },
  {
   "cell_type": "markdown",
   "metadata": {},
   "source": [
    "~/Documents/IC/numerical-programming-in-python/lectures/Lecture05 (main*) » python rot13.py 'Vg f n frperg'"
   ]
  },
  {
   "cell_type": "markdown",
   "metadata": {
    "slideshow": {
     "slide_type": "slide"
    }
   },
   "source": [
    "Let's have another look at the contents.\n",
    "\n",
    "```python\n",
    "#!/usr/bin/env python3\n",
    "\n",
    "import codecs\n",
    "import sys\n",
    "\n",
    "print(codecs.encode(sys.argv[1], 'rot13'))\n",
    "```"
   ]
  },
  {
   "cell_type": "markdown",
   "metadata": {
    "slideshow": {
     "slide_type": "slide"
    }
   },
   "source": [
    "#### Shebangs\n",
    "\n",
    "\"shebang line\", `#!/usr/bin/env python3` tells Linux/MacOSX this script runs with Python 3. On those systems we can also turn the script into an executable file and run it straight off:\n",
    "\n",
    "```bash\n",
    "$ chmod 755 rot13.py\n",
    "$ ./rot13.py \"This works on Linux/Mac systems\"\n",
    "```\n",
    "\n",
    "<div class =\"alert-danger\">\n",
    "\n",
    "<h4>Warning</h4>\n",
    "    \n",
    "Note shebang line refers to Python 3 explicitly as python3. Typical behaviour on computer systems with both Python 3 & Python 2 installed, where `python` will run Python 2. For those on Windows, `python` means Python 3, and the `python3` executable does not exist. \n",
    "\n",
    "</div>"
   ]
  },
  {
   "cell_type": "markdown",
   "metadata": {
    "slideshow": {
     "slide_type": "subslide"
    }
   },
   "source": [
    "The file doesn't *have* to be in ASCII. \n",
    "- Python default is Unicode  (`utf-8`).\n",
    "- Popular international standard.\n",
    "- Access to characters from most world languages.\n",
    "- Can use letter-like symbols in functions and objects. "
   ]
  },
  {
   "cell_type": "code",
   "execution_count": 6,
   "metadata": {
    "ExecuteTime": {
     "end_time": "2022-10-17T08:29:24.338226Z",
     "start_time": "2022-10-17T08:29:24.333070Z"
    },
    "slideshow": {
     "slide_type": "subslide"
    }
   },
   "outputs": [
    {
     "name": "stdout",
     "output_type": "stream",
     "text": [
      "Hello World!\n"
     ]
    }
   ],
   "source": [
    "def 你好(x):\n",
    "    print('Hello', x)\n",
    "\n",
    "你好('World!')"
   ]
  },
  {
   "cell_type": "markdown",
   "metadata": {},
   "source": [
    "Similarly with `utf-8` you can use any Unicode characters you like in comments and strings."
   ]
  },
  {
   "cell_type": "code",
   "execution_count": 7,
   "metadata": {
    "ExecuteTime": {
     "end_time": "2022-10-17T08:29:29.164464Z",
     "start_time": "2022-10-17T08:29:29.156872Z"
    },
    "slideshow": {
     "slide_type": "subslide"
    }
   },
   "outputs": [
    {
     "name": "stdout",
     "output_type": "stream",
     "text": [
      "不好意思, 我不会说中文.\n",
      "😊\n"
     ]
    }
   ],
   "source": [
    "def sorry():\n",
    "    \"\"\"😊\"\"\"\n",
    "    return \"不好意思, 我不会说中文.\"\n",
    "\n",
    "print(sorry())\n",
    "print(sorry.__doc__)"
   ]
  },
  {
   "cell_type": "markdown",
   "metadata": {},
   "source": [
    "Fortunately, you can't actually use emoji in function names, so code like\n",
    "\n",
    "\n",
    "```python\n",
    "def 😊(x):\n",
    "   return \"This doesn't work\"\n",
    "```\n",
    "\n",
    "will raise a `SyntaxError` exception."
   ]
  },
  {
   "cell_type": "markdown",
   "metadata": {
    "slideshow": {
     "slide_type": "slide"
    }
   },
   "source": [
    "### Writing a Python script\n",
    "\n",
    "A python script is a text file, you just need a text editor. We'll use [Visual Studio Code](https://code.visualstudio.com):\n",
    "- cross platform lightweight code editor (maybe an IDE, integrated development environment)\n",
    "- distributed by Microsoft,\n",
    "- makes writing, running and understanding Python scripts easier."
   ]
  },
  {
   "cell_type": "markdown",
   "metadata": {
    "slideshow": {
     "slide_type": "subslide"
    }
   },
   "source": [
    "Some other IDEs/code editors (multilanguage):\n",
    " - [Spyder](https://www.spyder-ide.org/) another IDE which comes bundled with Anaconda Python installations.\n",
    " - [Visual Studio](https://visualstudio.com/) (Mostly Windows) Visual Studio Code's big brother. The package also contains Windows compilers for various languages.\n",
    " - [Eclipse](https://www.eclipse.org) A cross-platforn open source IDE\n",
    "(python only):\n",
    " - [PyCharm](https://www.jetbrains.com/pycharm/) A Python IDE similar to Spyder.\n",
    " - and [many others...](https://en.wikipedia.org/wiki/Comparison_of_integrated_development_environments#Python)\n",
    " "
   ]
  },
  {
   "cell_type": "markdown",
   "metadata": {
    "slideshow": {
     "slide_type": "subslide"
    }
   },
   "source": [
    "Generic text editors with syntax highlighting:\n",
    " - Jupyter - as well as notebooks, it can edit plain text files.\n",
    " - [Emacs](https://www.gnu.org/software/emacs/) (cross platform) Console/Windowed text editor.\n",
    " - [Nano](https://www.nano-editor.org) (cross platform) Console text editor.\n",
    " - [Notepad++](https://notepad-plus-plus.org) (Windows only) GUI text editor\n",
    " - [Vim](https://www.vim.org) (cross platform) Console text editor. \n",
    "\n",
    " \n",
    "Your choice  is personal, use what works for you. Don't be afraid to experiment, or carry on using a favourite."
   ]
  },
  {
   "attachments": {
    "vscode.png": {
     "image/png": "[encoded data removed]"
    }
   },
   "cell_type": "markdown",
   "metadata": {
    "slideshow": {
     "slide_type": "slide"
    }
   },
   "source": [
    "![vscode.png](attachment:vscode.png)\n",
    "Now, over to VS Code."
   ]
  },
  {
   "cell_type": "markdown",
   "metadata": {
    "slideshow": {
     "slide_type": "slide"
    }
   },
   "source": [
    "### Option parsing in Python\n",
    "\n",
    "####  `sys.argv` \n",
    "`sys.argv` is an automatic variable in the `sys` module containing a list of the string arguments given when executing the script, with the first variable (`sys.argv[0]`) being the name of the script itself. So in a call\n",
    "\n",
    "\n",
    "```bash\n",
    "python rot13.py some example text\n",
    "```\n",
    "\n",
    "```python\n",
    "sys.argv[0] == \"rot13.py\"\n",
    "sys.argv[1] == \"some\"\n",
    "sys.argv[2] == \"example\"\n",
    "sys.argv[3] == \"text\"\n",
    "```"
   ]
  },
  {
   "cell_type": "code",
   "execution_count": 23,
   "metadata": {
    "ExecuteTime": {
     "end_time": "2022-10-17T09:22:01.510187Z",
     "start_time": "2022-10-17T09:22:01.502715Z"
    }
   },
   "outputs": [
    {
     "data": {
      "text/plain": [
       "'/opt/homebrew/Caskroom/miniconda/base/envs/npp/lib/python3.9/site-packages/ipykernel_launcher.py'"
      ]
     },
     "execution_count": 23,
     "metadata": {},
     "output_type": "execute_result"
    }
   ],
   "source": [
    "sys.argv[0] # The sys.argv[0] seems to return to the script you are using"
   ]
  },
  {
   "cell_type": "code",
   "execution_count": null,
   "metadata": {},
   "outputs": [],
   "source": [
    "# 1 chabie, sys.argv shi sha, rot 13 shi zen me yun xing de\n",
    "# 2 hua tu tui chu  jiu shi bu xing\n",
    "# 3 wu cha ji xu    control c\n",
    "# 4 yong shen me bian ji   gou dou bu yong ipython\n"
   ]
  },
  {
   "cell_type": "markdown",
   "metadata": {
    "slideshow": {
     "slide_type": "subslide"
    }
   },
   "source": [
    "We can use this to communicate with the script from the command line, so that one file can do many things without needing to edit it. For example, the following script counts the number of uses of the letter 'e' in a file:\n",
    "\n",
    "```python\n",
    "import sys\n",
    "\n",
    "e_count = 0\n",
    "with open(sys.argv[1], 'r') as infile:\n",
    "    for line in infile:\n",
    "        e_count += line.count('e')\n",
    "\n",
    "print(f\"There were {e_count} letter e's\")\n",
    "```"
   ]
  },
  {
   "cell_type": "code",
   "execution_count": 31,
   "metadata": {
    "ExecuteTime": {
     "end_time": "2022-10-17T09:42:53.993625Z",
     "start_time": "2022-10-17T09:42:53.985810Z"
    }
   },
   "outputs": [
    {
     "name": "stdout",
     "output_type": "stream",
     "text": [
      "There were 29 letter e's\n"
     ]
    }
   ],
   "source": [
    "import sys\n",
    "\n",
    "e_count = 0\n",
    "with open(sys.argv[0], 'r') as infile:\n",
    "    for line in infile:\n",
    "        e_count += line.count('e')\n",
    "\n",
    "print(f\"There were {e_count} letter e's\")"
   ]
  },
  {
   "cell_type": "code",
   "execution_count": 32,
   "metadata": {
    "ExecuteTime": {
     "end_time": "2022-10-17T09:43:08.371501Z",
     "start_time": "2022-10-17T09:43:08.366373Z"
    }
   },
   "outputs": [
    {
     "data": {
      "text/plain": [
       "'/opt/homebrew/Caskroom/miniconda/base/envs/npp/lib/python3.9/site-packages/ipykernel_launcher.py'"
      ]
     },
     "execution_count": 32,
     "metadata": {},
     "output_type": "execute_result"
    }
   ],
   "source": [
    "sys.argv[0]"
   ]
  },
  {
   "cell_type": "code",
   "execution_count": null,
   "metadata": {},
   "outputs": [],
   "source": [
    "# Here the e_count must set sys.argv[0], but not 1"
   ]
  },
  {
   "cell_type": "markdown",
   "metadata": {
    "slideshow": {
     "slide_type": "slide"
    }
   },
   "source": [
    "# *Why* to write scripts?\n",
    "\n",
    "Some key philosophies in coding:\n",
    "\n",
    "- DRY: Don't Repeat Yourself (avoid needless code duplication)\n",
    "- KISS: Keep It Simple/Stupid, \n",
    "- YAGNI: You Ain't Gonna Need It - write useful code\n",
    "\n",
    "Sometimes these compete."
   ]
  },
  {
   "cell_type": "markdown",
   "metadata": {
    "slideshow": {
     "slide_type": "subslide"
    }
   },
   "source": [
    "- A good script lets you reuse your code to do one thing (or one sort of thing) with fewer bugs (less code less bugs).\n",
    "- Simplest type of code reuse after copy-pasting (which often ends badly).\n",
    "- Don't need to write extra code you don't need (<span style=\"color:blue\">typical script has a maximum of one class and possibly a few functions).</span>."
   ]
  },
  {
   "cell_type": "markdown",
   "metadata": {
    "slideshow": {
     "slide_type": "slide"
    }
   },
   "source": [
    "#### `argparse` and options parsing\n",
    "\n",
    "For more complicated options: the [`argparse` module](https://docs.python.org/3.6/library/argparse.html#module-argparse), in the standard python library. This module gives python scripts the (relatively) simple ability to take flags and process (or parse) other complicated inputs."
   ]
  },
  {
   "cell_type": "markdown",
   "metadata": {
    "slideshow": {
     "slide_type": "slide"
    }
   },
   "source": [
    "<div class=alert-info>\n",
    "    \n",
    "<h4>Exercise Two: Find the mean</h4>\n",
    "\n",
    "<p>Write a script to calculate the mean of a sequence of numbers. Make it take extra options (using the `argparse` module) <code>-b</code>, <code>-o</code> and <code>-x</code> to work with with binary (i.e. base 2, with <code>101 == 5</code> decimal), octal (i.e. base 8, with <code>31 == 25</code> decimal)  and hexadecimal (i.e. base 16 <code>2A == 42</code> decimal) numbers.</p>\n",
    "</div>"
   ]
  },
  {
   "cell_type": "markdown",
   "metadata": {
    "slideshow": {
     "slide_type": "slide"
    }
   },
   "source": [
    "### A reminder on using `matplotlib` in scripts\n",
    "\n",
    "In scripts run in the terminal/prompt, rather than in a notebook, `matplotlib` may not automatically put them on screen. You need to use the `matplotlib.show()` or the `pyplot.show()` command to see them.\n",
    "\n",
    "You can use commands like `matplotlib.savefig('mycoolplot.png')` to write images to disk without human interaction."
   ]
  },
  {
   "cell_type": "markdown",
   "metadata": {
    "slideshow": {
     "slide_type": "subslide"
    }
   },
   "source": [
    "<div class=\"alert-info\">\n",
    "\n",
    "<h4>Exercise Three: Plots in scripts</h4>\n",
    "\n",
    "- Write a script to plot some math functions </p>\n",
    "\n",
    "- Change the script to write to disk </p>\n",
    "\n",
    "</div>"
   ]
  },
  {
   "cell_type": "markdown",
   "metadata": {
    "slideshow": {
     "slide_type": "slide"
    }
   },
   "source": [
    "## PEP8 - The Python style guide\n",
    "\n",
    "Non-ACSII function names & comments are allowed, but Python style guide suggests avoiding them in the standard library. This [style guide](https://www.python.org/dev/peps/pep-0008/), is known as PEP8.\n",
    "\n",
    "[Python Enhancement Proposals](https://www.python.org/dev/peps/) (PEPs) are mechanism through which Python expands & improves. Suggestions discussed & debated, before being implemented/rejected. PEP8 describes suggestions for good Python code.\n",
    "Guido van Rossum (Python creator) noted that most code is read more often than it is written. \n",
    "\n",
    "Single most important aspect of code is readability."
   ]
  },
  {
   "cell_type": "markdown",
   "metadata": {
    "slideshow": {
     "slide_type": "subslide"
    }
   },
   "source": [
    "Note PEP8 doesn't cover every decision. There are more detailed guides:\n",
    "- at the project level,\n",
    "- for entire organizations. \n",
    "For example of the former, see `numpy`. For an example of the later, see the [Google Python Style Guide](https://github.com/google/styleguide/blob/gh-pages/pyguide.md).\n",
    "\n",
    "In your own projects, you're the boss, but PEP8 is a useful minimum (and **will gain/lose you marks during many assessed exercises in this course**). \n",
    "\n",
    "It's useful to consider the choices other projects make."
   ]
  },
  {
   "cell_type": "markdown",
   "metadata": {},
   "source": [
    "# <span style=\"color:blue\"> USE THESE </span>."
   ]
  },
  {
   "cell_type": "markdown",
   "metadata": {
    "slideshow": {
     "slide_type": "subslide"
    }
   },
   "source": [
    "Many tools to perform code linting with python:\n",
    "- lightweight `pycodestyle` package, which just checks PEP8.\n",
    "- `pylint` also performs [static code analysis]  (if using vs code)\n",
    "(https://en.wikipedia.org/wiki/Static_program_analysis).\n",
    "- `pyflakes` / `flake8`\n",
    "\n",
    "They examine your code, without actually running it, looking for bad [\"code smells\"](https://en.wikipedia.org/wiki/Code_smell)/syntax."
   ]
  },
  {
   "cell_type": "markdown",
   "metadata": {
    "slideshow": {
     "slide_type": "subslide"
    }
   },
   "source": [
    "An extension to run the `pylint` tool is offered as [optional](https://code.visualstudio.com/docs/python/linting) when using VS Code to edit Python code.  \n",
    "\n",
    "Can also select to [use automatic](https://code.visualstudio.com/docs/python/editing#_formatting) `pep8` corrections as you type, and/or run a full `pep8` check each time a document is saved. Both very useful to catch mistakes as you type them."
   ]
  },
  {
   "cell_type": "markdown",
   "metadata": {
    "slideshow": {
     "slide_type": "subslide"
    }
   },
   "source": [
    "### Other hints for writing good Python scripts:\n",
    "\n",
    " - Explicit is better than implicit.\n",
    " - Don't duplicate code, use functions.\n",
    " - Keep things small enough to read in one go.\n",
    " - Keep variable names meaningful.\n",
    " - <span style=\"color:red\"> Simple is often better than clever. </span>\n",
    " - Practise the principle of least astonishment.\n",
    " - Add comments exactly when they add meaning."
   ]
  },
  {
   "cell_type": "markdown",
   "metadata": {
    "slideshow": {
     "slide_type": "subslide"
    }
   },
   "source": [
    "For further discussion, see resources like:\n",
    "- [Google's Python Style Guide](https://google.github.io/styleguide/pyguide.html),\n",
    "- the [Hitchhiker's Guide to Python](https://docs.python-guide.org/writing/style/) \n",
    "- style guides for large open source python projects such as [Django](https://docs.djangoproject.com/en/dev/internals/contributing/writing-code/coding-style/)"
   ]
  },
  {
   "cell_type": "markdown",
   "metadata": {
    "slideshow": {
     "slide_type": "slide"
    }
   },
   "source": [
    "<div class=alert-info>\n",
    "\n",
    "<h4> Exercise Four: Fix the script</h4>\n",
    "\n",
    "Take a given script and fix it to meet the `pep8` standard.\n",
    "\n",
    "</div>"
   ]
  },
  {
   "cell_type": "markdown",
   "metadata": {
    "slideshow": {
     "slide_type": "slide"
    }
   },
   "source": [
    "## Python Modules\n",
    "\n",
    "- Python modules files contain code you `import` into your scripts and programs. \n",
    "- External file from which you are using (or _reusing_) content. \n",
    "- In other languages, might be called a library file. \n",
    "- A pure Python module file is just like a script, except it expects to be `import`-ed.\n",
    "- No default output, maybe lots of related functions and classes."
   ]
  },
  {
   "cell_type": "markdown",
   "metadata": {
    "slideshow": {
     "slide_type": "subslide"
    }
   },
   "source": [
    "The  code for a (very short) module, `code_mod.py`:\n",
    "\n",
    "```python\n",
    "\"\"\"Wrapper for rot13 encoding.\"\"\" \n",
    "\n",
    "import codecs\n",
    "\n",
    "def rot13(input):\n",
    "    \"\"\"Return the rot13 encoding of an input string.\"\"\"\n",
    "    return codecs.encode(str(input), 'rot13')\n",
    "```"
   ]
  },
  {
   "cell_type": "code",
   "execution_count": null,
   "metadata": {},
   "outputs": [],
   "source": [
    "import code_mod\n",
    "code_mod.rot13(\"Uryyb rirelobql!\")"
   ]
  },
  {
   "cell_type": "markdown",
   "metadata": {
    "slideshow": {
     "slide_type": "slide"
    }
   },
   "source": [
    "# _Why_ write modules?\n",
    "\n",
    "- Often different scripts/programs want to do the same thing.\n",
    "- Avoid needless code duplication\n",
    "- Simpler to update\n",
    "- Simpler to test"
   ]
  },
  {
   "cell_type": "markdown",
   "metadata": {
    "slideshow": {
     "slide_type": "slide"
    }
   },
   "source": [
    "### The `import` command\n",
    "\n",
    "#### The `import` search path\n",
    "\n",
    "After looking in the current directory, Python uses the other directories inside the `sys.path` variable, in order, when asked to find files via an import command."
   ]
  },
  {
   "cell_type": "code",
   "execution_count": null,
   "metadata": {},
   "outputs": [],
   "source": [
    "# Show the path for the imported module"
   ]
  },
  {
   "cell_type": "code",
   "execution_count": 36,
   "metadata": {
    "ExecuteTime": {
     "end_time": "2022-10-17T10:26:54.107484Z",
     "start_time": "2022-10-17T10:26:54.102023Z"
    }
   },
   "outputs": [
    {
     "name": "stdout",
     "output_type": "stream",
     "text": [
      "['/Users/sm1122/Documents/IC/sync/syncNPiP/lectures/Lecture05', '/opt/homebrew/Caskroom/miniconda/base/envs/npp/lib/python39.zip', '/opt/homebrew/Caskroom/miniconda/base/envs/npp/lib/python3.9', '/opt/homebrew/Caskroom/miniconda/base/envs/npp/lib/python3.9/lib-dynload', '', '/opt/homebrew/Caskroom/miniconda/base/envs/npp/lib/python3.9/site-packages']\n"
     ]
    }
   ],
   "source": [
    "import sys\n",
    "\n",
    "print(sys.path)"
   ]
  },
  {
   "cell_type": "markdown",
   "metadata": {},
   "source": [
    "This variable can be changed inside a Python script itself, or can be influenced when the Python session starts via the `PYTHONPATH` environment variable."
   ]
  },
  {
   "cell_type": "markdown",
   "metadata": {
    "slideshow": {
     "slide_type": "subslide"
    }
   },
   "source": [
    "#### The `importlib.reload` and `%reset` commands.\n",
    "\n",
    "The python command `reload` in the `importlib` module tells the interpreter to update its record of the contents of an indivual module. This can be useful during an interactive interpreter session if you update a code in a module or package, whether automatically, or by editting the file by hand.\n",
    "\n",
    "The IPython/Jupyter magic command `%reset` clears elements of the interpreter history and resets things back to their original blank state."
   ]
  },
  {
   "cell_type": "code",
   "execution_count": null,
   "metadata": {
    "slideshow": {
     "slide_type": "subslide"
    }
   },
   "outputs": [],
   "source": [
    "x = 7\n",
    "print(x)"
   ]
  },
  {
   "cell_type": "code",
   "execution_count": null,
   "metadata": {},
   "outputs": [],
   "source": [
    "# by itself, %reset asks the user for confirmation.\n",
    "# %reset -f forces it to proceed.\n",
    "%reset -f\n",
    "try:\n",
    "    print(x)\n",
    "except NameError as e:\n",
    "    print(e)"
   ]
  },
  {
   "cell_type": "markdown",
   "metadata": {
    "slideshow": {
     "slide_type": "subslide"
    }
   },
   "source": [
    "## Python docstrings for scripts, modules, and packages.\n",
    "\n",
    "As you were told in the introduction to Python course, the text between the `\"\"\"` blocks is called a docstring. It should appear at the top of scripts and module files, (or just below the shebang line, if one is needed) and as the first text lines inside `classes` or function `def` blocks. Python uses it to generate help information if asked. This information is stored in the object `__doc__` attribute."
   ]
  },
  {
   "cell_type": "code",
   "execution_count": 40,
   "metadata": {
    "ExecuteTime": {
     "end_time": "2022-10-17T10:35:06.326281Z",
     "start_time": "2022-10-17T10:35:06.319079Z"
    }
   },
   "outputs": [],
   "source": [
    "import code_mod\n",
    "\n",
    "# Use a ? after to show the __doc__\n",
    "code_mod.rot13?"
   ]
  },
  {
   "cell_type": "markdown",
   "metadata": {
    "slideshow": {
     "slide_type": "subslide"
    }
   },
   "source": [
    "There is actually a PEP, [PEP257](https://www.python.org/dev/peps/pep-0257/) describing a good docstring. It suggests:\n",
    " - One line docstrings should be a full sentence describing the effect\n",
    "   ```python\n",
    "   def mod5(a):\n",
    "       \"\"\"Return the value of a number modulus 5.\"\"\"\n",
    "       return a%5\n",
    "    ```\n",
    " - Multiline docstings should start with a one line summary.\n",
    " - The docstring of a pure script should be a \"usage\" message.\n",
    " - The docstring for a module should list the classes and functions (and any other objects) exported by the module, with a one-line summary of each."
   ]
  },
  {
   "cell_type": "markdown",
   "metadata": {
    "slideshow": {
     "slide_type": "slide"
    }
   },
   "source": [
    " \n",
    "#### The `numpydoc` standard\n",
    "\n",
    "`numpy` has its own [standards](https://numpydoc.readthedocs.io/en/latest/), well suited to numerical code, especially `numpy`-based code. You have already seen examples of `numpydoc`, but lets give another.\n"
   ]
  },
  {
   "cell_type": "code",
   "execution_count": 38,
   "metadata": {
    "ExecuteTime": {
     "end_time": "2022-10-17T10:35:00.085442Z",
     "start_time": "2022-10-17T10:34:59.790859Z"
    }
   },
   "outputs": [],
   "source": [
    "%matplotlib inline\n",
    "\n",
    "import copy\n",
    "import numpy as np\n",
    "import matplotlib.cm as cm\n",
    "import matplotlib.pyplot as pyplot"
   ]
  },
  {
   "cell_type": "code",
   "execution_count": 39,
   "metadata": {
    "ExecuteTime": {
     "end_time": "2022-10-17T10:35:02.831385Z",
     "start_time": "2022-10-17T10:35:02.410327Z"
    },
    "slideshow": {
     "slide_type": "subslide"
    }
   },
   "outputs": [
    {
     "data": {
      "text/plain": [
       "Text(0, 0.5, '$y$')"
      ]
     },
     "execution_count": 39,
     "metadata": {},
     "output_type": "execute_result"
    },
    {
     "data": {
      "image/png": "[encoded data removed]",
      "text/plain": [
       "<Figure size 640x480 with 1 Axes>"
      ]
     },
     "metadata": {},
     "output_type": "display_data"
    }
   ],
   "source": [
    "def mandelbrot(c, a=2.0, n=20):\n",
    "    \"\"\"\n",
    "    Approximate the local Mandelbrot period of a point. \n",
    "    \n",
    "    Parameters\n",
    "    ----------\n",
    "    \n",
    "    c : complex\n",
    "        Point in the complex plane\n",
    "    a : float\n",
    "        A positive bounding length on the horizon of the point z_n\n",
    "    n : int\n",
    "        Maximum number of iterations .\n",
    "    \n",
    "    Returns\n",
    "    -------\n",
    "    \n",
    "    int\n",
    "        i such that |z_i|>a if i < n, NaN otherwise.\n",
    "    \n",
    "    \"\"\"\n",
    "    \n",
    "    z = c\n",
    "    for _ in range(n):\n",
    "        if abs(z)>a:\n",
    "            return _\n",
    "        z = z**2 + c\n",
    "    return np.nan\n",
    "\n",
    "dx = np.linspace(-2, 1, 300)\n",
    "dy = np.linspace(-1.5, 1.5, 300)\n",
    "x, y= np.meshgrid(dx, dy)\n",
    "z = np.empty(x.shape)\n",
    "\n",
    "for i in range(len(dx)):\n",
    "    for j in range(len(dy)):\n",
    "        z[i, j] = mandelbrot(x[i, j]+1j*y[i, j],100)\n",
    "    \n",
    "cmap = copy.copy(cm.get_cmap(\"viridis\"))\n",
    "cmap.set_bad('black')\n",
    "pyplot.set_cmap(cmap)\n",
    "pyplot.pcolormesh(x, y, z, shading='auto')\n",
    "pyplot.xlabel('$x$')\n",
    "pyplot.ylabel('$y$')"
   ]
  },
  {
   "cell_type": "markdown",
   "metadata": {
    "slideshow": {
     "slide_type": "subslide"
    }
   },
   "source": [
    "`Parameters` & `Results` prescribe (weakly) data types (`int`, `float`, `complex`, `str` etc.) of the inputs and outputs. This uses the syntax of a text markup language called reStructured text."
   ]
  },
  {
   "cell_type": "markdown",
   "metadata": {
    "slideshow": {
     "slide_type": "slide"
    }
   },
   "source": [
    "<div class=\"alert-info\">\n",
    "    \n",
    "<h4> Exercise Five: Complex square root</h4>\n",
    "\n",
    "Write a function which accepts a real number and returns the complex square roots of that number.\n",
    "\n",
    "Your function should include a docstring conforming to the `numpydoc` standard.</p>\n",
    "\n",
    "</div>"
   ]
  },
  {
   "cell_type": "markdown",
   "metadata": {
    "slideshow": {
     "slide_type": "slide"
    }
   },
   "source": [
    "####  Code Quality\n",
    "\n",
    "Code quality is a balance between 3 things:\n",
    "<ul><li> Maintainability: easy & understandable.</li>\n",
    "    <li> Performance: fast & secure.</li> (do not waste time on this if not repeatly run this)\n",
    "<li> Resources: size of the machine & developer time</li></ul>\n",
    "\n",
    "Frequently a case of \"pick two\". Compromises are necessary. Important they're recognised &  appropriate. "
   ]
  },
  {
   "cell_type": "markdown",
   "metadata": {
    "slideshow": {
     "slide_type": "subslide"
    }
   },
   "source": [
    "<blockquote><emph> Programmers waste enormous amounts of time thinking about, or worrying about, the speed of noncritical parts of their programs, and these attempts at efficiency actually have a strong negative impact when debugging and maintenance are considered. We should forget about small efficiencies, say about 97% of the time: premature optimization is the root of all evil. Yet we should not pass up our opportunities in that critical 3%.</emph></blockquote>\n",
    "\n",
    "就是说，主要矛盾的主要方面要优化，其他的不要管\n",
    "\n",
    "[Donald Knuth](https://en.wikipedia.org/wiki/Donald_Knuth)\n",
    "\n",
    "If code is going to be read a 2nd time, you can't make it disposable.\n",
    "- Functions need docstrings\n",
    "- Variable names must be meaningful"
   ]
  },
  {
   "cell_type": "markdown",
   "metadata": {
    "slideshow": {
     "slide_type": "slide"
    }
   },
   "source": [
    "### <span style=\"color:blue\">Combined files (both script and module)\n",
    "</span>.\n",
    "A file can be both a script and a module providing you use a special `if` test to check how it is being used (to avoid being _antisocial_, and doing all the calculating and printing your script is set up to do):"
   ]
  },
  {
   "cell_type": "markdown",
   "metadata": {
    "slideshow": {
     "slide_type": "subslide"
    }
   },
   "source": [
    "`rot13m.py`:\n",
    "\n",
    "```python\n",
    "import codecs\n",
    "\n",
    "# module definitions\n",
    "\n",
    "def rot13(input):\n",
    "    \"\"\"Return the rot13 encoding of an input\"\"\"\n",
    "    return codes.encode(str(input), 'rot13')\n",
    "    \n",
    "if __name__ == \"__main__\":\n",
    "    # Code in this block runs only as a script,\n",
    "    # not as an import\n",
    "    import sys\n",
    "    print(rot13(sys.argv[1]))\n",
    "```"
   ]
  },
  {
   "cell_type": "markdown",
   "metadata": {
    "slideshow": {
     "slide_type": "subslide"
    }
   },
   "source": [
    "Although it started as something of a hack, the `if __name__ == \"__main__\"` idiom is now accepted as fully Pythonic, and is something you will see often in modules which also have sensible script like behaviour."
   ]
  },
  {
   "cell_type": "markdown",
   "metadata": {
    "slideshow": {
     "slide_type": "subslide"
    }
   },
   "source": [
    "<div class=\"alert-info\">\n",
    "\n",
    "<h4> Exercise Six: A primes module</h4>\n",
    "\n",
    "Make a copy of your script to calculate prime numbers and turn it into a useful module\n",
    "    \n",
    "```bash\n",
    "python -m rot13m \"this runs a python module as a script\"\n",
    "python rot13m.py \"so does this\"\n",
    "```\n",
    "    \n",
    "</div>\n"
   ]
  },
  {
   "cell_type": "markdown",
   "metadata": {
    "slideshow": {
     "slide_type": "slide"
    }
   },
   "source": [
    "## Python Packages\n",
    "\n",
    "### An example package\n",
    "\n",
    "Python packages bundle multiple modules into one place, to make installing and uninstalling them easier and to simplify usage. A simple python package just consists of python files inside a directory tree."
   ]
  },
  {
   "cell_type": "code",
   "execution_count": null,
   "metadata": {},
   "outputs": [],
   "source": [
    "# Why like this? why extras?"
   ]
  },
  {
   "cell_type": "markdown",
   "metadata": {
    "slideshow": {
     "slide_type": "slide"
    }
   },
   "source": [
    "A typical template for a fairly basic python package called `mycoolproject` might look like:\n",
    "\n",
    "```bash\n",
    "mycoolproject\n",
    " ├── __init__.py\n",
    " ├── cool_module.py\n",
    " ├── another_cool_module.py\n",
    " └── extras\n",
    "      ├── __init__.py\n",
    "      ├── __main__.py\n",
    "      └── extra_stuff.py\n",
    "requirements.txt\n",
    "setup.py\n",
    "LICENSE\n",
    "README.md\n",
    "```"
   ]
  },
  {
   "cell_type": "markdown",
   "metadata": {
    "slideshow": {
     "slide_type": "subslide"
    }
   },
   "source": [
    "- `__init__.py` file is slightly special (common in Python with double underscore - dunder - names).\n",
    "- Read when you run `import mycoolproject` (i.e. name of the directory).\n",
    "- Other files can be imported by themselves as `mycoolproject.cool_module`, `mycoolproject.another_cool_module`, etc.\n",
    "- `__main__.py` file is module version of `if __name__=='__main__':`, activated if the package is run like `python -m mycoolpackage`"
   ]
  },
  {
   "cell_type": "markdown",
   "metadata": {
    "slideshow": {
     "slide_type": "subslide"
    }
   },
   "source": [
    "In a typical package the `__init__.py` file mostly consists of `import` commands to load functions and classes from other modules into the main [namespace](https://en.wikipedia.org/wiki/Namespace). May define a few special variables for itself.\n",
    "\n",
    "*mycoolproject/\\_\\_init.py\\_\\_*:\n",
    "```python\n",
    "from .cool_module import my_cool_function, my_cool_class\n",
    "from .another_cool_module.py import *\n",
    "\n",
    "```"
   ]
  },
  {
   "cell_type": "markdown",
   "metadata": {
    "slideshow": {
     "slide_type": "subslide"
    }
   },
   "source": [
    "When `import`ing modules, remember that levels of directories are separated using the `.` symbol, so\n",
    "\n",
    "```python\n",
    "from mycoolproject.cool_module.extras.extra_stuff import super_cool_function\n",
    "```"
   ]
  },
  {
   "cell_type": "markdown",
   "metadata": {
    "slideshow": {
     "slide_type": "slide"
    }
   },
   "source": [
    "<div class=\"alert-info\">\n",
    "\n",
    "<h4> Exercise Seven: A primes package</h4>\n",
    "\n",
    "Turn your \"find the primes\" module file into a package.\n",
    "\n",
    "</div>"
   ]
  },
  {
   "cell_type": "markdown",
   "metadata": {
    "slideshow": {
     "slide_type": "slide"
    }
   },
   "source": [
    "<div class=alert-warning>\n",
    "    \n",
    "#### Information\n",
    "    \n",
    "You can also use '.' for _relative_ `import` statements in modules, like in theshell. So, in the example above the file `/mycoolproject/extras/__init__.py` can write:\n",
    "```python\n",
    "# one . for the current directory\n",
    "from  . import extra_stuff\n",
    "## two ..s for its parent\n",
    "from .. `import another_cool_module\n",
    "## this also works\n",
    "from ..coolmodule import foo\n",
    "```\n",
    "</div>"
   ]
  },
  {
   "cell_type": "markdown",
   "metadata": {
    "slideshow": {
     "slide_type": "slide"
    }
   },
   "source": [
    "## Installation and distribution\n",
    "\n",
    "\n",
    "- `setup.py` is a standard name for an install script for Python packages.\n",
    "- Module in Python standard library `distutils`, to automate this.\n",
    "- We'll use enhanced version called `setuptools`, compatible with `pip`. "
   ]
  },
  {
   "cell_type": "markdown",
   "metadata": {
    "slideshow": {
     "slide_type": "subslide"
    }
   },
   "source": [
    "## _setup.py_\n",
    "```python\n",
    "from setuptools import setup\n",
    "\n",
    "setup(\n",
    "    name='mycoolproject',  # Name of package, required\n",
    "    version='1.0.0',  # Version number, required\n",
    "    packages=['mycoolproject'],  # directories to install, required\n",
    "    # One-line description or tagline of what your project does\n",
    "    description='A sample implementation of quaternions.',  # Optional\n",
    "    url='https://www.mycoolproject.com',  # Optional\n",
    "    author='ACSE Students',  # Optional\n",
    "    author_email='acse.students@imperial.ac.uk',  # Optional\n",
    ")\n",
    "```"
   ]
  },
  {
   "cell_type": "markdown",
   "metadata": {
    "slideshow": {
     "slide_type": "subslide"
    }
   },
   "source": [
    "Script can be called in several modes. For pure Python\n",
    "```bash\n",
    "python setup.py install\n",
    "```\n",
    "\n",
    "or\n",
    "\n",
    "```bash\n",
    "python setup.py install --user\n",
    "```\n",
    "\n",
    "both copy the files in the package into a directory in the standard search path. First installs for everybody on machine (might need admin rights), second installs just for the current user."
   ]
  },
  {
   "cell_type": "markdown",
   "metadata": {
    "slideshow": {
     "slide_type": "slide"
    }
   },
   "source": [
    "### Version Numbers\n",
    "\n",
    "The `version` in `setup.py` lets you set a version number.\n",
    "- Many [formats](https://en.wikipedia.org/wiki/Software_versioning). \n",
    "  - simple (eg. build 1, build 2, build 3 ...) \n",
    "  = to complicated (eg. linux 4.15.0-36-generic),\n",
    "  - to unusual (eg. [TeX](https://en.wikipedia.org/wiki/TeX) 3.14159265,).\n",
    "There's even a PEP about it ([PEP440](https://www.python.org/dev/peps/pep-0440/)). "
   ]
  },
  {
   "cell_type": "markdown",
   "metadata": {
    "slideshow": {
     "slide_type": "subslide"
    }
   },
   "source": [
    "Good choice is \"[semantic versioning](https://semver.org/spec/v2.0.0.html)\".\n",
    "- Ordered set of three integers, separated by dots\n",
    "- e.g. `0.2.3` or `13.4.2`. \n",
    "- (major version).(minor version).(patch version).\n",
    "\n",
    "Major version increment implies big changes in code, likely incompatiblities. Minor increment means small changes which _might_ cause problems. Patch version implies bug fixes. Common to \"backport\"."
   ]
  },
  {
   "cell_type": "markdown",
   "metadata": {
    "slideshow": {
     "slide_type": "slide"
    }
   },
   "source": [
    "### `pip` and `conda` package managers\n",
    "\n",
    "It's easier to use a tool, called a \"package manager\", to control installation. Allows for easier installs, uninstalls, and to \"sandbox\" specific software.\n",
    "\n",
    "Anaconda comes with two inbuilt package managers, `conda`, specially written for Anaconda itself and `pip`, which is more widely available on non-Anaconda installs. Since `conda` understands (a bit) about `pip`, we'll describe that here."
   ]
  },
  {
   "cell_type": "markdown",
   "metadata": {
    "slideshow": {
     "slide_type": "slide"
    }
   },
   "source": [
    "#### Dependencies\n",
    "\n",
    "An Python package typically has its own dependecies (i.e. packages which it `import`s). A common way to documents these is a `requirements.txt` file containing a [list of package names](https://pip.pypa.io/en/latest/user_guide/#requirements-files) plus a version number.\n",
    "\n",
    "_requirements.txt_\n",
    "```txt\n",
    "jupyter\n",
    "numpy >= 13.1.0\n",
    "scipy == 1.0.0\n",
    "mpltools\n",
    "```\n",
    "\n",
    "Just the name means any version, `>=` demands \"greater than or equal to\" (where eg. 2.0.0 > 1.9.1 and 1.2.0 > 1.1.9), `==` demands a specific version."
   ]
  },
  {
   "cell_type": "markdown",
   "metadata": {
    "slideshow": {
     "slide_type": "slide"
    }
   },
   "source": [
    "Packages listed in the `requirements.txt` file can be `pip` installed in one go, via the command:\n",
    "\n",
    "```bash\n",
    "pip install -r requirements.txt\n",
    "```\n",
    "\n",
    "`conda` accepts similar files in a `.yml`/`.yaml` format (short for \"[yet another markup language](https://en.wikipedia.org/wiki/YAML)\", or \"YAML ain't markup language\"). YAML is mostly used for configuration, where data elements mostly consist of named strings and lists."
   ]
  },
  {
   "cell_type": "markdown",
   "metadata": {
    "slideshow": {
     "slide_type": "slide"
    }
   },
   "source": [
    "A `conda` `environment.yml` file looks like\n",
    "\n",
    "_environment.yml_\n",
    "```yaml\n",
    "name: acse\n",
    "dependencies:\n",
    " - jupyter\n",
    " - numpy\n",
    " - scipy\n",
    " - pip:\n",
    "   - mpltools\n",
    "```\n",
    "\n",
    "The `pip` subsection deals with packages where there isn't a full `conda` package."
   ]
  },
  {
   "cell_type": "markdown",
   "metadata": {
    "slideshow": {
     "slide_type": "slide"
    }
   },
   "source": [
    "As another route, you can also [include your dependencies](https://python-packaging.readthedocs.io/en/latest/dependencies.html) in your 'setup.py' file using the `install_requires` keyword in your `setup` function. "
   ]
  },
  {
   "cell_type": "markdown",
   "metadata": {
    "slideshow": {
     "slide_type": "slide"
    }
   },
   "source": [
    "<div class=\"alert-info\">\n",
    "\n",
    "<h4> Exercise Eight:</h4>\n",
    "\n",
    "Make a `setup.py` script for your package\n",
    "    \n",
    "</div>\n",
    "    "
   ]
  },
  {
   "cell_type": "markdown",
   "metadata": {
    "slideshow": {
     "slide_type": "slide"
    }
   },
   "source": [
    "### PyPI, the Python Package Index\n",
    "\n",
    "If you don't pass a`setup.py`, `pip` scans [PyPI](https://pypi.org), the Python Package Index. This is a very large repository of python software. A good place to check before naming your projects. It also has a [useful tutorial](https://packaging.python.org/tutorials/packaging-projects/) on the packaging process, & points to <https://choosealicense.com/> as a resource for picking licenses. \n",
    "\n",
    "Now you know everything you need to be a python package developer. Just add time & creativity."
   ]
  },
  {
   "cell_type": "markdown",
   "metadata": {
    "slideshow": {
     "slide_type": "slide"
    }
   },
   "source": [
    "### Software Licensing\n",
    "\n",
    "Here's a brief work on software licencing and copyright.\n",
    "\n",
    "<div class=alert-danger>\n",
    "    \n",
    "<h4> Warning</h4>\n",
    "\n",
    "I am not your lawyer. Lawyers spend a lot of money on insurance, I don't. Don't plan on using these notes as a defence in court.\n",
    "</div>"
   ]
  },
  {
   "cell_type": "markdown",
   "metadata": {
    "slideshow": {
     "slide_type": "subslide"
    }
   },
   "source": [
    "#### Licences grant permissions\n",
    "\n",
    "Copyright holders you can grant others the ability to use, copy and distribute their work. The easiest away to do this is to publish a _licence_ together with your code. As a user & developer, ensuring that software you use has a licence with terms compatible with what you intend to do with it prevents long, costly and embarrassing legal action further down the line. Best advice, tore a licence file in any repository people can see and copy from, and possibly even add it to the header of your source code."
   ]
  },
  {
   "cell_type": "markdown",
   "metadata": {
    "slideshow": {
     "slide_type": "subslide"
    }
   },
   "source": [
    "For computer software (a \"literary work\"), UK copyright laws allow creators to control the acts of:\n",
    "- copying, \n",
    "- adapting,\n",
    "- issuing (i.e distributing),\n",
    "- renting and lending"
   ]
  },
  {
   "cell_type": "markdown",
   "metadata": {
    "slideshow": {
     "slide_type": "-"
    }
   },
   "source": [
    "Could write your own licence, but not safe against lawyers. It is better to use one of the well known and well understood existing copyright licences. If in doubt, the MIT License is popular and well understood."
   ]
  },
  {
   "cell_type": "markdown",
   "metadata": {
    "slideshow": {
     "slide_type": "subslide"
    }
   },
   "source": [
    "<div class=alert-warning>\n",
    "    \n",
    "#### Copyright periods\n",
    "\n",
    "| country | UK  | EU  | USA | China | India |\n",
    "|---      | --- | --- | --- | ---   | ---   |\n",
    "| copyright period | life+70 | life+70 |  life+70 | life+50 | life+60 |\n",
    "\n",
    "There are some exceptions to these time periods.\n",
    "    \n",
    "</div>"
   ]
  },
  {
   "cell_type": "markdown",
   "metadata": {
    "slideshow": {
     "slide_type": "subslide"
    }
   },
   "source": [
    "<div class=alert-warning>\n",
    "    <h4>Copyright is automatic</h4>\n",
    "Various methods exist to register the date when works were created. Generally no real need to do much (e.g. pushing to Github puts a public date to your work). Your rights exist automatically from the moment of creation , and continue to exist unless you explicitly give them up, or time expires. In some jurisdictions authors are unable to opt out of their moral rights over their work.\n",
    "\n",
    "</div>"
   ]
  },
  {
   "cell_type": "markdown",
   "metadata": {
    "slideshow": {
     "slide_type": "slide"
    }
   },
   "source": [
    "\n",
    "- Since you aren't paid by Universities, students in the UK (even Ph.D students) aren't employees and own their copyrights.\n",
    "- Work done by staff officially belongs to the University.\n",
    "\n",
    "When working & writing your own code in you free time, separate the two activities. There are legal cases when people use work-owned resources (e.g. computers) or even [worked on the same topic](https://www.michalsons.com/blog/employer-v-employee-who-owns-that-copyright/1403) while developing their own code.\n"
   ]
  },
  {
   "cell_type": "markdown",
   "metadata": {
    "slideshow": {
     "slide_type": "slide"
    }
   },
   "source": [
    "#### Free/Libre Open Source Software (FLOSS)\n",
    "\n",
    "English word \"free\" in English has  meanings\n",
    "1. Without cost : \"Buy one, get one free!\"\n",
    "2. Unrestrained : \"They set the prisoners free.\"\n",
    "\n",
    "The free software movement is aimed at encouraging software to be distributed under terms matching the second meaning. "
   ]
  },
  {
   "cell_type": "markdown",
   "metadata": {
    "slideshow": {
     "slide_type": "subslide"
    }
   },
   "source": [
    "##### Stallman's four freedoms:\n",
    "\n",
    "- _Freedom 0_ The freedom to run the program, for any purpose.\n",
    "- _Freedom 1_ The freedom to study how the program works, and change it so it does your computing as you wish. (Access to the source code is a precondition for this.)\n",
    "- _Freedom 2_ The freedom to redistribute copies so you can help your neighbor.\n",
    "- _Freedom 3_ The freedom to distribute copies of your modiﬁed versions to others. By doing this you can give the whole community a chance to beneﬁt from your changes. (Access to the source code is a precondition for this.)"
   ]
  },
  {
   "cell_type": "markdown",
   "metadata": {
    "slideshow": {
     "slide_type": "subslide"
    }
   },
   "source": [
    "#### The public domain\n",
    "\n",
    "The \"most free\" option to release work into the public domain. This \"gives up\" your copyright.\n",
    "\n",
    "Since some legal systems (particularly in the EU) can make it practically impossible for authors to give up their \"moral rights\"."
   ]
  },
  {
   "cell_type": "markdown",
   "metadata": {
    "slideshow": {
     "slide_type": "subslide"
    }
   },
   "source": [
    "#### Permissive licences versus \"copyleft\"\n",
    "\n",
    "Many licences, while retaining copyright, otherwise give users unrestricted rights to copy, modify & distribute code. In particular, they allow code to be used as part of greater works released under more restrictive licences. These are often called \"permissive\" licences.\n",
    "\n",
    "Other licences (e.g. the [GNU General Public License](https://www.gnu.org/licenses/quick-guide-gplv3.html) intend to ensure that once software is released as \"free software, it stays as \"free software\". They place restrictions on the immediate recipient of the work, to ensure that people later down the chain retain their version of the four freedoms."
   ]
  },
  {
   "cell_type": "markdown",
   "metadata": {
    "slideshow": {
     "slide_type": "subslide"
    }
   },
   "source": [
    "- the freedom to use the software for any purpose,\n",
    "- the freedom to change the software to suit your needs,\n",
    "- the freedom to share the software with your friends and neighbors, and\n",
    "- the freedom to share the changes you make."
   ]
  },
  {
   "cell_type": "markdown",
   "metadata": {
    "slideshow": {
     "slide_type": "subslide"
    }
   },
   "source": [
    "Specifically, versions of the GPL all require modified versions of GPL'd projects are distributed a GPL licence (e.g. they must also release the source code on demand, & allow other users the right to modify and distribute it). Oftern called \"copyleft\" ."
   ]
  },
  {
   "cell_type": "markdown",
   "metadata": {
    "slideshow": {
     "slide_type": "slide"
    }
   },
   "source": [
    "#### Licence compatibility\n",
    "\n",
    "Because \"copyleft\" licences require derivative works to also be released under suitable \"copyleft\" licences, it is impossible to release packages containing GPL components entirely under more permissive licences such as BSD.\n",
    "\n",
    "\n",
    "|Licence| BSD/MIT | LGPL | GPL |\n",
    "|-----|-----|------|-----|\n",
    "| BSD/MIT | Yes | No   | No  |\n",
    "| LGPL| Yes | Yes  | No  |\n",
    "| GPL | Yes | Yes  | Yes |"
   ]
  },
  {
   "cell_type": "markdown",
   "metadata": {
    "slideshow": {
     "slide_type": "subslide"
    }
   },
   "source": [
    "#### Commercial rights\n",
    "\n",
    "- Some licences allow non-commercial use, with the right reserved to charge a fee for commercial use.\n",
    "- \"Xommercial use\" iz interpretted as related to income-generating use of any kind, whether direct or indirect.\n",
    "- Shouldn't use a non-commercial license a way that earns (significant money. \n",
    "\n",
    "Fortunately, academic study & pure research uses are often specifically excluded as non-commercial activities. Many companies (including Imperial College) have lawyers on retainer to deal with intellectual property questions.\n",
    "\n"
   ]
  },
  {
   "cell_type": "markdown",
   "metadata": {
    "slideshow": {
     "slide_type": "slide"
    }
   },
   "source": [
    "## Further Reading:\n",
    "\n",
    "- [PEP8](https://www.python.org/dev/peps/pep-0008/), the Python style guide\n",
    "- The [Google Python Style Guide]()\n",
    "- A [tutorial]() for the Visual Studio Code IDE\n",
    "- The python documentation page on [modules & packages](https://docs.python.org/3.6/tutorial/modules.html).\n",
    "- [PEP257](https://www.python.org/dev/peps/pep-0257/#specification) - docstring conventions.\n",
    "- The `numpydoc` [docstring standard](https://numpydoc.readthedocs.io/en/latest/)\n"
   ]
  }
 ],
 "metadata": {
  "celltoolbar": "Slideshow",
  "hide_input": false,
  "kernelspec": {
   "display_name": "Python 3 (ipykernel)",
   "language": "python",
   "name": "python3"
  },
  "language_info": {
   "codemirror_mode": {
    "name": "ipython",
    "version": 3
   },
   "file_extension": ".py",
   "mimetype": "text/x-python",
   "name": "python",
   "nbconvert_exporter": "python",
   "pygments_lexer": "ipython3",
   "version": "3.9.13"
  },
  "rise": {
   "autolaunch": true,
   "footer": "<img class=logo src=./images/ESE-MSC-2021.png>",
   "scroll": true
  },
  "toc": {
   "base_numbering": 1,
   "nav_menu": {},
   "number_sections": false,
   "sideBar": true,
   "skip_h1_title": true,
   "title_cell": "Table of Contents",
   "title_sidebar": "Contents",
   "toc_cell": false,
   "toc_position": {
    "height": "calc(100% - 180px)",
    "left": "10px",
    "top": "150px",
    "width": "320px"
   },
   "toc_section_display": true,
   "toc_window_display": false
  },
  "varInspector": {
   "cols": {
    "lenName": 16,
    "lenType": 16,
    "lenVar": 40
   },
   "kernels_config": {
    "python": {
     "delete_cmd_postfix": "",
     "delete_cmd_prefix": "del ",
     "library": "var_list.py",
     "varRefreshCmd": "print(var_dic_list())"
    },
    "r": {
     "delete_cmd_postfix": ") ",
     "delete_cmd_prefix": "rm(",
     "library": "var_list.r",
     "varRefreshCmd": "cat(var_dic_list()) "
    }
   },
   "types_to_exclude": [
    "module",
    "function",
    "builtin_function_or_method",
    "instance",
    "_Feature"
   ],
   "window_display": false
  }
 },
 "nbformat": 4,
 "nbformat_minor": 4
}
