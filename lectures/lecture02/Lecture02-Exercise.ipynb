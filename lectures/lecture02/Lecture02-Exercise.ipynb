{
 "cells": [
  {
   "cell_type": "markdown",
   "id": "abe2079c",
   "metadata": {
    "slideshow": {
     "slide_type": "slide"
    }
   },
   "source": [
    "#  <center> Numpy & Pandas"
   ]
  },
  {
   "cell_type": "code",
   "execution_count": null,
   "id": "731decb1",
   "metadata": {},
   "outputs": [],
   "source": [
    "#Importing library\n",
    "import pandas as pd\n",
    "\n",
    "import numpy as np\n",
    "from numpy.random import randn\n",
    "np.random.seed(101)"
   ]
  },
  {
   "cell_type": "code",
   "execution_count": null,
   "id": "ed286cd8",
   "metadata": {},
   "outputs": [],
   "source": [
    "print('Hello World')"
   ]
  },
  {
   "cell_type": "markdown",
   "id": "6cdd0d05",
   "metadata": {},
   "source": [
    "### Exercise set 1"
   ]
  },
  {
   "cell_type": "markdown",
   "id": "446d9641",
   "metadata": {},
   "source": [
    "#### Ex. 1.1\n",
    "Work out the shape of the resulting arrays before executing the following cells. <br>\n",
    "(HINT: Length of he innermost list gives the size of the rightmost shape index.) <br>\n",
    "* set the variable \"a_rows\" to the correct number of row, and\n",
    "* set the variable \"a_columns\" to the correct number of columns."
   ]
  },
  {
   "cell_type": "code",
   "execution_count": null,
   "id": "25ad1e9b",
   "metadata": {},
   "outputs": [],
   "source": [
    "## don't change the following line of code in any way\n",
    "a = np.array( [[11,12,13], [21,22,23], [31,32,33], [41,42,43]] ) \n",
    "print(a)"
   ]
  },
  {
   "cell_type": "markdown",
   "id": "bff78a15",
   "metadata": {},
   "source": [
    "Now create 2 variales called `a_rows` and `a_columns` and set their values to how many rows and columns array `a` has."
   ]
  },
  {
   "cell_type": "code",
   "execution_count": null,
   "id": "1b337919",
   "metadata": {},
   "outputs": [],
   "source": [
    "## Solution..."
   ]
  },
  {
   "cell_type": "markdown",
   "id": "0b9d8044",
   "metadata": {},
   "source": [
    "#### Ex. 1.2\n",
    "Create an np.array called `b` and manually set the values what you expect the output of `a[2:-3:2]` would be."
   ]
  },
  {
   "cell_type": "code",
   "execution_count": null,
   "id": "a7791cbc",
   "metadata": {},
   "outputs": [],
   "source": [
    "a = np.arange(8)     "
   ]
  },
  {
   "cell_type": "code",
   "execution_count": null,
   "id": "6550d48c",
   "metadata": {},
   "outputs": [],
   "source": [
    "## Solution..."
   ]
  },
  {
   "cell_type": "markdown",
   "id": "e814ec36",
   "metadata": {},
   "source": [
    "#### Ex. 1.3\n",
    "Create a two-dimensional array called `m` to represent the following matrix,\n",
    "$$\n",
    "\\mathbf{m} = \\left\\lbrack\\begin{array}{ccc}\n",
    "1 & 1 & 2\\cr\n",
    "3 & 5 & 8\\cr\n",
    "13 & 21 & 34\\cr\n",
    "55 & 89 & 144\n",
    "\\end{array}\\right\\rbrack\n",
    "$$\n",
    "\n",
    "Then change all the elements with values 21, 34, 89, and 144 in matrix `m` (i.e. bottom right corner elements) to 1001 by using a slice."
   ]
  },
  {
   "cell_type": "code",
   "execution_count": null,
   "id": "07ef42fe",
   "metadata": {},
   "outputs": [],
   "source": [
    "## Solution..."
   ]
  },
  {
   "cell_type": "code",
   "execution_count": null,
   "id": "8ad387d0",
   "metadata": {},
   "outputs": [],
   "source": [
    "# Solution..."
   ]
  },
  {
   "cell_type": "markdown",
   "id": "1604ca80",
   "metadata": {},
   "source": [
    "#### Ex. 1.4\n",
    "\n",
    "Let $A$ be the two-dimensional array\n",
    "$$\n",
    "\\mathbf{A} = \\left\\lbrack\\begin{array}{ccc}\n",
    "2 & 1 & 0\\cr\n",
    "-1 & 2 & 1\\cr\n",
    "0 & -1 & 2\n",
    "\\end{array}\\right\\rbrack\n",
    "$$\n",
    "\n",
    "In the following line, initilise the two dimensional array `A` propperly to match matrix A."
   ]
  },
  {
   "cell_type": "code",
   "execution_count": null,
   "id": "26a733d2",
   "metadata": {},
   "outputs": [],
   "source": [
    "## Solution..."
   ]
  },
  {
   "cell_type": "markdown",
   "id": "094e5683",
   "metadata": {},
   "source": [
    "Implement and apply the function\n",
    "$$\n",
    "f(x) = x^3 + xe^x + 1\n",
    "$$\n",
    "to $A$. <br>"
   ]
  },
  {
   "cell_type": "code",
   "execution_count": null,
   "id": "eb1460e6",
   "metadata": {},
   "outputs": [],
   "source": [
    "# Solution..."
   ]
  },
  {
   "cell_type": "markdown",
   "id": "6456abf9",
   "metadata": {},
   "source": [
    "#### Ex. 1.5\n",
    "Use `base` to check if array `q` is a copy of array `p`. <br>\n",
    "Now, do the same for a simple indexed slice of `p` (e.g. `p[1:2,3:4]`)."
   ]
  },
  {
   "cell_type": "code",
   "execution_count": null,
   "id": "bbce2347",
   "metadata": {},
   "outputs": [],
   "source": [
    "p = np.array([[0, 1, 2],[3, 4, 5],[6, 7,8],[9, 10, 11]]) \n",
    "rows = [0,0,3,3]   # indices for rows\n",
    "cols = [0,2,0,2]   # indices for columns\n",
    "q=p[rows,cols]"
   ]
  },
  {
   "cell_type": "code",
   "execution_count": null,
   "id": "97fafceb",
   "metadata": {},
   "outputs": [],
   "source": [
    "# Solution..."
   ]
  },
  {
   "cell_type": "markdown",
   "id": "909804c4",
   "metadata": {},
   "source": [
    "#### Ex. 1.6\n",
    "Explore other ways of generating random numbers. <br>\n",
    "Below you will find an example for generating samples from a binomial distribution. <br>\n",
    "What other distributions can you sample? <br>\n",
    "Further documentation: https://numpy.org/doc/stable/reference/random/generator.html"
   ]
  },
  {
   "cell_type": "code",
   "execution_count": null,
   "id": "cda80ca8",
   "metadata": {},
   "outputs": [],
   "source": [
    "s = np.random.binomial(5, 0.5, size=25)"
   ]
  },
  {
   "cell_type": "markdown",
   "id": "b3a9aea2",
   "metadata": {},
   "source": [
    "#### Ex. 1.7\n",
    "Here are some `timeit` experiments for you to try. Check which methods are faster?"
   ]
  },
  {
   "cell_type": "code",
   "execution_count": null,
   "id": "5594c28f",
   "metadata": {},
   "outputs": [],
   "source": [
    "# Accessing a 2d array\n",
    "nd = np.arange(100).reshape((10,10))\n",
    "\n",
    "# accessing element of 2d array\n",
    "%timeit -n 10000000 -r 3 nd[5][5]\n",
    "%timeit -n 10000000 -r 3 nd[5,5]"
   ]
  },
  {
   "cell_type": "code",
   "execution_count": null,
   "id": "fafa4f7d",
   "metadata": {},
   "outputs": [],
   "source": [
    "# Multiplying two vectors\n",
    "x = np.arange(10E7)\n",
    "%timeit -n 1 -r 10 x*x\n",
    "%timeit -n 1 -r 10 x**2"
   ]
  },
  {
   "cell_type": "code",
   "execution_count": null,
   "id": "5276322e",
   "metadata": {},
   "outputs": [],
   "source": [
    "# Comparing range functions and iterating in loops\n",
    "# Note: some distributions may see overflow in range() example\n",
    "\n",
    "size = int(1E6)\n",
    "\n",
    "%timeit for x in range(size): x**2\n",
    "\n",
    "%timeit for x in np.arange(size): x**2\n",
    "\n",
    "%timeit np.arange(size)**2"
   ]
  },
  {
   "cell_type": "markdown",
   "id": "2235c9f7",
   "metadata": {},
   "source": [
    "#### Ex. 1.8\n",
    "The Taylor series expansion for the trigonometric function $\\arctan(y)$ is :\n",
    "$$\\arctan ( y) \\, = \\,y - \\frac{y^3}{3} + \\frac{y^5}{5}  - \\frac{y^7}{7}  + \\dots $$\n",
    "Now, $\\arctan(1) = \\pi/4 $, so\n",
    "$$ \\pi = 4 \\, \\Big( 1- \\frac{1}{3} + \\frac{1}{5} - \\frac{1}{7} + ... \\Big) $$\n",
    "<br>\n",
    "We can represent the first few terms of the series expansion of $\\arctan(y)$ using a numpy `Polynomial`, with coefficients:\n",
    "$$0, +1, 0, -1/3, 0, +1/5, 0, -1/7,\\ldots\\,$$ \n",
    "and then use it to approximate $\\pi$.\n",
    "\n",
    "Write a function called `arctan` using the expansion above and use it to calculate an approximation of $\\pi$ using numpy polynomials."
   ]
  },
  {
   "cell_type": "code",
   "execution_count": null,
   "id": "a27d0f68",
   "metadata": {},
   "outputs": [],
   "source": [
    "## You should use numpy.polynmial in your function so lets import it\n",
    "from numpy.polynomial import Polynomial"
   ]
  },
  {
   "cell_type": "code",
   "execution_count": null,
   "id": "83510a42",
   "metadata": {},
   "outputs": [],
   "source": [
    "## Solution..."
   ]
  },
  {
   "cell_type": "markdown",
   "id": "f8cb1686",
   "metadata": {},
   "source": [
    "### Exercise set 2\n",
    "\n",
    "The first step in most data analytics projects is reading the data file. In this exercise, you'll create `Series` and `DataFrame` objects, both by hand and by reading data files."
   ]
  },
  {
   "cell_type": "markdown",
   "id": "e9437f8f",
   "metadata": {},
   "source": [
    "#### Ex. 2.1\n",
    "\n",
    "In the _Solution_ cell below, create a `DataFrame` fruits that looks like this:\n",
    "\n",
    "![](https://i.imgur.com/Ax3pp2A.png)"
   ]
  },
  {
   "cell_type": "code",
   "execution_count": null,
   "id": "3fd8b2c8",
   "metadata": {},
   "outputs": [],
   "source": [
    "# Solution"
   ]
  },
  {
   "cell_type": "markdown",
   "id": "eceb7193",
   "metadata": {},
   "source": [
    "#### Ex 2.2\n",
    "\n",
    "Create a variable `ingredients` with a Series that looks like:\n",
    "\n",
    "```\n",
    "Flour     4 cups\n",
    "Milk       1 cup\n",
    "Eggs     2 large\n",
    "Spam       1 can\n",
    "Name: Dinner, dtype: object\n",
    "```"
   ]
  },
  {
   "cell_type": "code",
   "execution_count": null,
   "id": "75574413",
   "metadata": {},
   "outputs": [],
   "source": [
    "# Solution:"
   ]
  },
  {
   "cell_type": "markdown",
   "id": "0588e1b0",
   "metadata": {},
   "source": [
    "#### Ex 2.3\n",
    "In the cell below, write code to save this `DataFrame` to disk as a csv file with the name `cows_and_goats.csv`."
   ]
  },
  {
   "cell_type": "code",
   "execution_count": null,
   "id": "0943f42b",
   "metadata": {},
   "outputs": [],
   "source": [
    "animals = pd.DataFrame({'Cows': [12, 20], 'Goats': [22, 19]}, index=['Year 1', 'Year 2'])\n",
    "animals"
   ]
  },
  {
   "cell_type": "code",
   "execution_count": null,
   "id": "f3ce23fc",
   "metadata": {},
   "outputs": [],
   "source": [
    "### Solution"
   ]
  },
  {
   "cell_type": "markdown",
   "id": "20070d16",
   "metadata": {},
   "source": [
    "### Exercise set 3"
   ]
  },
  {
   "cell_type": "markdown",
   "id": "ca5d947a",
   "metadata": {},
   "source": [
    "#### Ex 3.1\n",
    " Read inputs/core_data.csv as a dataframe call it `cr` \n",
    " \n",
    " ** show the head of it"
   ]
  },
  {
   "cell_type": "code",
   "execution_count": null,
   "id": "950c8abd",
   "metadata": {},
   "outputs": [],
   "source": [
    "### Solution"
   ]
  },
  {
   "cell_type": "code",
   "execution_count": null,
   "id": "cce904e4",
   "metadata": {},
   "outputs": [],
   "source": [
    "### Solution"
   ]
  },
  {
   "cell_type": "markdown",
   "id": "064dc5fc",
   "metadata": {},
   "source": [
    "#### Ex 3.2\n",
    " Use the .info() method to find out how many entries there are."
   ]
  },
  {
   "cell_type": "code",
   "execution_count": null,
   "id": "b935f217",
   "metadata": {},
   "outputs": [],
   "source": [
    "### Solution"
   ]
  },
  {
   "cell_type": "markdown",
   "id": "e6b24372",
   "metadata": {},
   "source": [
    "#### Ex 3.3\n",
    "What is the average `Depth CSF-A (m)` ?"
   ]
  },
  {
   "cell_type": "code",
   "execution_count": null,
   "id": "11b8604d",
   "metadata": {},
   "outputs": [],
   "source": [
    "### Solution"
   ]
  },
  {
   "cell_type": "markdown",
   "id": "81de696b",
   "metadata": {},
   "source": [
    "#### Ex 3.4\n",
    " What is the highest amount of `Reflectance a*` in the dataset?"
   ]
  },
  {
   "cell_type": "code",
   "execution_count": null,
   "id": "66c1971f",
   "metadata": {},
   "outputs": [],
   "source": [
    "### Solution"
   ]
  },
  {
   "cell_type": "markdown",
   "id": "f844c3c7",
   "metadata": {},
   "source": [
    "#### Ex 3.5\n",
    "What is the amount of `Reflectance L*` for the highest amount of `Reflectance a*`"
   ]
  },
  {
   "cell_type": "code",
   "execution_count": null,
   "id": "591aa346",
   "metadata": {},
   "outputs": [],
   "source": [
    "### Solution"
   ]
  },
  {
   "cell_type": "code",
   "execution_count": null,
   "id": "98d5b3b3",
   "metadata": {},
   "outputs": [],
   "source": [
    "### Solution"
   ]
  },
  {
   "cell_type": "markdown",
   "id": "d318b8e2",
   "metadata": {},
   "source": [
    "#### Ex 3.6\n",
    "what is the minimum `NGR total counts (cps)`'s Lithology type?"
   ]
  },
  {
   "cell_type": "code",
   "execution_count": null,
   "id": "de49fa93",
   "metadata": {},
   "outputs": [],
   "source": [
    "### Solution"
   ]
  },
  {
   "cell_type": "code",
   "execution_count": null,
   "id": "7244a54b",
   "metadata": {},
   "outputs": [],
   "source": [
    "### Solution"
   ]
  },
  {
   "cell_type": "markdown",
   "id": "4a20420a",
   "metadata": {},
   "source": [
    "#### Ex 3.7\n",
    "How many `Holes` has the `Lithology` type of `Marls`?"
   ]
  },
  {
   "cell_type": "code",
   "execution_count": null,
   "id": "befc3ab2",
   "metadata": {},
   "outputs": [],
   "source": [
    "### Solution"
   ]
  },
  {
   "cell_type": "markdown",
   "id": "c68c7f12",
   "metadata": {},
   "source": [
    "#### Ex 3.8\n",
    "What is the data type of the `Hole` column in the dataset?"
   ]
  },
  {
   "cell_type": "code",
   "execution_count": null,
   "id": "fd1415b7",
   "metadata": {},
   "outputs": [],
   "source": [
    "### Solution"
   ]
  },
  {
   "cell_type": "markdown",
   "id": "bbe5b855",
   "metadata": {},
   "source": [
    "#### Ex 3.9\n",
    "\n",
    "Create a variable `df` containing the `Depth CSF-A (m)` and `Lithology` columns of the first 100 records\n",
    "\n",
    "Hint: you may use `loc` or `iloc`. When working on the answer this question and the several of the ones that follow, keep the following \"gotcha\" described in the lecture:"
   ]
  },
  {
   "cell_type": "code",
   "execution_count": null,
   "id": "aa006191",
   "metadata": {},
   "outputs": [],
   "source": [
    "### Solution"
   ]
  },
  {
   "cell_type": "code",
   "execution_count": null,
   "id": "16907589",
   "metadata": {},
   "outputs": [],
   "source": [
    "### Solution"
   ]
  },
  {
   "cell_type": "markdown",
   "id": "d388d48a",
   "metadata": {},
   "source": [
    "#### Ex 3.10\n",
    "What is the number of data in `df` in which `Depth CSF-A (m)` is more than **10** and less than **25**"
   ]
  },
  {
   "cell_type": "code",
   "execution_count": null,
   "id": "df77b9b3",
   "metadata": {},
   "outputs": [],
   "source": [
    "### Solution"
   ]
  },
  {
   "cell_type": "markdown",
   "id": "baa4d668",
   "metadata": {},
   "source": [
    "#### Ex 3.11\n",
    "Calculate the number of missing, and duplicated values? What is the number of unique values for `df`"
   ]
  },
  {
   "cell_type": "code",
   "execution_count": null,
   "id": "9e3bcd49",
   "metadata": {},
   "outputs": [],
   "source": [
    "### Solution"
   ]
  },
  {
   "cell_type": "code",
   "execution_count": null,
   "id": "ed3eb9af",
   "metadata": {},
   "outputs": [],
   "source": [
    "### Solution"
   ]
  },
  {
   "cell_type": "code",
   "execution_count": null,
   "id": "55496d7e",
   "metadata": {},
   "outputs": [],
   "source": [
    "### Solution"
   ]
  },
  {
   "cell_type": "markdown",
   "id": "d0619258",
   "metadata": {},
   "source": [
    "### Exercise set 4\n",
    "We are going to load a new data. Run the below cell\n",
    "\n",
    "** If you have time, apply your solutions for the questions above on the new dataset"
   ]
  },
  {
   "cell_type": "code",
   "execution_count": null,
   "id": "62cc7835",
   "metadata": {},
   "outputs": [],
   "source": [
    "wi = pd.read_csv('inputs/winemag-data-130k-v2.csv')"
   ]
  },
  {
   "cell_type": "markdown",
   "id": "461239d7",
   "metadata": {},
   "source": [
    "#### Ex 4.1\n",
    "There are only so many words you can use when describing a bottle of wine. Is a wine more likely to be \"tropical\" or \"fruity\"? Create a Series descriptor_counts counting how many times each of these two words appears in the description column in the dataset."
   ]
  },
  {
   "cell_type": "code",
   "execution_count": null,
   "id": "9ab9d35a",
   "metadata": {},
   "outputs": [],
   "source": [
    "### Solution"
   ]
  },
  {
   "cell_type": "markdown",
   "id": "06b1e9d9",
   "metadata": {},
   "source": [
    "#### Ex 4.2\n",
    "Who are the most common wine reviewers in the dataset? Create a `Series` whose index is the `taster_twitter_handle` category from the dataset, and whose values count how many reviews each person wrote."
   ]
  },
  {
   "cell_type": "code",
   "execution_count": null,
   "id": "8c95c7b6",
   "metadata": {},
   "outputs": [],
   "source": [
    "### Solution"
   ]
  },
  {
   "cell_type": "code",
   "execution_count": null,
   "id": "e5be8754",
   "metadata": {},
   "outputs": [],
   "source": [
    "### Solution"
   ]
  },
  {
   "cell_type": "markdown",
   "id": "0be6abc0",
   "metadata": {},
   "source": [
    "#### Ex 4.3\n",
    "Create a dataframe top_oceania_wines containing all reviews with at least 95 points (out of 100) for wines from Australia or New Zealand."
   ]
  },
  {
   "cell_type": "code",
   "execution_count": null,
   "id": "63e95f84",
   "metadata": {},
   "outputs": [],
   "source": [
    "### Solution\n"
   ]
  },
  {
   "cell_type": "markdown",
   "id": "210a7e51",
   "metadata": {},
   "source": [
    "#### Ex 4.4\n",
    "What are the minimum and maximum prices for each `variety` of wine? Create a `DataFrame` whose index is the `variety` category from the dataset and whose values are the `min` and `max` values thereof."
   ]
  },
  {
   "cell_type": "code",
   "execution_count": null,
   "id": "e74a1bbc",
   "metadata": {},
   "outputs": [],
   "source": [
    "### Solution"
   ]
  },
  {
   "cell_type": "code",
   "execution_count": null,
   "id": "a36b7f4f",
   "metadata": {},
   "outputs": [],
   "source": [
    "### Solution"
   ]
  },
  {
   "cell_type": "markdown",
   "id": "96cb9d65",
   "metadata": {},
   "source": [
    "#### Ex 4.5\n",
    "I'm an economical wine buyer. Which wine is the \"best bargain\"? Create a variable bargain_wine with the title of the wine with the highest points-to-price ratio in the dataset."
   ]
  },
  {
   "cell_type": "code",
   "execution_count": null,
   "id": "45d787a5",
   "metadata": {},
   "outputs": [],
   "source": [
    "### Solution"
   ]
  },
  {
   "cell_type": "markdown",
   "id": "9495552b",
   "metadata": {},
   "source": [
    "#### Ex 4.6\n",
    "\n",
    "`region_1` and `region_2` are pretty uninformative names for locale columns in our wine reviews dataset. Create a copy of `wi` with these columns renamed to `region` and `locale`, respectively."
   ]
  },
  {
   "cell_type": "code",
   "execution_count": null,
   "id": "7cdc52e2",
   "metadata": {},
   "outputs": [],
   "source": [
    "### Solution"
   ]
  }
 ],
 "metadata": {
  "kernelspec": {
   "display_name": "Python 3 (ipykernel)",
   "language": "python",
   "name": "python3"
  },
  "language_info": {
   "codemirror_mode": {
    "name": "ipython",
    "version": 3
   },
   "file_extension": ".py",
   "mimetype": "text/x-python",
   "name": "python",
   "nbconvert_exporter": "python",
   "pygments_lexer": "ipython3",
   "version": "3.9.13"
  }
 },
 "nbformat": 4,
 "nbformat_minor": 5
}
