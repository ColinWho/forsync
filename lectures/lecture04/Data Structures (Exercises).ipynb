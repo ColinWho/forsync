{
 "cells": [
  {
   "cell_type": "markdown",
   "metadata": {},
   "source": [
    "# Data stuctures - Exercises\n",
    "\n",
    "## Part I - Basic & Extension types\n",
    "\n",
    "## Comprehensions & Generators\n",
    "\n",
    "Run the following code block"
   ]
  },
  {
   "cell_type": "code",
   "execution_count": 6,
   "metadata": {
    "ExecuteTime": {
     "end_time": "2022-10-14T18:49:45.916113Z",
     "start_time": "2022-10-14T18:49:45.911630Z"
    }
   },
   "outputs": [],
   "source": [
    "my_list = [ _**2 for _ in range(5)]\n",
    "my_dict = {_**2:_ for _ in range(5)}\n",
    "my_generator = ( _**2 for _ in range(5))\n",
    "# generator one time only, little memory used "
   ]
  },
  {
   "cell_type": "markdown",
   "metadata": {},
   "source": [
    "Now run each of these blocks several times"
   ]
  },
  {
   "cell_type": "code",
   "execution_count": 7,
   "metadata": {
    "ExecuteTime": {
     "end_time": "2022-10-14T18:49:47.148445Z",
     "start_time": "2022-10-14T18:49:47.145206Z"
    }
   },
   "outputs": [
    {
     "name": "stdout",
     "output_type": "stream",
     "text": [
      "0\n",
      "1\n",
      "4\n",
      "9\n",
      "16\n"
     ]
    }
   ],
   "source": [
    "for i in my_list:\n",
    "    print(i)"
   ]
  },
  {
   "cell_type": "code",
   "execution_count": 8,
   "metadata": {
    "ExecuteTime": {
     "end_time": "2022-10-14T18:49:48.012801Z",
     "start_time": "2022-10-14T18:49:48.009236Z"
    }
   },
   "outputs": [
    {
     "name": "stdout",
     "output_type": "stream",
     "text": [
      "0 {0: 0, 1: 1, 4: 2, 9: 3, 16: 4}\n",
      "1 {0: 0, 1: 1, 4: 2, 9: 3, 16: 4}\n",
      "2 {0: 0, 1: 1, 4: 2, 9: 3, 16: 4}\n",
      "3 {0: 0, 1: 1, 4: 2, 9: 3, 16: 4}\n",
      "4 {0: 0, 1: 1, 4: 2, 9: 3, 16: 4}\n"
     ]
    }
   ],
   "source": [
    "for i in my_dict:\n",
    "    print(my_dict[i], my_dict)"
   ]
  },
  {
   "cell_type": "code",
   "execution_count": 9,
   "metadata": {
    "ExecuteTime": {
     "end_time": "2022-10-14T18:49:50.342567Z",
     "start_time": "2022-10-14T18:49:50.339452Z"
    }
   },
   "outputs": [
    {
     "name": "stdout",
     "output_type": "stream",
     "text": [
      "0\n",
      "1\n",
      "4\n",
      "9\n",
      "16\n"
     ]
    }
   ],
   "source": [
    "for i in my_generator:\n",
    "    print(i)"
   ]
  },
  {
   "cell_type": "code",
   "execution_count": 11,
   "metadata": {
    "ExecuteTime": {
     "end_time": "2022-10-14T18:50:53.792467Z",
     "start_time": "2022-10-14T18:50:53.788805Z"
    }
   },
   "outputs": [
    {
     "name": "stdout",
     "output_type": "stream",
     "text": [
      "type(my_generator) = <class 'generator'>, type(my_list) = <class 'list'>\n"
     ]
    }
   ],
   "source": [
    "print(f'{type(my_generator) = }, {type(my_list) = }' )"
   ]
  },
  {
   "cell_type": "markdown",
   "metadata": {},
   "source": [
    "Can you explain why the last one behaves differently after the second time you run it?\n",
    "\n",
    "Try using the `type` command to see the class of each of `my_list` and `my_generator`. Is this what you expected?\n",
    "\n",
    "Generators are useful to create long sequences without using up the memory to store all the values. In a short syntax they let you create iterators to use elsewhere\n",
    "\n",
    "One good use:"
   ]
  },
  {
   "cell_type": "code",
   "execution_count": 21,
   "metadata": {
    "ExecuteTime": {
     "end_time": "2022-10-14T18:54:03.739564Z",
     "start_time": "2022-10-14T18:54:03.735816Z"
    }
   },
   "outputs": [],
   "source": [
    "import numpy as np\n",
    "\n",
    "val1 = np.array([_ for _ in range(10)]) # creates a temporary list\n",
    "val2 = np.fromiter((_ for _ in range(10)),dtype=int) # just the array"
   ]
  },
  {
   "cell_type": "code",
   "execution_count": 19,
   "metadata": {
    "ExecuteTime": {
     "end_time": "2022-10-14T18:53:15.819115Z",
     "start_time": "2022-10-14T18:53:15.814746Z"
    }
   },
   "outputs": [
    {
     "data": {
      "text/plain": [
       "array([0, 1, 2, 3, 4, 5, 6, 7, 8, 9])"
      ]
     },
     "execution_count": 19,
     "metadata": {},
     "output_type": "execute_result"
    }
   ],
   "source": [
    "val1"
   ]
  },
  {
   "cell_type": "code",
   "execution_count": 22,
   "metadata": {
    "ExecuteTime": {
     "end_time": "2022-10-14T18:54:04.631596Z",
     "start_time": "2022-10-14T18:54:04.627213Z"
    }
   },
   "outputs": [
    {
     "data": {
      "text/plain": [
       "array([0, 1, 2, 3, 4, 5, 6, 7, 8, 9])"
      ]
     },
     "execution_count": 22,
     "metadata": {},
     "output_type": "execute_result"
    }
   ],
   "source": [
    "val2"
   ]
  },
  {
   "cell_type": "markdown",
   "metadata": {},
   "source": [
    "### Fun with lists\n",
    "\n",
    "We can time a function fairly accurately using a version of the `%timeit` Jupyter magic command\n",
    "\n",
    "```python\n",
    "t = %timeit -r 4 -n 100 -q -o my_func\n",
    "print(t.average)\n",
    "```\n",
    "\n",
    "Here `-r` is the number of runs to do, `-n` is the number of copies, `-q` means the command doesn't print anything and `-o` generates the output.\n",
    "\n",
    "Using the method above (or your own preferred alternative) try time the following operations:\n",
    "\n",
    "- Append one value to a list of 5 elements\n",
    "- Insert a new value to the 3rd place( i.e. index 2) in a list of 5 elements\n",
    "- Remove the 3rd value in a list of 6 elements\n",
    "- Using the function `fill_list` below, time how long it takes to append an element to a list for various sizes. Do you think you can spot the times when the list has to expand itself? Try plotting the run times. It's likely things won't be too obvious.\n",
    "- Remove the 3rd value in a list of 600 elements."
   ]
  },
  {
   "cell_type": "code",
   "execution_count": 47,
   "metadata": {
    "ExecuteTime": {
     "end_time": "2022-10-15T18:59:25.629648Z",
     "start_time": "2022-10-15T18:59:25.623909Z"
    }
   },
   "outputs": [],
   "source": [
    "def my_func1():\n",
    "    x = [i for i in range(5)]\n",
    "    x.append(1)\n",
    "\n",
    "def my_func2():\n",
    "    x = [i for i in range(5)]\n",
    "    x.insert(2,'1')\n",
    "    \n",
    "def my_func3():\n",
    "    x = [i for i in range(6)]\n",
    "    del x[2]\n",
    "    \n",
    "def my_func4():\n",
    "    x = [i for i in range(600)]\n",
    "    del x[2]\n",
    "    \n",
    "def fill_list(n):\n",
    "    \"Fill a list with n values\"\n",
    "    return list(range(n))"
   ]
  },
  {
   "cell_type": "code",
   "execution_count": 39,
   "metadata": {
    "ExecuteTime": {
     "end_time": "2022-10-15T18:51:57.291073Z",
     "start_time": "2022-10-15T18:51:55.135281Z"
    }
   },
   "outputs": [
    {
     "name": "stdout",
     "output_type": "stream",
     "text": [
      "260 ns ± 0.984 ns per loop (mean ± std. dev. of 7 runs, 1,000,000 loops each)\n"
     ]
    }
   ],
   "source": [
    "#1\n",
    "%timeit a = my_func1()"
   ]
  },
  {
   "cell_type": "code",
   "execution_count": 40,
   "metadata": {
    "ExecuteTime": {
     "end_time": "2022-10-15T18:52:15.848779Z",
     "start_time": "2022-10-15T18:52:13.610466Z"
    }
   },
   "outputs": [
    {
     "name": "stdout",
     "output_type": "stream",
     "text": [
      "270 ns ± 2.33 ns per loop (mean ± std. dev. of 7 runs, 1,000,000 loops each)\n"
     ]
    }
   ],
   "source": [
    "#2\n",
    "%timeit a = my_func2()"
   ]
  },
  {
   "cell_type": "code",
   "execution_count": 41,
   "metadata": {
    "ExecuteTime": {
     "end_time": "2022-10-15T18:52:25.648584Z",
     "start_time": "2022-10-15T18:52:23.532198Z"
    }
   },
   "outputs": [
    {
     "name": "stdout",
     "output_type": "stream",
     "text": [
      "255 ns ± 0.652 ns per loop (mean ± std. dev. of 7 runs, 1,000,000 loops each)\n"
     ]
    }
   ],
   "source": [
    "%timeit a = my_func3()"
   ]
  },
  {
   "cell_type": "code",
   "execution_count": 43,
   "metadata": {
    "ExecuteTime": {
     "end_time": "2022-10-15T18:53:36.269844Z",
     "start_time": "2022-10-15T18:53:29.119590Z"
    }
   },
   "outputs": [
    {
     "name": "stdout",
     "output_type": "stream",
     "text": [
      "8.76 µs ± 68.1 ns per loop (mean ± std. dev. of 7 runs, 100,000 loops each)\n"
     ]
    }
   ],
   "source": [
    "%timeit a = my_func4()"
   ]
  },
  {
   "cell_type": "code",
   "execution_count": 50,
   "metadata": {
    "ExecuteTime": {
     "end_time": "2022-10-15T19:02:17.911493Z",
     "start_time": "2022-10-15T19:02:15.393120Z"
    }
   },
   "outputs": [],
   "source": [
    "import matplotlib.pyplot as plt"
   ]
  },
  {
   "cell_type": "code",
   "execution_count": 82,
   "metadata": {
    "ExecuteTime": {
     "end_time": "2022-10-15T19:12:31.657980Z",
     "start_time": "2022-10-15T19:12:28.676475Z"
    }
   },
   "outputs": [],
   "source": [
    "time = []\n",
    "for i in range(1000):\n",
    "    t = %timeit -r 10 -n 100 -q -o fill_list(i)\n",
    "    time.append(t.average)"
   ]
  },
  {
   "cell_type": "code",
   "execution_count": 86,
   "metadata": {
    "ExecuteTime": {
     "end_time": "2022-10-15T19:13:16.762077Z",
     "start_time": "2022-10-15T19:13:16.624259Z"
    }
   },
   "outputs": [
    {
     "data": {
      "image/png": "[encoded data removed]",
      "text/plain": [
       "<Figure size 640x480 with 1 Axes>"
      ]
     },
     "metadata": {},
     "output_type": "display_data"
    },
    {
     "data": {
      "text/plain": [
       "[<matplotlib.lines.Line2D at 0x15ba2a1c0>]"
      ]
     },
     "execution_count": 86,
     "metadata": {},
     "output_type": "execute_result"
    },
    {
     "data": {
      "image/png": "[encoded data removed]",
      "text/plain": [
       "<Figure size 640x480 with 1 Axes>"
      ]
     },
     "metadata": {},
     "output_type": "display_data"
    }
   ],
   "source": [
    "plt.plot(range(1000), time)\n",
    "plt.show()\n",
    "plt.plot(range(100), time[:100])\n",
    "#从结果上看， 基本是线性增长的， 但是在最初和大了之后，波动都比较大，应该是因为?, 尤其是10,11,12,13增大很快,14 又掉下去了"
   ]
  },
  {
   "cell_type": "markdown",
   "metadata": {},
   "source": [
    "## Hashes and dicts:\n",
    "\n",
    "Python exposes its basic hash operator as `hash()`. Try applying it to the following\n",
    "- An integer (e.g. 3)\n",
    "- A float (e.g. 3.0)\n",
    "- A string (e.g. 'Hello World')\n",
    "\n",
    "Can you observe any difference if you put elements with the same hash"
   ]
  },
  {
   "cell_type": "code",
   "execution_count": 113,
   "metadata": {
    "ExecuteTime": {
     "end_time": "2022-10-15T19:22:50.311105Z",
     "start_time": "2022-10-15T19:22:50.306848Z"
    }
   },
   "outputs": [],
   "source": [
    "a = int(3)\n",
    "b = float(3.0)"
   ]
  },
  {
   "cell_type": "code",
   "execution_count": 127,
   "metadata": {
    "ExecuteTime": {
     "end_time": "2022-10-15T19:25:42.697097Z",
     "start_time": "2022-10-15T19:25:42.691877Z"
    }
   },
   "outputs": [
    {
     "data": {
      "text/plain": [
       "3"
      ]
     },
     "execution_count": 127,
     "metadata": {},
     "output_type": "execute_result"
    }
   ],
   "source": [
    "hash(b)  # hash do not tell int or float for int"
   ]
  },
  {
   "cell_type": "code",
   "execution_count": 123,
   "metadata": {
    "ExecuteTime": {
     "end_time": "2022-10-15T19:25:15.352912Z",
     "start_time": "2022-10-15T19:25:15.345664Z"
    }
   },
   "outputs": [
    {
     "name": "stdout",
     "output_type": "stream",
     "text": [
      "<class 'int'>\n",
      "<class 'str'>\n"
     ]
    },
    {
     "data": {
      "text/plain": [
       "{3: 3, 3.5: 1152921504606846979, '3': 8330323422659526711}"
      ]
     },
     "execution_count": 123,
     "metadata": {},
     "output_type": "execute_result"
    }
   ],
   "source": [
    "# write your code here\n",
    "\n",
    "mydict = {a:hash(a), b:hash(b),'3':hash('3')}\n",
    "\n",
    "for i in mydict:\n",
    "    print(type(i))\n",
    "    \n",
    "#dic automaticaly store float key as int if possible\n",
    "\n",
    "mydict = {a:hash(a), b+0.5:hash(b+0.5),'3':hash('3')}\n",
    "\n",
    "mydict"
   ]
  },
  {
   "cell_type": "markdown",
   "metadata": {},
   "source": [
    "### The `collections` module\n",
    "\n",
    "The `collections` module contains a number of helpful data structures, including the `namedtuple` and `deque`.\n",
    "\n",
    "#### `namedtuple`s\n",
    "\n",
    "A `namedtuple` lets you quickly create a"
   ]
  },
  {
   "cell_type": "code",
   "execution_count": 131,
   "metadata": {
    "ExecuteTime": {
     "end_time": "2022-10-15T19:29:14.609816Z",
     "start_time": "2022-10-15T19:29:14.601732Z"
    }
   },
   "outputs": [
    {
     "name": "stdout",
     "output_type": "stream",
     "text": [
      "3\n",
      "1\n"
     ]
    },
    {
     "data": {
      "text/plain": [
       "Point(x=1, y=2, z=3)"
      ]
     },
     "execution_count": 131,
     "metadata": {},
     "output_type": "execute_result"
    }
   ],
   "source": [
    "from collections import namedtuple\n",
    "\n",
    "Point = namedtuple('Point', ['x', 'y', 'z'])\n",
    "\n",
    "point1  = Point(1,2,3)\n",
    "print(point1.z)\n",
    "point2  = Point(z=1,x=2,y=3)\n",
    "print(point2.z)\n",
    "point1\n",
    "# like an immutable indexed dicrtionary"
   ]
  },
  {
   "cell_type": "markdown",
   "metadata": {},
   "source": [
    "Try to create a `namedtuple`  for a class called `Person`, with attributes `name` and `age`."
   ]
  },
  {
   "cell_type": "code",
   "execution_count": 133,
   "metadata": {
    "ExecuteTime": {
     "end_time": "2022-10-15T19:30:09.164561Z",
     "start_time": "2022-10-15T19:30:09.158042Z"
    }
   },
   "outputs": [
    {
     "data": {
      "text/plain": [
       "Person(name='Colin', age=22)"
      ]
     },
     "execution_count": 133,
     "metadata": {},
     "output_type": "execute_result"
    }
   ],
   "source": [
    "## Write your code here\n",
    "\n",
    "Person = namedtuple('Person',['name','age'])\n",
    "x = Person('Colin',22)\n",
    "x"
   ]
  },
  {
   "cell_type": "markdown",
   "metadata": {},
   "source": [
    "#### `deque`s\n",
    "\n",
    "`deque`s are short for \"double ended queues\" and act like a list to which values can be added on either end."
   ]
  },
  {
   "cell_type": "code",
   "execution_count": 138,
   "metadata": {
    "ExecuteTime": {
     "end_time": "2022-10-15T19:34:39.092903Z",
     "start_time": "2022-10-15T19:34:39.084862Z"
    }
   },
   "outputs": [
    {
     "name": "stdout",
     "output_type": "stream",
     "text": [
      "deque([0, 1, 2, 3, 4])\n",
      "4\n",
      "0\n"
     ]
    },
    {
     "data": {
      "text/plain": [
       "deque([1, 2, 3])"
      ]
     },
     "execution_count": 138,
     "metadata": {},
     "output_type": "execute_result"
    }
   ],
   "source": [
    "from collections import deque\n",
    "\n",
    "a = deque((1,2,3))\n",
    "\n",
    "a.append(4)\n",
    "a.appendleft(0)\n",
    "print(a)\n",
    "\n",
    "print(a.pop())\n",
    "print(a.popleft())\n",
    "a"
   ]
  },
  {
   "cell_type": "markdown",
   "metadata": {},
   "source": [
    "Time how long it takes to add or pop a value on the right (`append()` or `pop()`) and on the left (`appendleft()` or `popleft()`). How does this compare to using a regular Python list."
   ]
  },
  {
   "cell_type": "markdown",
   "metadata": {
    "ExecuteTime": {
     "end_time": "2022-10-15T19:48:37.402059Z",
     "start_time": "2022-10-15T19:48:37.398079Z"
    }
   },
   "source": [
    "# Using list is faster?"
   ]
  },
  {
   "cell_type": "code",
   "execution_count": 159,
   "metadata": {
    "ExecuteTime": {
     "end_time": "2022-10-15T19:47:32.358839Z",
     "start_time": "2022-10-15T19:47:32.349997Z"
    }
   },
   "outputs": [],
   "source": [
    "def de():\n",
    "    a = deque((1,2,3))\n",
    "    \n",
    "def de_de_r():\n",
    "    a = deque((1,2,3))\n",
    "    a.pop()\n",
    "    \n",
    "def de_de_l():\n",
    "    a = deque((1,2,3))\n",
    "    a.popleft()\n",
    "    \n",
    "def de_ap_r():\n",
    "    a = deque((1,2,3))\n",
    "    a.append(4)\n",
    "    \n",
    "def li_ap_l():\n",
    "    a = [1,2,3]\n",
    "    a.insert(0,0)\n",
    "    \n",
    "def li_ap_r():\n",
    "    a = [1,2,3]\n",
    "    a.append(0)  \n",
    "\n",
    "def li_de_l():\n",
    "    a = [1,2,3]\n",
    "    del a[0]\n",
    "    \n",
    "def li_de_r():\n",
    "    a = [1,2,3]\n",
    "    del a[-1]\n",
    "    \n",
    "def li():\n",
    "    a = [1,2,3]"
   ]
  },
  {
   "cell_type": "code",
   "execution_count": 155,
   "metadata": {
    "ExecuteTime": {
     "end_time": "2022-10-15T19:43:24.869826Z",
     "start_time": "2022-10-15T19:43:24.845423Z"
    }
   },
   "outputs": [
    {
     "name": "stdout",
     "output_type": "stream",
     "text": [
      "tdr = 9.426752512808894e-08,tdl = 7.948001439217484e-08,tar = -1.2416499885148368e-07,tal = -1.1812997399829325e-07\n"
     ]
    }
   ],
   "source": [
    "t = %timeit -r 4 -n 100 -q -o de()\n",
    "tdr = %timeit -r 4 -n 100 -q -o de_de_r()\n",
    "tdr = tdr.average - t.average\n",
    "tdl = %timeit -r 4 -n 100 -q -o de_de_l() \n",
    "tdl = tdl.average - t.average\n",
    "tar = %timeit -r 4 -n 100 -q -o de_ap_r() \n",
    "tar = tar.average - t.average\n",
    "tal = %timeit -r 4 -n 100 -q -o de_ap_l() \n",
    "tal = tal.average - t.average\n",
    "print(f'{tdr = },{tdl = },{tar = },{tal = }')"
   ]
  },
  {
   "cell_type": "code",
   "execution_count": 161,
   "metadata": {
    "ExecuteTime": {
     "end_time": "2022-10-15T19:47:41.636729Z",
     "start_time": "2022-10-15T19:47:41.615979Z"
    }
   },
   "outputs": [
    {
     "name": "stdout",
     "output_type": "stream",
     "text": [
      "ldr = 6.698246579617259e-08,ldl = 6.729498636559585e-08,lar = -1.8227510736323907e-08,lal = 3.4374897950328865e-09\n"
     ]
    }
   ],
   "source": [
    "t = %timeit -r 4 -n 100 -q -o li()\n",
    "ldr = %timeit -r 4 -n 100 -q -o li_de_r()\n",
    "ldr = ldr.average - t.average\n",
    "ldl = %timeit -r 4 -n 100 -q -o li_de_l() \n",
    "ldl = ldl.average - t.average\n",
    "lar = %timeit -r 4 -n 100 -q -o li_ap_r() \n",
    "lar = lar.average - t.average\n",
    "lal = %timeit -r 4 -n 100 -q -o li_ap_l() \n",
    "lal = lal.average - t.average\n",
    "print(f'{ldr = },{ldl = },{lar = },{lal = }')"
   ]
  },
  {
   "cell_type": "markdown",
   "metadata": {},
   "source": [
    "## Part II - Classes\n",
    "\n",
    "\n",
    "### Operator Overloading\n",
    "\n",
    "Try to write your own class to implement a [complex number](https://wikipedia.com/Complex_numbers) (note that Python alreay implements complex numbers as `complex(1,2)` or 1+2j, so this isn't something you would need to do  in live code).\n",
    "\n",
    "You will need to store two `float` values, one to store the real part of the number, and one to store the imaginary part, and write the `__init__` routine to store them. If you call them `real` and `imag` then your new class will be more interoperable with the builtin one.\n",
    "\n",
    "The rules for arithmatic for two complex numbers, $z_1 = x_1 + i y_1$ and $z_2 = x_2+iy_2$ are:\n",
    "$$z_1+z_2 = x_1+x_2 +i \\left(y_1+y_2\\right)$$\n",
    "$$z_1-z_2 = x_1-x_2 +i \\left(y_1-y_2\\right)$$\n",
    "$$z_1\\times z_2 = x_1\\times x_2-y_1\\times y_2 +i \\left(x_1\\times y_2+x_2\\times y_1\\right)$$\n",
    "$$\\frac{z_1}{z_2} = \\frac{x_1\\times x_2+y_1\\times y_2 +i \\left(x_2\\times y_1-x_1\\times y_2\\right)}{x_2^2+y_2^2}$$\n",
    "\n",
    "can you implement these via overloading? What happens if you try to add a normal (i.e. real) float as $z_1+x_2$ or $x_2 + z_1$? If you have time, can you fix this?"
   ]
  },
  {
   "cell_type": "code",
   "execution_count": 244,
   "metadata": {
    "ExecuteTime": {
     "end_time": "2022-10-15T20:30:58.653503Z",
     "start_time": "2022-10-15T20:30:58.642963Z"
    }
   },
   "outputs": [],
   "source": [
    "class Cn:\n",
    "    def __init__(self,r,i):\n",
    "        self.r = r\n",
    "        self.i = i\n",
    "        \n",
    "    def __add__(self,cn):\n",
    "        if type (cn) == type(self):  \n",
    "            return Cn(self.r + cn.r,self.i + cn.i)\n",
    "        else:\n",
    "            return Cn(self.r+cn,self.i)\n",
    "        \n",
    "    def __sub__(self,cn):\n",
    "        if type (cn) == type(self): \n",
    "            return Cn(self.r - cn.r,self.i - cn.i)\n",
    "        else:\n",
    "            return Cn(self.r - cn,self.i)\n",
    "    \n",
    "    def __mul__(self,cn):\n",
    "        if type (cn) == type(self): \n",
    "            return Cn( self.r*cn.r - self.i*cn.i , self.r*cn.i + self.i*cn.r)\n",
    "        else:\n",
    "            return Cn(self.r*cn,self.i*cn)\n",
    "        \n",
    "    def __truediv__(self,cn):\n",
    "        if type (cn) == type(self): \n",
    "            return Cn((self.r*cn.r + self.i*cn.i)/(cn.i**2 + cn.r**2), (cn.r*self.i - self.r*cn.i)/(cn.i**2 + cn.r**2))\n",
    "        else:\n",
    "            return Cn(self.r/cn, self.i/cn)\n",
    "        \n",
    "    def __str__(self):\n",
    "        return f'{self.r} + {self.i}i'"
   ]
  },
  {
   "cell_type": "code",
   "execution_count": 237,
   "metadata": {
    "ExecuteTime": {
     "end_time": "2022-10-15T20:25:16.519549Z",
     "start_time": "2022-10-15T20:25:16.515186Z"
    }
   },
   "outputs": [
    {
     "name": "stdout",
     "output_type": "stream",
     "text": [
      "3 + 3i\n",
      "1 + -1i\n",
      "0 + 5i\n",
      "0.8 + -0.6i\n"
     ]
    }
   ],
   "source": [
    "a = Cn(2,1)\n",
    "b = Cn(1,2)\n",
    "c = a + b\n",
    "print(c)\n",
    "c = a - b\n",
    "print(c)\n",
    "c = a * b\n",
    "print(c)\n",
    "c = a/b\n",
    "print(c)"
   ]
  },
  {
   "cell_type": "code",
   "execution_count": 247,
   "metadata": {
    "ExecuteTime": {
     "end_time": "2022-10-15T20:32:32.184004Z",
     "start_time": "2022-10-15T20:32:32.178987Z"
    }
   },
   "outputs": [
    {
     "name": "stdout",
     "output_type": "stream",
     "text": [
      "5 + 1i\n",
      "-1 + 1i\n",
      "6 + 3i\n",
      "0.6666666666666666 + 0.3333333333333333i\n"
     ]
    }
   ],
   "source": [
    "a = Cn(2,1)\n",
    "b = 3\n",
    "c = a + b\n",
    "print(c)\n",
    "c = a - b\n",
    "print(c)\n",
    "c = a * b\n",
    "print(c)\n",
    "c = a/b\n",
    "print(c)\n",
    "# print(f'{c:.2f}')"
   ]
  }
 ],
 "metadata": {
  "hide_input": false,
  "kernelspec": {
   "display_name": "Python 3 (ipykernel)",
   "language": "python",
   "name": "python3"
  },
  "language_info": {
   "codemirror_mode": {
    "name": "ipython",
    "version": 3
   },
   "file_extension": ".py",
   "mimetype": "text/x-python",
   "name": "python",
   "nbconvert_exporter": "python",
   "pygments_lexer": "ipython3",
   "version": "3.9.13"
  },
  "toc": {
   "base_numbering": 1,
   "nav_menu": {},
   "number_sections": true,
   "sideBar": true,
   "skip_h1_title": false,
   "title_cell": "Table of Contents",
   "title_sidebar": "Contents",
   "toc_cell": false,
   "toc_position": {},
   "toc_section_display": true,
   "toc_window_display": false
  },
  "varInspector": {
   "cols": {
    "lenName": 16,
    "lenType": 16,
    "lenVar": 40
   },
   "kernels_config": {
    "python": {
     "delete_cmd_postfix": "",
     "delete_cmd_prefix": "del ",
     "library": "var_list.py",
     "varRefreshCmd": "print(var_dic_list())"
    },
    "r": {
     "delete_cmd_postfix": ") ",
     "delete_cmd_prefix": "rm(",
     "library": "var_list.r",
     "varRefreshCmd": "cat(var_dic_list()) "
    }
   },
   "types_to_exclude": [
    "module",
    "function",
    "builtin_function_or_method",
    "instance",
    "_Feature"
   ],
   "window_display": false
  }
 },
 "nbformat": 4,
 "nbformat_minor": 2
}
